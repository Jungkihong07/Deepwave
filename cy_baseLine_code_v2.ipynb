{
  "nbformat": 4,
  "nbformat_minor": 0,
  "metadata": {
    "colab": {
      "provenance": [],
      "gpuType": "T4",
      "include_colab_link": true
    },
    "kernelspec": {
      "name": "python3",
      "display_name": "Python 3"
    },
    "language_info": {
      "name": "python"
    },
    "accelerator": "GPU"
  },
  "cells": [
    {
      "cell_type": "markdown",
      "metadata": {
        "id": "view-in-github",
        "colab_type": "text"
      },
      "source": [
        "<a href=\"https://colab.research.google.com/github/Jungkihong07/Deepwave/blob/main/cy_baseLine_code_v2.ipynb\" target=\"_parent\"><img src=\"https://colab.research.google.com/assets/colab-badge.svg\" alt=\"Open In Colab\"/></a>"
      ]
    },
    {
      "cell_type": "markdown",
      "source": [
        "## 1. 필요 라이브러러 임포트 및 다운로드"
      ],
      "metadata": {
        "id": "AjL9zysWvkmK"
      }
    },
    {
      "cell_type": "code",
      "source": [
        "from google.colab import drive\n",
        "drive.mount('/content/drive')"
      ],
      "metadata": {
        "colab": {
          "base_uri": "https://localhost:8080/"
        },
        "id": "P5B4poXqMWqT",
        "outputId": "55d5c9aa-0b3e-49e2-ff44-c53b86755453"
      },
      "execution_count": 1,
      "outputs": [
        {
          "output_type": "stream",
          "name": "stdout",
          "text": [
            "Mounted at /content/drive\n"
          ]
        }
      ]
    },
    {
      "cell_type": "code",
      "execution_count": 2,
      "metadata": {
        "id": "6C-2s9DAvMIj"
      },
      "outputs": [],
      "source": [
        "# -------------------------------------------\n",
        "# 1. 라이브러리 설치 및 임포트\n",
        "# -------------------------------------------\n",
        "!pip install umap-learn --quiet\n",
        "!pip install tensorflow_probability --quiet\n",
        "\n",
        "import os\n",
        "import random\n",
        "import numpy as np\n",
        "import pandas as pd\n",
        "import librosa\n",
        "import matplotlib.pyplot as plt\n",
        "import seaborn as sns\n",
        "from tqdm import tqdm\n",
        "from sklearn.model_selection import train_test_split\n",
        "from sklearn.preprocessing import StandardScaler\n",
        "from sklearn.metrics import classification_report, confusion_matrix, roc_auc_score\n",
        "import tensorflow as tf\n",
        "from tensorflow.keras import layers, models\n",
        "from tensorflow.keras.callbacks import EarlyStopping, ReduceLROnPlateau\n",
        "import math\n",
        "\n",
        "# 재현성 설정\n",
        "random.seed(42)\n",
        "np.random.seed(42)\n",
        "tf.random.set_seed(42)\n"
      ]
    },
    {
      "cell_type": "markdown",
      "source": [
        "## 데이터 로딩 함수 정의"
      ],
      "metadata": {
        "id": "W3NiFNQjvaBf"
      }
    },
    {
      "cell_type": "code",
      "source": [
        "# -------------------------------------------\n",
        "# 2. 데이터 로딩 함수 정의\n",
        "# -------------------------------------------\n",
        "def load_mfcc_data(audio_path, label_path, max_len=200):\n",
        "    entries = []\n",
        "    with open(label_path, 'r') as f:\n",
        "        for line in f:\n",
        "            parts = line.strip().split()\n",
        "            if len(parts) >= 5:\n",
        "                entries.append((parts[1], parts[-1]))\n",
        "    df = pd.DataFrame(entries, columns=['filename','label'])\n",
        "\n",
        "    X_list, y_list = [], []\n",
        "    for _, row in tqdm(df.iterrows(), total=len(df), desc=\"Loading MFCC\"):\n",
        "        fp = os.path.join(audio_path, row['filename'])\n",
        "        if not os.path.isfile(fp):\n",
        "            continue\n",
        "        try:\n",
        "            audio, sr = librosa.load(fp, sr=16000)\n",
        "            mfcc = librosa.feature.mfcc(y=audio, sr=sr, n_mfcc=13).T\n",
        "            if mfcc.shape[0] < max_len:\n",
        "                mfcc = np.pad(mfcc, ((0, max_len-mfcc.shape[0]), (0,0)), mode='constant')\n",
        "            else:\n",
        "                mfcc = mfcc[:max_len]\n",
        "            X_list.append(mfcc)\n",
        "            y_list.append(0 if row['label']=='Real' else 1)\n",
        "        except:\n",
        "            continue\n",
        "\n",
        "    return np.array(X_list), np.array(y_list)\n",
        "\n",
        "\n",
        "def standardize(X):\n",
        "    ns, nt, nf = X.shape\n",
        "    scaler = StandardScaler().fit(X.reshape(-1, nf))\n",
        "    X_scaled = scaler.transform(X.reshape(-1, nf)).reshape(ns, nt, nf)\n",
        "    return X_scaled, scaler\n"
      ],
      "metadata": {
        "id": "HHEIEEHnvU9N"
      },
      "execution_count": 3,
      "outputs": []
    },
    {
      "cell_type": "markdown",
      "source": [
        "### 데이터 셋 캐시 저장\n",
        "- 사용 예시\n",
        "save_mfcc_cache(X, y, scaler, cache_prefix=\"train\")\n",
        "- 사용 조건\n",
        "  - 목차의 \"캐시가 없을 때\"를 실행하고 난 후 실행하셔야 합니다."
      ],
      "metadata": {
        "id": "Y1ppfLQd9u6a"
      }
    },
    {
      "cell_type": "markdown",
      "source": [
        "#### Train set 캐시 저장 함수\n",
        "- test set을 위한 코드가 아닙니다. train set에만 사용하시기 바랍니다."
      ],
      "metadata": {
        "id": "ivm8u9ibDrn1"
      }
    },
    {
      "cell_type": "code",
      "source": [
        "def save_mfcc_cache(X, y, scaler, cache_prefix=\"train\"):\n",
        "    X_cache = f\"{cache_prefix}_X.npy\"\n",
        "    y_cache = f\"{cache_prefix}_y.npy\"\n",
        "    scaler_cache = f\"{cache_prefix}_scaler.npy\"\n",
        "\n",
        "    np.save(X_cache, X)\n",
        "    np.save(y_cache, y)\n",
        "    np.save(scaler_cache, {'mean': scaler.mean_, 'scale': scaler.scale_})\n",
        "    print(f\"✅ 캐시 저장 완료: {X_cache}, {y_cache}, {scaler_cache}\")\n",
        "# Train set = > X: 전처리된 입력 특성, y : 정답 레이블, scaler : 표준화 정보\n",
        "save_mfcc_cache(X, y, scaler, cache_prefix=\"train\")"
      ],
      "metadata": {
        "id": "fwdKGbzV9yhj",
        "colab": {
          "base_uri": "https://localhost:8080/"
        },
        "outputId": "b028e894-701e-433d-c7ba-fa7e6ec6b01e"
      },
      "execution_count": 8,
      "outputs": [
        {
          "output_type": "stream",
          "name": "stdout",
          "text": [
            "✅ 캐시 저장 완료: train_X.npy, train_y.npy, train_scaler.npy\n"
          ]
        }
      ]
    },
    {
      "cell_type": "markdown",
      "source": [
        "#### Test set 캐시 저장\n",
        "-  test set을 위한 코드입니다."
      ],
      "metadata": {
        "id": "qVf2SC0rD6-B"
      }
    },
    {
      "cell_type": "code",
      "source": [
        "\n",
        "\n",
        "# Test set => X_test : 입력 특성, y_test : 정답 레이블, 표준화 정보는 필요없음. scalar를 사용해야 함.\n",
        "np.save(\"test_X.npy\", X_test)\n",
        "np.save(\"test_y.npy\", y_test)\n",
        "print(\"✅ 테스트셋 캐시 저장 완료\")\n"
      ],
      "metadata": {
        "colab": {
          "base_uri": "https://localhost:8080/"
        },
        "id": "-B9-jNUf-wq2",
        "outputId": "d8ec8b3a-c820-4cce-919d-f8b762c26139"
      },
      "execution_count": 16,
      "outputs": [
        {
          "output_type": "stream",
          "name": "stdout",
          "text": [
            "✅ 테스트셋 캐시 저장 완료\n"
          ]
        }
      ]
    },
    {
      "cell_type": "markdown",
      "source": [
        "### 캐시로부터 MFCC 데이터 로드 함수\n",
        "- 사용 예시\n",
        "X, y, scaler = load_mfcc_cache(cache_prefix=\"train\")\n",
        "- 사용 조건\n",
        "  - 이후 캐시를 저장하고 난 후는 계속해서 MFCC 데이터 로드 함수를 활용해 이후, 로드할 필요 없이 사용하시면 됩니다."
      ],
      "metadata": {
        "id": "ApDVnUfa-Sxv"
      }
    },
    {
      "cell_type": "markdown",
      "source": [
        "#### Train set 캐시 로드 함수"
      ],
      "metadata": {
        "id": "hd7-2qCDEJ2w"
      }
    },
    {
      "cell_type": "code",
      "source": [
        "def load_mfcc_cache(cache_prefix=\"train\"):\n",
        "    X_cache = f\"{cache_prefix}_X.npy\"\n",
        "    y_cache = f\"{cache_prefix}_y.npy\"\n",
        "    scaler_cache = f\"{cache_prefix}_scaler.npy\"\n",
        "\n",
        "    if not (os.path.exists(X_cache) and os.path.exists(y_cache) and os.path.exists(scaler_cache)):\n",
        "        raise FileNotFoundError(f\"❌ 캐시 파일이 존재하지 않습니다: prefix={cache_prefix}\")\n",
        "\n",
        "    print(f\"📂 캐시 불러오는 중: {X_cache}, {y_cache}\")\n",
        "    X = np.load(X_cache)\n",
        "    y = np.load(y_cache)\n",
        "    scaler_params = np.load(scaler_cache, allow_pickle=True).item()\n",
        "\n",
        "    scaler = StandardScaler()\n",
        "    scaler.mean_ = scaler_params['mean']\n",
        "    scaler.scale_ = scaler_params['scale']\n",
        "\n",
        "    return X, y, scaler\n",
        "# Train set\n",
        "X, y, scaler = load_mfcc_cache(cache_prefix=\"train\")"
      ],
      "metadata": {
        "id": "CLWFGJYV-OuG",
        "colab": {
          "base_uri": "https://localhost:8080/"
        },
        "outputId": "31296693-d11c-41c7-980d-d11edc9bee63"
      },
      "execution_count": 9,
      "outputs": [
        {
          "output_type": "stream",
          "name": "stdout",
          "text": [
            "📂 캐시 불러오는 중: train_X.npy, train_y.npy\n"
          ]
        }
      ]
    },
    {
      "cell_type": "markdown",
      "source": [
        "#### test set 캐시 로드"
      ],
      "metadata": {
        "id": "ZR7IRs9HENvW"
      }
    },
    {
      "cell_type": "code",
      "source": [
        "# Test set\n",
        "X_test = np.load(\"test_X.npy\")\n",
        "y_test = np.load(\"test_y.npy\")\n",
        "print(\"✅ 테스트셋 캐시 불러오기 완료\")"
      ],
      "metadata": {
        "colab": {
          "base_uri": "https://localhost:8080/"
        },
        "id": "_9tDNtU9A0OR",
        "outputId": "4a5386c0-04cf-4d73-b9d3-34a26cb5a916"
      },
      "execution_count": 17,
      "outputs": [
        {
          "output_type": "stream",
          "name": "stdout",
          "text": [
            "✅ 테스트셋 캐시 불러오기 완료\n"
          ]
        }
      ]
    },
    {
      "cell_type": "markdown",
      "source": [
        "## DNN 모델 정의"
      ],
      "metadata": {
        "id": "9T8gTqbmvq4n"
      }
    },
    {
      "cell_type": "markdown",
      "source": [],
      "metadata": {
        "id": "_El12KTNV_DJ"
      }
    },
    {
      "cell_type": "markdown",
      "source": [
        "모델 설명:MFCC 시퀀스를 입력으로 받아 Flatten된 시계열 정보와 다양한 통계 요약 피처(mean, std, max, min, median, skewness, kurtosis)를 병합하여 고차원 표현력을 강화한 후, 심층 신경망을 통해 이진 분류를 수행하는걸 목표로 함\n",
        "\n",
        "**Input shape**: `(time_steps, n_mfcc)`\n",
        "- **Flatten**: 시계열 정보를 1D 벡터로 펼침\n",
        "- **통계 피처**:\n",
        "  - `mean`, `std`, `max`, `min`, `median`: 시간 축 평균 및 분포 정보\n",
        "  - `skewness`, `kurtosis`: 비대칭성 및 뾰족함(분포의 형태)\n",
        "- **Concat**: Flatten + 통계 피처 결합 → 최종 입력 벡터 구성\n",
        "\n",
        "**DNN 구조**:\n",
        "- `Dense(256)` + `BatchNorm` + `ReLU` + `Dropout(0.3)`  \n",
        "- `Dense(128)` + `BatchNorm` + `ReLU` + `Dropout(0.3)`  \n",
        "- `Dense(1, activation='sigmoid')`: 이진 분류 확률 출력\n"
      ],
      "metadata": {
        "id": "L_UPhibmBViv"
      }
    },
    {
      "cell_type": "code",
      "source": [
        "def build_dnn_model(input_shape):\n",
        "    model = models.Sequential([\n",
        "        layers.Input(shape=input_shape, name=\"input_mfcc\"),\n",
        "        layers.Flatten(name=\"flatten\"),\n",
        "\n",
        "        layers.Dense(256, activation=None),\n",
        "        layers.BatchNormalization(),\n",
        "        layers.Activation('relu'),\n",
        "        layers.Dropout(0.3),\n",
        "\n",
        "        layers.Dense(128, activation=None),\n",
        "        layers.BatchNormalization(),\n",
        "        layers.Activation('relu'),\n",
        "        layers.Dropout(0.3),\n",
        "\n",
        "        layers.Dense(1, activation='sigmoid', name=\"output\")\n",
        "    ])\n",
        "    model.compile(\n",
        "        optimizer='adam',\n",
        "        loss='binary_crossentropy',\n",
        "        metrics=['accuracy']\n",
        "    )\n",
        "    return model\n"
      ],
      "metadata": {
        "id": "civKLfZFvtiY"
      },
      "execution_count": 18,
      "outputs": []
    },
    {
      "cell_type": "markdown",
      "source": [
        "## 학습용 데이터 로딩"
      ],
      "metadata": {
        "id": "YKpJWg_rv9ig"
      }
    },
    {
      "cell_type": "code",
      "source": [
        "train_audio_path = '/content/drive/MyDrive/2501ml_data/train'\n",
        "train_label_path = '/content/drive/MyDrive/2501ml_data/label/train_label.txt'\n",
        "max_len = 200"
      ],
      "metadata": {
        "id": "ox0lftHIv-SY"
      },
      "execution_count": 6,
      "outputs": []
    },
    {
      "cell_type": "markdown",
      "source": [
        "### 캐시가 없을 때\n",
        "- 캐시가 있다면 목차의 \"캐시로부터 MFCC 데이터 로드 함수\"를 실행하고 난후 다음 단계로 넘어가주시기 바랍니다."
      ],
      "metadata": {
        "id": "iSLTh3V2BLND"
      }
    },
    {
      "cell_type": "code",
      "source": [
        "X, y = load_mfcc_data(train_audio_path, train_label_path, max_len)\n",
        "X, scaler = standardize(X)"
      ],
      "metadata": {
        "id": "1EGQIT-TBIaK",
        "colab": {
          "base_uri": "https://localhost:8080/"
        },
        "outputId": "35192b92-cd71-40f0-b381-914dc1b4c3e0"
      },
      "execution_count": 7,
      "outputs": [
        {
          "output_type": "stream",
          "name": "stderr",
          "text": [
            "Loading MFCC: 100%|██████████| 4000/4000 [23:43<00:00,  2.81it/s]\n"
          ]
        }
      ]
    },
    {
      "cell_type": "markdown",
      "source": [
        "# 모델 학습"
      ],
      "metadata": {
        "id": "vEsJcdSyC-c6"
      }
    },
    {
      "cell_type": "code",
      "source": [
        "\n",
        "X_train, X_val, y_train, y_val = train_test_split(\n",
        "    X, y, test_size=0.2, stratify=y, random_state=41\n",
        ")\n",
        "\n",
        "model = build_dnn_model(input_shape=(max_len, X.shape[2]))\n",
        "callbacks = [\n",
        "    EarlyStopping(monitor='val_loss', patience=10, restore_best_weights=True),\n",
        "    ReduceLROnPlateau(monitor='val_loss', factor=0.5, patience=5, min_lr=1e-6)\n",
        "]\n",
        "history = model.fit(\n",
        "    X_train, y_train,\n",
        "    validation_data=(X_val, y_val),\n",
        "    epochs=50,\n",
        "    batch_size=32,\n",
        "    callbacks=callbacks,\n",
        "    verbose=1\n",
        ")\n"
      ],
      "metadata": {
        "colab": {
          "base_uri": "https://localhost:8080/"
        },
        "id": "tBR_cf2cv2cp",
        "outputId": "949dbd25-5ebc-47e2-aa3c-80ba1911b10d"
      },
      "execution_count": 19,
      "outputs": [
        {
          "output_type": "stream",
          "name": "stdout",
          "text": [
            "Epoch 1/50\n",
            "\u001b[1m100/100\u001b[0m \u001b[32m━━━━━━━━━━━━━━━━━━━━\u001b[0m\u001b[37m\u001b[0m \u001b[1m5s\u001b[0m 7ms/step - accuracy: 0.8578 - loss: 0.3117 - val_accuracy: 0.9600 - val_loss: 0.1275 - learning_rate: 0.0010\n",
            "Epoch 2/50\n",
            "\u001b[1m100/100\u001b[0m \u001b[32m━━━━━━━━━━━━━━━━━━━━\u001b[0m\u001b[37m\u001b[0m \u001b[1m3s\u001b[0m 4ms/step - accuracy: 0.9946 - loss: 0.0311 - val_accuracy: 0.9887 - val_loss: 0.0495 - learning_rate: 0.0010\n",
            "Epoch 3/50\n",
            "\u001b[1m100/100\u001b[0m \u001b[32m━━━━━━━━━━━━━━━━━━━━\u001b[0m\u001b[37m\u001b[0m \u001b[1m0s\u001b[0m 3ms/step - accuracy: 0.9991 - loss: 0.0111 - val_accuracy: 0.9912 - val_loss: 0.0372 - learning_rate: 0.0010\n",
            "Epoch 4/50\n",
            "\u001b[1m100/100\u001b[0m \u001b[32m━━━━━━━━━━━━━━━━━━━━\u001b[0m\u001b[37m\u001b[0m \u001b[1m1s\u001b[0m 4ms/step - accuracy: 0.9997 - loss: 0.0056 - val_accuracy: 0.9925 - val_loss: 0.0348 - learning_rate: 0.0010\n",
            "Epoch 5/50\n",
            "\u001b[1m100/100\u001b[0m \u001b[32m━━━━━━━━━━━━━━━━━━━━\u001b[0m\u001b[37m\u001b[0m \u001b[1m0s\u001b[0m 5ms/step - accuracy: 1.0000 - loss: 0.0039 - val_accuracy: 0.9925 - val_loss: 0.0328 - learning_rate: 0.0010\n",
            "Epoch 6/50\n",
            "\u001b[1m100/100\u001b[0m \u001b[32m━━━━━━━━━━━━━━━━━━━━\u001b[0m\u001b[37m\u001b[0m \u001b[1m0s\u001b[0m 5ms/step - accuracy: 1.0000 - loss: 0.0023 - val_accuracy: 0.9937 - val_loss: 0.0326 - learning_rate: 0.0010\n",
            "Epoch 7/50\n",
            "\u001b[1m100/100\u001b[0m \u001b[32m━━━━━━━━━━━━━━━━━━━━\u001b[0m\u001b[37m\u001b[0m \u001b[1m0s\u001b[0m 5ms/step - accuracy: 1.0000 - loss: 0.0016 - val_accuracy: 0.9925 - val_loss: 0.0324 - learning_rate: 0.0010\n",
            "Epoch 8/50\n",
            "\u001b[1m100/100\u001b[0m \u001b[32m━━━━━━━━━━━━━━━━━━━━\u001b[0m\u001b[37m\u001b[0m \u001b[1m1s\u001b[0m 5ms/step - accuracy: 1.0000 - loss: 0.0012 - val_accuracy: 0.9937 - val_loss: 0.0326 - learning_rate: 0.0010\n",
            "Epoch 9/50\n",
            "\u001b[1m100/100\u001b[0m \u001b[32m━━━━━━━━━━━━━━━━━━━━\u001b[0m\u001b[37m\u001b[0m \u001b[1m1s\u001b[0m 5ms/step - accuracy: 1.0000 - loss: 9.3775e-04 - val_accuracy: 0.9937 - val_loss: 0.0334 - learning_rate: 0.0010\n",
            "Epoch 10/50\n",
            "\u001b[1m100/100\u001b[0m \u001b[32m━━━━━━━━━━━━━━━━━━━━\u001b[0m\u001b[37m\u001b[0m \u001b[1m1s\u001b[0m 5ms/step - accuracy: 1.0000 - loss: 0.0010 - val_accuracy: 0.9937 - val_loss: 0.0341 - learning_rate: 0.0010\n",
            "Epoch 11/50\n",
            "\u001b[1m100/100\u001b[0m \u001b[32m━━━━━━━━━━━━━━━━━━━━\u001b[0m\u001b[37m\u001b[0m \u001b[1m0s\u001b[0m 3ms/step - accuracy: 1.0000 - loss: 9.9315e-04 - val_accuracy: 0.9912 - val_loss: 0.0405 - learning_rate: 0.0010\n",
            "Epoch 12/50\n",
            "\u001b[1m100/100\u001b[0m \u001b[32m━━━━━━━━━━━━━━━━━━━━\u001b[0m\u001b[37m\u001b[0m \u001b[1m1s\u001b[0m 3ms/step - accuracy: 1.0000 - loss: 6.5583e-04 - val_accuracy: 0.9912 - val_loss: 0.0391 - learning_rate: 0.0010\n",
            "Epoch 13/50\n",
            "\u001b[1m100/100\u001b[0m \u001b[32m━━━━━━━━━━━━━━━━━━━━\u001b[0m\u001b[37m\u001b[0m \u001b[1m1s\u001b[0m 3ms/step - accuracy: 1.0000 - loss: 5.4367e-04 - val_accuracy: 0.9912 - val_loss: 0.0378 - learning_rate: 5.0000e-04\n",
            "Epoch 14/50\n",
            "\u001b[1m100/100\u001b[0m \u001b[32m━━━━━━━━━━━━━━━━━━━━\u001b[0m\u001b[37m\u001b[0m \u001b[1m1s\u001b[0m 3ms/step - accuracy: 1.0000 - loss: 6.4342e-04 - val_accuracy: 0.9937 - val_loss: 0.0425 - learning_rate: 5.0000e-04\n",
            "Epoch 15/50\n",
            "\u001b[1m100/100\u001b[0m \u001b[32m━━━━━━━━━━━━━━━━━━━━\u001b[0m\u001b[37m\u001b[0m \u001b[1m0s\u001b[0m 4ms/step - accuracy: 1.0000 - loss: 4.9072e-04 - val_accuracy: 0.9937 - val_loss: 0.0387 - learning_rate: 5.0000e-04\n",
            "Epoch 16/50\n",
            "\u001b[1m100/100\u001b[0m \u001b[32m━━━━━━━━━━━━━━━━━━━━\u001b[0m\u001b[37m\u001b[0m \u001b[1m1s\u001b[0m 3ms/step - accuracy: 1.0000 - loss: 4.1569e-04 - val_accuracy: 0.9937 - val_loss: 0.0399 - learning_rate: 5.0000e-04\n",
            "Epoch 17/50\n",
            "\u001b[1m100/100\u001b[0m \u001b[32m━━━━━━━━━━━━━━━━━━━━\u001b[0m\u001b[37m\u001b[0m \u001b[1m1s\u001b[0m 3ms/step - accuracy: 1.0000 - loss: 3.4240e-04 - val_accuracy: 0.9937 - val_loss: 0.0396 - learning_rate: 5.0000e-04\n"
          ]
        }
      ]
    },
    {
      "cell_type": "markdown",
      "source": [
        "## 모델 학습 과정 시각화"
      ],
      "metadata": {
        "id": "rGDOM97ixC6f"
      }
    },
    {
      "cell_type": "code",
      "source": [
        "def plot_history(history):\n",
        "    plt.figure(figsize=(10, 4))\n",
        "    plt.subplot(1, 2, 1)\n",
        "    plt.plot(history.history['loss'], label='train_loss')\n",
        "    plt.plot(history.history['val_loss'], label='val_loss')\n",
        "    plt.title(\"Loss\")\n",
        "    plt.legend()\n",
        "\n",
        "    plt.subplot(1, 2, 2)\n",
        "    plt.plot(history.history['accuracy'], label='train_acc')\n",
        "    plt.plot(history.history['val_accuracy'], label='val_acc')\n",
        "    plt.title(\"Accuracy\")\n",
        "    plt.legend()\n",
        "    plt.show()\n",
        "\n",
        "plot_history(history)\n",
        "model.save(\"dnn_model.h5\")"
      ],
      "metadata": {
        "colab": {
          "base_uri": "https://localhost:8080/",
          "height": 429
        },
        "id": "RlqxQppAw27i",
        "outputId": "dc644022-2448-4222-b1bc-25a18dea990a"
      },
      "execution_count": 20,
      "outputs": [
        {
          "output_type": "display_data",
          "data": {
            "text/plain": [
              "<Figure size 1000x400 with 2 Axes>"
            ],
            "image/png": "[encoded data removed]"
          },
          "metadata": {}
        },
        {
          "output_type": "stream",
          "name": "stderr",
          "text": [
            "WARNING:absl:You are saving your model as an HDF5 file via `model.save()` or `keras.saving.save_model(model)`. This file format is considered legacy. We recommend using instead the native Keras format, e.g. `model.save('my_model.keras')` or `keras.saving.save_model(model, 'my_model.keras')`. \n"
          ]
        }
      ]
    },
    {
      "cell_type": "markdown",
      "source": [
        "# 테스트 데이터 로딩 및 평가"
      ],
      "metadata": {
        "id": "CnuE7NqWxT10"
      }
    },
    {
      "cell_type": "code",
      "source": [
        "test_audio_path = '/content/drive/MyDrive/2501ml_data/test'\n",
        "test_label_path = '/content/drive/MyDrive/2501ml_data/label/test_label.txt'"
      ],
      "metadata": {
        "id": "w1LGQ-tkxJRq"
      },
      "execution_count": 13,
      "outputs": []
    },
    {
      "cell_type": "markdown",
      "source": [
        "### 캐시가 없을 때\n",
        "- 캐시가 있다면 목차의 \"캐시로부터 MFCC 데이터 로드 함수\"를 실행하고 난후 다음 단계로 넘어가주시기 바랍니다.\n",
        "- 캐시를 생성하고 싶다면 목차의 \"데이터 셋 캐시 저장\"을 실행하시기 바립니다."
      ],
      "metadata": {
        "id": "MJhy6QIvDPI-"
      }
    },
    {
      "cell_type": "code",
      "source": [
        "X_test, y_test = load_mfcc_data(test_audio_path, test_label_path, max_len)\n",
        "ns_test = X_test.shape[0]\n",
        "X_test, _ = standardize(X_test)"
      ],
      "metadata": {
        "id": "EF-GT8ECDLz2",
        "colab": {
          "base_uri": "https://localhost:8080/"
        },
        "outputId": "33ce766c-7f83-4531-867e-9ba72d914ac9"
      },
      "execution_count": 14,
      "outputs": [
        {
          "output_type": "stream",
          "name": "stderr",
          "text": [
            "Loading MFCC: 100%|██████████| 2000/2000 [12:40<00:00,  2.63it/s]\n"
          ]
        }
      ]
    },
    {
      "cell_type": "code",
      "source": [
        "# -------------------------------------------\n",
        "# 6. 테스트 데이터 평가\n",
        "# -------------------------------------------\n",
        "\n",
        "y_prob = model.predict(X_test)\n",
        "y_pred = (y_prob > 0.5).astype(int)\n",
        "\n",
        "print(\"\\n✅ Classification Report - TEST DATA\")\n",
        "print(classification_report(y_test, y_pred, target_names=['Real','Fake']))\n",
        "print(f\"ROC AUC: {roc_auc_score(y_test, y_prob):.3f}\")\n",
        "\n",
        "cm = confusion_matrix(y_test, y_pred)\n",
        "plt.figure(figsize=(6,5))\n",
        "sns.heatmap(cm, annot=True, fmt='d', cmap='Blues',\n",
        "            xticklabels=['Real','Fake'], yticklabels=['Real','Fake'])\n",
        "plt.xlabel(\"Predicted\")\n",
        "plt.ylabel(\"Actual\")\n",
        "plt.title(\"Confusion Matrix\")\n",
        "plt.show()\n"
      ],
      "metadata": {
        "colab": {
          "base_uri": "https://localhost:8080/",
          "height": 723
        },
        "id": "__4iIRuXxG3l",
        "outputId": "f6cc8aca-c914-47be-ad71-17110b7279bf"
      },
      "execution_count": 21,
      "outputs": [
        {
          "output_type": "stream",
          "name": "stdout",
          "text": [
            "\u001b[1m63/63\u001b[0m \u001b[32m━━━━━━━━━━━━━━━━━━━━\u001b[0m\u001b[37m\u001b[0m \u001b[1m1s\u001b[0m 7ms/step\n",
            "\n",
            "✅ Classification Report - TEST DATA\n",
            "              precision    recall  f1-score   support\n",
            "\n",
            "        Real       0.86      0.99      0.93      1000\n",
            "        Fake       0.99      0.84      0.91      1000\n",
            "\n",
            "    accuracy                           0.92      2000\n",
            "   macro avg       0.93      0.92      0.92      2000\n",
            "weighted avg       0.93      0.92      0.92      2000\n",
            "\n",
            "ROC AUC: 0.914\n"
          ]
        },
        {
          "output_type": "display_data",
          "data": {
            "text/plain": [
              "<Figure size 600x500 with 2 Axes>"
            ],
            "image/png": "[encoded data removed]"
          },
          "metadata": {}
        }
      ]
    },
    {
      "cell_type": "markdown",
      "source": [
        "# 예측 결과 파일 작성"
      ],
      "metadata": {
        "id": "bRpBFV7tLQI9"
      }
    },
    {
      "cell_type": "code",
      "source": [
        "from sklearn.preprocessing import LabelEncoder\n",
        "\n",
        "# 1. test 파일명 리스트 로딩\n",
        "def get_test_filenames(label_path):\n",
        "    filenames = []\n",
        "    with open(label_path, 'r') as f:\n",
        "        for line in f:\n",
        "            parts = line.strip().split()\n",
        "            if len(parts) >= 5:\n",
        "                filenames.append(parts[1])\n",
        "    return filenames\n",
        "\n",
        "# 2. LabelEncoder: Fake → 0, Real → 1\n",
        "le = LabelEncoder()\n",
        "le.fit(['Fake', 'Real']) # 반드시 이 순서로 지정해야 0=Fake, 1=Real\n",
        "\n",
        "# 3. 파일 이름 로드\n",
        "test_file_names = get_test_filenames(test_label_path)\n",
        "\n",
        "# 4. 예측 확률 → 클래스 (0 또는 1) => 정규화 방식에 따라 정확도가 차이가 남.\n",
        "y_pred_prob = model.predict(X_test)\n",
        "# y_pred_classes = np.argmax(y_pred_prob, axis=1)\n",
        "y_pred_classes = (y_pred_prob < 0.5).astype(int).flatten()  # 확률 → 0 or 1\n",
        "\n",
        "\n",
        "# 5. 예측 결과 파일 작성\n",
        "with open('./team_test_result.txt', 'w') as f:\n",
        "    for i in range(len(y_pred_classes)):\n",
        "        label_str = le.inverse_transform([y_pred_classes[i]])[0]  # 0 → Fake, 1 → Real\n",
        "        f.write(f\"{test_file_names[i]} {label_str}\\n\")\n",
        "\n",
        "print(\"✅ team_test_result.txt 저장 완료 (Perl 평가용)\")"
      ],
      "metadata": {
        "colab": {
          "base_uri": "https://localhost:8080/"
        },
        "id": "lW15vZBXGcBr",
        "outputId": "1381937a-c15e-49cd-ccd9-c5acffc64884"
      },
      "execution_count": 22,
      "outputs": [
        {
          "output_type": "stream",
          "name": "stdout",
          "text": [
            "\u001b[1m63/63\u001b[0m \u001b[32m━━━━━━━━━━━━━━━━━━━━\u001b[0m\u001b[37m\u001b[0m \u001b[1m0s\u001b[0m 2ms/step\n",
            "✅ team_test_result.txt 저장 완료 (Perl 평가용)\n"
          ]
        }
      ]
    },
    {
      "cell_type": "code",
      "source": [
        "!perl /content/drive/MyDrive/2501ml_data/eval.pl ./team_test_result.txt /content/drive/MyDrive/2501ml_data/label/test_label.txt"
      ],
      "metadata": {
        "colab": {
          "base_uri": "https://localhost:8080/"
        },
        "id": "OTC5ZeNiIi0w",
        "outputId": "a29775bf-85f2-4f28-af76-9e55ac76916c"
      },
      "execution_count": 23,
      "outputs": [
        {
          "output_type": "stream",
          "name": "stdout",
          "text": [
            "============ Results Analysis ===========\n",
            "Test: ./team_test_result.txt\n",
            "True: /content/drive/MyDrive/2501ml_data/label/test_label.txt\n",
            "Accuracy: 91.95%\n",
            "Hit: 1839, Total: 2000\n",
            "=========================================\n"
          ]
        }
      ]
    }
  ]
}