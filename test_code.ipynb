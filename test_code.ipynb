{
 "cells": [
  {
   "cell_type": "markdown",
   "id": "5635cb43",
   "metadata": {},
   "source": [
    "# 테스트 데이터 로딩 및 평가"
   ]
  },
  {
   "cell_type": "markdown",
   "id": "5a188191",
   "metadata": {},
   "source": [
    "## 필요 라이브러리 임포트"
   ]
  },
  {
   "cell_type": "code",
   "execution_count": null,
   "id": "ca016d0d",
   "metadata": {},
   "outputs": [],
   "source": [
    "# -------------------------------------------\n",
    "# 1. 라이브러리 설치 및 임포트\n",
    "# -------------------------------------------\n",
    "import numpy as np\n",
    "import librosa\n",
    "import os"
   ]
  },
  {
   "cell_type": "markdown",
   "id": "b827a641",
   "metadata": {},
   "source": [
    "## 데이터 로딩 함수 정의"
   ]
  },
  {
   "cell_type": "code",
   "execution_count": 3,
   "id": "1a0a30f4",
   "metadata": {},
   "outputs": [],
   "source": [
    "# -------------------------------------------\n",
    "# 2. 데이터 로딩 함수 정의\n",
    "# -------------------------------------------\n",
    "def load_mfcc_data(audio_path, label_path, max_len=170):\n",
    "    X_list, y_list = [], [] # X_list: 입력 데이터 (feature vectors) / y_list: 정답 레이블 (target labels)\n",
    "    with open(label_path, 'r', encoding='utf-8') as f:\n",
    "            for line in f:\n",
    "                parts = line.strip().split()\n",
    "                if len(parts) >= 5:\n",
    "                    filename = parts[1]\n",
    "                    label = parts[-1]\n",
    "                    fp = os.path.join(audio_path, filename)\n",
    "                    if not os.path.isfile(fp):\n",
    "                        continue\n",
    "                    try:\n",
    "                        audio, sr = librosa.load(fp, sr=16000)\n",
    "                        mfcc = librosa.feature.mfcc(y=audio, sr=sr, n_mfcc=20).T\n",
    "                        # 발화의 평균길이를 제한. 3~5초 기준으로 200의 길이가 넘을 경우, 자르고 넘지 않을 경우 padding을 넣어 통일.\n",
    "                        if mfcc.shape[0] < max_len:\n",
    "                            mfcc = np.pad(mfcc, ((0, max_len - mfcc.shape[0]), (0, 0)), mode='constant')\n",
    "                        else:\n",
    "                            mfcc = mfcc[:max_len]\n",
    "                        X_list.append(mfcc)\n",
    "                        y_list.append(0 if label == 'Real' else 1) # Real은 0 / False 는 1\n",
    "                    except:\n",
    "                        continue\n",
    "\n",
    "    return np.array(X_list), np.array(y_list)\n",
    "from sklearn.preprocessing import StandardScaler\n",
    "def standardize(X):\n",
    "    ns, nt, nf = X.shape\n",
    "    # ns = 샘플 수 (num_samples)\n",
    "    # nt = 시간 프레임 수 (max_len 등)\n",
    "    # nf = MFCC feature 차원 수 (예: 20)\n",
    "    scaler = StandardScaler().fit(X.reshape(-1, nf))\n",
    "    X_scaled = scaler.transform(X.reshape(-1, nf)).reshape(ns, nt, nf)\n",
    "    return X_scaled, scaler"
   ]
  },
  {
   "cell_type": "markdown",
   "id": "9ac452d4",
   "metadata": {},
   "source": [
    "## Test DataSet 파일 경로 선언 및 데이터셋 로딩"
   ]
  },
  {
   "cell_type": "code",
   "execution_count": 4,
   "id": "574e1ac7",
   "metadata": {},
   "outputs": [],
   "source": [
    "test_audio_path = '2501ml_data/test'\n",
    "test_label_path = '2501ml_data/label/test_label.txt'"
   ]
  },
  {
   "cell_type": "code",
   "execution_count": null,
   "id": "e196e8f7",
   "metadata": {},
   "outputs": [],
   "source": [
    "# 음성 프레임 200으로 설정(약 3~5초 음성 파일 기준 고려.)\n",
    "max_len = 200\n",
    "X_test, y_test = load_mfcc_data(test_audio_path, test_label_path, max_len)\n",
    "\n",
    "ns_test = X_test.shape[0]\n",
    "X_test, _ = standardize(X_test)"
   ]
  },
  {
   "cell_type": "code",
   "execution_count": 6,
   "id": "f21f2ce4",
   "metadata": {},
   "outputs": [
    {
     "name": "stdout",
     "output_type": "stream",
     "text": [
      "테스트 데이터의 개수: 2000\n",
      "테스트 데이터 X의 shape: (200, 20)\n"
     ]
    }
   ],
   "source": [
    "print(\"테스트 데이터의 개수:\", len(X_test))\n",
    "print(\"테스트 데이터 X의 shape:\", X_test[0].shape)"
   ]
  },
  {
   "cell_type": "markdown",
   "id": "299fb66c",
   "metadata": {},
   "source": [
    "## 모델 로딩"
   ]
  },
  {
   "cell_type": "code",
   "execution_count": 7,
   "id": "75aa391f",
   "metadata": {},
   "outputs": [
    {
     "name": "stderr",
     "output_type": "stream",
     "text": [
      "WARNING:absl:Compiled the loaded model, but the compiled metrics have yet to be built. `model.compile_metrics` will be empty until you train or evaluate the model.\n"
     ]
    }
   ],
   "source": [
    "from tensorflow.keras.models import load_model\n",
    "\n",
    "model = load_model(\"dnn_model.h5\")"
   ]
  },
  {
   "cell_type": "markdown",
   "id": "f8272a0e",
   "metadata": {},
   "source": [
    "## 테스트 데이터 평가 (Spectral contrast 특징 활용 전)"
   ]
  },
  {
   "cell_type": "code",
   "execution_count": 8,
   "id": "f1edeed1",
   "metadata": {},
   "outputs": [
    {
     "name": "stdout",
     "output_type": "stream",
     "text": [
      "\u001b[1m63/63\u001b[0m \u001b[32m━━━━━━━━━━━━━━━━━━━━\u001b[0m\u001b[37m\u001b[0m \u001b[1m0s\u001b[0m 3ms/step\n",
      "\n",
      "✅ Classification Report - TEST DATA\n",
      "              precision    recall  f1-score   support\n",
      "\n",
      "        Real       0.85      1.00      0.92      1000\n",
      "        Fake       1.00      0.83      0.90      1000\n",
      "\n",
      "    accuracy                           0.91      2000\n",
      "   macro avg       0.93      0.91      0.91      2000\n",
      "weighted avg       0.93      0.91      0.91      2000\n",
      "\n",
      "ROC AUC: 0.920\n"
     ]
    },
    {
     "data": {
      "image/png": "[encoded data removed]",
      "text/plain": [
       "<Figure size 640x480 with 2 Axes>"
      ]
     },
     "metadata": {},
     "output_type": "display_data"
    }
   ],
   "source": [
    "# -------------------------------------------\n",
    "# 6. 테스트 데이터 평가\n",
    "# -------------------------------------------\n",
    "from sklearn.metrics import classification_report, confusion_matrix, roc_auc_score, ConfusionMatrixDisplay\n",
    "import matplotlib.pyplot as plt\n",
    "\n",
    "\n",
    "# 예측\n",
    "y_prob = model.predict(X_test)\n",
    "y_pred_classes = (y_prob > 0.5).astype(int)\n",
    "\n",
    "# 리포트 출력\n",
    "print(\"\\n✅ Classification Report - TEST DATA\")\n",
    "print(classification_report(y_test, y_pred_classes, target_names=['Real', 'Fake']))\n",
    "print(f\"ROC AUC: {roc_auc_score(y_test, y_prob):.3f}\")\n",
    "\n",
    "# 혼동 행렬 시각화\n",
    "cm = confusion_matrix(y_test, y_pred_classes)\n",
    "disp = ConfusionMatrixDisplay(confusion_matrix=cm, display_labels=['Real', 'Fake'])\n",
    "\n",
    "disp.plot(cmap=plt.cm.Blues)\n",
    "plt.title('Confusion Matrix')\n",
    "plt.show()"
   ]
  },
  {
   "cell_type": "markdown",
   "id": "51426142",
   "metadata": {},
   "source": [
    "## Spectral_Contrast 특징 활용\n",
    "- 오분류된 데이터에 대해서 따로 특징을 추출하여 분류를 시도함. 이를 활용하여 약 1% 성능 향상이 가능하였음."
   ]
  },
  {
   "cell_type": "markdown",
   "id": "e75c9142",
   "metadata": {},
   "source": [
    "### Spectral Contrast 활용 예측 메소드 선언\n",
    "- 다음 메소드를 통해, 모델과 Spectral contrast를 활용한 분류를 수행한다. "
   ]
  },
  {
   "cell_type": "code",
   "execution_count": 9,
   "id": "7c75c26a",
   "metadata": {},
   "outputs": [],
   "source": [
    "# 애매모호한 특징에 대해서 선별하고 Spectral Contrast 값을 기준으로, class를 재 분류하는 메소드.\n",
    "def predict_with_spectral_contrast(model,X_test,score:float = 0.32):\n",
    "    # 🔹 1. DNN 예측\n",
    "    y_prob = model.predict(X_test).flatten()\n",
    "\n",
    "    # 🔹 2. 보정 대상: 확률이 낮은 샘플\n",
    "    uncertain_idx = np.where(y_prob < score)[0]\n",
    "\n",
    "    # 🔹 3. test_label.txt에서 파일 이름과 라벨 수동 파싱\n",
    "    test_filenames = []\n",
    "\n",
    "    with open(test_label_path, 'r', encoding='utf-8') as f:\n",
    "        for line in f:\n",
    "            parts = line.strip().split()\n",
    "            if len(parts) >= 5:\n",
    "                test_filenames.append(parts[1])\n",
    "    \n",
    "\n",
    "    # 🔹 4. Spectral contrast 기반 보정\n",
    "    for idx in uncertain_idx:\n",
    "        filename = test_filenames[idx]\n",
    "        file_path = os.path.join(test_audio_path, filename)\n",
    "\n",
    "        try:\n",
    "            y, sr = librosa.load(file_path, sr=16000)\n",
    "            contrast = librosa.feature.spectral_contrast(y=y, sr=sr) # 해당 특징은 각 주파수 대역별 최댓값과 최솟값의 차이를 기반으로 스펙트럼의 뚜렷함(sharpness)을 측정.\n",
    "            high_contrast = np.mean(contrast[-2:, :])  # 고주파 2대역 평균\n",
    "            # 실험한 결과, 가장 적합한 기준 값으로 선정함. (선정 과정 결과 코드 생략)\n",
    "            if (high_contrast < 21.0 or high_contrast > 27.0):\n",
    "                y_prob[idx] = 1.0  # Fake로 강제 보정\n",
    "        except Exception as e:\n",
    "            print(f\"Error processing {filename}: {e}\")\n",
    "    return y_prob"
   ]
  },
  {
   "cell_type": "markdown",
   "id": "801490d3",
   "metadata": {},
   "source": [
    "### Test data 평가"
   ]
  },
  {
   "cell_type": "code",
   "execution_count": 10,
   "id": "453f043a",
   "metadata": {},
   "outputs": [
    {
     "name": "stdout",
     "output_type": "stream",
     "text": [
      "\u001b[1m63/63\u001b[0m \u001b[32m━━━━━━━━━━━━━━━━━━━━\u001b[0m\u001b[37m\u001b[0m \u001b[1m0s\u001b[0m 646us/step\n",
      "\n",
      "✅ Classification Report - TEST DATA\n",
      "              precision    recall  f1-score   support\n",
      "\n",
      "        Real       0.87      1.00      0.93      1000\n",
      "        Fake       1.00      0.85      0.92      1000\n",
      "\n",
      "    accuracy                           0.92      2000\n",
      "   macro avg       0.93      0.92      0.92      2000\n",
      "weighted avg       0.93      0.92      0.92      2000\n",
      "\n",
      "ROC AUC: 0.929\n"
     ]
    },
    {
     "data": {
      "image/png": "[encoded data removed]",
      "text/plain": [
       "<Figure size 640x480 with 2 Axes>"
      ]
     },
     "metadata": {},
     "output_type": "display_data"
    }
   ],
   "source": [
    "# 🔹 5. 최종 이진 판정 (확률 기준은 0.5 유지)\n",
    "y_prob = predict_with_spectral_contrast(model,X_test, score=0.5)\n",
    "y_pred = (y_prob >= 0.5).astype(int)\n",
    "\n",
    "# 리포트 출력\n",
    "print(\"\\n✅ Classification Report - TEST DATA\")\n",
    "print(classification_report(y_test, y_pred, target_names=['Real', 'Fake']))\n",
    "print(f\"ROC AUC: {roc_auc_score(y_test, y_prob):.3f}\")\n",
    "\n",
    "# 혼동 행렬 시각화\n",
    "cm = confusion_matrix(y_test, y_pred)\n",
    "disp = ConfusionMatrixDisplay(confusion_matrix=cm, display_labels=['Real', 'Fake'])\n",
    "\n",
    "disp.plot(cmap=plt.cm.Blues)\n",
    "plt.title('Confusion Matrix')\n",
    "plt.show()"
   ]
  },
  {
   "cell_type": "markdown",
   "id": "0dea427a",
   "metadata": {},
   "source": [
    "# 예측 결과 파일 작성"
   ]
  },
  {
   "cell_type": "code",
   "execution_count": 11,
   "id": "eb5d5eee",
   "metadata": {},
   "outputs": [
    {
     "name": "stdout",
     "output_type": "stream",
     "text": [
      "\u001b[1m63/63\u001b[0m \u001b[32m━━━━━━━━━━━━━━━━━━━━\u001b[0m\u001b[37m\u001b[0m \u001b[1m0s\u001b[0m 630us/step\n",
      "✅ Deepwave_test_result.txt 저장 완료 (Perl 평가용)\n"
     ]
    }
   ],
   "source": [
    "\n",
    "from sklearn.preprocessing import LabelEncoder\n",
    "# 1. test 파일명 리스트 로딩(결과 파일을 만들기 위해 따로 filenames만 추출하는 메소드 선언)\n",
    "def get_filenames(label_path):\n",
    "    filenames = []\n",
    "    with open(label_path, 'r') as f:\n",
    "        for line in f:\n",
    "            parts = line.strip().split()\n",
    "            if len(parts) >= 5:\n",
    "                filenames.append(parts[1])\n",
    "    return filenames\n",
    "\n",
    "# 2. LabelEncoder: Fake → 0, Real → 1\n",
    "le = LabelEncoder()\n",
    "le.fit(['Fake', 'Real']) # 반드시 이 순서로 지정해야 0=Fake, 1=Real\n",
    "\n",
    "# 3. 파일 이름 로드\n",
    "test_file_names = get_filenames(test_label_path)\n",
    "\n",
    "# 4. 예측 확률 → 클래스 (0 또는 1) => 정규화 방식에 따라 정확도가 차이가 남.\n",
    "y_pred_prob =predict_with_spectral_contrast(model,X_test,score=0.5 )\n",
    "y_pred_classes = (y_pred_prob <= 0.5).astype(int).flatten()  # 확률 → 0 or 1\n",
    "\n",
    "\n",
    "# 5. 예측 결과 파일 작성\n",
    "with open('./Deepwave_test_result.txt', 'w') as f:\n",
    "    for i in range(len(y_pred_classes)):\n",
    "        label_str = le.inverse_transform([y_pred_classes[i]])[0]  # 0 → Fake, 1 → Real\n",
    "        f.write(f\"{test_file_names[i]} {label_str}\\n\")\n",
    "\n",
    "print(\"✅ Deepwave_test_result.txt 저장 완료 (Perl 평가용)\")"
   ]
  },
  {
   "cell_type": "code",
   "execution_count": 1,
   "id": "8a3f7a9d",
   "metadata": {},
   "outputs": [
    {
     "name": "stdout",
     "output_type": "stream",
     "text": [
      "============ Results Analysis ===========\n",
      "Test: Deepwave_test_result.txt\n",
      "True: 2501ml_data/label/test_label.txt\n",
      "Accuracy: 92.15%\n",
      "Hit: 1843, Total: 2000\n",
      "=========================================\n"
     ]
    }
   ],
   "source": [
    "!perl 2501ml_data/eval.pl Deepwave_test_result.txt 2501ml_data/label/test_label.txt"
   ]
  }
 ],
 "metadata": {
  "kernelspec": {
   "display_name": ".venv",
   "language": "python",
   "name": "python3"
  },
  "language_info": {
   "codemirror_mode": {
    "name": "ipython",
    "version": 3
   },
   "file_extension": ".py",
   "mimetype": "text/x-python",
   "name": "python",
   "nbconvert_exporter": "python",
   "pygments_lexer": "ipython3",
   "version": "3.12.6"
  }
 },
 "nbformat": 4,
 "nbformat_minor": 5
}
