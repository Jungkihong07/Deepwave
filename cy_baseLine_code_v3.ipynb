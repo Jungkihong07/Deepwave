{
  "nbformat": 4,
  "nbformat_minor": 0,
  "metadata": {
    "colab": {
      "provenance": [],
      "gpuType": "T4",
      "include_colab_link": true
    },
    "kernelspec": {
      "name": "python3",
      "display_name": "Python 3"
    },
    "language_info": {
      "name": "python"
    },
    "accelerator": "GPU"
  },
  "cells": [
    {
      "cell_type": "markdown",
      "metadata": {
        "id": "view-in-github",
        "colab_type": "text"
      },
      "source": [
        "<a href=\"https://colab.research.google.com/github/Jungkihong07/Deepwave/blob/main/cy_baseLine_code_v3.ipynb\" target=\"_parent\"><img src=\"https://colab.research.google.com/assets/colab-badge.svg\" alt=\"Open In Colab\"/></a>"
      ]
    },
    {
      "cell_type": "markdown",
      "source": [
        "## 1. 필요 라이브러러 임포트 및 다운로드"
      ],
      "metadata": {
        "id": "AjL9zysWvkmK"
      }
    },
    {
      "cell_type": "code",
      "source": [
        "from google.colab import drive\n",
        "drive.mount('/content/drive')"
      ],
      "metadata": {
        "colab": {
          "base_uri": "https://localhost:8080/"
        },
        "id": "P5B4poXqMWqT",
        "outputId": "9d6ca707-1b54-4cb4-efe5-4c911a659ee0"
      },
      "execution_count": 6,
      "outputs": [
        {
          "output_type": "stream",
          "name": "stdout",
          "text": [
            "Mounted at /content/drive\n"
          ]
        }
      ]
    },
    {
      "cell_type": "code",
      "execution_count": 97,
      "metadata": {
        "id": "6C-2s9DAvMIj"
      },
      "outputs": [],
      "source": [
        "import os\n",
        "import random\n",
        "import numpy as np\n",
        "import tensorflow as tf\n",
        "from tensorflow.keras import layers, models\n",
        "from tensorflow.keras.callbacks import EarlyStopping, ReduceLROnPlateau\n",
        "import matplotlib.pyplot as plt\n",
        "\n",
        "# =========================\n",
        "#  재현성 설정\n",
        "# =========================\n",
        "random.seed(42)\n",
        "np.random.seed(42)\n",
        "tf.random.set_seed(42)"
      ]
    },
    {
      "cell_type": "markdown",
      "source": [
        "## 데이터 로딩 함수 정의"
      ],
      "metadata": {
        "id": "W3NiFNQjvaBf"
      }
    },
    {
      "cell_type": "code",
      "source": [
        "import os\n",
        "import numpy as np\n",
        "import tensorflow as tf\n",
        "\n",
        "# 전역 하이퍼파라미터\n",
        "SAMPLE_RATE       = 16000      # WAV 파일 샘플링 레이트\n",
        "DESIRED_SECONDS   = 3          # 음성 길이를 3초로 고정\n",
        "DESIRED_SAMPLES   = SAMPLE_RATE * DESIRED_SECONDS  # 48000 샘플\n",
        "\n",
        "FRAME_LENGTH      = 512        # STFT 창 길이\n",
        "FRAME_STEP        = 160        # STFT 홉 길이\n",
        "FFT_LENGTH        = 512        # FFT 길이\n",
        "\n",
        "NUM_MEL_BINS      = 40         # Mel 필터 개수\n",
        "LOWER_EDGE_HERTZ  = 80.0       # Mel 필터 최소 주파수\n",
        "UPPER_EDGE_HERTZ  = 7600.0     # Mel 필터 최대 주파수\n",
        "\n",
        "NUM_MFCCS         = 20         # 추출할 MFCC 계수 개수\n",
        "\n",
        "\n",
        "def load_mfcc_data_tf(audio_path, label_path, max_len=200):\n",
        "    \"\"\"\n",
        "    audio_path: WAV 파일이 저장된 디렉터리\n",
        "    label_path: 'filename label' 형식의 텍스트 파일 경로\n",
        "    max_len: 프레임 수로 고정할 MFCC 길이 (부족 시 패딩, 넘치면 크롭)\n",
        "\n",
        "    반환:\n",
        "      X: (N, max_len, NUM_MFCCS) numpy array (float32)\n",
        "      y: (N,) numpy array (int32), Real->0, Fake->1\n",
        "    \"\"\"\n",
        "    filenames, labels = [], []\n",
        "    with open(label_path, 'r') as f:\n",
        "        for line in f:\n",
        "            parts = line.strip().split()\n",
        "            if len(parts) < 2:\n",
        "                continue\n",
        "            filenames.append(parts[0])\n",
        "            labels.append(0 if parts[1].lower() == 'real' else 1)\n",
        "\n",
        "    X_list, y_list = [], []\n",
        "    for fn, lbl in zip(filenames, labels):\n",
        "        fp = os.path.join(audio_path, fn)\n",
        "        if not tf.io.gfile.exists(fp):\n",
        "            continue\n",
        "        try:\n",
        "            # 1) WAV 로드 및 mono 채널 확보\n",
        "            audio_binary = tf.io.read_file(fp)\n",
        "            audio, sr = tf.audio.decode_wav(audio_binary, desired_channels=1)\n",
        "            audio = tf.squeeze(audio, axis=-1)\n",
        "\n",
        "            # 2) 길이 고정 (패딩 또는 크롭)\n",
        "            n_samples = tf.shape(audio)[0]\n",
        "            audio_fixed = tf.cond(\n",
        "                n_samples < DESIRED_SAMPLES,\n",
        "                lambda: tf.pad(audio, [[0, DESIRED_SAMPLES - n_samples]], constant_values=0.0),\n",
        "                lambda: audio[:DESIRED_SAMPLES]\n",
        "            )\n",
        "\n",
        "            # 3) STFT → Magnitude Spectrogram\n",
        "            stfts = tf.signal.stft(\n",
        "                audio_fixed,\n",
        "                frame_length=FRAME_LENGTH,\n",
        "                frame_step=FRAME_STEP,\n",
        "                fft_length=FFT_LENGTH\n",
        "            )\n",
        "            spectrograms = tf.abs(stfts)\n",
        "\n",
        "            # 4) Mel 필터뱅크 생성 및 Mel Spectrogram 계산\n",
        "            num_spectrogram_bins = FFT_LENGTH // 2 + 1\n",
        "            mel_weight_matrix = tf.signal.linear_to_mel_weight_matrix(\n",
        "                NUM_MEL_BINS,\n",
        "                num_spectrogram_bins,\n",
        "                SAMPLE_RATE,\n",
        "                LOWER_EDGE_HERTZ,\n",
        "                UPPER_EDGE_HERTZ\n",
        "            )\n",
        "            mel_spectrograms = tf.matmul(tf.square(spectrograms), mel_weight_matrix)\n",
        "\n",
        "            # 5) 로그 변환 → MFCC 계산\n",
        "            log_mel = tf.math.log(mel_spectrograms + 1e-6)\n",
        "            mfccs_full = tf.signal.mfccs_from_log_mel_spectrograms(log_mel)\n",
        "            mfccs = mfccs_full[:, :NUM_MFCCS]\n",
        "\n",
        "            # 6) 프레임 수 맞추기 (패딩 또는 크롭)\n",
        "            n_frames = tf.shape(mfccs)[0]\n",
        "            mfccs_fixed = tf.cond(\n",
        "                n_frames < max_len,\n",
        "                lambda: tf.pad(mfccs, [[0, max_len - n_frames], [0, 0]], constant_values=0.0),\n",
        "                lambda: mfccs[:max_len, :]\n",
        "            )\n",
        "\n",
        "            X_list.append(mfccs_fixed.numpy().astype('float32'))\n",
        "            y_list.append(lbl)\n",
        "        except Exception:\n",
        "            continue\n",
        "\n",
        "    if not X_list:\n",
        "        return np.empty((0, max_len, NUM_MFCCS), dtype='float32'), np.empty((0,), dtype='int32')\n",
        "\n",
        "    X_arr = np.stack(X_list, axis=0)\n",
        "    y_arr = np.array(y_list, dtype='int32')\n",
        "    return X_arr, y_arr\n"
      ],
      "metadata": {
        "id": "HHEIEEHnvU9N"
      },
      "execution_count": 161,
      "outputs": []
    },
    {
      "cell_type": "markdown",
      "source": [
        "### 데이터 셋 캐시 저장\n",
        "- 사용 예시\n",
        "save_mfcc_cache(X, y, scaler, cache_prefix=\"train\")\n",
        "- 사용 조건\n",
        "  - 목차의 \"캐시가 없을 때\"를 실행하고 난 후 실행하셔야 합니다."
      ],
      "metadata": {
        "id": "Y1ppfLQd9u6a"
      }
    },
    {
      "cell_type": "markdown",
      "source": [
        "#### Train set 캐시 저장 함수\n",
        "- test set을 위한 코드가 아닙니다. train set에만 사용하시기 바랍니다."
      ],
      "metadata": {
        "id": "ivm8u9ibDrn1"
      }
    },
    {
      "cell_type": "code",
      "source": [
        "def save_mfcc_cache(X, y, scaler, cache_prefix=\"train\"):\n",
        "    X_cache = f\"{cache_prefix}_X.npy\"\n",
        "    y_cache = f\"{cache_prefix}_y.npy\"\n",
        "    scaler_cache = f\"{cache_prefix}_scaler.npy\"\n",
        "\n",
        "    np.save(X_cache, X)\n",
        "    np.save(y_cache, y)\n",
        "    np.save(scaler_cache, {'mean': scaler.mean_, 'scale': scaler.scale_})\n",
        "    print(f\"✅ 캐시 저장 완료: {X_cache}, {y_cache}, {scaler_cache}\")\n",
        "# Train set = > X: 전처리된 입력 특성, y : 정답 레이블, scaler : 표준화 정보\n",
        "save_mfcc_cache(X, y, scaler, cache_prefix=\"train\")"
      ],
      "metadata": {
        "id": "fwdKGbzV9yhj",
        "colab": {
          "base_uri": "https://localhost:8080/"
        },
        "outputId": "47324899-6e7b-4b29-a165-c927791b619e"
      },
      "execution_count": 99,
      "outputs": [
        {
          "output_type": "stream",
          "name": "stdout",
          "text": [
            "✅ 캐시 저장 완료: train_X.npy, train_y.npy, train_scaler.npy\n"
          ]
        }
      ]
    },
    {
      "cell_type": "markdown",
      "source": [
        "#### Test set 캐시 저장\n",
        "-  test set을 위한 코드입니다."
      ],
      "metadata": {
        "id": "qVf2SC0rD6-B"
      }
    },
    {
      "cell_type": "code",
      "source": [
        "\n",
        "# Test set => X_test : 입력 특성, y_test : 정답 레이블, 표준화 정보는 필요없음. scalar를 사용해야 함.\n",
        "np.save(\"test_X.npy\", X_test)\n",
        "np.save(\"test_y.npy\", y_test)\n",
        "print(\"✅ 테스트셋 캐시 저장 완료\")\n"
      ],
      "metadata": {
        "colab": {
          "base_uri": "https://localhost:8080/"
        },
        "id": "-B9-jNUf-wq2",
        "outputId": "6884e385-cf25-418d-89fd-3401bccdcc63"
      },
      "execution_count": 112,
      "outputs": [
        {
          "output_type": "stream",
          "name": "stdout",
          "text": [
            "✅ 테스트셋 캐시 저장 완료\n"
          ]
        }
      ]
    },
    {
      "cell_type": "markdown",
      "source": [
        "### 캐시로부터 MFCC 데이터 로드 함수\n",
        "- 사용 예시\n",
        "X, y, scaler = load_mfcc_cache(cache_prefix=\"train\")\n",
        "- 사용 조건\n",
        "  - 이후 캐시를 저장하고 난 후는 계속해서 MFCC 데이터 로드 함수를 활용해 이후, 로드할 필요 없이 사용하시면 됩니다."
      ],
      "metadata": {
        "id": "ApDVnUfa-Sxv"
      }
    },
    {
      "cell_type": "markdown",
      "source": [
        "#### Train set 캐시 로드 함수"
      ],
      "metadata": {
        "id": "hd7-2qCDEJ2w"
      }
    },
    {
      "cell_type": "code",
      "source": [
        "def load_mfcc_cache(cache_prefix=\"train\"):\n",
        "    X_cache = f\"{cache_prefix}_X.npy\"\n",
        "    y_cache = f\"{cache_prefix}_y.npy\"\n",
        "    scaler_cache = f\"{cache_prefix}_scaler.npy\"\n",
        "\n",
        "    if not (os.path.exists(X_cache) and os.path.exists(y_cache) and os.path.exists(scaler_cache)):\n",
        "        raise FileNotFoundError(f\"❌ 캐시 파일이 존재하지 않습니다: prefix={cache_prefix}\")\n",
        "\n",
        "    print(f\"📂 캐시 불러오는 중: {X_cache}, {y_cache}\")\n",
        "    X = np.load(X_cache)\n",
        "    y = np.load(y_cache)\n",
        "    scaler_params = np.load(scaler_cache, allow_pickle=True).item()\n",
        "\n",
        "    scaler = StandardScaler()\n",
        "    scaler.mean_ = scaler_params['mean']\n",
        "    scaler.scale_ = scaler_params['scale']\n",
        "\n",
        "    return X, y, scaler\n",
        "# Train set\n",
        "X, y, scaler = load_mfcc_cache(cache_prefix=\"train\")"
      ],
      "metadata": {
        "id": "CLWFGJYV-OuG",
        "colab": {
          "base_uri": "https://localhost:8080/"
        },
        "outputId": "e31e4d90-f172-4b54-c89c-1898bc53fab2"
      },
      "execution_count": 101,
      "outputs": [
        {
          "output_type": "stream",
          "name": "stdout",
          "text": [
            "📂 캐시 불러오는 중: train_X.npy, train_y.npy\n"
          ]
        }
      ]
    },
    {
      "cell_type": "markdown",
      "source": [
        "#### test set 캐시 로드"
      ],
      "metadata": {
        "id": "ZR7IRs9HENvW"
      }
    },
    {
      "cell_type": "code",
      "source": [
        "# Test set\n",
        "X_test = np.load(\"test_X.npy\")\n",
        "y_test = np.load(\"test_y.npy\")\n",
        "print(\"✅ 테스트셋 캐시 불러오기 완료\")"
      ],
      "metadata": {
        "colab": {
          "base_uri": "https://localhost:8080/"
        },
        "id": "_9tDNtU9A0OR",
        "outputId": "e9124e45-f721-49d4-bf95-c9e2a0ae786d"
      },
      "execution_count": 113,
      "outputs": [
        {
          "output_type": "stream",
          "name": "stdout",
          "text": [
            "✅ 테스트셋 캐시 불러오기 완료\n"
          ]
        }
      ]
    },
    {
      "cell_type": "markdown",
      "source": [
        "## DNN 모델 정의"
      ],
      "metadata": {
        "id": "9T8gTqbmvq4n"
      }
    },
    {
      "cell_type": "markdown",
      "source": [],
      "metadata": {
        "id": "_El12KTNV_DJ"
      }
    },
    {
      "cell_type": "markdown",
      "source": [
        "모델 설명:\n",
        "\n",
        "입력으로 MFCC 스펙트로그램(max_len×NUM_MFCCS) 사용함.\n",
        "\n",
        "Flatten으로 시계열 정보 1D 벡터로 펼침.\n",
        "\n",
        "Dense(512) 통과 후 BatchNormalization → ReLU 적용 → Dropout(0.3) 적용함.\n",
        "\n",
        "이어서 Dense(256) → BatchNormalization → ReLU → Dropout(0.3) 순으로 처리함.\n",
        "\n",
        "다시 Dense(128) → BatchNormalization → ReLU → Dropout(0.3) 순으로 처리함.\n",
        "\n",
        "마지막에 Dense(1, activation='sigmoid')로 Real/Fake 확률 출력함.\n",
        "\n",
        "컴파일 시 Adam(learning_rate=1e-3) 옵티마이저, binary_crossentropy 손실 사용함.\n",
        "\n",
        "학습 중 accuracy 지표 기록함.\n",
        "\n",
        "\n",
        "\n",
        "\n",
        "Input shape: (max_len, NUM_MFCCS)\n",
        "Flatten: 시계열 MFCC 정보를 1D 벡터로 펼침\n",
        "\n",
        "DNN 구조:\n",
        "Dense(512) + BatchNormalization + ReLU + Dropout(0.3)\n",
        "\n",
        "Dense(256) + BatchNormalization + ReLU + Dropout(0.3)\n",
        "\n",
        "Dense(128) + BatchNormalization + ReLU + Dropout(0.3)\n",
        "\n",
        "Dense(1, activation='sigmoid') → Real/Fake 확률 출력"
      ],
      "metadata": {
        "id": "L_UPhibmBViv"
      }
    },
    {
      "cell_type": "code",
      "source": [
        "from tensorflow.keras import layers, models\n",
        "import tensorflow as tf\n",
        "\n",
        "def build_dnn_model(input_shape):\n",
        "    \"\"\"\n",
        "    input_shape: (max_len, NUM_MFCCS), 예: (200, 20)\n",
        "    이진 분류를 위한 DNN 모델 (Dense 계층만 사용)\n",
        "    \"\"\"\n",
        "    model = models.Sequential([\n",
        "        # 입력: MFCC 스펙트로그램 (max_len × NUM_MFCCS)\n",
        "        layers.Input(shape=input_shape, name=\"input_mfcc\"),\n",
        "\n",
        "        # Flatten 후 첫 번째 Dense 블록\n",
        "        layers.Flatten(name=\"flatten\"),\n",
        "        layers.Dense(512, activation=None, name=\"dense1\"),\n",
        "        layers.BatchNormalization(name=\"bn1\"),\n",
        "        layers.Activation('relu', name=\"act1\"),\n",
        "        layers.Dropout(0.3, name=\"drop1\"),\n",
        "\n",
        "        # 두 번째 Dense 블록\n",
        "        layers.Dense(256, activation=None, name=\"dense2\"),\n",
        "        layers.BatchNormalization(name=\"bn2\"),\n",
        "        layers.Activation('relu', name=\"act2\"),\n",
        "        layers.Dropout(0.3, name=\"drop2\"),\n",
        "\n",
        "        # 세 번째 Dense 블록\n",
        "        layers.Dense(128, activation=None, name=\"dense3\"),\n",
        "        layers.BatchNormalization(name=\"bn3\"),\n",
        "        layers.Activation('relu', name=\"act3\"),\n",
        "        layers.Dropout(0.3, name=\"drop3\"),\n",
        "\n",
        "        # 출력: 이진 분류 (sigmoid)\n",
        "        layers.Dense(1, activation='sigmoid', name=\"output\")\n",
        "    ])\n",
        "\n",
        "    model.compile(\n",
        "        optimizer=tf.keras.optimizers.Adam(learning_rate=1e-3),\n",
        "        loss='binary_crossentropy',\n",
        "        metrics=['accuracy']\n",
        "    )\n",
        "    return model\n"
      ],
      "metadata": {
        "id": "civKLfZFvtiY"
      },
      "execution_count": 164,
      "outputs": []
    },
    {
      "cell_type": "markdown",
      "source": [
        "## 학습용 데이터 로딩"
      ],
      "metadata": {
        "id": "YKpJWg_rv9ig"
      }
    },
    {
      "cell_type": "code",
      "source": [
        "train_audio_path = '/content/drive/MyDrive/2501ml_data/train'\n",
        "train_label_path = '/content/drive/MyDrive/2501ml_data/label/train_label.txt'\n",
        "max_len = 200"
      ],
      "metadata": {
        "id": "ox0lftHIv-SY"
      },
      "execution_count": 9,
      "outputs": []
    },
    {
      "cell_type": "markdown",
      "source": [
        "### 캐시가 없을 때\n",
        "- 캐시가 있다면 목차의 \"캐시로부터 MFCC 데이터 로드 함수\"를 실행하고 난후 다음 단계로 넘어가주시기 바랍니다."
      ],
      "metadata": {
        "id": "iSLTh3V2BLND"
      }
    },
    {
      "cell_type": "code",
      "source": [
        "X, y = load_mfcc_data(train_audio_path, train_label_path, max_len)\n",
        "X, scaler = standardize(X)"
      ],
      "metadata": {
        "id": "1EGQIT-TBIaK",
        "colab": {
          "base_uri": "https://localhost:8080/"
        },
        "outputId": "042a892e-b808-4d97-8162-4ec9926ed4d4"
      },
      "execution_count": 10,
      "outputs": [
        {
          "output_type": "stream",
          "name": "stderr",
          "text": [
            "Loading MFCC: 100%|██████████| 4000/4000 [19:35<00:00,  3.40it/s]\n"
          ]
        }
      ]
    },
    {
      "cell_type": "markdown",
      "source": [
        "# 모델 학습"
      ],
      "metadata": {
        "id": "vEsJcdSyC-c6"
      }
    },
    {
      "cell_type": "code",
      "source": [
        "from sklearn.model_selection import train_test_split\n",
        "from tensorflow.keras.callbacks import EarlyStopping, ReduceLROnPlateau\n",
        "import tensorflow as tf\n",
        "import numpy as np\n",
        "import matplotlib.pyplot as plt\n",
        "\n",
        "# ----------------------------------------------------\n",
        "# 가정: X, y는 이미 load_mfcc_data_tf() 등을 통해 준비된 상태\n",
        "# X.shape == (N, max_len, n_mfcc),  y.shape == (N,)\n",
        "# ----------------------------------------------------\n",
        "max_len = X.shape[1]      # 예: 200\n",
        "n_mfcc  = X.shape[2]      # 예: 13\n",
        "\n",
        "# ----------------------------------------------------\n",
        "# 1) Train/Validation 분할 (클래스 비율 유지)\n",
        "# ----------------------------------------------------\n",
        "X_train, X_val, y_train, y_val = train_test_split(\n",
        "    X, y,\n",
        "    test_size=0.2,       # 검증 비율 20%\n",
        "    stratify=y,          # 클래스 비율 유지\n",
        "    random_state=41      # 재현성 고정\n",
        ")\n",
        "\n",
        "# ----------------------------------------------------\n",
        "# 2) DNN 모델 생성 (입력 형태: (max_len, n_mfcc))\n",
        "# ----------------------------------------------------\n",
        "def build_dnn_model(input_shape):\n",
        "    \"\"\"\n",
        "    input_shape: (max_len, n_mfcc) 형태, 예: (200, 13)\n",
        "    이진 분류를 위한 DNN 모델 (Dense 계층만 사용)\n",
        "    \"\"\"\n",
        "    model = tf.keras.Sequential([\n",
        "        # 1) 입력 레이어: MFCC 스펙트로그램\n",
        "        tf.keras.layers.Input(shape=input_shape, name=\"input_mfcc\"),\n",
        "\n",
        "        # 2) Flatten → Dense Block #1\n",
        "        tf.keras.layers.Flatten(name=\"flatten\"),\n",
        "        tf.keras.layers.Dense(512, activation=None, name=\"dense1\"),\n",
        "        tf.keras.layers.BatchNormalization(name=\"bn1\"),\n",
        "        tf.keras.layers.Activation('relu', name=\"act1\"),\n",
        "        tf.keras.layers.Dropout(0.3, name=\"drop1\"),\n",
        "\n",
        "        # 3) Dense Block #2\n",
        "        tf.keras.layers.Dense(256, activation=None, name=\"dense2\"),\n",
        "        tf.keras.layers.BatchNormalization(name=\"bn2\"),\n",
        "        tf.keras.layers.Activation('relu', name=\"act2\"),\n",
        "        tf.keras.layers.Dropout(0.3, name=\"drop2\"),\n",
        "\n",
        "        # 4) Dense Block #3\n",
        "        tf.keras.layers.Dense(128, activation=None, name=\"dense3\"),\n",
        "        tf.keras.layers.BatchNormalization(name=\"bn3\"),\n",
        "        tf.keras.layers.Activation('relu', name=\"act3\"),\n",
        "        tf.keras.layers.Dropout(0.3, name=\"drop3\"),\n",
        "\n",
        "        # 5) 출력 레이어: sigmoid 활성화로 이진 분류\n",
        "        tf.keras.layers.Dense(1, activation='sigmoid', name=\"output\")\n",
        "    ])\n",
        "\n",
        "    # 컴파일: Adam 옵티마이저 + binary_crossentropy + accuracy 지표\n",
        "    model.compile(\n",
        "        optimizer=tf.keras.optimizers.Adam(learning_rate=1e-3),\n",
        "        loss='binary_crossentropy',\n",
        "        metrics=['accuracy']\n",
        "    )\n",
        "    return model\n",
        "\n",
        "# 모델 생성 및 요약 출력\n",
        "model = build_dnn_model(input_shape=(max_len, n_mfcc))\n",
        "model.summary()\n",
        "\n",
        "# ----------------------------------------------------\n",
        "# 3) 콜백 설정\n",
        "# ----------------------------------------------------\n",
        "callbacks = [\n",
        "    # val_loss 개선 없으면 조기 종료 (최대 10 에포크 대기)\n",
        "    EarlyStopping(monitor='val_loss', patience=10, restore_best_weights=True),\n",
        "    # val_loss 개선 없으면 학습률 절반으로 감소 (최대 5 에포크 대기)\n",
        "    ReduceLROnPlateau(monitor='val_loss', factor=0.5, patience=5, min_lr=1e-6, verbose=1)\n",
        "]\n",
        "\n",
        "# ----------------------------------------------------\n",
        "# 4) 모델 학습\n",
        "# ----------------------------------------------------\n",
        "history = model.fit(\n",
        "    X_train, y_train,\n",
        "    validation_data=(X_val, y_val),\n",
        "    epochs=50,          # 최대 50 에포크\n",
        "    batch_size=32,      # 배치 크기 32\n",
        "    callbacks=callbacks,\n",
        "    verbose=1           # 프로그레스 바 출력\n",
        ")\n",
        "\n",
        "# ----------------------------------------------------\n",
        "# 5) 학습 이력 시각화 함수\n",
        "# ----------------------------------------------------\n",
        "def plot_history_with_auc(history):\n",
        "    hist = history.history\n",
        "    epochs = range(1, len(hist['loss']) + 1)\n",
        "\n",
        "    plt.figure(figsize=(12, 4))\n",
        "\n",
        "    # 1) Loss 곡선\n",
        "    plt.subplot(1, 3, 1)\n",
        "    plt.plot(epochs, hist['loss'],     label='Train Loss', color='tab:blue')\n",
        "    plt.plot(epochs, hist['val_loss'], label='Val Loss',   color='tab:orange')\n",
        "    plt.title(\"Loss\")\n",
        "    plt.xlabel(\"Epoch\")\n",
        "    plt.ylabel(\"Loss\")\n",
        "    plt.legend()\n",
        "\n",
        "    # 2) Accuracy 곡선\n",
        "    plt.subplot(1, 3, 2)\n",
        "    plt.plot(epochs, hist['accuracy'],     label='Train Acc',  color='tab:blue')\n",
        "    plt.plot(epochs, hist['val_accuracy'], label='Val Acc',    color='tab:orange')\n",
        "    plt.title(\"Accuracy\")\n",
        "    plt.xlabel(\"Epoch\")\n",
        "    plt.ylabel(\"Accuracy\")\n",
        "    plt.legend()\n",
        "\n",
        "    plt.tight_layout()\n",
        "    plt.show()\n",
        "\n",
        "# ----------------------------------------------------\n",
        "# 6) 학습 과정 시각화 호출\n",
        "# ----------------------------------------------------\n",
        "plot_history_with_auc(history)\n"
      ],
      "metadata": {
        "colab": {
          "base_uri": "https://localhost:8080/",
          "height": 1000
        },
        "id": "tBR_cf2cv2cp",
        "outputId": "d190e8fd-56ec-4d00-cab0-b4acfa4383a6"
      },
      "execution_count": 185,
      "outputs": [
        {
          "output_type": "display_data",
          "data": {
            "text/plain": [
              "\u001b[1mModel: \"sequential_24\"\u001b[0m\n"
            ],
            "text/html": [
              "<pre style=\"white-space:pre;overflow-x:auto;line-height:normal;font-family:Menlo,'DejaVu Sans Mono',consolas,'Courier New',monospace\"><span style=\"font-weight: bold\">Model: \"sequential_24\"</span>\n",
              "</pre>\n"
            ]
          },
          "metadata": {}
        },
        {
          "output_type": "display_data",
          "data": {
            "text/plain": [
              "┏━━━━━━━━━━━━━━━━━━━━━━━━━━━━━━━━━┳━━━━━━━━━━━━━━━━━━━━━━━━┳━━━━━━━━━━━━━━━┓\n",
              "┃\u001b[1m \u001b[0m\u001b[1mLayer (type)                   \u001b[0m\u001b[1m \u001b[0m┃\u001b[1m \u001b[0m\u001b[1mOutput Shape          \u001b[0m\u001b[1m \u001b[0m┃\u001b[1m \u001b[0m\u001b[1m      Param #\u001b[0m\u001b[1m \u001b[0m┃\n",
              "┡━━━━━━━━━━━━━━━━━━━━━━━━━━━━━━━━━╇━━━━━━━━━━━━━━━━━━━━━━━━╇━━━━━━━━━━━━━━━┩\n",
              "│ flatten (\u001b[38;5;33mFlatten\u001b[0m)               │ (\u001b[38;5;45mNone\u001b[0m, \u001b[38;5;34m2600\u001b[0m)           │             \u001b[38;5;34m0\u001b[0m │\n",
              "├─────────────────────────────────┼────────────────────────┼───────────────┤\n",
              "│ dense1 (\u001b[38;5;33mDense\u001b[0m)                  │ (\u001b[38;5;45mNone\u001b[0m, \u001b[38;5;34m512\u001b[0m)            │     \u001b[38;5;34m1,331,712\u001b[0m │\n",
              "├─────────────────────────────────┼────────────────────────┼───────────────┤\n",
              "│ bn1 (\u001b[38;5;33mBatchNormalization\u001b[0m)        │ (\u001b[38;5;45mNone\u001b[0m, \u001b[38;5;34m512\u001b[0m)            │         \u001b[38;5;34m2,048\u001b[0m │\n",
              "├─────────────────────────────────┼────────────────────────┼───────────────┤\n",
              "│ act1 (\u001b[38;5;33mActivation\u001b[0m)               │ (\u001b[38;5;45mNone\u001b[0m, \u001b[38;5;34m512\u001b[0m)            │             \u001b[38;5;34m0\u001b[0m │\n",
              "├─────────────────────────────────┼────────────────────────┼───────────────┤\n",
              "│ drop1 (\u001b[38;5;33mDropout\u001b[0m)                 │ (\u001b[38;5;45mNone\u001b[0m, \u001b[38;5;34m512\u001b[0m)            │             \u001b[38;5;34m0\u001b[0m │\n",
              "├─────────────────────────────────┼────────────────────────┼───────────────┤\n",
              "│ dense2 (\u001b[38;5;33mDense\u001b[0m)                  │ (\u001b[38;5;45mNone\u001b[0m, \u001b[38;5;34m256\u001b[0m)            │       \u001b[38;5;34m131,328\u001b[0m │\n",
              "├─────────────────────────────────┼────────────────────────┼───────────────┤\n",
              "│ bn2 (\u001b[38;5;33mBatchNormalization\u001b[0m)        │ (\u001b[38;5;45mNone\u001b[0m, \u001b[38;5;34m256\u001b[0m)            │         \u001b[38;5;34m1,024\u001b[0m │\n",
              "├─────────────────────────────────┼────────────────────────┼───────────────┤\n",
              "│ act2 (\u001b[38;5;33mActivation\u001b[0m)               │ (\u001b[38;5;45mNone\u001b[0m, \u001b[38;5;34m256\u001b[0m)            │             \u001b[38;5;34m0\u001b[0m │\n",
              "├─────────────────────────────────┼────────────────────────┼───────────────┤\n",
              "│ drop2 (\u001b[38;5;33mDropout\u001b[0m)                 │ (\u001b[38;5;45mNone\u001b[0m, \u001b[38;5;34m256\u001b[0m)            │             \u001b[38;5;34m0\u001b[0m │\n",
              "├─────────────────────────────────┼────────────────────────┼───────────────┤\n",
              "│ dense3 (\u001b[38;5;33mDense\u001b[0m)                  │ (\u001b[38;5;45mNone\u001b[0m, \u001b[38;5;34m128\u001b[0m)            │        \u001b[38;5;34m32,896\u001b[0m │\n",
              "├─────────────────────────────────┼────────────────────────┼───────────────┤\n",
              "│ bn3 (\u001b[38;5;33mBatchNormalization\u001b[0m)        │ (\u001b[38;5;45mNone\u001b[0m, \u001b[38;5;34m128\u001b[0m)            │           \u001b[38;5;34m512\u001b[0m │\n",
              "├─────────────────────────────────┼────────────────────────┼───────────────┤\n",
              "│ act3 (\u001b[38;5;33mActivation\u001b[0m)               │ (\u001b[38;5;45mNone\u001b[0m, \u001b[38;5;34m128\u001b[0m)            │             \u001b[38;5;34m0\u001b[0m │\n",
              "├─────────────────────────────────┼────────────────────────┼───────────────┤\n",
              "│ drop3 (\u001b[38;5;33mDropout\u001b[0m)                 │ (\u001b[38;5;45mNone\u001b[0m, \u001b[38;5;34m128\u001b[0m)            │             \u001b[38;5;34m0\u001b[0m │\n",
              "├─────────────────────────────────┼────────────────────────┼───────────────┤\n",
              "│ output (\u001b[38;5;33mDense\u001b[0m)                  │ (\u001b[38;5;45mNone\u001b[0m, \u001b[38;5;34m1\u001b[0m)              │           \u001b[38;5;34m129\u001b[0m │\n",
              "└─────────────────────────────────┴────────────────────────┴───────────────┘\n"
            ],
            "text/html": [
              "<pre style=\"white-space:pre;overflow-x:auto;line-height:normal;font-family:Menlo,'DejaVu Sans Mono',consolas,'Courier New',monospace\">┏━━━━━━━━━━━━━━━━━━━━━━━━━━━━━━━━━┳━━━━━━━━━━━━━━━━━━━━━━━━┳━━━━━━━━━━━━━━━┓\n",
              "┃<span style=\"font-weight: bold\"> Layer (type)                    </span>┃<span style=\"font-weight: bold\"> Output Shape           </span>┃<span style=\"font-weight: bold\">       Param # </span>┃\n",
              "┡━━━━━━━━━━━━━━━━━━━━━━━━━━━━━━━━━╇━━━━━━━━━━━━━━━━━━━━━━━━╇━━━━━━━━━━━━━━━┩\n",
              "│ flatten (<span style=\"color: #0087ff; text-decoration-color: #0087ff\">Flatten</span>)               │ (<span style=\"color: #00d7ff; text-decoration-color: #00d7ff\">None</span>, <span style=\"color: #00af00; text-decoration-color: #00af00\">2600</span>)           │             <span style=\"color: #00af00; text-decoration-color: #00af00\">0</span> │\n",
              "├─────────────────────────────────┼────────────────────────┼───────────────┤\n",
              "│ dense1 (<span style=\"color: #0087ff; text-decoration-color: #0087ff\">Dense</span>)                  │ (<span style=\"color: #00d7ff; text-decoration-color: #00d7ff\">None</span>, <span style=\"color: #00af00; text-decoration-color: #00af00\">512</span>)            │     <span style=\"color: #00af00; text-decoration-color: #00af00\">1,331,712</span> │\n",
              "├─────────────────────────────────┼────────────────────────┼───────────────┤\n",
              "│ bn1 (<span style=\"color: #0087ff; text-decoration-color: #0087ff\">BatchNormalization</span>)        │ (<span style=\"color: #00d7ff; text-decoration-color: #00d7ff\">None</span>, <span style=\"color: #00af00; text-decoration-color: #00af00\">512</span>)            │         <span style=\"color: #00af00; text-decoration-color: #00af00\">2,048</span> │\n",
              "├─────────────────────────────────┼────────────────────────┼───────────────┤\n",
              "│ act1 (<span style=\"color: #0087ff; text-decoration-color: #0087ff\">Activation</span>)               │ (<span style=\"color: #00d7ff; text-decoration-color: #00d7ff\">None</span>, <span style=\"color: #00af00; text-decoration-color: #00af00\">512</span>)            │             <span style=\"color: #00af00; text-decoration-color: #00af00\">0</span> │\n",
              "├─────────────────────────────────┼────────────────────────┼───────────────┤\n",
              "│ drop1 (<span style=\"color: #0087ff; text-decoration-color: #0087ff\">Dropout</span>)                 │ (<span style=\"color: #00d7ff; text-decoration-color: #00d7ff\">None</span>, <span style=\"color: #00af00; text-decoration-color: #00af00\">512</span>)            │             <span style=\"color: #00af00; text-decoration-color: #00af00\">0</span> │\n",
              "├─────────────────────────────────┼────────────────────────┼───────────────┤\n",
              "│ dense2 (<span style=\"color: #0087ff; text-decoration-color: #0087ff\">Dense</span>)                  │ (<span style=\"color: #00d7ff; text-decoration-color: #00d7ff\">None</span>, <span style=\"color: #00af00; text-decoration-color: #00af00\">256</span>)            │       <span style=\"color: #00af00; text-decoration-color: #00af00\">131,328</span> │\n",
              "├─────────────────────────────────┼────────────────────────┼───────────────┤\n",
              "│ bn2 (<span style=\"color: #0087ff; text-decoration-color: #0087ff\">BatchNormalization</span>)        │ (<span style=\"color: #00d7ff; text-decoration-color: #00d7ff\">None</span>, <span style=\"color: #00af00; text-decoration-color: #00af00\">256</span>)            │         <span style=\"color: #00af00; text-decoration-color: #00af00\">1,024</span> │\n",
              "├─────────────────────────────────┼────────────────────────┼───────────────┤\n",
              "│ act2 (<span style=\"color: #0087ff; text-decoration-color: #0087ff\">Activation</span>)               │ (<span style=\"color: #00d7ff; text-decoration-color: #00d7ff\">None</span>, <span style=\"color: #00af00; text-decoration-color: #00af00\">256</span>)            │             <span style=\"color: #00af00; text-decoration-color: #00af00\">0</span> │\n",
              "├─────────────────────────────────┼────────────────────────┼───────────────┤\n",
              "│ drop2 (<span style=\"color: #0087ff; text-decoration-color: #0087ff\">Dropout</span>)                 │ (<span style=\"color: #00d7ff; text-decoration-color: #00d7ff\">None</span>, <span style=\"color: #00af00; text-decoration-color: #00af00\">256</span>)            │             <span style=\"color: #00af00; text-decoration-color: #00af00\">0</span> │\n",
              "├─────────────────────────────────┼────────────────────────┼───────────────┤\n",
              "│ dense3 (<span style=\"color: #0087ff; text-decoration-color: #0087ff\">Dense</span>)                  │ (<span style=\"color: #00d7ff; text-decoration-color: #00d7ff\">None</span>, <span style=\"color: #00af00; text-decoration-color: #00af00\">128</span>)            │        <span style=\"color: #00af00; text-decoration-color: #00af00\">32,896</span> │\n",
              "├─────────────────────────────────┼────────────────────────┼───────────────┤\n",
              "│ bn3 (<span style=\"color: #0087ff; text-decoration-color: #0087ff\">BatchNormalization</span>)        │ (<span style=\"color: #00d7ff; text-decoration-color: #00d7ff\">None</span>, <span style=\"color: #00af00; text-decoration-color: #00af00\">128</span>)            │           <span style=\"color: #00af00; text-decoration-color: #00af00\">512</span> │\n",
              "├─────────────────────────────────┼────────────────────────┼───────────────┤\n",
              "│ act3 (<span style=\"color: #0087ff; text-decoration-color: #0087ff\">Activation</span>)               │ (<span style=\"color: #00d7ff; text-decoration-color: #00d7ff\">None</span>, <span style=\"color: #00af00; text-decoration-color: #00af00\">128</span>)            │             <span style=\"color: #00af00; text-decoration-color: #00af00\">0</span> │\n",
              "├─────────────────────────────────┼────────────────────────┼───────────────┤\n",
              "│ drop3 (<span style=\"color: #0087ff; text-decoration-color: #0087ff\">Dropout</span>)                 │ (<span style=\"color: #00d7ff; text-decoration-color: #00d7ff\">None</span>, <span style=\"color: #00af00; text-decoration-color: #00af00\">128</span>)            │             <span style=\"color: #00af00; text-decoration-color: #00af00\">0</span> │\n",
              "├─────────────────────────────────┼────────────────────────┼───────────────┤\n",
              "│ output (<span style=\"color: #0087ff; text-decoration-color: #0087ff\">Dense</span>)                  │ (<span style=\"color: #00d7ff; text-decoration-color: #00d7ff\">None</span>, <span style=\"color: #00af00; text-decoration-color: #00af00\">1</span>)              │           <span style=\"color: #00af00; text-decoration-color: #00af00\">129</span> │\n",
              "└─────────────────────────────────┴────────────────────────┴───────────────┘\n",
              "</pre>\n"
            ]
          },
          "metadata": {}
        },
        {
          "output_type": "display_data",
          "data": {
            "text/plain": [
              "\u001b[1m Total params: \u001b[0m\u001b[38;5;34m1,499,649\u001b[0m (5.72 MB)\n"
            ],
            "text/html": [
              "<pre style=\"white-space:pre;overflow-x:auto;line-height:normal;font-family:Menlo,'DejaVu Sans Mono',consolas,'Courier New',monospace\"><span style=\"font-weight: bold\"> Total params: </span><span style=\"color: #00af00; text-decoration-color: #00af00\">1,499,649</span> (5.72 MB)\n",
              "</pre>\n"
            ]
          },
          "metadata": {}
        },
        {
          "output_type": "display_data",
          "data": {
            "text/plain": [
              "\u001b[1m Trainable params: \u001b[0m\u001b[38;5;34m1,497,857\u001b[0m (5.71 MB)\n"
            ],
            "text/html": [
              "<pre style=\"white-space:pre;overflow-x:auto;line-height:normal;font-family:Menlo,'DejaVu Sans Mono',consolas,'Courier New',monospace\"><span style=\"font-weight: bold\"> Trainable params: </span><span style=\"color: #00af00; text-decoration-color: #00af00\">1,497,857</span> (5.71 MB)\n",
              "</pre>\n"
            ]
          },
          "metadata": {}
        },
        {
          "output_type": "display_data",
          "data": {
            "text/plain": [
              "\u001b[1m Non-trainable params: \u001b[0m\u001b[38;5;34m1,792\u001b[0m (7.00 KB)\n"
            ],
            "text/html": [
              "<pre style=\"white-space:pre;overflow-x:auto;line-height:normal;font-family:Menlo,'DejaVu Sans Mono',consolas,'Courier New',monospace\"><span style=\"font-weight: bold\"> Non-trainable params: </span><span style=\"color: #00af00; text-decoration-color: #00af00\">1,792</span> (7.00 KB)\n",
              "</pre>\n"
            ]
          },
          "metadata": {}
        },
        {
          "output_type": "stream",
          "name": "stdout",
          "text": [
            "Epoch 1/50\n",
            "\u001b[1m100/100\u001b[0m \u001b[32m━━━━━━━━━━━━━━━━━━━━\u001b[0m\u001b[37m\u001b[0m \u001b[1m7s\u001b[0m 9ms/step - accuracy: 0.8798 - loss: 0.2851 - val_accuracy: 0.9625 - val_loss: 0.1438 - learning_rate: 0.0010\n",
            "Epoch 2/50\n",
            "\u001b[1m100/100\u001b[0m \u001b[32m━━━━━━━━━━━━━━━━━━━━\u001b[0m\u001b[37m\u001b[0m \u001b[1m1s\u001b[0m 5ms/step - accuracy: 0.9957 - loss: 0.0277 - val_accuracy: 0.9875 - val_loss: 0.0542 - learning_rate: 0.0010\n",
            "Epoch 3/50\n",
            "\u001b[1m100/100\u001b[0m \u001b[32m━━━━━━━━━━━━━━━━━━━━\u001b[0m\u001b[37m\u001b[0m \u001b[1m0s\u001b[0m 5ms/step - accuracy: 0.9996 - loss: 0.0094 - val_accuracy: 0.9925 - val_loss: 0.0411 - learning_rate: 0.0010\n",
            "Epoch 4/50\n",
            "\u001b[1m100/100\u001b[0m \u001b[32m━━━━━━━━━━━━━━━━━━━━\u001b[0m\u001b[37m\u001b[0m \u001b[1m0s\u001b[0m 4ms/step - accuracy: 1.0000 - loss: 0.0053 - val_accuracy: 0.9925 - val_loss: 0.0425 - learning_rate: 0.0010\n",
            "Epoch 5/50\n",
            "\u001b[1m100/100\u001b[0m \u001b[32m━━━━━━━━━━━━━━━━━━━━\u001b[0m\u001b[37m\u001b[0m \u001b[1m0s\u001b[0m 5ms/step - accuracy: 1.0000 - loss: 0.0027 - val_accuracy: 0.9925 - val_loss: 0.0395 - learning_rate: 0.0010\n",
            "Epoch 6/50\n",
            "\u001b[1m100/100\u001b[0m \u001b[32m━━━━━━━━━━━━━━━━━━━━\u001b[0m\u001b[37m\u001b[0m \u001b[1m1s\u001b[0m 4ms/step - accuracy: 1.0000 - loss: 0.0015 - val_accuracy: 0.9925 - val_loss: 0.0384 - learning_rate: 0.0010\n",
            "Epoch 7/50\n",
            "\u001b[1m100/100\u001b[0m \u001b[32m━━━━━━━━━━━━━━━━━━━━\u001b[0m\u001b[37m\u001b[0m \u001b[1m0s\u001b[0m 4ms/step - accuracy: 1.0000 - loss: 0.0013 - val_accuracy: 0.9925 - val_loss: 0.0365 - learning_rate: 0.0010\n",
            "Epoch 8/50\n",
            "\u001b[1m100/100\u001b[0m \u001b[32m━━━━━━━━━━━━━━━━━━━━\u001b[0m\u001b[37m\u001b[0m \u001b[1m0s\u001b[0m 5ms/step - accuracy: 1.0000 - loss: 9.2073e-04 - val_accuracy: 0.9925 - val_loss: 0.0371 - learning_rate: 0.0010\n",
            "Epoch 9/50\n",
            "\u001b[1m100/100\u001b[0m \u001b[32m━━━━━━━━━━━━━━━━━━━━\u001b[0m\u001b[37m\u001b[0m \u001b[1m1s\u001b[0m 5ms/step - accuracy: 1.0000 - loss: 8.0600e-04 - val_accuracy: 0.9925 - val_loss: 0.0396 - learning_rate: 0.0010\n",
            "Epoch 10/50\n",
            "\u001b[1m100/100\u001b[0m \u001b[32m━━━━━━━━━━━━━━━━━━━━\u001b[0m\u001b[37m\u001b[0m \u001b[1m1s\u001b[0m 5ms/step - accuracy: 1.0000 - loss: 7.2228e-04 - val_accuracy: 0.9937 - val_loss: 0.0404 - learning_rate: 0.0010\n",
            "Epoch 11/50\n",
            "\u001b[1m100/100\u001b[0m \u001b[32m━━━━━━━━━━━━━━━━━━━━\u001b[0m\u001b[37m\u001b[0m \u001b[1m1s\u001b[0m 6ms/step - accuracy: 1.0000 - loss: 4.8718e-04 - val_accuracy: 0.9937 - val_loss: 0.0405 - learning_rate: 0.0010\n",
            "Epoch 12/50\n",
            "\u001b[1m 94/100\u001b[0m \u001b[32m━━━━━━━━━━━━━━━━━━\u001b[0m\u001b[37m━━\u001b[0m \u001b[1m0s\u001b[0m 4ms/step - accuracy: 1.0000 - loss: 4.0815e-04\n",
            "Epoch 12: ReduceLROnPlateau reducing learning rate to 0.0005000000237487257.\n",
            "\u001b[1m100/100\u001b[0m \u001b[32m━━━━━━━━━━━━━━━━━━━━\u001b[0m\u001b[37m\u001b[0m \u001b[1m1s\u001b[0m 6ms/step - accuracy: 1.0000 - loss: 4.0443e-04 - val_accuracy: 0.9937 - val_loss: 0.0417 - learning_rate: 0.0010\n",
            "Epoch 13/50\n",
            "\u001b[1m100/100\u001b[0m \u001b[32m━━━━━━━━━━━━━━━━━━━━\u001b[0m\u001b[37m\u001b[0m \u001b[1m1s\u001b[0m 5ms/step - accuracy: 1.0000 - loss: 3.4598e-04 - val_accuracy: 0.9937 - val_loss: 0.0415 - learning_rate: 5.0000e-04\n",
            "Epoch 14/50\n",
            "\u001b[1m100/100\u001b[0m \u001b[32m━━━━━━━━━━━━━━━━━━━━\u001b[0m\u001b[37m\u001b[0m \u001b[1m1s\u001b[0m 6ms/step - accuracy: 1.0000 - loss: 3.7509e-04 - val_accuracy: 0.9937 - val_loss: 0.0420 - learning_rate: 5.0000e-04\n",
            "Epoch 15/50\n",
            "\u001b[1m100/100\u001b[0m \u001b[32m━━━━━━━━━━━━━━━━━━━━\u001b[0m\u001b[37m\u001b[0m \u001b[1m1s\u001b[0m 5ms/step - accuracy: 1.0000 - loss: 3.1251e-04 - val_accuracy: 0.9937 - val_loss: 0.0423 - learning_rate: 5.0000e-04\n",
            "Epoch 16/50\n",
            "\u001b[1m100/100\u001b[0m \u001b[32m━━━━━━━━━━━━━━━━━━━━\u001b[0m\u001b[37m\u001b[0m \u001b[1m0s\u001b[0m 4ms/step - accuracy: 1.0000 - loss: 2.6230e-04 - val_accuracy: 0.9937 - val_loss: 0.0421 - learning_rate: 5.0000e-04\n",
            "Epoch 17/50\n",
            "\u001b[1m 88/100\u001b[0m \u001b[32m━━━━━━━━━━━━━━━━━\u001b[0m\u001b[37m━━━\u001b[0m \u001b[1m0s\u001b[0m 3ms/step - accuracy: 1.0000 - loss: 3.1261e-04\n",
            "Epoch 17: ReduceLROnPlateau reducing learning rate to 0.0002500000118743628.\n",
            "\u001b[1m100/100\u001b[0m \u001b[32m━━━━━━━━━━━━━━━━━━━━\u001b[0m\u001b[37m\u001b[0m \u001b[1m1s\u001b[0m 4ms/step - accuracy: 1.0000 - loss: 3.0612e-04 - val_accuracy: 0.9937 - val_loss: 0.0430 - learning_rate: 5.0000e-04\n"
          ]
        },
        {
          "output_type": "display_data",
          "data": {
            "text/plain": [
              "<Figure size 1200x400 with 2 Axes>"
            ],
            "image/png": "[encoded data removed]"
          },
          "metadata": {}
        }
      ]
    },
    {
      "cell_type": "markdown",
      "source": [
        "## 모델 학습 과정 시각화"
      ],
      "metadata": {
        "id": "rGDOM97ixC6f"
      }
    },
    {
      "cell_type": "markdown",
      "source": [
        "# 테스트 데이터 로딩 및 평가"
      ],
      "metadata": {
        "id": "CnuE7NqWxT10"
      }
    },
    {
      "cell_type": "code",
      "source": [
        "test_audio_path = '/content/drive/MyDrive/2501ml_data/test'\n",
        "test_label_path = '/content/drive/MyDrive/2501ml_data/label/test_label.txt'"
      ],
      "metadata": {
        "id": "w1LGQ-tkxJRq"
      },
      "execution_count": 88,
      "outputs": []
    },
    {
      "cell_type": "markdown",
      "source": [
        "### 캐시가 없을 때\n",
        "- 캐시가 있다면 목차의 \"캐시로부터 MFCC 데이터 로드 함수\"를 실행하고 난후 다음 단계로 넘어가주시기 바랍니다.\n",
        "- 캐시를 생성하고 싶다면 목차의 \"데이터 셋 캐시 저장\"을 실행하시기 바립니다."
      ],
      "metadata": {
        "id": "MJhy6QIvDPI-"
      }
    },
    {
      "cell_type": "code",
      "source": [
        "X_test, y_test = load_mfcc_data(test_audio_path, test_label_path, max_len)\n",
        "ns_test = X_test.shape[0]\n",
        "X_test, _ = standardize(X_test)"
      ],
      "metadata": {
        "id": "EF-GT8ECDLz2",
        "colab": {
          "base_uri": "https://localhost:8080/"
        },
        "outputId": "fe57ba5e-4d22-4883-e04d-b5789cf56d9a"
      },
      "execution_count": 110,
      "outputs": [
        {
          "output_type": "stream",
          "name": "stderr",
          "text": [
            "Loading MFCC: 100%|██████████| 2000/2000 [00:29<00:00, 68.96it/s]\n"
          ]
        }
      ]
    },
    {
      "cell_type": "code",
      "source": [
        "# -------------------------------------------\n",
        "# 6. 테스트 데이터 평가\n",
        "# -------------------------------------------\n",
        "\n",
        "y_prob = model.predict(X_test)\n",
        "y_pred = (y_prob > 0.5).astype(int)\n",
        "\n",
        "print(\"\\n✅ Classification Report - TEST DATA\")\n",
        "print(classification_report(y_test, y_pred, target_names=['Real','Fake']))\n",
        "print(f\"ROC AUC: {roc_auc_score(y_test, y_prob):.3f}\")\n",
        "\n",
        "cm = confusion_matrix(y_test, y_pred)\n",
        "plt.figure(figsize=(6,5))\n",
        "sns.heatmap(cm, annot=True, fmt='d', cmap='Blues',\n",
        "            xticklabels=['Real','Fake'], yticklabels=['Real','Fake'])\n",
        "plt.xlabel(\"Predicted\")\n",
        "plt.ylabel(\"Actual\")\n",
        "plt.title(\"Confusion Matrix\")\n",
        "plt.show()\n"
      ],
      "metadata": {
        "colab": {
          "base_uri": "https://localhost:8080/",
          "height": 726
        },
        "id": "__4iIRuXxG3l",
        "outputId": "420b4ef6-beda-4115-d763-ebceeab876ad"
      },
      "execution_count": 186,
      "outputs": [
        {
          "output_type": "stream",
          "name": "stdout",
          "text": [
            "\u001b[1m63/63\u001b[0m \u001b[32m━━━━━━━━━━━━━━━━━━━━\u001b[0m\u001b[37m\u001b[0m \u001b[1m1s\u001b[0m 6ms/step\n",
            "\n",
            "✅ Classification Report - TEST DATA\n",
            "              precision    recall  f1-score   support\n",
            "\n",
            "        Real       0.87      1.00      0.93       999\n",
            "        Fake       1.00      0.84      0.91      1000\n",
            "\n",
            "    accuracy                           0.92      1999\n",
            "   macro avg       0.93      0.92      0.92      1999\n",
            "weighted avg       0.93      0.92      0.92      1999\n",
            "\n",
            "ROC AUC: 0.917\n"
          ]
        },
        {
          "output_type": "display_data",
          "data": {
            "text/plain": [
              "<Figure size 600x500 with 2 Axes>"
            ],
            "image/png": "[encoded data removed]"
          },
          "metadata": {}
        }
      ]
    },
    {
      "cell_type": "markdown",
      "source": [
        "이거 드라이브에 2000개 있고 캐시로 업로드된 데이터 2000개인데 왜 1999개인지는 아직 파악을 못했습니다.."
      ],
      "metadata": {
        "id": "X39yUd0MZ4TU"
      }
    },
    {
      "cell_type": "markdown",
      "source": [
        "# 예측 결과 파일 작성"
      ],
      "metadata": {
        "id": "bRpBFV7tLQI9"
      }
    },
    {
      "cell_type": "code",
      "source": [
        "from sklearn.preprocessing import LabelEncoder\n",
        "\n",
        "# 1. test 파일명 리스트 로딩\n",
        "def get_test_filenames(label_path):\n",
        "    filenames = []\n",
        "    with open(label_path, 'r') as f:\n",
        "        for line in f:\n",
        "            parts = line.strip().split()\n",
        "            if len(parts) >= 5:\n",
        "                filenames.append(parts[1])\n",
        "    return filenames\n",
        "\n",
        "# 2. LabelEncoder: Fake → 0, Real → 1\n",
        "le = LabelEncoder()\n",
        "le.fit(['Fake', 'Real']) # 반드시 이 순서로 지정해야 0=Fake, 1=Real\n",
        "\n",
        "# 3. 파일 이름 로드\n",
        "test_file_names = get_test_filenames(test_label_path)\n",
        "\n",
        "# 4. 예측 확률 → 클래스 (0 또는 1) => 정규화 방식에 따라 정확도가 차이가 남.\n",
        "y_pred_prob = model.predict(X_test)\n",
        "# y_pred_classes = np.argmax(y_pred_prob, axis=1)\n",
        "y_pred_classes = (y_pred_prob < 0.5).astype(int).flatten()  # 확률 → 0 or 1\n",
        "\n",
        "\n",
        "# 5. 예측 결과 파일 작성\n",
        "with open('./team_test_result.txt', 'w') as f:\n",
        "    for i in range(len(y_pred_classes)):\n",
        "        label_str = le.inverse_transform([y_pred_classes[i]])[0]  # 0 → Fake, 1 → Real\n",
        "        f.write(f\"{test_file_names[i]} {label_str}\\n\")\n",
        "\n",
        "print(\"✅ team_test_result.txt 저장 완료 (Perl 평가용)\")"
      ],
      "metadata": {
        "colab": {
          "base_uri": "https://localhost:8080/"
        },
        "id": "lW15vZBXGcBr",
        "outputId": "2ff8e7bb-aaed-46cf-d440-438c80338077"
      },
      "execution_count": 187,
      "outputs": [
        {
          "output_type": "stream",
          "name": "stdout",
          "text": [
            "\u001b[1m63/63\u001b[0m \u001b[32m━━━━━━━━━━━━━━━━━━━━\u001b[0m\u001b[37m\u001b[0m \u001b[1m0s\u001b[0m 2ms/step\n",
            "✅ team_test_result.txt 저장 완료 (Perl 평가용)\n"
          ]
        }
      ]
    },
    {
      "cell_type": "code",
      "source": [
        "!perl /content/drive/MyDrive/2501ml_data/eval.pl ./team_test_result.txt /content/drive/MyDrive/2501ml_data/label/test_label.txt"
      ],
      "metadata": {
        "colab": {
          "base_uri": "https://localhost:8080/"
        },
        "id": "OTC5ZeNiIi0w",
        "outputId": "d4e58f21-bbeb-40c6-88e9-82573ffbdccb"
      },
      "execution_count": 188,
      "outputs": [
        {
          "output_type": "stream",
          "name": "stdout",
          "text": [
            "============ Results Analysis ===========\n",
            "Test: ./team_test_result.txt\n",
            "True: /content/drive/MyDrive/2501ml_data/label/test_label.txt\n",
            "Accuracy: 92.10%\n",
            "Hit: 1841, Total: 1999\n",
            "=========================================\n"
          ]
        }
      ]
    }
  ]
}