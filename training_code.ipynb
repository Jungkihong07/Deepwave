{
 "cells": [
  {
   "cell_type": "markdown",
   "metadata": {
    "id": "AjL9zysWvkmK"
   },
   "source": [
    "## 1. 필요 라이브러러 임포트 및 다운로드"
   ]
  },
  {
   "cell_type": "code",
   "execution_count": null,
   "metadata": {
    "id": "6C-2s9DAvMIj"
   },
   "outputs": [],
   "source": [
    "# -------------------------------------------\n",
    "# 1. 라이브러리 설치 및 임포트\n",
    "# -------------------------------------------\n",
    "\n",
    "import numpy as np\n",
    "import librosa\n",
    "import matplotlib.pyplot as plt\n",
    "import tensorflow as tf\n",
    "from tensorflow.keras import layers, models\n",
    "from tensorflow.keras.callbacks import EarlyStopping, ReduceLROnPlateau\n",
    "import random\n",
    "import os\n",
    "\n",
    "# 재현성 설정\n",
    "random.seed(42)\n",
    "np.random.seed(42)\n",
    "tf.random.set_seed(42)"
   ]
  },
  {
   "cell_type": "markdown",
   "metadata": {
    "id": "W3NiFNQjvaBf"
   },
   "source": [
    "## 데이터 로딩 함수 정의"
   ]
  },
  {
   "cell_type": "code",
   "execution_count": null,
   "metadata": {
    "id": "HHEIEEHnvU9N"
   },
   "outputs": [],
   "source": [
    "# -------------------------------------------\n",
    "# 2. 데이터 로딩 함수 정의\n",
    "# -------------------------------------------\n",
    "def load_mfcc_data(audio_path, label_path, max_len=200):\n",
    "    X_list, y_list = [], [] # X_list: 입력 데이터 (feature vectors) / y_list: 정답 레이블 (target labels)\n",
    "    with open(label_path, 'r', encoding='utf-8') as f:\n",
    "            for line in f:\n",
    "                parts = line.strip().split()\n",
    "                if len(parts) >= 5:\n",
    "                    filename = parts[1]\n",
    "                    label = parts[-1]\n",
    "                    fp = os.path.join(audio_path, filename)\n",
    "                    if not os.path.isfile(fp):\n",
    "                        continue\n",
    "                    try:\n",
    "                        audio, sr = librosa.load(fp, sr=16000)\n",
    "                        mfcc = librosa.feature.mfcc(y=audio, sr=sr, n_mfcc=20).T # 기존의 13차원에서 20차원으로 변경\n",
    "                        # 발화의 평균길이를 제한합니다. 3~5초 기준으로 200의 길이가 넘을 경우, 자르고 넘지 않을 경우 padding을 넣어 통일합니다.\n",
    "                        if mfcc.shape[0] < max_len:\n",
    "                            mfcc = np.pad(mfcc, ((0, max_len - mfcc.shape[0]), (0, 0)), mode='constant')\n",
    "                        else:\n",
    "                            mfcc = mfcc[:max_len]\n",
    "                        X_list.append(mfcc)\n",
    "                        y_list.append(0 if label == 'Real' else 1) # Real은 0 / False 는 1\n",
    "                    except:\n",
    "                        continue\n",
    "\n",
    "    return np.array(X_list), np.array(y_list)\n",
    "from sklearn.preprocessing import StandardScaler\n",
    "def standardize(X):\n",
    "    ns, nt, nf = X.shape\n",
    "    # ns = 샘플 수 (num_samples)\n",
    "    # nt = 시간 프레임 수 (max_len 등)\n",
    "    # nf = MFCC feature 차원 수 (예: 20)\n",
    "    scaler = StandardScaler().fit(X.reshape(-1, nf)) \n",
    "    X_scaled = scaler.transform(X.reshape(-1, nf)).reshape(ns, nt, nf)\n",
    "    return X_scaled, scaler"
   ]
  },
  {
   "cell_type": "markdown",
   "metadata": {
    "id": "9T8gTqbmvq4n"
   },
   "source": [
    "## DNN 모델 정의"
   ]
  },
  {
   "cell_type": "code",
   "execution_count": 5,
   "metadata": {
    "id": "xmkqpng0y2m0"
   },
   "outputs": [],
   "source": [
    "def build_dnn_model(input_shape):\n",
    "    model = models.Sequential([\n",
    "        layers.Input(shape=input_shape),\n",
    "        layers.Flatten(),\n",
    "\n",
    "        layers.Dense(128, activation='relu'),\n",
    "        layers.Dropout(0.3),\n",
    "\n",
    "        layers.Dense(64, activation='relu'),\n",
    "        layers.Dropout(0.3),\n",
    "\n",
    "        layers.Dense(1, activation='sigmoid')\n",
    "    ])\n",
    "\n",
    "    model.compile(optimizer='adam', loss='binary_crossentropy', metrics=['accuracy'])\n",
    "    return model"
   ]
  },
  {
   "cell_type": "markdown",
   "metadata": {
    "id": "YKpJWg_rv9ig"
   },
   "source": [
    "## 학습용 데이터 로딩"
   ]
  },
  {
   "cell_type": "code",
   "execution_count": 6,
   "metadata": {
    "id": "ox0lftHIv-SY"
   },
   "outputs": [],
   "source": [
    "train_audio_path = '2501ml_data/train'\n",
    "train_label_path = '2501ml_data/label/train_label.txt'"
   ]
  },
  {
   "cell_type": "code",
   "execution_count": null,
   "metadata": {
    "colab": {
     "base_uri": "https://localhost:8080/"
    },
    "id": "1EGQIT-TBIaK",
    "outputId": "b19562bd-9f51-4570-aad6-319ee4c8ce77"
   },
   "outputs": [],
   "source": [
    "max_len = 200\n",
    "X, y = load_mfcc_data(train_audio_path, train_label_path, max_len)\n",
    "X, scaler = standardize(X) # validation/test 데이터도 transform할 수 있도록 scaler 객체를 함께 반환 "
   ]
  },
  {
   "cell_type": "code",
   "execution_count": null,
   "metadata": {},
   "outputs": [
    {
     "name": "stdout",
     "output_type": "stream",
     "text": [
      "테스트 데이터의 개수: 4000\n",
      "테스트 데이터 X의 shape: (4000, 200, 20)\n"
     ]
    }
   ],
   "source": [
    "print(\"테스트 데이터의 개수:\", len(X))\n",
    "print(\"테스트 데이터 X의 shape:\", X.shape) # 데이터 갯수, 시간 프레임 수, MFCC 차원 수"
   ]
  },
  {
   "cell_type": "markdown",
   "metadata": {
    "id": "vEsJcdSyC-c6"
   },
   "source": [
    "# 모델 학습"
   ]
  },
  {
   "cell_type": "code",
   "execution_count": null,
   "metadata": {
    "colab": {
     "base_uri": "https://localhost:8080/"
    },
    "id": "tBR_cf2cv2cp",
    "outputId": "6473007f-4245-4ffe-8f24-1a31022f5d00"
   },
   "outputs": [
    {
     "name": "stdout",
     "output_type": "stream",
     "text": [
      "Epoch 1/50\n",
      "\u001b[1m100/100\u001b[0m \u001b[32m━━━━━━━━━━━━━━━━━━━━\u001b[0m\u001b[37m\u001b[0m \u001b[1m1s\u001b[0m 3ms/step - accuracy: 0.8266 - loss: 0.3507 - val_accuracy: 0.9887 - val_loss: 0.0440 - learning_rate: 0.0010\n",
      "Epoch 2/50\n",
      "\u001b[1m100/100\u001b[0m \u001b[32m━━━━━━━━━━━━━━━━━━━━\u001b[0m\u001b[37m\u001b[0m \u001b[1m0s\u001b[0m 2ms/step - accuracy: 0.9844 - loss: 0.0379 - val_accuracy: 0.9900 - val_loss: 0.0450 - learning_rate: 0.0010\n",
      "Epoch 3/50\n",
      "\u001b[1m100/100\u001b[0m \u001b[32m━━━━━━━━━━━━━━━━━━━━\u001b[0m\u001b[37m\u001b[0m \u001b[1m0s\u001b[0m 2ms/step - accuracy: 0.9974 - loss: 0.0106 - val_accuracy: 0.9912 - val_loss: 0.0468 - learning_rate: 0.0010\n",
      "Epoch 4/50\n",
      "\u001b[1m100/100\u001b[0m \u001b[32m━━━━━━━━━━━━━━━━━━━━\u001b[0m\u001b[37m\u001b[0m \u001b[1m0s\u001b[0m 2ms/step - accuracy: 0.9956 - loss: 0.0134 - val_accuracy: 0.9887 - val_loss: 0.0550 - learning_rate: 0.0010\n",
      "Epoch 5/50\n",
      "\u001b[1m100/100\u001b[0m \u001b[32m━━━━━━━━━━━━━━━━━━━━\u001b[0m\u001b[37m\u001b[0m \u001b[1m0s\u001b[0m 2ms/step - accuracy: 0.9914 - loss: 0.0244 - val_accuracy: 0.9900 - val_loss: 0.0629 - learning_rate: 0.0010\n",
      "Epoch 6/50\n",
      "\u001b[1m100/100\u001b[0m \u001b[32m━━━━━━━━━━━━━━━━━━━━\u001b[0m\u001b[37m\u001b[0m \u001b[1m0s\u001b[0m 2ms/step - accuracy: 0.9973 - loss: 0.0112 - val_accuracy: 0.9900 - val_loss: 0.0565 - learning_rate: 0.0010\n",
      "Epoch 7/50\n",
      "\u001b[1m100/100\u001b[0m \u001b[32m━━━━━━━━━━━━━━━━━━━━\u001b[0m\u001b[37m\u001b[0m \u001b[1m0s\u001b[0m 2ms/step - accuracy: 0.9987 - loss: 0.0048 - val_accuracy: 0.9900 - val_loss: 0.0702 - learning_rate: 5.0000e-04\n",
      "Epoch 8/50\n",
      "\u001b[1m100/100\u001b[0m \u001b[32m━━━━━━━━━━━━━━━━━━━━\u001b[0m\u001b[37m\u001b[0m \u001b[1m0s\u001b[0m 2ms/step - accuracy: 1.0000 - loss: 0.0015 - val_accuracy: 0.9900 - val_loss: 0.0762 - learning_rate: 5.0000e-04\n",
      "Epoch 9/50\n",
      "\u001b[1m100/100\u001b[0m \u001b[32m━━━━━━━━━━━━━━━━━━━━\u001b[0m\u001b[37m\u001b[0m \u001b[1m0s\u001b[0m 2ms/step - accuracy: 1.0000 - loss: 0.0012 - val_accuracy: 0.9912 - val_loss: 0.0647 - learning_rate: 5.0000e-04\n",
      "Epoch 10/50\n",
      "\u001b[1m100/100\u001b[0m \u001b[32m━━━━━━━━━━━━━━━━━━━━\u001b[0m\u001b[37m\u001b[0m \u001b[1m0s\u001b[0m 2ms/step - accuracy: 0.9999 - loss: 7.2376e-04 - val_accuracy: 0.9912 - val_loss: 0.0708 - learning_rate: 5.0000e-04\n",
      "Epoch 11/50\n",
      "\u001b[1m100/100\u001b[0m \u001b[32m━━━━━━━━━━━━━━━━━━━━\u001b[0m\u001b[37m\u001b[0m \u001b[1m0s\u001b[0m 2ms/step - accuracy: 1.0000 - loss: 1.8875e-04 - val_accuracy: 0.9900 - val_loss: 0.0753 - learning_rate: 5.0000e-04\n"
     ]
    }
   ],
   "source": [
    "from sklearn.model_selection import train_test_split\n",
    "# 학습/검증 데이터 셋 구성.\n",
    "X_train, X_val, y_train, y_val = train_test_split(\n",
    "    X, y, test_size=0.2, stratify=y, random_state=41\n",
    ")\n",
    "# callback 함수를 활용하여 가장 적합한 모델을 찾기 위해 사용.\n",
    "model = build_dnn_model(input_shape=(max_len, X.shape[2]))\n",
    "callbacks = [\n",
    "    EarlyStopping(monitor='val_loss', patience=10, restore_best_weights=True),\n",
    "    ReduceLROnPlateau(monitor='val_loss', factor=0.5, patience=5, min_lr=1e-6)\n",
    "]\n",
    "history = model.fit(\n",
    "    X_train, y_train,\n",
    "    validation_data=(X_val, y_val),\n",
    "    epochs=50, # 시범적으로 50 사용, callback 함수로 인해 약 30회 이하 이내에서 학습이 됨.\n",
    "    batch_size=32,\n",
    "    callbacks=callbacks,\n",
    "    verbose=1\n",
    ")"
   ]
  },
  {
   "cell_type": "markdown",
   "metadata": {
    "id": "rGDOM97ixC6f"
   },
   "source": [
    "## 모델 학습 과정 시각화"
   ]
  },
  {
   "cell_type": "code",
   "execution_count": 13,
   "metadata": {
    "colab": {
     "base_uri": "https://localhost:8080/",
     "height": 430
    },
    "id": "RlqxQppAw27i",
    "outputId": "ab13a4cf-e2d5-46e8-84f6-472fed2cfb4f"
   },
   "outputs": [
    {
     "data": {
      "image/png": "[encoded data removed]",
      "text/plain": [
       "<Figure size 1000x400 with 2 Axes>"
      ]
     },
     "metadata": {},
     "output_type": "display_data"
    },
    {
     "name": "stderr",
     "output_type": "stream",
     "text": [
      "WARNING:absl:You are saving your model as an HDF5 file via `model.save()` or `keras.saving.save_model(model)`. This file format is considered legacy. We recommend using instead the native Keras format, e.g. `model.save('my_model.keras')` or `keras.saving.save_model(model, 'my_model.keras')`. \n"
     ]
    }
   ],
   "source": [
    "def plot_history(history):\n",
    "    plt.figure(figsize=(10, 4))\n",
    "    plt.subplot(1, 2, 1)\n",
    "    plt.plot(history.history['loss'], label='train_loss')\n",
    "    plt.plot(history.history['val_loss'], label='val_loss')\n",
    "    plt.title(\"Loss\")\n",
    "    plt.legend()\n",
    "\n",
    "    plt.subplot(1, 2, 2)\n",
    "    plt.plot(history.history['accuracy'], label='train_acc')\n",
    "    plt.plot(history.history['val_accuracy'], label='val_acc')\n",
    "    plt.title(\"Accuracy\")\n",
    "    plt.legend()\n",
    "    plt.show()\n",
    "\n",
    "plot_history(history)\n",
    "model.save(\"dnn_model.h5\")"
   ]
  }
 ],
 "metadata": {
  "accelerator": "GPU",
  "colab": {
   "gpuType": "T4",
   "provenance": [],
   "toc_visible": true
  },
  "kernelspec": {
   "display_name": ".venv",
   "language": "python",
   "name": "python3"
  },
  "language_info": {
   "codemirror_mode": {
    "name": "ipython",
    "version": 3
   },
   "file_extension": ".py",
   "mimetype": "text/x-python",
   "name": "python",
   "nbconvert_exporter": "python",
   "pygments_lexer": "ipython3",
   "version": "3.12.6"
  }
 },
 "nbformat": 4,
 "nbformat_minor": 0
}
