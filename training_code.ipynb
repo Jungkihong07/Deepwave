{
 "cells": [
  {
   "cell_type": "markdown",
   "metadata": {
    "id": "AjL9zysWvkmK"
   },
   "source": [
    "## 1. 필요 라이브러러 임포트 및 다운로드"
   ]
  },
  {
   "cell_type": "code",
   "execution_count": 10,
   "metadata": {
    "id": "6C-2s9DAvMIj"
   },
   "outputs": [],
   "source": [
    "# -------------------------------------------\n",
    "# 1. 라이브러리 설치 및 임포트\n",
    "# -------------------------------------------\n",
    "\n",
    "import numpy as np\n",
    "import librosa\n",
    "import matplotlib.pyplot as plt\n",
    "import tensorflow as tf\n",
    "from tensorflow.keras import layers, models\n",
    "from tensorflow.keras.callbacks import EarlyStopping, ReduceLROnPlateau\n",
    "from tensorflow.keras.losses import BinaryCrossentropy\n",
    "import random\n",
    "import os\n",
    "\n",
    "# 재현성 설정\n",
    "random.seed(42)\n",
    "np.random.seed(42)\n",
    "tf.random.set_seed(42)"
   ]
  },
  {
   "cell_type": "markdown",
   "metadata": {
    "id": "W3NiFNQjvaBf"
   },
   "source": [
    "## 데이터 로딩 함수 정의"
   ]
  },
  {
   "cell_type": "code",
   "execution_count": 14,
   "metadata": {
    "id": "HHEIEEHnvU9N"
   },
   "outputs": [],
   "source": [
    "# -------------------------------------------\n",
    "# 2. 데이터 로딩 함수 정의\n",
    "# -------------------------------------------\n",
    "def load_mfcc_data(audio_path, label_path, max_len=200):\n",
    "    X_list, y_list = [], []\n",
    "    with open(label_path, 'r', encoding='utf-8') as f:\n",
    "            for line in f:\n",
    "                parts = line.strip().split()\n",
    "                if len(parts) >= 5:\n",
    "                    filename = parts[1]\n",
    "                    label = parts[-1]\n",
    "                    fp = os.path.join(audio_path, filename)\n",
    "                    if not os.path.isfile(fp):\n",
    "                        continue\n",
    "                    try:\n",
    "                        audio, sr = librosa.load(fp, sr=16000)\n",
    "                        mfcc = librosa.feature.mfcc(y=audio, sr=sr, n_mfcc=20).T # 기존의 13차원에서 20차원으로 변경\n",
    "                        if mfcc.shape[0] < max_len:\n",
    "                            mfcc = np.pad(mfcc, ((0, max_len - mfcc.shape[0]), (0, 0)), mode='constant')\n",
    "                        else:\n",
    "                            mfcc = mfcc[:max_len]\n",
    "                        X_list.append(mfcc)\n",
    "                        y_list.append(0 if label == 'Real' else 1)\n",
    "                    except:\n",
    "                        continue\n",
    "\n",
    "    return np.array(X_list), np.array(y_list)\n",
    "from sklearn.preprocessing import StandardScaler\n",
    "def standardize(X):\n",
    "    ns, nt, nf = X.shape\n",
    "    scaler = StandardScaler().fit(X.reshape(-1, nf))\n",
    "    X_scaled = scaler.transform(X.reshape(-1, nf)).reshape(ns, nt, nf)\n",
    "    return X_scaled, scaler"
   ]
  },
  {
   "cell_type": "markdown",
   "metadata": {
    "id": "9T8gTqbmvq4n"
   },
   "source": [
    "## DNN 모델 정의"
   ]
  },
  {
   "cell_type": "code",
   "execution_count": 39,
   "metadata": {
    "id": "xmkqpng0y2m0"
   },
   "outputs": [],
   "source": [
    "def build_dnn_model(input_shape):\n",
    "    model = models.Sequential([\n",
    "        layers.Input(shape=input_shape),\n",
    "        layers.Flatten(),\n",
    "\n",
    "        layers.Dense(128, activation='relu'),\n",
    "        layers.Dropout(0.3),\n",
    "\n",
    "        layers.Dense(64, activation='relu'),\n",
    "        layers.Dropout(0.3),\n",
    "\n",
    "        layers.Dense(1, activation='sigmoid')\n",
    "    ])\n",
    "\n",
    "    model.compile(optimizer='adam', loss='binary_crossentropy', metrics=['accuracy'])\n",
    "    return model"
   ]
  },
  {
   "cell_type": "markdown",
   "metadata": {
    "id": "YKpJWg_rv9ig"
   },
   "source": [
    "## 학습용 데이터 로딩"
   ]
  },
  {
   "cell_type": "code",
   "execution_count": 12,
   "metadata": {
    "id": "ox0lftHIv-SY"
   },
   "outputs": [],
   "source": [
    "train_audio_path = '2501ml_data/train'\n",
    "train_label_path = '2501ml_data/label/train_label.txt'"
   ]
  },
  {
   "cell_type": "markdown",
   "metadata": {
    "id": "iSLTh3V2BLND"
   },
   "source": [
    "### 캐시가 없을 때\n",
    "- 캐시가 있다면 목차의 \"캐시로부터 MFCC 데이터 로드 함수\"를 실행하고 난후 다음 단계로 넘어가주시기 바랍니다."
   ]
  },
  {
   "cell_type": "code",
   "execution_count": 40,
   "metadata": {
    "colab": {
     "base_uri": "https://localhost:8080/"
    },
    "id": "1EGQIT-TBIaK",
    "outputId": "b19562bd-9f51-4570-aad6-319ee4c8ce77"
   },
   "outputs": [],
   "source": [
    "max_len = 4000\n",
    "X, y = load_mfcc_data(train_audio_path, train_label_path, max_len)\n",
    "X, scaler = standardize(X)"
   ]
  },
  {
   "cell_type": "markdown",
   "metadata": {
    "id": "vEsJcdSyC-c6"
   },
   "source": [
    "# 모델 학습"
   ]
  },
  {
   "cell_type": "code",
   "execution_count": 52,
   "metadata": {
    "colab": {
     "base_uri": "https://localhost:8080/"
    },
    "id": "tBR_cf2cv2cp",
    "outputId": "6473007f-4245-4ffe-8f24-1a31022f5d00"
   },
   "outputs": [
    {
     "name": "stdout",
     "output_type": "stream",
     "text": [
      "Epoch 1/50\n",
      "\u001b[1m100/100\u001b[0m \u001b[32m━━━━━━━━━━━━━━━━━━━━\u001b[0m\u001b[37m\u001b[0m \u001b[1m4s\u001b[0m 31ms/step - accuracy: 0.7461 - loss: 1.3222 - val_accuracy: 0.9787 - val_loss: 0.0646 - learning_rate: 0.0010\n",
      "Epoch 2/50\n",
      "\u001b[1m100/100\u001b[0m \u001b[32m━━━━━━━━━━━━━━━━━━━━\u001b[0m\u001b[37m\u001b[0m \u001b[1m3s\u001b[0m 30ms/step - accuracy: 0.9679 - loss: 0.1133 - val_accuracy: 0.9850 - val_loss: 0.0505 - learning_rate: 0.0010\n",
      "Epoch 3/50\n",
      "\u001b[1m100/100\u001b[0m \u001b[32m━━━━━━━━━━━━━━━━━━━━\u001b[0m\u001b[37m\u001b[0m \u001b[1m3s\u001b[0m 29ms/step - accuracy: 0.9793 - loss: 0.0697 - val_accuracy: 0.9850 - val_loss: 0.0528 - learning_rate: 0.0010\n",
      "Epoch 4/50\n",
      "\u001b[1m100/100\u001b[0m \u001b[32m━━━━━━━━━━━━━━━━━━━━\u001b[0m\u001b[37m\u001b[0m \u001b[1m3s\u001b[0m 30ms/step - accuracy: 0.9829 - loss: 0.0495 - val_accuracy: 0.9887 - val_loss: 0.0476 - learning_rate: 0.0010\n",
      "Epoch 5/50\n",
      "\u001b[1m100/100\u001b[0m \u001b[32m━━━━━━━━━━━━━━━━━━━━\u001b[0m\u001b[37m\u001b[0m \u001b[1m3s\u001b[0m 30ms/step - accuracy: 0.9870 - loss: 0.0337 - val_accuracy: 0.9862 - val_loss: 0.0511 - learning_rate: 0.0010\n",
      "Epoch 6/50\n",
      "\u001b[1m100/100\u001b[0m \u001b[32m━━━━━━━━━━━━━━━━━━━━\u001b[0m\u001b[37m\u001b[0m \u001b[1m3s\u001b[0m 30ms/step - accuracy: 0.9912 - loss: 0.0303 - val_accuracy: 0.9875 - val_loss: 0.0681 - learning_rate: 0.0010\n",
      "Epoch 7/50\n",
      "\u001b[1m100/100\u001b[0m \u001b[32m━━━━━━━━━━━━━━━━━━━━\u001b[0m\u001b[37m\u001b[0m \u001b[1m3s\u001b[0m 30ms/step - accuracy: 0.9899 - loss: 0.0276 - val_accuracy: 0.9825 - val_loss: 0.0685 - learning_rate: 0.0010\n",
      "Epoch 8/50\n",
      "\u001b[1m100/100\u001b[0m \u001b[32m━━━━━━━━━━━━━━━━━━━━\u001b[0m\u001b[37m\u001b[0m \u001b[1m3s\u001b[0m 30ms/step - accuracy: 0.9872 - loss: 0.0281 - val_accuracy: 0.9850 - val_loss: 0.0688 - learning_rate: 0.0010\n",
      "Epoch 9/50\n",
      "\u001b[1m100/100\u001b[0m \u001b[32m━━━━━━━━━━━━━━━━━━━━\u001b[0m\u001b[37m\u001b[0m \u001b[1m3s\u001b[0m 29ms/step - accuracy: 0.9917 - loss: 0.0262 - val_accuracy: 0.9850 - val_loss: 0.0570 - learning_rate: 0.0010\n",
      "Epoch 10/50\n",
      "\u001b[1m100/100\u001b[0m \u001b[32m━━━━━━━━━━━━━━━━━━━━\u001b[0m\u001b[37m\u001b[0m \u001b[1m3s\u001b[0m 30ms/step - accuracy: 0.9919 - loss: 0.0269 - val_accuracy: 0.9850 - val_loss: 0.0550 - learning_rate: 5.0000e-04\n",
      "Epoch 11/50\n",
      "\u001b[1m100/100\u001b[0m \u001b[32m━━━━━━━━━━━━━━━━━━━━\u001b[0m\u001b[37m\u001b[0m \u001b[1m3s\u001b[0m 30ms/step - accuracy: 0.9947 - loss: 0.0180 - val_accuracy: 0.9850 - val_loss: 0.0544 - learning_rate: 5.0000e-04\n",
      "Epoch 12/50\n",
      "\u001b[1m100/100\u001b[0m \u001b[32m━━━━━━━━━━━━━━━━━━━━\u001b[0m\u001b[37m\u001b[0m \u001b[1m3s\u001b[0m 29ms/step - accuracy: 0.9938 - loss: 0.0189 - val_accuracy: 0.9887 - val_loss: 0.0515 - learning_rate: 5.0000e-04\n",
      "Epoch 13/50\n",
      "\u001b[1m100/100\u001b[0m \u001b[32m━━━━━━━━━━━━━━━━━━━━\u001b[0m\u001b[37m\u001b[0m \u001b[1m3s\u001b[0m 30ms/step - accuracy: 0.9958 - loss: 0.0084 - val_accuracy: 0.9825 - val_loss: 0.0852 - learning_rate: 5.0000e-04\n",
      "Epoch 14/50\n",
      "\u001b[1m100/100\u001b[0m \u001b[32m━━━━━━━━━━━━━━━━━━━━\u001b[0m\u001b[37m\u001b[0m \u001b[1m3s\u001b[0m 29ms/step - accuracy: 0.9963 - loss: 0.0082 - val_accuracy: 0.9887 - val_loss: 0.0702 - learning_rate: 5.0000e-04\n"
     ]
    }
   ],
   "source": [
    "from sklearn.model_selection import train_test_split\n",
    "X_train, X_val, y_train, y_val = train_test_split(\n",
    "    X, y, test_size=0.2, stratify=y, random_state=41\n",
    ")\n",
    "\n",
    "model = build_dnn_model(input_shape=(max_len, X.shape[2]))\n",
    "callbacks = [\n",
    "    EarlyStopping(monitor='val_loss', patience=10, restore_best_weights=True),\n",
    "    ReduceLROnPlateau(monitor='val_loss', factor=0.5, patience=5, min_lr=1e-6)\n",
    "]\n",
    "history = model.fit(\n",
    "    X_train, y_train,\n",
    "    validation_data=(X_val, y_val),\n",
    "    epochs=50,\n",
    "    batch_size=32,\n",
    "    callbacks=callbacks,\n",
    "    verbose=1\n",
    ")"
   ]
  },
  {
   "cell_type": "markdown",
   "metadata": {
    "id": "rGDOM97ixC6f"
   },
   "source": [
    "## 모델 학습 과정 시각화"
   ]
  },
  {
   "cell_type": "code",
   "execution_count": 54,
   "metadata": {
    "colab": {
     "base_uri": "https://localhost:8080/",
     "height": 430
    },
    "id": "RlqxQppAw27i",
    "outputId": "ab13a4cf-e2d5-46e8-84f6-472fed2cfb4f"
   },
   "outputs": [
    {
     "data": {
      "image/png": "[encoded data removed]",
      "text/plain": [
       "<Figure size 1000x400 with 2 Axes>"
      ]
     },
     "metadata": {},
     "output_type": "display_data"
    },
    {
     "name": "stderr",
     "output_type": "stream",
     "text": [
      "WARNING:absl:You are saving your model as an HDF5 file via `model.save()` or `keras.saving.save_model(model)`. This file format is considered legacy. We recommend using instead the native Keras format, e.g. `model.save('my_model.keras')` or `keras.saving.save_model(model, 'my_model.keras')`. \n"
     ]
    }
   ],
   "source": [
    "def plot_history(history):\n",
    "    plt.figure(figsize=(10, 4))\n",
    "    plt.subplot(1, 2, 1)\n",
    "    plt.plot(history.history['loss'], label='train_loss')\n",
    "    plt.plot(history.history['val_loss'], label='val_loss')\n",
    "    plt.title(\"Loss\")\n",
    "    plt.legend()\n",
    "\n",
    "    plt.subplot(1, 2, 2)\n",
    "    plt.plot(history.history['accuracy'], label='train_acc')\n",
    "    plt.plot(history.history['val_accuracy'], label='val_acc')\n",
    "    plt.title(\"Accuracy\")\n",
    "    plt.legend()\n",
    "    plt.show()\n",
    "\n",
    "plot_history(history)\n",
    "model.save(\"dnn_model.h5\")"
   ]
  },
  {
   "cell_type": "markdown",
   "metadata": {
    "id": "CnuE7NqWxT10"
   },
   "source": [
    "# 테스트 데이터 로딩 및 평가"
   ]
  },
  {
   "cell_type": "code",
   "execution_count": 19,
   "metadata": {
    "id": "w1LGQ-tkxJRq"
   },
   "outputs": [],
   "source": [
    "test_audio_path = '2501ml_data/test'\n",
    "test_label_path = '2501ml_data/label/test_label.txt'"
   ]
  },
  {
   "cell_type": "code",
   "execution_count": 55,
   "metadata": {
    "colab": {
     "base_uri": "https://localhost:8080/"
    },
    "id": "EF-GT8ECDLz2",
    "outputId": "ced1d669-636f-4bd8-c657-eefe260fdca4"
   },
   "outputs": [],
   "source": [
    "X_test, y_test = load_mfcc_data(test_audio_path, test_label_path, max_len)\n",
    "\n",
    "ns_test = X_test.shape[0]\n",
    "X_test, _ = standardize(X_test)"
   ]
  },
  {
   "cell_type": "code",
   "execution_count": 56,
   "metadata": {
    "colab": {
     "base_uri": "https://localhost:8080/",
     "height": 729
    },
    "id": "__4iIRuXxG3l",
    "outputId": "4eb5ae96-90c9-4b64-fdab-8c6364fc1a91"
   },
   "outputs": [
    {
     "name": "stdout",
     "output_type": "stream",
     "text": [
      "\u001b[1m63/63\u001b[0m \u001b[32m━━━━━━━━━━━━━━━━━━━━\u001b[0m\u001b[37m\u001b[0m \u001b[1m0s\u001b[0m 3ms/step\n",
      "\n",
      "✅ Classification Report - TEST DATA\n",
      "              precision    recall  f1-score   support\n",
      "\n",
      "        Real       0.85      1.00      0.92      1000\n",
      "        Fake       1.00      0.82      0.90      1000\n",
      "\n",
      "    accuracy                           0.91      2000\n",
      "   macro avg       0.92      0.91      0.91      2000\n",
      "weighted avg       0.92      0.91      0.91      2000\n",
      "\n",
      "ROC AUC: 0.912\n"
     ]
    },
    {
     "data": {
      "image/png": "[encoded data removed]",
      "text/plain": [
       "<Figure size 640x480 with 2 Axes>"
      ]
     },
     "metadata": {},
     "output_type": "display_data"
    }
   ],
   "source": [
    "# -------------------------------------------\n",
    "# 6. 테스트 데이터 평가\n",
    "# -------------------------------------------\n",
    "from sklearn.metrics import classification_report, confusion_matrix, roc_auc_score, ConfusionMatrixDisplay\n",
    "import matplotlib.pyplot as plt\n",
    "\n",
    "# 예측\n",
    "y_prob = model.predict(X_test)\n",
    "y_pred_classes = (y_prob > 0.8).astype(int)\n",
    "\n",
    "# 리포트 출력\n",
    "print(\"\\n✅ Classification Report - TEST DATA\")\n",
    "print(classification_report(y_test, y_pred_classes, target_names=['Real', 'Fake']))\n",
    "print(f\"ROC AUC: {roc_auc_score(y_test, y_prob):.3f}\")\n",
    "\n",
    "# 혼동 행렬 시각화\n",
    "cm = confusion_matrix(y_test, y_pred_classes)\n",
    "disp = ConfusionMatrixDisplay(confusion_matrix=cm, display_labels=['Real', 'Fake'])\n",
    "\n",
    "disp.plot(cmap=plt.cm.Blues)\n",
    "plt.title('Confusion Matrix')\n",
    "plt.show()"
   ]
  },
  {
   "cell_type": "markdown",
   "metadata": {
    "id": "u2OsR5E88V8l"
   },
   "source": [
    "## Spectral_Contrast 특징 활용 모델\n",
    "- 오분류된 데이터에 대해서 따로 특징을 추출하여 분류를 시도함. 이를 활용하여 약 1% 성능 향상이 가능하였음."
   ]
  },
  {
   "cell_type": "code",
   "execution_count": 57,
   "metadata": {
    "id": "F4cCuHCo1s0F"
   },
   "outputs": [],
   "source": [
    "def predict_with_spectral_contrast(model,X_test, score:float = 0.32):\n",
    "    # 🔹 1. DNN 예측\n",
    "    y_prob = model.predict(X_test).flatten()\n",
    "\n",
    "    # 🔹 2. 보정 대상: 확률이 낮은 샘플\n",
    "    uncertain_idx = np.where(y_prob < score)[0]\n",
    "\n",
    "    # 🔹 3. test_label.txt에서 파일 이름과 라벨 수동 파싱\n",
    "    test_filenames = []\n",
    "\n",
    "    y_test = []\n",
    "    with open(test_label_path, 'r', encoding='utf-8') as f:\n",
    "        for line in f:\n",
    "            parts = line.strip().split()\n",
    "            if len(parts) >= 5:\n",
    "                test_filenames.append(parts[1])\n",
    "                label = 0 if parts[4] == 'Real' else 1\n",
    "                y_test.append(label)\n",
    "    \n",
    "    y_test = np.array(y_test, dtype=int)\n",
    "\n",
    "    # 🔹 4. Spectral contrast 기반 보정\n",
    "    for idx in uncertain_idx:\n",
    "        filename = test_filenames[idx]\n",
    "        file_path = os.path.join(test_audio_path, filename)\n",
    "\n",
    "        try:\n",
    "            y, sr = librosa.load(file_path, sr=16000)\n",
    "            contrast = librosa.feature.spectral_contrast(y=y, sr=sr)\n",
    "            high_contrast = np.mean(contrast[-2:, :])  # 고주파 2대역 평균\n",
    "\n",
    "            if (high_contrast < 21.0 or high_contrast > 27.0):\n",
    "                y_prob[idx] = 1.0  # Fake로 강제 보정\n",
    "        except Exception as e:\n",
    "            print(f\"⚠️ Error processing {filename}: {e}\")\n",
    "    return y_prob"
   ]
  },
  {
   "cell_type": "code",
   "execution_count": 58,
   "metadata": {
    "colab": {
     "base_uri": "https://localhost:8080/",
     "height": 748
    },
    "id": "tPcNNMs119AW",
    "outputId": "22496280-34f3-410b-be58-53416cbc5a2f"
   },
   "outputs": [
    {
     "name": "stdout",
     "output_type": "stream",
     "text": [
      "\u001b[1m63/63\u001b[0m \u001b[32m━━━━━━━━━━━━━━━━━━━━\u001b[0m\u001b[37m\u001b[0m \u001b[1m0s\u001b[0m 3ms/step\n",
      "\n",
      "✅ Classification Report - TEST DATA\n",
      "              precision    recall  f1-score   support\n",
      "\n",
      "        Real       0.87      0.99      0.93      1000\n",
      "        Fake       0.99      0.85      0.92      1000\n",
      "\n",
      "    accuracy                           0.92      2000\n",
      "   macro avg       0.93      0.92      0.92      2000\n",
      "weighted avg       0.93      0.92      0.92      2000\n",
      "\n",
      "ROC AUC: 0.923\n"
     ]
    },
    {
     "data": {
      "image/png": "[encoded data removed]",
      "text/plain": [
       "<Figure size 640x480 with 2 Axes>"
      ]
     },
     "metadata": {},
     "output_type": "display_data"
    }
   ],
   "source": [
    "# 🔹 5. 최종 이진 판정 (확률 기준은 0.5 유지)\n",
    "y_prob = predict_with_spectral_contrast(model,X_test, score=0.5)\n",
    "y_pred = (y_prob >= 0.5).astype(int)\n",
    "\n",
    "# 리포트 출력\n",
    "print(\"\\n✅ Classification Report - TEST DATA\")\n",
    "print(classification_report(y_test, y_pred, target_names=['Real', 'Fake']))\n",
    "print(f\"ROC AUC: {roc_auc_score(y_test, y_prob):.3f}\")\n",
    "\n",
    "# 혼동 행렬 시각화\n",
    "cm = confusion_matrix(y_test, y_pred)\n",
    "disp = ConfusionMatrixDisplay(confusion_matrix=cm, display_labels=['Real', 'Fake'])\n",
    "\n",
    "disp.plot(cmap=plt.cm.Blues)\n",
    "plt.title('Confusion Matrix')\n",
    "plt.show()"
   ]
  },
  {
   "cell_type": "markdown",
   "metadata": {
    "id": "bRpBFV7tLQI9"
   },
   "source": [
    "# 예측 결과 파일 작성"
   ]
  },
  {
   "cell_type": "code",
   "execution_count": null,
   "metadata": {
    "colab": {
     "base_uri": "https://localhost:8080/"
    },
    "id": "lW15vZBXGcBr",
    "outputId": "99b32046-1a08-4dec-e865-406c71c77721"
   },
   "outputs": [
    {
     "name": "stdout",
     "output_type": "stream",
     "text": [
      "\u001b[1m63/63\u001b[0m \u001b[32m━━━━━━━━━━━━━━━━━━━━\u001b[0m\u001b[37m\u001b[0m \u001b[1m0s\u001b[0m 3ms/step\n",
      "✅ team_test_result.txt 저장 완료 (Perl 평가용)\n"
     ]
    }
   ],
   "source": [
    "\n",
    "from sklearn.preprocessing import LabelEncoder\n",
    "# 1. test 파일명 리스트 로딩\n",
    "def get_test_filenames(label_path):\n",
    "    filenames = []\n",
    "    with open(label_path, 'r') as f:\n",
    "        for line in f:\n",
    "            parts = line.strip().split()\n",
    "            if len(parts) >= 5:\n",
    "                filenames.append(parts[1])\n",
    "    return filenames\n",
    "\n",
    "# 2. LabelEncoder: Fake → 0, Real → 1\n",
    "le = LabelEncoder()\n",
    "le.fit(['Fake', 'Real']) # 반드시 이 순서로 지정해야 0=Fake, 1=Real\n",
    "\n",
    "# 3. 파일 이름 로드\n",
    "test_file_names = get_test_filenames(test_label_path)\n",
    "\n",
    "# 4. 예측 확률 → 클래스 (0 또는 1) => 정규화 방식에 따라 정확도가 차이가 남.\n",
    "y_pred_prob =predict_with_spectral_contrast(model,X_test, score=0.5)\n",
    "# y_pred_classes = np.argmax(y_pred_prob, axis=1)\n",
    "y_pred_classes = (y_pred_prob <= 0.5).astype(int).flatten()  # 확률 → 0 or 1\n",
    "\n",
    "\n",
    "# 5. 예측 결과 파일 작성\n",
    "with open('./team_test_result.txt', 'w', encoding='cp949') as f:\n",
    "    for i in range(len(y_pred_classes)):\n",
    "        label_str = le.inverse_transform([y_pred_classes[i]])[0]  # 0 → Fake, 1 → Real\n",
    "        f.write(f\"{test_file_names[i]} {label_str}\\n\")\n",
    "\n",
    "print(\"✅ team_test_result.txt 저장 완료 (Perl 평가용)\")"
   ]
  },
  {
   "cell_type": "code",
   "execution_count": 38,
   "metadata": {
    "colab": {
     "base_uri": "https://localhost:8080/"
    },
    "id": "OTC5ZeNiIi0w",
    "outputId": "e8559824-e179-49b3-f6d0-4f85f7855920"
   },
   "outputs": [
    {
     "name": "stderr",
     "output_type": "stream",
     "text": [
      "'perl'��(��) ���� �Ǵ� �ܺ� ����, ������ �� �ִ� ���α׷�, �Ǵ�\n",
      "��ġ ������ �ƴմϴ�.\n"
     ]
    }
   ],
   "source": [
    "!perl /content/drive/MyDrive/2501ml_data/eval.pl ./team_test_result.txt /content/drive/MyDrive/2501ml_data/label/test_label.txt"
   ]
  }
 ],
 "metadata": {
  "accelerator": "GPU",
  "colab": {
   "gpuType": "T4",
   "provenance": [],
   "toc_visible": true
  },
  "kernelspec": {
   "display_name": ".venv",
   "language": "python",
   "name": "python3"
  },
  "language_info": {
   "codemirror_mode": {
    "name": "ipython",
    "version": 3
   },
   "file_extension": ".py",
   "mimetype": "text/x-python",
   "name": "python",
   "nbconvert_exporter": "python",
   "pygments_lexer": "ipython3",
   "version": "3.12.6"
  }
 },
 "nbformat": 4,
 "nbformat_minor": 0
}
