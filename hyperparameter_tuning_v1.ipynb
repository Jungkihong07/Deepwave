{
 "cells": [
  {
   "cell_type": "code",
   "execution_count": 91,
   "metadata": {},
   "outputs": [
    {
     "name": "stdout",
     "output_type": "stream",
     "text": [
      "Requirement already satisfied: optuna in c:\\users\\rosac\\appdata\\local\\programs\\python\\python311\\lib\\site-packages (4.3.0)\n",
      "Requirement already satisfied: alembic>=1.5.0 in c:\\users\\rosac\\appdata\\local\\programs\\python\\python311\\lib\\site-packages (from optuna) (1.16.1)\n",
      "Requirement already satisfied: colorlog in c:\\users\\rosac\\appdata\\local\\programs\\python\\python311\\lib\\site-packages (from optuna) (6.9.0)\n",
      "Requirement already satisfied: numpy in c:\\users\\rosac\\appdata\\local\\programs\\python\\python311\\lib\\site-packages (from optuna) (2.0.2)\n",
      "Requirement already satisfied: packaging>=20.0 in c:\\users\\rosac\\appdata\\local\\programs\\python\\python311\\lib\\site-packages (from optuna) (25.0)\n",
      "Requirement already satisfied: sqlalchemy>=1.4.2 in c:\\users\\rosac\\appdata\\local\\programs\\python\\python311\\lib\\site-packages (from optuna) (2.0.41)\n",
      "Requirement already satisfied: tqdm in c:\\users\\rosac\\appdata\\local\\programs\\python\\python311\\lib\\site-packages (from optuna) (4.67.1)\n",
      "Requirement already satisfied: PyYAML in c:\\users\\rosac\\appdata\\local\\programs\\python\\python311\\lib\\site-packages (from optuna) (6.0.2)\n",
      "Requirement already satisfied: Mako in c:\\users\\rosac\\appdata\\local\\programs\\python\\python311\\lib\\site-packages (from alembic>=1.5.0->optuna) (1.3.10)\n",
      "Requirement already satisfied: typing-extensions>=4.12 in c:\\users\\rosac\\appdata\\local\\programs\\python\\python311\\lib\\site-packages (from alembic>=1.5.0->optuna) (4.13.2)\n",
      "Requirement already satisfied: greenlet>=1 in c:\\users\\rosac\\appdata\\local\\programs\\python\\python311\\lib\\site-packages (from sqlalchemy>=1.4.2->optuna) (3.2.2)\n",
      "Requirement already satisfied: colorama in c:\\users\\rosac\\appdata\\local\\programs\\python\\python311\\lib\\site-packages (from colorlog->optuna) (0.4.6)\n",
      "Requirement already satisfied: MarkupSafe>=0.9.2 in c:\\users\\rosac\\appdata\\local\\programs\\python\\python311\\lib\\site-packages (from Mako->alembic>=1.5.0->optuna) (3.0.2)\n"
     ]
    },
    {
     "name": "stderr",
     "output_type": "stream",
     "text": [
      "\n",
      "[notice] A new release of pip available: 22.3.1 -> 25.1.1\n",
      "[notice] To update, run: C:\\Users\\rosac\\AppData\\Local\\Programs\\Python\\Python311\\python.exe -m pip install --upgrade pip\n"
     ]
    }
   ],
   "source": [
    "!pip install optuna"
   ]
  },
  {
   "cell_type": "code",
   "execution_count": 92,
   "metadata": {},
   "outputs": [
    {
     "name": "stdout",
     "output_type": "stream",
     "text": [
      "Requirement already satisfied: librosa==0.11.0 in c:\\users\\rosac\\appdata\\local\\programs\\python\\python311\\lib\\site-packages (from -r requirements.txt (line 1)) (0.11.0)\n",
      "Requirement already satisfied: matplotlib==3.9.4 in c:\\users\\rosac\\appdata\\local\\programs\\python\\python311\\lib\\site-packages (from -r requirements.txt (line 2)) (3.9.4)\n",
      "Requirement already satisfied: numpy==2.0.2 in c:\\users\\rosac\\appdata\\local\\programs\\python\\python311\\lib\\site-packages (from -r requirements.txt (line 3)) (2.0.2)\n",
      "Requirement already satisfied: scikit-learn==1.6.1 in c:\\users\\rosac\\appdata\\local\\programs\\python\\python311\\lib\\site-packages (from -r requirements.txt (line 4)) (1.6.1)\n",
      "Requirement already satisfied: tensorflow==2.19.0 in c:\\users\\rosac\\appdata\\local\\programs\\python\\python311\\lib\\site-packages (from -r requirements.txt (line 5)) (2.19.0)\n",
      "Requirement already satisfied: ipykernel in c:\\users\\rosac\\appdata\\local\\programs\\python\\python311\\lib\\site-packages (from -r requirements.txt (line 6)) (6.29.5)\n",
      "Requirement already satisfied: audioread>=2.1.9 in c:\\users\\rosac\\appdata\\local\\programs\\python\\python311\\lib\\site-packages (from librosa==0.11.0->-r requirements.txt (line 1)) (3.0.1)\n",
      "Requirement already satisfied: numba>=0.51.0 in c:\\users\\rosac\\appdata\\local\\programs\\python\\python311\\lib\\site-packages (from librosa==0.11.0->-r requirements.txt (line 1)) (0.61.2)\n",
      "Requirement already satisfied: scipy>=1.6.0 in c:\\users\\rosac\\appdata\\local\\programs\\python\\python311\\lib\\site-packages (from librosa==0.11.0->-r requirements.txt (line 1)) (1.15.2)\n",
      "Requirement already satisfied: joblib>=1.0 in c:\\users\\rosac\\appdata\\local\\programs\\python\\python311\\lib\\site-packages (from librosa==0.11.0->-r requirements.txt (line 1)) (1.5.0)\n",
      "Requirement already satisfied: decorator>=4.3.0 in c:\\users\\rosac\\appdata\\local\\programs\\python\\python311\\lib\\site-packages (from librosa==0.11.0->-r requirements.txt (line 1)) (5.2.1)\n",
      "Requirement already satisfied: soundfile>=0.12.1 in c:\\users\\rosac\\appdata\\local\\programs\\python\\python311\\lib\\site-packages (from librosa==0.11.0->-r requirements.txt (line 1)) (0.13.1)\n",
      "Requirement already satisfied: pooch>=1.1 in c:\\users\\rosac\\appdata\\local\\programs\\python\\python311\\lib\\site-packages (from librosa==0.11.0->-r requirements.txt (line 1)) (1.8.2)\n",
      "Requirement already satisfied: soxr>=0.3.2 in c:\\users\\rosac\\appdata\\local\\programs\\python\\python311\\lib\\site-packages (from librosa==0.11.0->-r requirements.txt (line 1)) (0.5.0.post1)\n",
      "Requirement already satisfied: typing_extensions>=4.1.1 in c:\\users\\rosac\\appdata\\local\\programs\\python\\python311\\lib\\site-packages (from librosa==0.11.0->-r requirements.txt (line 1)) (4.13.2)\n",
      "Requirement already satisfied: lazy_loader>=0.1 in c:\\users\\rosac\\appdata\\local\\programs\\python\\python311\\lib\\site-packages (from librosa==0.11.0->-r requirements.txt (line 1)) (0.4)\n",
      "Requirement already satisfied: msgpack>=1.0 in c:\\users\\rosac\\appdata\\local\\programs\\python\\python311\\lib\\site-packages (from librosa==0.11.0->-r requirements.txt (line 1)) (1.1.0)\n",
      "Requirement already satisfied: contourpy>=1.0.1 in c:\\users\\rosac\\appdata\\local\\programs\\python\\python311\\lib\\site-packages (from matplotlib==3.9.4->-r requirements.txt (line 2)) (1.3.2)\n",
      "Requirement already satisfied: cycler>=0.10 in c:\\users\\rosac\\appdata\\local\\programs\\python\\python311\\lib\\site-packages (from matplotlib==3.9.4->-r requirements.txt (line 2)) (0.12.1)\n",
      "Requirement already satisfied: fonttools>=4.22.0 in c:\\users\\rosac\\appdata\\local\\programs\\python\\python311\\lib\\site-packages (from matplotlib==3.9.4->-r requirements.txt (line 2)) (4.57.0)\n",
      "Requirement already satisfied: kiwisolver>=1.3.1 in c:\\users\\rosac\\appdata\\local\\programs\\python\\python311\\lib\\site-packages (from matplotlib==3.9.4->-r requirements.txt (line 2)) (1.4.8)\n",
      "Requirement already satisfied: packaging>=20.0 in c:\\users\\rosac\\appdata\\local\\programs\\python\\python311\\lib\\site-packages (from matplotlib==3.9.4->-r requirements.txt (line 2)) (25.0)\n",
      "Requirement already satisfied: pillow>=8 in c:\\users\\rosac\\appdata\\local\\programs\\python\\python311\\lib\\site-packages (from matplotlib==3.9.4->-r requirements.txt (line 2)) (11.2.1)\n",
      "Requirement already satisfied: pyparsing>=2.3.1 in c:\\users\\rosac\\appdata\\local\\programs\\python\\python311\\lib\\site-packages (from matplotlib==3.9.4->-r requirements.txt (line 2)) (3.2.3)\n",
      "Requirement already satisfied: python-dateutil>=2.7 in c:\\users\\rosac\\appdata\\local\\programs\\python\\python311\\lib\\site-packages (from matplotlib==3.9.4->-r requirements.txt (line 2)) (2.9.0.post0)\n",
      "Requirement already satisfied: threadpoolctl>=3.1.0 in c:\\users\\rosac\\appdata\\local\\programs\\python\\python311\\lib\\site-packages (from scikit-learn==1.6.1->-r requirements.txt (line 4)) (3.6.0)\n",
      "Requirement already satisfied: absl-py>=1.0.0 in c:\\users\\rosac\\appdata\\local\\programs\\python\\python311\\lib\\site-packages (from tensorflow==2.19.0->-r requirements.txt (line 5)) (2.3.0)\n",
      "Requirement already satisfied: astunparse>=1.6.0 in c:\\users\\rosac\\appdata\\local\\programs\\python\\python311\\lib\\site-packages (from tensorflow==2.19.0->-r requirements.txt (line 5)) (1.6.3)\n",
      "Requirement already satisfied: flatbuffers>=24.3.25 in c:\\users\\rosac\\appdata\\local\\programs\\python\\python311\\lib\\site-packages (from tensorflow==2.19.0->-r requirements.txt (line 5)) (25.2.10)\n",
      "Requirement already satisfied: gast!=0.5.0,!=0.5.1,!=0.5.2,>=0.2.1 in c:\\users\\rosac\\appdata\\local\\programs\\python\\python311\\lib\\site-packages (from tensorflow==2.19.0->-r requirements.txt (line 5)) (0.6.0)\n",
      "Requirement already satisfied: google-pasta>=0.1.1 in c:\\users\\rosac\\appdata\\local\\programs\\python\\python311\\lib\\site-packages (from tensorflow==2.19.0->-r requirements.txt (line 5)) (0.2.0)\n",
      "Requirement already satisfied: libclang>=13.0.0 in c:\\users\\rosac\\appdata\\local\\programs\\python\\python311\\lib\\site-packages (from tensorflow==2.19.0->-r requirements.txt (line 5)) (18.1.1)\n",
      "Requirement already satisfied: opt-einsum>=2.3.2 in c:\\users\\rosac\\appdata\\local\\programs\\python\\python311\\lib\\site-packages (from tensorflow==2.19.0->-r requirements.txt (line 5)) (3.4.0)\n",
      "Requirement already satisfied: protobuf!=4.21.0,!=4.21.1,!=4.21.2,!=4.21.3,!=4.21.4,!=4.21.5,<6.0.0dev,>=3.20.3 in c:\\users\\rosac\\appdata\\local\\programs\\python\\python311\\lib\\site-packages (from tensorflow==2.19.0->-r requirements.txt (line 5)) (5.29.5)\n",
      "Requirement already satisfied: requests<3,>=2.21.0 in c:\\users\\rosac\\appdata\\local\\programs\\python\\python311\\lib\\site-packages (from tensorflow==2.19.0->-r requirements.txt (line 5)) (2.32.3)\n",
      "Requirement already satisfied: setuptools in c:\\users\\rosac\\appdata\\local\\programs\\python\\python311\\lib\\site-packages (from tensorflow==2.19.0->-r requirements.txt (line 5)) (65.5.0)\n",
      "Requirement already satisfied: six>=1.12.0 in c:\\users\\rosac\\appdata\\local\\programs\\python\\python311\\lib\\site-packages (from tensorflow==2.19.0->-r requirements.txt (line 5)) (1.17.0)\n",
      "Requirement already satisfied: termcolor>=1.1.0 in c:\\users\\rosac\\appdata\\local\\programs\\python\\python311\\lib\\site-packages (from tensorflow==2.19.0->-r requirements.txt (line 5)) (3.1.0)\n",
      "Requirement already satisfied: wrapt>=1.11.0 in c:\\users\\rosac\\appdata\\local\\programs\\python\\python311\\lib\\site-packages (from tensorflow==2.19.0->-r requirements.txt (line 5)) (1.17.2)\n",
      "Requirement already satisfied: grpcio<2.0,>=1.24.3 in c:\\users\\rosac\\appdata\\local\\programs\\python\\python311\\lib\\site-packages (from tensorflow==2.19.0->-r requirements.txt (line 5)) (1.71.0)\n",
      "Requirement already satisfied: tensorboard~=2.19.0 in c:\\users\\rosac\\appdata\\local\\programs\\python\\python311\\lib\\site-packages (from tensorflow==2.19.0->-r requirements.txt (line 5)) (2.19.0)\n",
      "Requirement already satisfied: keras>=3.5.0 in c:\\users\\rosac\\appdata\\local\\programs\\python\\python311\\lib\\site-packages (from tensorflow==2.19.0->-r requirements.txt (line 5)) (3.10.0)\n",
      "Requirement already satisfied: h5py>=3.11.0 in c:\\users\\rosac\\appdata\\local\\programs\\python\\python311\\lib\\site-packages (from tensorflow==2.19.0->-r requirements.txt (line 5)) (3.13.0)\n",
      "Requirement already satisfied: ml-dtypes<1.0.0,>=0.5.1 in c:\\users\\rosac\\appdata\\local\\programs\\python\\python311\\lib\\site-packages (from tensorflow==2.19.0->-r requirements.txt (line 5)) (0.5.1)\n",
      "Requirement already satisfied: tensorflow-io-gcs-filesystem>=0.23.1 in c:\\users\\rosac\\appdata\\local\\programs\\python\\python311\\lib\\site-packages (from tensorflow==2.19.0->-r requirements.txt (line 5)) (0.31.0)\n",
      "Requirement already satisfied: comm>=0.1.1 in c:\\users\\rosac\\appdata\\local\\programs\\python\\python311\\lib\\site-packages (from ipykernel->-r requirements.txt (line 6)) (0.2.2)\n",
      "Requirement already satisfied: debugpy>=1.6.5 in c:\\users\\rosac\\appdata\\local\\programs\\python\\python311\\lib\\site-packages (from ipykernel->-r requirements.txt (line 6)) (1.8.14)\n",
      "Requirement already satisfied: ipython>=7.23.1 in c:\\users\\rosac\\appdata\\local\\programs\\python\\python311\\lib\\site-packages (from ipykernel->-r requirements.txt (line 6)) (9.2.0)\n",
      "Requirement already satisfied: jupyter-client>=6.1.12 in c:\\users\\rosac\\appdata\\local\\programs\\python\\python311\\lib\\site-packages (from ipykernel->-r requirements.txt (line 6)) (8.6.3)\n",
      "Requirement already satisfied: jupyter-core!=5.0.*,>=4.12 in c:\\users\\rosac\\appdata\\local\\programs\\python\\python311\\lib\\site-packages (from ipykernel->-r requirements.txt (line 6)) (5.7.2)\n",
      "Requirement already satisfied: matplotlib-inline>=0.1 in c:\\users\\rosac\\appdata\\local\\programs\\python\\python311\\lib\\site-packages (from ipykernel->-r requirements.txt (line 6)) (0.1.7)\n",
      "Requirement already satisfied: nest-asyncio in c:\\users\\rosac\\appdata\\local\\programs\\python\\python311\\lib\\site-packages (from ipykernel->-r requirements.txt (line 6)) (1.6.0)\n",
      "Requirement already satisfied: psutil in c:\\users\\rosac\\appdata\\local\\programs\\python\\python311\\lib\\site-packages (from ipykernel->-r requirements.txt (line 6)) (7.0.0)\n",
      "Requirement already satisfied: pyzmq>=24 in c:\\users\\rosac\\appdata\\local\\programs\\python\\python311\\lib\\site-packages (from ipykernel->-r requirements.txt (line 6)) (26.4.0)\n",
      "Requirement already satisfied: tornado>=6.1 in c:\\users\\rosac\\appdata\\local\\programs\\python\\python311\\lib\\site-packages (from ipykernel->-r requirements.txt (line 6)) (6.4.2)\n",
      "Requirement already satisfied: traitlets>=5.4.0 in c:\\users\\rosac\\appdata\\local\\programs\\python\\python311\\lib\\site-packages (from ipykernel->-r requirements.txt (line 6)) (5.14.3)\n",
      "Requirement already satisfied: wheel<1.0,>=0.23.0 in c:\\users\\rosac\\appdata\\local\\programs\\python\\python311\\lib\\site-packages (from astunparse>=1.6.0->tensorflow==2.19.0->-r requirements.txt (line 5)) (0.45.1)\n",
      "Requirement already satisfied: colorama in c:\\users\\rosac\\appdata\\local\\programs\\python\\python311\\lib\\site-packages (from ipython>=7.23.1->ipykernel->-r requirements.txt (line 6)) (0.4.6)\n",
      "Requirement already satisfied: ipython-pygments-lexers in c:\\users\\rosac\\appdata\\local\\programs\\python\\python311\\lib\\site-packages (from ipython>=7.23.1->ipykernel->-r requirements.txt (line 6)) (1.1.1)\n",
      "Requirement already satisfied: jedi>=0.16 in c:\\users\\rosac\\appdata\\local\\programs\\python\\python311\\lib\\site-packages (from ipython>=7.23.1->ipykernel->-r requirements.txt (line 6)) (0.19.2)\n",
      "Requirement already satisfied: prompt_toolkit<3.1.0,>=3.0.41 in c:\\users\\rosac\\appdata\\local\\programs\\python\\python311\\lib\\site-packages (from ipython>=7.23.1->ipykernel->-r requirements.txt (line 6)) (3.0.51)\n",
      "Requirement already satisfied: pygments>=2.4.0 in c:\\users\\rosac\\appdata\\local\\programs\\python\\python311\\lib\\site-packages (from ipython>=7.23.1->ipykernel->-r requirements.txt (line 6)) (2.19.1)\n",
      "Requirement already satisfied: stack_data in c:\\users\\rosac\\appdata\\local\\programs\\python\\python311\\lib\\site-packages (from ipython>=7.23.1->ipykernel->-r requirements.txt (line 6)) (0.6.3)\n",
      "Requirement already satisfied: platformdirs>=2.5 in c:\\users\\rosac\\appdata\\local\\programs\\python\\python311\\lib\\site-packages (from jupyter-core!=5.0.*,>=4.12->ipykernel->-r requirements.txt (line 6)) (4.3.7)\n",
      "Requirement already satisfied: pywin32>=300 in c:\\users\\rosac\\appdata\\local\\programs\\python\\python311\\lib\\site-packages (from jupyter-core!=5.0.*,>=4.12->ipykernel->-r requirements.txt (line 6)) (310)\n",
      "Requirement already satisfied: rich in c:\\users\\rosac\\appdata\\local\\programs\\python\\python311\\lib\\site-packages (from keras>=3.5.0->tensorflow==2.19.0->-r requirements.txt (line 5)) (14.0.0)\n",
      "Requirement already satisfied: namex in c:\\users\\rosac\\appdata\\local\\programs\\python\\python311\\lib\\site-packages (from keras>=3.5.0->tensorflow==2.19.0->-r requirements.txt (line 5)) (0.1.0)\n",
      "Requirement already satisfied: optree in c:\\users\\rosac\\appdata\\local\\programs\\python\\python311\\lib\\site-packages (from keras>=3.5.0->tensorflow==2.19.0->-r requirements.txt (line 5)) (0.16.0)\n",
      "Requirement already satisfied: llvmlite<0.45,>=0.44.0dev0 in c:\\users\\rosac\\appdata\\local\\programs\\python\\python311\\lib\\site-packages (from numba>=0.51.0->librosa==0.11.0->-r requirements.txt (line 1)) (0.44.0)\n",
      "Requirement already satisfied: charset-normalizer<4,>=2 in c:\\users\\rosac\\appdata\\local\\programs\\python\\python311\\lib\\site-packages (from requests<3,>=2.21.0->tensorflow==2.19.0->-r requirements.txt (line 5)) (3.4.2)\n",
      "Requirement already satisfied: idna<4,>=2.5 in c:\\users\\rosac\\appdata\\local\\programs\\python\\python311\\lib\\site-packages (from requests<3,>=2.21.0->tensorflow==2.19.0->-r requirements.txt (line 5)) (3.10)\n",
      "Requirement already satisfied: urllib3<3,>=1.21.1 in c:\\users\\rosac\\appdata\\local\\programs\\python\\python311\\lib\\site-packages (from requests<3,>=2.21.0->tensorflow==2.19.0->-r requirements.txt (line 5)) (2.4.0)\n",
      "Requirement already satisfied: certifi>=2017.4.17 in c:\\users\\rosac\\appdata\\local\\programs\\python\\python311\\lib\\site-packages (from requests<3,>=2.21.0->tensorflow==2.19.0->-r requirements.txt (line 5)) (2025.4.26)\n",
      "Requirement already satisfied: cffi>=1.0 in c:\\users\\rosac\\appdata\\local\\programs\\python\\python311\\lib\\site-packages (from soundfile>=0.12.1->librosa==0.11.0->-r requirements.txt (line 1)) (1.17.1)\n",
      "Requirement already satisfied: markdown>=2.6.8 in c:\\users\\rosac\\appdata\\local\\programs\\python\\python311\\lib\\site-packages (from tensorboard~=2.19.0->tensorflow==2.19.0->-r requirements.txt (line 5)) (3.8)\n",
      "Requirement already satisfied: tensorboard-data-server<0.8.0,>=0.7.0 in c:\\users\\rosac\\appdata\\local\\programs\\python\\python311\\lib\\site-packages (from tensorboard~=2.19.0->tensorflow==2.19.0->-r requirements.txt (line 5)) (0.7.2)\n",
      "Requirement already satisfied: werkzeug>=1.0.1 in c:\\users\\rosac\\appdata\\local\\programs\\python\\python311\\lib\\site-packages (from tensorboard~=2.19.0->tensorflow==2.19.0->-r requirements.txt (line 5)) (3.1.3)\n",
      "Requirement already satisfied: pycparser in c:\\users\\rosac\\appdata\\local\\programs\\python\\python311\\lib\\site-packages (from cffi>=1.0->soundfile>=0.12.1->librosa==0.11.0->-r requirements.txt (line 1)) (2.22)\n",
      "Requirement already satisfied: parso<0.9.0,>=0.8.4 in c:\\users\\rosac\\appdata\\local\\programs\\python\\python311\\lib\\site-packages (from jedi>=0.16->ipython>=7.23.1->ipykernel->-r requirements.txt (line 6)) (0.8.4)\n",
      "Requirement already satisfied: wcwidth in c:\\users\\rosac\\appdata\\local\\programs\\python\\python311\\lib\\site-packages (from prompt_toolkit<3.1.0,>=3.0.41->ipython>=7.23.1->ipykernel->-r requirements.txt (line 6)) (0.2.13)\n",
      "Requirement already satisfied: MarkupSafe>=2.1.1 in c:\\users\\rosac\\appdata\\local\\programs\\python\\python311\\lib\\site-packages (from werkzeug>=1.0.1->tensorboard~=2.19.0->tensorflow==2.19.0->-r requirements.txt (line 5)) (3.0.2)\n",
      "Requirement already satisfied: markdown-it-py>=2.2.0 in c:\\users\\rosac\\appdata\\local\\programs\\python\\python311\\lib\\site-packages (from rich->keras>=3.5.0->tensorflow==2.19.0->-r requirements.txt (line 5)) (3.0.0)\n",
      "Requirement already satisfied: executing>=1.2.0 in c:\\users\\rosac\\appdata\\local\\programs\\python\\python311\\lib\\site-packages (from stack_data->ipython>=7.23.1->ipykernel->-r requirements.txt (line 6)) (2.2.0)\n",
      "Requirement already satisfied: asttokens>=2.1.0 in c:\\users\\rosac\\appdata\\local\\programs\\python\\python311\\lib\\site-packages (from stack_data->ipython>=7.23.1->ipykernel->-r requirements.txt (line 6)) (3.0.0)\n",
      "Requirement already satisfied: pure-eval in c:\\users\\rosac\\appdata\\local\\programs\\python\\python311\\lib\\site-packages (from stack_data->ipython>=7.23.1->ipykernel->-r requirements.txt (line 6)) (0.2.3)\n",
      "Requirement already satisfied: mdurl~=0.1 in c:\\users\\rosac\\appdata\\local\\programs\\python\\python311\\lib\\site-packages (from markdown-it-py>=2.2.0->rich->keras>=3.5.0->tensorflow==2.19.0->-r requirements.txt (line 5)) (0.1.2)\n"
     ]
    },
    {
     "name": "stderr",
     "output_type": "stream",
     "text": [
      "\n",
      "[notice] A new release of pip available: 22.3.1 -> 25.1.1\n",
      "[notice] To update, run: C:\\Users\\rosac\\AppData\\Local\\Programs\\Python\\Python311\\python.exe -m pip install --upgrade pip\n"
     ]
    }
   ],
   "source": [
    "!pip install -r requirements.txt"
   ]
  },
  {
   "cell_type": "markdown",
   "metadata": {
    "id": "YKpJWg_rv9ig"
   },
   "source": [
    "## 학습용 데이터 로딩"
   ]
  },
  {
   "cell_type": "code",
   "execution_count": 84,
   "metadata": {
    "id": "ox0lftHIv-SY"
   },
   "outputs": [],
   "source": [
    "train_audio_path = 'train'  \n",
    "train_label_path = 'train_label.txt'  "
   ]
  },
  {
   "cell_type": "code",
   "execution_count": 93,
   "metadata": {},
   "outputs": [
    {
     "name": "stdout",
     "output_type": "stream",
     "text": [
      "librosa version: 0.11.0\n",
      "matplotlib version: 3.9.4\n",
      "numpy version: 2.0.2\n",
      "scikit-learn version: 1.6.1\n",
      "tensorflow version: 2.19.0\n"
     ]
    }
   ],
   "source": [
    "import librosa\n",
    "import matplotlib\n",
    "import numpy as np\n",
    "import sklearn\n",
    "import tensorflow as tf\n",
    "import ipykernel\n",
    "print(\"librosa version:\", librosa.__version__)\n",
    "print(\"matplotlib version:\", matplotlib.__version__)\n",
    "print(\"numpy version:\", np.__version__)\n",
    "print(\"scikit-learn version:\", sklearn.__version__)\n",
    "print(\"tensorflow version:\", tf.__version__)\n"
   ]
  },
  {
   "cell_type": "markdown",
   "metadata": {
    "id": "iSLTh3V2BLND"
   },
   "source": [
    "### 캐시가 없을 때\n",
    "- 캐시가 있다면 목차의 \"캐시로부터 MFCC 데이터 로드 함수\"를 실행하고 난후 다음 단계로 넘어가주시기 바랍니다."
   ]
  },
  {
   "cell_type": "code",
   "execution_count": 32,
   "metadata": {
    "colab": {
     "base_uri": "https://localhost:8080/"
    },
    "id": "1EGQIT-TBIaK",
    "outputId": "b19562bd-9f51-4570-aad6-319ee4c8ce77"
   },
   "outputs": [
    {
     "name": "stderr",
     "output_type": "stream",
     "text": [
      "Loading MFCC: 100%|████████████████████████████████████████████████████████████████| 4000/4000 [02:09<00:00, 30.99it/s]\n"
     ]
    }
   ],
   "source": [
    "max_len = 4000\n",
    "X, y = load_mfcc_data(train_audio_path, train_label_path, max_len)\n",
    "X, scaler = standardize(X)"
   ]
  },
  {
   "cell_type": "code",
   "execution_count": 33,
   "metadata": {
    "id": "w1LGQ-tkxJRq"
   },
   "outputs": [],
   "source": [
    "test_audio_path = 'test'\n",
    "test_label_path = 'test_label.txt'"
   ]
  },
  {
   "cell_type": "markdown",
   "metadata": {
    "id": "MJhy6QIvDPI-"
   },
   "source": [
    "### 캐시가 없을 때\n",
    "- 캐시가 있다면 목차의 \"캐시로부터 MFCC 데이터 로드 함수\"를 실행하고 난후 다음 단계로 넘어가주시기 바랍니다.\n",
    "- 캐시를 생성하고 싶다면 목차의 \"데이터 셋 캐시 저장\"을 실행하시기 바립니다."
   ]
  },
  {
   "cell_type": "code",
   "execution_count": 34,
   "metadata": {},
   "outputs": [],
   "source": [
    "max_len = 2000"
   ]
  },
  {
   "cell_type": "code",
   "execution_count": 35,
   "metadata": {
    "colab": {
     "base_uri": "https://localhost:8080/"
    },
    "id": "EF-GT8ECDLz2",
    "outputId": "ced1d669-636f-4bd8-c657-eefe260fdca4"
   },
   "outputs": [
    {
     "name": "stderr",
     "output_type": "stream",
     "text": [
      "Loading MFCC: 100%|████████████████████████████████████████████████████████████████| 2000/2000 [00:38<00:00, 51.29it/s]\n"
     ]
    }
   ],
   "source": [
    "X_test, y_test = load_mfcc_data(test_audio_path, test_label_path, max_len)\n",
    "\n",
    "ns_test = X_test.shape[0]\n",
    "X_test, _ = standardize(X_test)"
   ]
  },
  {
   "cell_type": "markdown",
   "metadata": {
    "id": "Y1ppfLQd9u6a"
   },
   "source": [
    "### 데이터 셋 캐시 저장\n",
    "- 사용 예시\n",
    "save_mfcc_cache(X, y, scaler, cache_prefix=\"train\")\n",
    "- 사용 조건\n",
    "  - 목차의 \"캐시가 없을 때\"를 실행하고 난 후 실행하셔야 합니다."
   ]
  },
  {
   "cell_type": "markdown",
   "metadata": {
    "id": "ivm8u9ibDrn1"
   },
   "source": [
    "#### Train set 캐시 저장 함수\n",
    "- test set을 위한 코드가 아닙니다. train set에만 사용하시기 바랍니다."
   ]
  },
  {
   "cell_type": "code",
   "execution_count": 95,
   "metadata": {
    "colab": {
     "base_uri": "https://localhost:8080/"
    },
    "id": "fwdKGbzV9yhj",
    "outputId": "9fffaec2-a0b6-4196-af87-5eeb0ae41dd6"
   },
   "outputs": [
    {
     "name": "stdout",
     "output_type": "stream",
     "text": [
      "✅ 학습용 캐시 저장 완료:\n",
      "   - X      → cache/train\\X.npy\n",
      "   - y      → cache/train\\y.npy\n",
      "   - scaler → cache/train\\scaler.npy\n"
     ]
    }
   ],
   "source": [
    "# ──────────── 예시 셀 A ──────────── #\n",
    "import os\n",
    "import numpy as np\n",
    "from sklearn.preprocessing import StandardScaler\n",
    "\n",
    "def save_mfcc_cache_train(X, y, scaler, directory=\"cache/train\"):\n",
    "    os.makedirs(directory, exist_ok=True)\n",
    "    X_path      = os.path.join(directory, \"X.npy\")\n",
    "    y_path      = os.path.join(directory, \"y.npy\")\n",
    "    scaler_path = os.path.join(directory, \"scaler.npy\")\n",
    "\n",
    "    np.save(X_path, X)\n",
    "    np.save(y_path, y)\n",
    "    np.save(scaler_path, {'mean': scaler.mean_, 'scale': scaler.scale_})\n",
    "    print(\"✅ 학습용 캐시 저장 완료:\")\n",
    "    print(f\"   - X      → {X_path}\")\n",
    "    print(f\"   - y      → {y_path}\")\n",
    "    print(f\"   - scaler → {scaler_path}\")\n",
    "# 이 셀을 실행하면 “함수만 정의”되고 출력(프린트)은 없음.\n",
    "# ──────────── 셀 A 끝 ──────────── #\n",
    "\n",
    "# ──────────── 예시 셀 B ──────────── #\n",
    "# 위에서 이미 정의한 save_mfcc_cache_train 함수를 \"실제로 호출\"하는 부분\n",
    "save_mfcc_cache_train(X, y, scaler, directory=\"cache/train\")\n"
   ]
  },
  {
   "cell_type": "markdown",
   "metadata": {
    "id": "qVf2SC0rD6-B"
   },
   "source": [
    "#### Test set 캐시 저장\n",
    "-  test set을 위한 코드입니다."
   ]
  },
  {
   "cell_type": "code",
   "execution_count": 96,
   "metadata": {
    "colab": {
     "base_uri": "https://localhost:8080/"
    },
    "id": "-B9-jNUf-wq2",
    "outputId": "059ad997-f15b-4291-90ae-ef2cf9f9d108"
   },
   "outputs": [
    {
     "name": "stdout",
     "output_type": "stream",
     "text": [
      "✅ 테스트셋 캐시 저장 완료\n"
     ]
    }
   ],
   "source": [
    "os.makedirs(\"cache/test\", exist_ok=True)\n",
    "test_X_path = \"cache/test/X.npy\"\n",
    "test_y_path = \"cache/test/y.npy\"\n",
    "\n",
    "np.save(test_X_path, X_test)\n",
    "np.save(test_y_path, y_test)\n",
    "print(\"✅ 테스트셋 캐시 저장 완료\")\n"
   ]
  },
  {
   "cell_type": "markdown",
   "metadata": {
    "id": "ApDVnUfa-Sxv"
   },
   "source": [
    "### 캐시로부터 MFCC 데이터 로드 함수\n",
    "- 사용 예시\n",
    "X, y, scaler = load_mfcc_cache(cache_prefix=\"train\")\n",
    "- 사용 조건\n",
    "  - 이후 캐시를 저장하고 난 후는 계속해서 MFCC 데이터 로드 함수를 활용해 이후, 로드할 필요 없이 사용하시면 됩니다."
   ]
  },
  {
   "cell_type": "markdown",
   "metadata": {
    "id": "hd7-2qCDEJ2w"
   },
   "source": [
    "#### Train set 캐시 로드 함수"
   ]
  },
  {
   "cell_type": "code",
   "execution_count": 97,
   "metadata": {
    "colab": {
     "base_uri": "https://localhost:8080/"
    },
    "id": "CLWFGJYV-OuG",
    "outputId": "dae70dd4-0a25-4f4f-9866-ed6a3805a3d7"
   },
   "outputs": [],
   "source": [
    "def load_mfcc_cache_train(directory=\"cache/train\"):\n",
    "    \"\"\"\n",
    "    설명:\n",
    "      - \"cache/train/\" 폴더 아래에 저장된 X.npy, y.npy, scaler.npy 세 파일을 불러와,\n",
    "        표준화된 학습용 데이터 X, 레이블 y, 그리고 복원된 StandardScaler 객체를 반환합니다.\n",
    "      - 파일이 없으면 FileNotFoundError을 발생시킵니다.\n",
    "\n",
    "    매개변수:\n",
    "      directory : str, 캐시가 저장된 학습용 디렉터리 경로 (예: \"cache/train\")\n",
    "\n",
    "    반환값:\n",
    "      X      : np.ndarray, 학습용 입력 데이터\n",
    "      y      : np.ndarray, 학습용 레이블\n",
    "      scaler : sklearn.preprocessing.StandardScaler, 복원된 표준화 객체\n",
    "    \"\"\"\n",
    "    # 1. 파일 경로 구성\n",
    "    X_path      = os.path.join(directory, \"X.npy\")\n",
    "    y_path      = os.path.join(directory, \"y.npy\")\n",
    "    scaler_path = os.path.join(directory, \"scaler.npy\")\n",
    "\n",
    "    # 2. 파일 존재 여부 검사\n",
    "    if not (os.path.exists(X_path) and os.path.exists(y_path) and os.path.exists(scaler_path)):\n",
    "        raise FileNotFoundError(f\"❌ 학습용 캐시 파일이 존재하지 않습니다: {directory}\")\n",
    "\n",
    "    # 3. .npy 파일에서 데이터 로드\n",
    "    X = np.load(X_path)\n",
    "    y = np.load(y_path)\n",
    "    scaler_params = np.load(scaler_path, allow_pickle=True).item()\n",
    "\n",
    "    # 4. StandardScaler 객체로 복원\n",
    "    scaler = StandardScaler()\n",
    "    scaler.mean_  = scaler_params['mean']\n",
    "    scaler.scale_ = scaler_params['scale']\n",
    "\n",
    "    print(f\"✅ 학습용 캐시 불러오기 완료: {directory}\")\n",
    "    return X, y, scaler\n"
   ]
  },
  {
   "cell_type": "markdown",
   "metadata": {
    "id": "ZR7IRs9HENvW"
   },
   "source": [
    "#### test set 캐시 로드"
   ]
  },
  {
   "cell_type": "code",
   "execution_count": 98,
   "metadata": {
    "colab": {
     "base_uri": "https://localhost:8080/"
    },
    "id": "_9tDNtU9A0OR",
    "outputId": "15e76720-4ceb-481f-af2e-f88fa4027d55"
   },
   "outputs": [],
   "source": [
    "def load_mfcc_cache_test(directory=\"cache/test\"):\n",
    "    \"\"\"\n",
    "    설명:\n",
    "      - \"cache/test/\" 폴더 아래에 저장된 X.npy, y.npy 두 파일을 불러와\n",
    "        테스트용 입력 X_test와 레이블 y_test를 반환합니다.\n",
    "      - 파일이 없으면 FileNotFoundError을 발생시킵니다.\n",
    "\n",
    "    매개변수:\n",
    "      directory : str, 캐시가 저장된 테스트용 디렉터리 경로 (예: \"cache/test\")\n",
    "\n",
    "    반환값:\n",
    "      X_test : np.ndarray, 테스트용 입력 데이터\n",
    "      y_test : np.ndarray, 테스트용 레이블\n",
    "    \"\"\"\n",
    "    # 1. 파일 경로 구성\n",
    "    X_path = os.path.join(directory, \"X.npy\")\n",
    "    y_path = os.path.join(directory, \"y.npy\")\n",
    "\n",
    "    # 2. 파일 존재 여부 검사\n",
    "    if not (os.path.exists(X_path) and os.path.exists(y_path)):\n",
    "        raise FileNotFoundError(f\"❌ 테스트용 캐시 파일이 존재하지 않습니다: {directory}\")\n",
    "\n",
    "    # 3. .npy 파일에서 데이터 로드\n",
    "    X_test = np.load(X_path)\n",
    "    y_test = np.load(y_path)\n",
    "\n",
    "    print(f\"✅ 테스트용 캐시 불러오기 완료: {directory}\")\n",
    "    return X_test, y_test\n",
    "\n",
    "\n"
   ]
  },
  {
   "cell_type": "markdown",
   "metadata": {
    "id": "AjL9zysWvkmK"
   },
   "source": [
    "## 1. 필요 라이브러러 임포트 및 다운로드"
   ]
  },
  {
   "cell_type": "code",
   "execution_count": 99,
   "metadata": {
    "id": "6C-2s9DAvMIj"
   },
   "outputs": [],
   "source": [
    "# -------------------------------------------\n",
    "# 1. 라이브러리 설치 및 임포트\n",
    "# -------------------------------------------\n",
    "import os\n",
    "import random\n",
    "import numpy as np\n",
    "import pandas as pd\n",
    "import librosa\n",
    "import matplotlib.pyplot as plt\n",
    "import seaborn as sns\n",
    "from tqdm import tqdm\n",
    "from sklearn.model_selection import train_test_split\n",
    "from sklearn.preprocessing import StandardScaler\n",
    "from sklearn.metrics import classification_report, confusion_matrix, roc_auc_score\n",
    "import tensorflow as tf\n",
    "from tensorflow.keras import layers, models\n",
    "from tensorflow.keras.callbacks import EarlyStopping, ReduceLROnPlateau\n",
    "from tensorflow.keras.losses import BinaryCrossentropy\n",
    "\n",
    "# 재현성 설정\n",
    "random.seed(42)\n",
    "np.random.seed(42)\n",
    "tf.random.set_seed(42)\n"
   ]
  },
  {
   "cell_type": "markdown",
   "metadata": {
    "id": "W3NiFNQjvaBf"
   },
   "source": [
    "## 데이터 로딩 함수 정의"
   ]
  },
  {
   "cell_type": "code",
   "execution_count": 100,
   "metadata": {
    "id": "HHEIEEHnvU9N"
   },
   "outputs": [],
   "source": [
    "# -------------------------------------------\n",
    "# 2. 데이터 로딩 함수 정의\n",
    "# -------------------------------------------\n",
    "def load_mfcc_data(audio_path, label_path, max_len=200):\n",
    "    entries = []\n",
    "    with open(label_path, 'r') as f:\n",
    "        for line in f:\n",
    "            parts = line.strip().split()\n",
    "            if len(parts) >= 5:\n",
    "                entries.append((parts[1], parts[-1]))\n",
    "    df = pd.DataFrame(entries, columns=['filename','label'])\n",
    "\n",
    "    X_list, y_list = [], []\n",
    "    for _, row in tqdm(df.iterrows(), total=len(df), desc=\"Loading MFCC\"):\n",
    "        fp = os.path.join(audio_path, row['filename'])\n",
    "        if not os.path.isfile(fp):\n",
    "            continue\n",
    "        try:\n",
    "            audio, sr = librosa.load(fp, sr=16000)\n",
    "            mfcc = librosa.feature.mfcc(y=audio, sr=sr, n_mfcc=20).T # 기존에는 13이었음.\n",
    "            if mfcc.shape[0] < max_len:\n",
    "                mfcc = np.pad(mfcc, ((0, max_len-mfcc.shape[0]), (0,0)), mode='constant')\n",
    "            else:\n",
    "                mfcc = mfcc[:max_len]\n",
    "            X_list.append(mfcc)\n",
    "            y_list.append(0 if row['label']=='Real' else 1)\n",
    "        except:\n",
    "            continue\n",
    "\n",
    "    return np.array(X_list), np.array(y_list)\n",
    "\n",
    "\n",
    "def standardize(X):\n",
    "    ns, nt, nf = X.shape\n",
    "    scaler = StandardScaler().fit(X.reshape(-1, nf))\n",
    "    X_scaled = scaler.transform(X.reshape(-1, nf)).reshape(ns, nt, nf)\n",
    "    return X_scaled, scaler\n"
   ]
  },
  {
   "cell_type": "markdown",
   "metadata": {
    "id": "9T8gTqbmvq4n"
   },
   "source": [
    "## DNN 모델 정의"
   ]
  },
  {
   "cell_type": "code",
   "execution_count": 101,
   "metadata": {
    "id": "xmkqpng0y2m0"
   },
   "outputs": [],
   "source": [
    "def build_dnn_model(\n",
    "    input_shape,\n",
    "    units1=128,         # 첫 번째 Dense 레이어의 유닛 수 (튜닝 대상)\n",
    "    units2=64,          # 두 번째 Dense 레이어의 유닛 수 (튜닝 대상)\n",
    "    dropout1=0.3,       # 첫 번째 Dropout 비율 (튜닝 대상)\n",
    "    dropout2=0.3,       # 두 번째 Dropout 비율 (튜닝 대상)\n",
    "    learning_rate=1e-3  # Adam 학습률 (튜닝 대상)\n",
    "):\n",
    "    \"\"\"\n",
    "    기존 모델 정의 부분을 하이퍼파라미터 인자를 받도록 수정한 함수입니다.\n",
    "      - units1, units2: 각 Dense 레이어의 유닛 개수\n",
    "      - dropout1, dropout2: 각 Dropout 레이어 비율\n",
    "      - learning_rate: Adam 옵티마이저 학습률\n",
    "    \"\"\"\n",
    "    model = models.Sequential([\n",
    "        layers.Input(shape=input_shape, name=\"input_mfcc\"),\n",
    "        layers.Flatten(name=\"flatten\"),\n",
    "\n",
    "        # 첫 번째 Dense 블록\n",
    "        layers.Dense(units1, activation=None, name=\"dense_1\"),\n",
    "        layers.BatchNormalization(name=\"bn_1\"),\n",
    "        layers.Activation('relu', name=\"act_1\"),\n",
    "        layers.Dropout(dropout1, name=\"dropout_1\"),\n",
    "\n",
    "        # 두 번째 Dense 블록\n",
    "        layers.Dense(units2, activation=None, name=\"dense_2\"),\n",
    "        layers.BatchNormalization(name=\"bn_2\"),\n",
    "        layers.Activation('relu', name=\"act_2\"),\n",
    "        layers.Dropout(dropout2, name=\"dropout_2\"),\n",
    "\n",
    "        # 출력층\n",
    "        layers.Dense(1, activation='sigmoid', name=\"output\")\n",
    "    ])\n",
    "\n",
    "    optimizer = tf.keras.optimizers.Adam(learning_rate=learning_rate)\n",
    "    model.compile(\n",
    "        optimizer=optimizer,\n",
    "        loss='binary_crossentropy',\n",
    "        metrics=['accuracy']\n",
    "    )\n",
    "    return model\n"
   ]
  },
  {
   "cell_type": "code",
   "execution_count": 102,
   "metadata": {},
   "outputs": [],
   "source": [
    "import optuna\n",
    "import numpy as np\n",
    "from sklearn.model_selection import train_test_split\n",
    "from sklearn.utils.class_weight import compute_class_weight\n",
    "\n",
    "import tensorflow as tf\n",
    "from tensorflow.keras import layers, models\n",
    "from tensorflow.keras.callbacks import EarlyStopping, ReduceLROnPlateau\n",
    "\n",
    "import matplotlib.pyplot as plt  # 시각화를 위해 matplotlib 가져오기\n",
    "\n",
    "\n",
    "# === 2) objective 함수 정의 ===\n",
    "def objective(trial):\n",
    "    # 2-1) 튜닝할 하이퍼파라미터 샘플링\n",
    "    units1 = trial.suggest_categorical(\"units1\", [64, 96, 128, 192, 256, 384, 512])\n",
    "    units2 = trial.suggest_categorical(\"units2\", [32, 64, 128, 256])\n",
    "    dropout1 = trial.suggest_float(\"dropout1\", 0.1, 0.5, step=0.1)\n",
    "    dropout2 = trial.suggest_float(\"dropout2\", 0.1, 0.5, step=0.1)\n",
    "    learning_rate = trial.suggest_float(\"learning_rate\", 1e-4, 1e-2, log=True)\n",
    "    batch_size = trial.suggest_categorical(\"batch_size\", [16, 32, 64])\n",
    "\n",
    "    # 2-2) 학습/검증용 데이터 분리\n",
    "    X_train, X_val, y_train, y_val = train_test_split(\n",
    "        X, y, test_size=0.2, stratify=y, random_state=41\n",
    "    )\n",
    "\n",
    "    # 2-3) 클래스 가중치 계산 (필요 시)\n",
    "    class_weights_array = compute_class_weight(\n",
    "        class_weight='balanced',\n",
    "        classes=np.unique(y_train),\n",
    "        y=y_train\n",
    "    )\n",
    "    class_weight_dict = {cls: w for cls, w in zip(np.unique(y_train), class_weights_array)}\n",
    "\n",
    "    # 2-4) 모델 생성 (항상 2개 블록)\n",
    "    input_shape = X_train.shape[1:]\n",
    "    model = build_dnn_model(\n",
    "        input_shape=input_shape,\n",
    "        units1=units1,\n",
    "        units2=units2,\n",
    "        dropout1=dropout1,\n",
    "        dropout2=dropout2,\n",
    "        learning_rate=learning_rate\n",
    "    )\n",
    "\n",
    "    # 2-5) 콜백 정의\n",
    "    callbacks = [\n",
    "        EarlyStopping(monitor='val_loss', patience=10, restore_best_weights=True),\n",
    "        ReduceLROnPlateau(monitor='val_loss', factor=0.5, patience=5, min_lr=1e-6)\n",
    "    ]\n",
    "\n",
    "    # 2-6) 모델 학습\n",
    "    history = model.fit(\n",
    "        X_train, y_train,\n",
    "        validation_data=(X_val, y_val),\n",
    "        epochs=50,\n",
    "        batch_size=batch_size,\n",
    "        class_weight=class_weight_dict,\n",
    "        callbacks=callbacks,\n",
    "        verbose=0\n",
    "    )\n",
    "\n",
    "    # 2-7) 마지막 에폭의 검증 정확도 반환\n",
    "    val_acc = history.history[\"val_accuracy\"][-1]\n",
    "    print(f\"[Trial {trial.number:>2d}] \"\n",
    "          f\"units1={units1}, units2={units2}, \"\n",
    "          f\"dropout1={dropout1:.1f}, dropout2={dropout2:.1f}, \"\n",
    "          f\"lr={learning_rate:.1e}, batch_size={batch_size} → val_acc={val_acc:.4f}\\n\")\n",
    "    return val_acc"
   ]
  },
  {
   "cell_type": "code",
   "execution_count": 103,
   "metadata": {},
   "outputs": [
    {
     "name": "stderr",
     "output_type": "stream",
     "text": [
      "[I 2025-06-04 23:09:16,649] A new study created in memory with name: no-name-f84695ab-d65b-424e-97db-5c8aacd4b066\n",
      "Best trial: 0. Best value: 0.99:   3%|█▋                                                | 1/30 [01:27<42:31, 87.97s/it]"
     ]
    },
    {
     "name": "stdout",
     "output_type": "stream",
     "text": [
      "[Trial  0] units1=128, units2=32, dropout1=0.5, dropout2=0.2, lr=2.0e-03, batch_size=32 → val_acc=0.9900\n",
      "\n",
      "[I 2025-06-04 23:10:44,722] Trial 0 finished with value: 0.9900000095367432 and parameters: {'units1': 128, 'units2': 32, 'dropout1': 0.5, 'dropout2': 0.2, 'learning_rate': 0.00200542189906824, 'batch_size': 32}. Best is trial 0 with value: 0.9900000095367432.\n"
     ]
    },
    {
     "name": "stderr",
     "output_type": "stream",
     "text": [
      "Best trial: 1. Best value: 0.9925:   7%|███▏                                            | 2/30 [02:59<41:53, 89.77s/it]"
     ]
    },
    {
     "name": "stdout",
     "output_type": "stream",
     "text": [
      "[Trial  1] units1=128, units2=64, dropout1=0.3, dropout2=0.2, lr=9.0e-03, batch_size=16 → val_acc=0.9925\n",
      "\n",
      "[I 2025-06-04 23:12:15,755] Trial 1 finished with value: 0.9925000071525574 and parameters: {'units1': 128, 'units2': 64, 'dropout1': 0.30000000000000004, 'dropout2': 0.2, 'learning_rate': 0.008986401535704366, 'batch_size': 16}. Best is trial 1 with value: 0.9925000071525574.\n"
     ]
    },
    {
     "name": "stderr",
     "output_type": "stream",
     "text": [
      "Best trial: 1. Best value: 0.9925:  10%|████▊                                           | 3/30 [03:46<31:47, 70.63s/it]"
     ]
    },
    {
     "name": "stdout",
     "output_type": "stream",
     "text": [
      "[Trial  2] units1=64, units2=256, dropout1=0.4, dropout2=0.1, lr=1.8e-04, batch_size=64 → val_acc=0.9925\n",
      "\n",
      "[I 2025-06-04 23:13:03,612] Trial 2 finished with value: 0.9925000071525574 and parameters: {'units1': 64, 'units2': 256, 'dropout1': 0.4, 'dropout2': 0.1, 'learning_rate': 0.00018337341530797754, 'batch_size': 64}. Best is trial 1 with value: 0.9925000071525574.\n"
     ]
    },
    {
     "name": "stderr",
     "output_type": "stream",
     "text": [
      "Best trial: 1. Best value: 0.9925:  13%|██████▎                                        | 4/30 [06:43<48:44, 112.47s/it]"
     ]
    },
    {
     "name": "stdout",
     "output_type": "stream",
     "text": [
      "[Trial  3] units1=256, units2=32, dropout1=0.4, dropout2=0.3, lr=2.2e-03, batch_size=16 → val_acc=0.9925\n",
      "\n",
      "[I 2025-06-04 23:16:00,216] Trial 3 finished with value: 0.9925000071525574 and parameters: {'units1': 256, 'units2': 32, 'dropout1': 0.4, 'dropout2': 0.30000000000000004, 'learning_rate': 0.002168224787366759, 'batch_size': 16}. Best is trial 1 with value: 0.9925000071525574.\n"
     ]
    },
    {
     "name": "stderr",
     "output_type": "stream",
     "text": [
      "Best trial: 4. Best value: 0.99375:  17%|███████▋                                      | 5/30 [08:46<48:24, 116.18s/it]"
     ]
    },
    {
     "name": "stdout",
     "output_type": "stream",
     "text": [
      "[Trial  4] units1=256, units2=128, dropout1=0.1, dropout2=0.5, lr=2.1e-04, batch_size=64 → val_acc=0.9937\n",
      "\n",
      "[I 2025-06-04 23:18:02,971] Trial 4 finished with value: 0.9937499761581421 and parameters: {'units1': 256, 'units2': 128, 'dropout1': 0.1, 'dropout2': 0.5, 'learning_rate': 0.00021474538817864447, 'batch_size': 64}. Best is trial 4 with value: 0.9937499761581421.\n"
     ]
    },
    {
     "name": "stderr",
     "output_type": "stream",
     "text": [
      "Best trial: 4. Best value: 0.99375:  20%|█████████▏                                    | 6/30 [11:50<55:47, 139.47s/it]"
     ]
    },
    {
     "name": "stdout",
     "output_type": "stream",
     "text": [
      "[Trial  5] units1=384, units2=128, dropout1=0.1, dropout2=0.3, lr=1.7e-03, batch_size=32 → val_acc=0.9925\n",
      "\n",
      "[I 2025-06-04 23:21:07,650] Trial 5 finished with value: 0.9925000071525574 and parameters: {'units1': 384, 'units2': 128, 'dropout1': 0.1, 'dropout2': 0.30000000000000004, 'learning_rate': 0.0017096169725210279, 'batch_size': 32}. Best is trial 4 with value: 0.9937499761581421.\n"
     ]
    },
    {
     "name": "stderr",
     "output_type": "stream",
     "text": [
      "Best trial: 4. Best value: 0.99375:  23%|██████████▋                                   | 7/30 [14:38<56:57, 148.59s/it]"
     ]
    },
    {
     "name": "stdout",
     "output_type": "stream",
     "text": [
      "[Trial  6] units1=384, units2=32, dropout1=0.2, dropout2=0.2, lr=5.8e-04, batch_size=64 → val_acc=0.9925\n",
      "\n",
      "[I 2025-06-04 23:23:55,012] Trial 6 finished with value: 0.9925000071525574 and parameters: {'units1': 384, 'units2': 32, 'dropout1': 0.2, 'dropout2': 0.2, 'learning_rate': 0.0005761783629938512, 'batch_size': 64}. Best is trial 4 with value: 0.9937499761581421.\n"
     ]
    },
    {
     "name": "stderr",
     "output_type": "stream",
     "text": [
      "Best trial: 4. Best value: 0.99375:  27%|███████████▋                                | 8/30 [19:29<1:11:11, 194.14s/it]"
     ]
    },
    {
     "name": "stdout",
     "output_type": "stream",
     "text": [
      "[Trial  7] units1=512, units2=32, dropout1=0.2, dropout2=0.1, lr=5.1e-04, batch_size=32 → val_acc=0.9937\n",
      "\n",
      "[I 2025-06-04 23:28:46,689] Trial 7 finished with value: 0.9937499761581421 and parameters: {'units1': 512, 'units2': 32, 'dropout1': 0.2, 'dropout2': 0.1, 'learning_rate': 0.0005140245634986926, 'batch_size': 32}. Best is trial 4 with value: 0.9937499761581421.\n"
     ]
    },
    {
     "name": "stderr",
     "output_type": "stream",
     "text": [
      "Best trial: 8. Best value: 0.995:  30%|██████████████▍                                 | 9/30 [20:49<55:21, 158.19s/it]"
     ]
    },
    {
     "name": "stdout",
     "output_type": "stream",
     "text": [
      "[Trial  8] units1=128, units2=128, dropout1=0.1, dropout2=0.3, lr=4.1e-03, batch_size=32 → val_acc=0.9950\n",
      "\n",
      "[I 2025-06-04 23:30:05,826] Trial 8 finished with value: 0.9950000047683716 and parameters: {'units1': 128, 'units2': 128, 'dropout1': 0.1, 'dropout2': 0.30000000000000004, 'learning_rate': 0.004077968727491807, 'batch_size': 32}. Best is trial 8 with value: 0.9950000047683716.\n"
     ]
    },
    {
     "name": "stderr",
     "output_type": "stream",
     "text": [
      "Best trial: 8. Best value: 0.995:  33%|███████████████                              | 10/30 [25:18<1:04:10, 192.53s/it]"
     ]
    },
    {
     "name": "stdout",
     "output_type": "stream",
     "text": [
      "[Trial  9] units1=384, units2=64, dropout1=0.4, dropout2=0.3, lr=4.2e-04, batch_size=16 → val_acc=0.9925\n",
      "\n",
      "[I 2025-06-04 23:34:35,250] Trial 9 finished with value: 0.9925000071525574 and parameters: {'units1': 384, 'units2': 64, 'dropout1': 0.4, 'dropout2': 0.30000000000000004, 'learning_rate': 0.0004208910318100536, 'batch_size': 16}. Best is trial 8 with value: 0.9950000047683716.\n"
     ]
    },
    {
     "name": "stderr",
     "output_type": "stream",
     "text": [
      "Best trial: 8. Best value: 0.995:  37%|█████████████████▏                             | 11/30 [26:34<49:41, 156.91s/it]"
     ]
    },
    {
     "name": "stdout",
     "output_type": "stream",
     "text": [
      "[Trial 10] units1=192, units2=128, dropout1=0.2, dropout2=0.5, lr=7.9e-03, batch_size=32 → val_acc=0.9900\n",
      "\n",
      "[I 2025-06-04 23:35:51,390] Trial 10 finished with value: 0.9900000095367432 and parameters: {'units1': 192, 'units2': 128, 'dropout1': 0.2, 'dropout2': 0.5, 'learning_rate': 0.007904489581192373, 'batch_size': 32}. Best is trial 8 with value: 0.9950000047683716.\n"
     ]
    },
    {
     "name": "stderr",
     "output_type": "stream",
     "text": [
      "Best trial: 8. Best value: 0.995:  40%|██████████████████▊                            | 12/30 [27:45<39:14, 130.81s/it]"
     ]
    },
    {
     "name": "stdout",
     "output_type": "stream",
     "text": [
      "[Trial 11] units1=96, units2=128, dropout1=0.1, dropout2=0.5, lr=1.2e-04, batch_size=64 → val_acc=0.9937\n",
      "\n",
      "[I 2025-06-04 23:37:02,506] Trial 11 finished with value: 0.9937499761581421 and parameters: {'units1': 96, 'units2': 128, 'dropout1': 0.1, 'dropout2': 0.5, 'learning_rate': 0.00012246791782617738, 'batch_size': 64}. Best is trial 8 with value: 0.9950000047683716.\n"
     ]
    },
    {
     "name": "stderr",
     "output_type": "stream",
     "text": [
      "Best trial: 8. Best value: 0.995:  43%|████████████████████▎                          | 13/30 [29:17<33:41, 118.93s/it]"
     ]
    },
    {
     "name": "stdout",
     "output_type": "stream",
     "text": [
      "[Trial 12] units1=256, units2=128, dropout1=0.1, dropout2=0.4, lr=4.5e-03, batch_size=64 → val_acc=0.9925\n",
      "\n",
      "[I 2025-06-04 23:38:34,109] Trial 12 finished with value: 0.9925000071525574 and parameters: {'units1': 256, 'units2': 128, 'dropout1': 0.1, 'dropout2': 0.4, 'learning_rate': 0.004450766921979733, 'batch_size': 64}. Best is trial 8 with value: 0.9950000047683716.\n"
     ]
    },
    {
     "name": "stderr",
     "output_type": "stream",
     "text": [
      "Best trial: 8. Best value: 0.995:  47%|█████████████████████▉                         | 14/30 [30:47<29:23, 110.25s/it]"
     ]
    },
    {
     "name": "stdout",
     "output_type": "stream",
     "text": [
      "[Trial 13] units1=256, units2=128, dropout1=0.1, dropout2=0.4, lr=2.4e-04, batch_size=64 → val_acc=0.9925\n",
      "\n",
      "[I 2025-06-04 23:40:04,293] Trial 13 finished with value: 0.9925000071525574 and parameters: {'units1': 256, 'units2': 128, 'dropout1': 0.1, 'dropout2': 0.4, 'learning_rate': 0.00024354295012354963, 'batch_size': 64}. Best is trial 8 with value: 0.9950000047683716.\n"
     ]
    },
    {
     "name": "stderr",
     "output_type": "stream",
     "text": [
      "Best trial: 8. Best value: 0.995:  50%|████████████████████████                        | 15/30 [31:51<24:03, 96.23s/it]"
     ]
    },
    {
     "name": "stdout",
     "output_type": "stream",
     "text": [
      "[Trial 14] units1=128, units2=256, dropout1=0.2, dropout2=0.4, lr=1.0e-03, batch_size=32 → val_acc=0.9912\n",
      "\n",
      "[I 2025-06-04 23:41:08,039] Trial 14 finished with value: 0.9912499785423279 and parameters: {'units1': 128, 'units2': 256, 'dropout1': 0.2, 'dropout2': 0.4, 'learning_rate': 0.00102304968348859, 'batch_size': 32}. Best is trial 8 with value: 0.9950000047683716.\n"
     ]
    },
    {
     "name": "stderr",
     "output_type": "stream",
     "text": [
      "Best trial: 8. Best value: 0.995:  53%|█████████████████████████▌                      | 16/30 [32:46<19:33, 83.84s/it]"
     ]
    },
    {
     "name": "stdout",
     "output_type": "stream",
     "text": [
      "[Trial 15] units1=96, units2=128, dropout1=0.3, dropout2=0.5, lr=4.2e-03, batch_size=32 → val_acc=0.9925\n",
      "\n",
      "[I 2025-06-04 23:42:03,119] Trial 15 finished with value: 0.9925000071525574 and parameters: {'units1': 96, 'units2': 128, 'dropout1': 0.30000000000000004, 'dropout2': 0.5, 'learning_rate': 0.004158061152982995, 'batch_size': 32}. Best is trial 8 with value: 0.9950000047683716.\n"
     ]
    },
    {
     "name": "stderr",
     "output_type": "stream",
     "text": [
      "Best trial: 8. Best value: 0.995:  57%|███████████████████████████▏                    | 17/30 [33:49<16:49, 77.64s/it]"
     ]
    },
    {
     "name": "stdout",
     "output_type": "stream",
     "text": [
      "[Trial 16] units1=192, units2=128, dropout1=0.1, dropout2=0.4, lr=9.2e-04, batch_size=64 → val_acc=0.9925\n",
      "\n",
      "[I 2025-06-04 23:43:06,322] Trial 16 finished with value: 0.9925000071525574 and parameters: {'units1': 192, 'units2': 128, 'dropout1': 0.1, 'dropout2': 0.4, 'learning_rate': 0.0009221720767103872, 'batch_size': 64}. Best is trial 8 with value: 0.9950000047683716.\n"
     ]
    },
    {
     "name": "stderr",
     "output_type": "stream",
     "text": [
      "Best trial: 8. Best value: 0.995:  60%|████████████████████████████▊                   | 18/30 [34:51<14:34, 72.90s/it]"
     ]
    },
    {
     "name": "stdout",
     "output_type": "stream",
     "text": [
      "[Trial 17] units1=64, units2=128, dropout1=0.2, dropout2=0.5, lr=1.0e-04, batch_size=64 → val_acc=0.9937\n",
      "\n",
      "[I 2025-06-04 23:44:08,199] Trial 17 finished with value: 0.9937499761581421 and parameters: {'units1': 64, 'units2': 128, 'dropout1': 0.2, 'dropout2': 0.5, 'learning_rate': 0.00010152496009329404, 'batch_size': 64}. Best is trial 8 with value: 0.9950000047683716.\n"
     ]
    },
    {
     "name": "stderr",
     "output_type": "stream",
     "text": [
      "Best trial: 8. Best value: 0.995:  63%|██████████████████████████████▍                 | 19/30 [36:55<16:11, 88.32s/it]"
     ]
    },
    {
     "name": "stdout",
     "output_type": "stream",
     "text": [
      "[Trial 18] units1=256, units2=256, dropout1=0.3, dropout2=0.2, lr=2.8e-04, batch_size=32 → val_acc=0.9937\n",
      "\n",
      "[I 2025-06-04 23:46:12,452] Trial 18 finished with value: 0.9937499761581421 and parameters: {'units1': 256, 'units2': 256, 'dropout1': 0.30000000000000004, 'dropout2': 0.2, 'learning_rate': 0.0002834676860918393, 'batch_size': 32}. Best is trial 8 with value: 0.9950000047683716.\n"
     ]
    },
    {
     "name": "stderr",
     "output_type": "stream",
     "text": [
      "Best trial: 8. Best value: 0.995:  67%|███████████████████████████████▎               | 20/30 [43:23<29:42, 178.26s/it]"
     ]
    },
    {
     "name": "stdout",
     "output_type": "stream",
     "text": [
      "[Trial 19] units1=512, units2=64, dropout1=0.1, dropout2=0.4, lr=3.3e-03, batch_size=16 → val_acc=0.9925\n",
      "\n",
      "[I 2025-06-04 23:52:40,313] Trial 19 finished with value: 0.9925000071525574 and parameters: {'units1': 512, 'units2': 64, 'dropout1': 0.1, 'dropout2': 0.4, 'learning_rate': 0.003253967459727722, 'batch_size': 16}. Best is trial 8 with value: 0.9950000047683716.\n"
     ]
    },
    {
     "name": "stderr",
     "output_type": "stream",
     "text": [
      "Best trial: 8. Best value: 0.995:  70%|████████████████████████████████▉              | 21/30 [44:06<20:39, 137.69s/it]"
     ]
    },
    {
     "name": "stdout",
     "output_type": "stream",
     "text": [
      "[Trial 20] units1=128, units2=128, dropout1=0.5, dropout2=0.3, lr=9.3e-04, batch_size=64 → val_acc=0.9925\n",
      "\n",
      "[I 2025-06-04 23:53:23,428] Trial 20 finished with value: 0.9925000071525574 and parameters: {'units1': 128, 'units2': 128, 'dropout1': 0.5, 'dropout2': 0.30000000000000004, 'learning_rate': 0.0009258902517497897, 'batch_size': 64}. Best is trial 8 with value: 0.9950000047683716.\n"
     ]
    },
    {
     "name": "stderr",
     "output_type": "stream",
     "text": [
      "Best trial: 8. Best value: 0.995:  73%|██████████████████████████████████▍            | 22/30 [49:13<25:06, 188.30s/it]"
     ]
    },
    {
     "name": "stdout",
     "output_type": "stream",
     "text": [
      "[Trial 21] units1=512, units2=32, dropout1=0.2, dropout2=0.1, lr=5.0e-04, batch_size=32 → val_acc=0.9937\n",
      "\n",
      "[I 2025-06-04 23:58:29,761] Trial 21 finished with value: 0.9937499761581421 and parameters: {'units1': 512, 'units2': 32, 'dropout1': 0.2, 'dropout2': 0.1, 'learning_rate': 0.0004986504803365764, 'batch_size': 32}. Best is trial 8 with value: 0.9950000047683716.\n"
     ]
    },
    {
     "name": "stderr",
     "output_type": "stream",
     "text": [
      "Best trial: 8. Best value: 0.995:  77%|████████████████████████████████████           | 23/30 [53:51<25:08, 215.43s/it]"
     ]
    },
    {
     "name": "stdout",
     "output_type": "stream",
     "text": [
      "[Trial 22] units1=512, units2=32, dropout1=0.2, dropout2=0.1, lr=3.5e-04, batch_size=32 → val_acc=0.9925\n",
      "\n",
      "[I 2025-06-05 00:03:08,457] Trial 22 finished with value: 0.9925000071525574 and parameters: {'units1': 512, 'units2': 32, 'dropout1': 0.2, 'dropout2': 0.1, 'learning_rate': 0.0003457559707429875, 'batch_size': 32}. Best is trial 8 with value: 0.9950000047683716.\n"
     ]
    },
    {
     "name": "stderr",
     "output_type": "stream",
     "text": [
      "Best trial: 8. Best value: 0.995:  80%|████████████████████████████████████         | 24/30 [1:01:25<28:41, 286.85s/it]"
     ]
    },
    {
     "name": "stdout",
     "output_type": "stream",
     "text": [
      "[Trial 23] units1=512, units2=32, dropout1=0.1, dropout2=0.2, lr=1.8e-04, batch_size=32 → val_acc=0.9937\n",
      "\n",
      "[I 2025-06-05 00:10:41,909] Trial 23 finished with value: 0.9937499761581421 and parameters: {'units1': 512, 'units2': 32, 'dropout1': 0.1, 'dropout2': 0.2, 'learning_rate': 0.00017581055878558818, 'batch_size': 32}. Best is trial 8 with value: 0.9950000047683716.\n"
     ]
    },
    {
     "name": "stderr",
     "output_type": "stream",
     "text": [
      "Best trial: 8. Best value: 0.995:  83%|█████████████████████████████████████▌       | 25/30 [1:04:41<21:37, 259.59s/it]"
     ]
    },
    {
     "name": "stdout",
     "output_type": "stream",
     "text": [
      "[Trial 24] units1=512, units2=128, dropout1=0.2, dropout2=0.1, lr=5.4e-04, batch_size=32 → val_acc=0.9937\n",
      "\n",
      "[I 2025-06-05 00:13:57,924] Trial 24 finished with value: 0.9937499761581421 and parameters: {'units1': 512, 'units2': 128, 'dropout1': 0.2, 'dropout2': 0.1, 'learning_rate': 0.0005417692750132729, 'batch_size': 32}. Best is trial 8 with value: 0.9950000047683716.\n"
     ]
    },
    {
     "name": "stderr",
     "output_type": "stream",
     "text": [
      "Best trial: 8. Best value: 0.995:  87%|███████████████████████████████████████      | 26/30 [1:06:50<14:41, 220.49s/it]"
     ]
    },
    {
     "name": "stdout",
     "output_type": "stream",
     "text": [
      "[Trial 25] units1=256, units2=32, dropout1=0.1, dropout2=0.3, lr=1.3e-03, batch_size=32 → val_acc=0.9925\n",
      "\n",
      "[I 2025-06-05 00:16:07,193] Trial 25 finished with value: 0.9925000071525574 and parameters: {'units1': 256, 'units2': 32, 'dropout1': 0.1, 'dropout2': 0.30000000000000004, 'learning_rate': 0.0012897574371728184, 'batch_size': 32}. Best is trial 8 with value: 0.9950000047683716.\n"
     ]
    },
    {
     "name": "stderr",
     "output_type": "stream",
     "text": [
      "Best trial: 8. Best value: 0.995:  90%|████████████████████████████████████████▌    | 27/30 [1:08:01<08:46, 175.60s/it]"
     ]
    },
    {
     "name": "stdout",
     "output_type": "stream",
     "text": [
      "[Trial 26] units1=128, units2=256, dropout1=0.2, dropout2=0.4, lr=7.3e-04, batch_size=32 → val_acc=0.9912\n",
      "\n",
      "[I 2025-06-05 00:17:18,056] Trial 26 finished with value: 0.9912499785423279 and parameters: {'units1': 128, 'units2': 256, 'dropout1': 0.2, 'dropout2': 0.4, 'learning_rate': 0.000725353483237914, 'batch_size': 32}. Best is trial 8 with value: 0.9950000047683716.\n"
     ]
    },
    {
     "name": "stderr",
     "output_type": "stream",
     "text": [
      "Best trial: 8. Best value: 0.995:  93%|██████████████████████████████████████████   | 28/30 [1:09:19<04:52, 146.34s/it]"
     ]
    },
    {
     "name": "stdout",
     "output_type": "stream",
     "text": [
      "[Trial 27] units1=96, units2=64, dropout1=0.1, dropout2=0.2, lr=1.9e-04, batch_size=32 → val_acc=0.9925\n",
      "\n",
      "[I 2025-06-05 00:18:36,127] Trial 27 finished with value: 0.9925000071525574 and parameters: {'units1': 96, 'units2': 64, 'dropout1': 0.1, 'dropout2': 0.2, 'learning_rate': 0.00018603384266603021, 'batch_size': 32}. Best is trial 8 with value: 0.9950000047683716.\n"
     ]
    },
    {
     "name": "stderr",
     "output_type": "stream",
     "text": [
      "Best trial: 8. Best value: 0.995:  97%|███████████████████████████████████████████▌ | 29/30 [1:10:21<02:00, 120.99s/it]"
     ]
    },
    {
     "name": "stdout",
     "output_type": "stream",
     "text": [
      "[Trial 28] units1=64, units2=128, dropout1=0.2, dropout2=0.5, lr=6.3e-03, batch_size=16 → val_acc=0.9912\n",
      "\n",
      "[I 2025-06-05 00:19:37,974] Trial 28 finished with value: 0.9912499785423279 and parameters: {'units1': 64, 'units2': 128, 'dropout1': 0.2, 'dropout2': 0.5, 'learning_rate': 0.006328451419757687, 'batch_size': 16}. Best is trial 8 with value: 0.9950000047683716.\n"
     ]
    },
    {
     "name": "stderr",
     "output_type": "stream",
     "text": [
      "Best trial: 8. Best value: 0.995: 100%|█████████████████████████████████████████████| 30/30 [1:11:08<00:00, 142.27s/it]"
     ]
    },
    {
     "name": "stdout",
     "output_type": "stream",
     "text": [
      "[Trial 29] units1=128, units2=32, dropout1=0.3, dropout2=0.2, lr=2.6e-03, batch_size=64 → val_acc=0.9937\n",
      "\n",
      "[I 2025-06-05 00:20:24,821] Trial 29 finished with value: 0.9937499761581421 and parameters: {'units1': 128, 'units2': 32, 'dropout1': 0.30000000000000004, 'dropout2': 0.2, 'learning_rate': 0.0026143909991963553, 'batch_size': 64}. Best is trial 8 with value: 0.9950000047683716.\n",
      "========== 최적 하이퍼파라미터 ==========\n",
      "units1: 128\n",
      "units2: 128\n",
      "dropout1: 0.1\n",
      "dropout2: 0.30000000000000004\n",
      "learning_rate: 0.004077968727491807\n",
      "batch_size: 32\n"
     ]
    },
    {
     "name": "stderr",
     "output_type": "stream",
     "text": [
      "\n"
     ]
    },
    {
     "name": "stdout",
     "output_type": "stream",
     "text": [
      "Epoch 1/50\n",
      "\u001b[1m100/100\u001b[0m \u001b[32m━━━━━━━━━━━━━━━━━━━━\u001b[0m\u001b[37m\u001b[0m \u001b[1m8s\u001b[0m 47ms/step - accuracy: 0.9178 - loss: 0.2013 - val_accuracy: 0.8050 - val_loss: 0.7468 - learning_rate: 0.0041\n",
      "Epoch 2/50\n",
      "\u001b[1m100/100\u001b[0m \u001b[32m━━━━━━━━━━━━━━━━━━━━\u001b[0m\u001b[37m\u001b[0m \u001b[1m4s\u001b[0m 41ms/step - accuracy: 0.9964 - loss: 0.0197 - val_accuracy: 0.8637 - val_loss: 0.4787 - learning_rate: 0.0041\n",
      "Epoch 3/50\n",
      "\u001b[1m100/100\u001b[0m \u001b[32m━━━━━━━━━━━━━━━━━━━━\u001b[0m\u001b[37m\u001b[0m \u001b[1m4s\u001b[0m 41ms/step - accuracy: 0.9985 - loss: 0.0075 - val_accuracy: 0.8625 - val_loss: 0.4887 - learning_rate: 0.0041\n",
      "Epoch 4/50\n",
      "\u001b[1m100/100\u001b[0m \u001b[32m━━━━━━━━━━━━━━━━━━━━\u001b[0m\u001b[37m\u001b[0m \u001b[1m4s\u001b[0m 42ms/step - accuracy: 0.9983 - loss: 0.0052 - val_accuracy: 0.8725 - val_loss: 0.4813 - learning_rate: 0.0041\n",
      "Epoch 5/50\n",
      "\u001b[1m100/100\u001b[0m \u001b[32m━━━━━━━━━━━━━━━━━━━━\u001b[0m\u001b[37m\u001b[0m \u001b[1m5s\u001b[0m 45ms/step - accuracy: 0.9997 - loss: 0.0022 - val_accuracy: 0.8788 - val_loss: 0.5074 - learning_rate: 0.0041\n",
      "Epoch 6/50\n",
      "\u001b[1m100/100\u001b[0m \u001b[32m━━━━━━━━━━━━━━━━━━━━\u001b[0m\u001b[37m\u001b[0m \u001b[1m4s\u001b[0m 43ms/step - accuracy: 1.0000 - loss: 0.0014 - val_accuracy: 0.8925 - val_loss: 0.3989 - learning_rate: 0.0041\n",
      "Epoch 7/50\n",
      "\u001b[1m100/100\u001b[0m \u001b[32m━━━━━━━━━━━━━━━━━━━━\u001b[0m\u001b[37m\u001b[0m \u001b[1m4s\u001b[0m 43ms/step - accuracy: 1.0000 - loss: 9.2942e-04 - val_accuracy: 0.8650 - val_loss: 0.5870 - learning_rate: 0.0041\n",
      "Epoch 8/50\n",
      "\u001b[1m100/100\u001b[0m \u001b[32m━━━━━━━━━━━━━━━━━━━━\u001b[0m\u001b[37m\u001b[0m \u001b[1m4s\u001b[0m 43ms/step - accuracy: 1.0000 - loss: 3.5366e-04 - val_accuracy: 0.8763 - val_loss: 0.5159 - learning_rate: 0.0041\n",
      "Epoch 9/50\n",
      "\u001b[1m100/100\u001b[0m \u001b[32m━━━━━━━━━━━━━━━━━━━━\u001b[0m\u001b[37m\u001b[0m \u001b[1m4s\u001b[0m 41ms/step - accuracy: 1.0000 - loss: 2.1359e-04 - val_accuracy: 0.8725 - val_loss: 0.5428 - learning_rate: 0.0041\n",
      "Epoch 10/50\n",
      "\u001b[1m100/100\u001b[0m \u001b[32m━━━━━━━━━━━━━━━━━━━━\u001b[0m\u001b[37m\u001b[0m \u001b[1m4s\u001b[0m 41ms/step - accuracy: 1.0000 - loss: 1.6385e-04 - val_accuracy: 0.8775 - val_loss: 0.4916 - learning_rate: 0.0041\n",
      "Epoch 11/50\n",
      "\u001b[1m100/100\u001b[0m \u001b[32m━━━━━━━━━━━━━━━━━━━━\u001b[0m\u001b[37m\u001b[0m \u001b[1m4s\u001b[0m 43ms/step - accuracy: 1.0000 - loss: 2.1360e-04 - val_accuracy: 0.8863 - val_loss: 0.4677 - learning_rate: 0.0041\n",
      "Epoch 12/50\n",
      "\u001b[1m100/100\u001b[0m \u001b[32m━━━━━━━━━━━━━━━━━━━━\u001b[0m\u001b[37m\u001b[0m \u001b[1m4s\u001b[0m 44ms/step - accuracy: 1.0000 - loss: 1.0177e-04 - val_accuracy: 0.8863 - val_loss: 0.4807 - learning_rate: 0.0020\n",
      "Epoch 13/50\n",
      "\u001b[1m100/100\u001b[0m \u001b[32m━━━━━━━━━━━━━━━━━━━━\u001b[0m\u001b[37m\u001b[0m \u001b[1m4s\u001b[0m 43ms/step - accuracy: 1.0000 - loss: 8.7226e-05 - val_accuracy: 0.8888 - val_loss: 0.4825 - learning_rate: 0.0020\n",
      "Epoch 14/50\n",
      "\u001b[1m100/100\u001b[0m \u001b[32m━━━━━━━━━━━━━━━━━━━━\u001b[0m\u001b[37m\u001b[0m \u001b[1m4s\u001b[0m 44ms/step - accuracy: 1.0000 - loss: 9.5025e-05 - val_accuracy: 0.8875 - val_loss: 0.4804 - learning_rate: 0.0020\n",
      "Epoch 15/50\n",
      "\u001b[1m100/100\u001b[0m \u001b[32m━━━━━━━━━━━━━━━━━━━━\u001b[0m\u001b[37m\u001b[0m \u001b[1m4s\u001b[0m 42ms/step - accuracy: 1.0000 - loss: 9.5295e-05 - val_accuracy: 0.8863 - val_loss: 0.4923 - learning_rate: 0.0020\n",
      "Epoch 16/50\n",
      "\u001b[1m100/100\u001b[0m \u001b[32m━━━━━━━━━━━━━━━━━━━━\u001b[0m\u001b[37m\u001b[0m \u001b[1m5s\u001b[0m 47ms/step - accuracy: 1.0000 - loss: 9.1940e-05 - val_accuracy: 0.8850 - val_loss: 0.5007 - learning_rate: 0.0020\n"
     ]
    },
    {
     "data": {
      "image/png": "[encoded data removed]",
      "text/plain": [
       "<Figure size 1000x400 with 2 Axes>"
      ]
     },
     "metadata": {},
     "output_type": "display_data"
    },
    {
     "name": "stderr",
     "output_type": "stream",
     "text": [
      "WARNING:absl:You are saving your model as an HDF5 file via `model.save()` or `keras.saving.save_model(model)`. This file format is considered legacy. We recommend using instead the native Keras format, e.g. `model.save('my_model.keras')` or `keras.saving.save_model(model, 'my_model.keras')`. \n"
     ]
    }
   ],
   "source": [
    "# ============================================\n",
    "# 3) Optuna 스터디 생성 및 최적화 실행\n",
    "# ============================================\n",
    "if __name__ == \"__main__\":\n",
    "    study = optuna.create_study(direction=\"maximize\")\n",
    "    study.optimize(objective, n_trials=30, show_progress_bar=True)\n",
    "\n",
    "    print(\"========== 최적 하이퍼파라미터 ==========\")\n",
    "    for key, value in study.best_params.items():\n",
    "        print(f\"{key}: {value}\")\n",
    "\n",
    "    # ============================================\n",
    "    # 4) 최적 파라미터로 전체 데이터 재학습\n",
    "    # ============================================\n",
    "    best = study.best_params\n",
    "    final_model = build_dnn_model(\n",
    "        input_shape=X.shape[1:],\n",
    "        units1=best[\"units1\"],\n",
    "        units2=best[\"units2\"],\n",
    "        dropout1=best[\"dropout1\"],\n",
    "        dropout2=best[\"dropout2\"],\n",
    "        learning_rate=best[\"learning_rate\"]\n",
    "    )\n",
    "\n",
    "    callbacks_final = [\n",
    "        EarlyStopping(monitor='val_loss', patience=10, restore_best_weights=True),\n",
    "        ReduceLROnPlateau(monitor='val_loss', factor=0.5, patience=5, min_lr=1e-6)\n",
    "    ]\n",
    "\n",
    "    # 4-1) 최종 학습 결과를 history 객체로 저장\n",
    "    final_history = final_model.fit(\n",
    "        X, y,\n",
    "        validation_split=0.2,\n",
    "        epochs=50,\n",
    "        batch_size=best[\"batch_size\"],\n",
    "        class_weight={cls: w for cls, w in zip(np.unique(y), compute_class_weight(\n",
    "            class_weight='balanced',\n",
    "            classes=np.unique(y),\n",
    "            y=y\n",
    "        ))},\n",
    "        callbacks=callbacks_final,\n",
    "        verbose=1\n",
    "    )\n",
    "\n",
    "    # ============================================\n",
    "    # 5) 최종 학습 과정 시각화 (plot_history 함수 사용)\n",
    "    # ============================================\n",
    "    def plot_history(history):\n",
    "        plt.figure(figsize=(10, 4))\n",
    "\n",
    "        plt.subplot(1, 2, 1)\n",
    "        plt.plot(history.history['loss'], label='train_loss')\n",
    "        plt.plot(history.history['val_loss'], label='val_loss')\n",
    "        plt.title(\"Loss\")\n",
    "        plt.legend()\n",
    "\n",
    "        plt.subplot(1, 2, 2)\n",
    "        plt.plot(history.history['accuracy'], label='train_acc')\n",
    "        plt.plot(history.history['val_accuracy'], label='val_acc')\n",
    "        plt.title(\"Accuracy\")\n",
    "        plt.legend()\n",
    "\n",
    "        plt.show()\n",
    "\n",
    "    # plot_history 함수를 호출하여 학습/검증 지표 시각화\n",
    "    plot_history(final_history)\n",
    "\n",
    "    # 5-2) 모델 저장\n",
    "    final_model.save(\"dnn_model.h5\")"
   ]
  },
  {
   "cell_type": "code",
   "execution_count": 104,
   "metadata": {},
   "outputs": [
    {
     "name": "stdout",
     "output_type": "stream",
     "text": [
      "========== 최종 Tie-breaker 적용 결과 ==========\n",
      "units1: 128\n",
      "units2: 128\n",
      "dropout1: 0.1\n",
      "dropout2: 0.30000000000000004\n",
      "learning_rate: 0.004077968727491807\n",
      "batch_size: 32\n"
     ]
    }
   ],
   "source": [
    "# Optuna 튜닝 완료 후, 동일 best_value를 가진 Trial 중 최종 Best를 선택하는 후처리 코드\n",
    "\n",
    "# 1) Optuna가 기록한 최고 검증 정확도 가져오기\n",
    "best_value = study.best_value\n",
    "\n",
    "# 2) 동일한 value를 가진 모든 Trial 리스트 생성\n",
    "same_value_trials = [t for t in study.trials if t.value == best_value]\n",
    "\n",
    "# 3) 모델 복잡도 계산 함수 (units1 * units2)\n",
    "def model_complexity(trial):\n",
    "    return trial.params.get(\"units1\", float(\"inf\")) * trial.params.get(\"units2\", float(\"inf\"))\n",
    "\n",
    "# 4) 실행 시간 계산 함수\n",
    "def trial_duration(trial):\n",
    "    if trial.datetime_start and trial.datetime_complete:\n",
    "        return (trial.datetime_complete - trial.datetime_start).total_seconds()\n",
    "    return float(\"inf\")\n",
    "\n",
    "# 5) Tie-breaker: 1차 기준=모델 복잡도(작을수록 우선), 2차 기준=실행 시간(짧을수록 우선)\n",
    "def tie_breaker_key(trial):\n",
    "    return (model_complexity(trial), trial_duration(trial))\n",
    "\n",
    "# 6) 정렬 후 최종 Best Trial 선택\n",
    "sorted_trials = sorted(same_value_trials, key=tie_breaker_key)\n",
    "final_best = sorted_trials[0]\n",
    "\n",
    "# 7) 최종 Best 파라미터\n",
    "best_params = final_best.params\n",
    "\n",
    "# 예시 출력\n",
    "print(\"========== 최종 Tie-breaker 적용 결과 ==========\")\n",
    "for key, value in best_params.items():\n",
    "    print(f\"{key}: {value}\")\n"
   ]
  },
  {
   "cell_type": "markdown",
   "metadata": {
    "id": "CnuE7NqWxT10"
   },
   "source": [
    "# 테스트 데이터 로딩 및 평가"
   ]
  },
  {
   "cell_type": "code",
   "execution_count": 105,
   "metadata": {
    "colab": {
     "base_uri": "https://localhost:8080/",
     "height": 729
    },
    "id": "__4iIRuXxG3l",
    "outputId": "4eb5ae96-90c9-4b64-fdab-8c6364fc1a91"
   },
   "outputs": [
    {
     "name": "stdout",
     "output_type": "stream",
     "text": [
      "테스트 샘플별 원본 time_steps 길이 분포:\n",
      "  길이=2000인 샘플 수: 2000\n",
      "\n",
      "패딩 전후 shape 비교:\n",
      "  샘플 1: 원본 (2000, 20) → 패딩 후 (4000, 20)\n",
      "  샘플 2: 원본 (2000, 20) → 패딩 후 (4000, 20)\n",
      "  샘플 3: 원본 (2000, 20) → 패딩 후 (4000, 20)\n",
      "  샘플 4: 원본 (2000, 20) → 패딩 후 (4000, 20)\n",
      "  샘플 5: 원본 (2000, 20) → 패딩 후 (4000, 20)\n",
      "\n",
      "전체 패딩 후 X_test_padded.shape: (2000, 4000, 20)\n",
      "\u001b[1m63/63\u001b[0m \u001b[32m━━━━━━━━━━━━━━━━━━━━\u001b[0m\u001b[37m\u001b[0m \u001b[1m1s\u001b[0m 10ms/step\n",
      "\n",
      "✅ Classification Report - TEST DATA\n",
      "              precision    recall  f1-score   support\n",
      "\n",
      "        Real       0.84      0.99      0.91      1000\n",
      "        Fake       0.99      0.81      0.89      1000\n",
      "\n",
      "    accuracy                           0.90      2000\n",
      "   macro avg       0.92      0.90      0.90      2000\n",
      "weighted avg       0.92      0.90      0.90      2000\n",
      "\n",
      "ROC AUC: 0.912\n"
     ]
    },
    {
     "data": {
      "image/png": "[encoded data removed]",
      "text/plain": [
       "<Figure size 600x500 with 2 Axes>"
      ]
     },
     "metadata": {},
     "output_type": "display_data"
    }
   ],
   "source": [
    "import numpy as np\n",
    "import matplotlib.pyplot as plt\n",
    "import seaborn as sns\n",
    "from sklearn.metrics import classification_report, confusion_matrix, roc_auc_score\n",
    "\n",
    "# -------------------------------------------\n",
    "# 6. 테스트 데이터 평가 (길이 확인 후 패딩 포함)\n",
    "# -------------------------------------------\n",
    "\n",
    "# (1) 패딩 대상 시퀀스 길이 확인\n",
    "#    X_test.shape == (n_samples, time_steps, n_features) 일 때,\n",
    "#    각 샘플의 time_steps (예: mfcc.shape[0])가 무엇인지 확인합니다.\n",
    "time_steps_list = [sample.shape[0] for sample in X_test]\n",
    "unique_lengths, counts = np.unique(time_steps_list, return_counts=True)\n",
    "print(\"테스트 샘플별 원본 time_steps 길이 분포:\")\n",
    "for length, cnt in zip(unique_lengths, counts):\n",
    "    print(f\"  길이={length}인 샘플 수: {cnt}\")\n",
    "# 예) 길이=2000인 샘플 수: 2000\n",
    "#     (모두 2000이라면 이 한 줄만 표시됩니다)\n",
    "\n",
    "# (2) 패딩 함수 정의: (time_steps, n_features) → (4000, n_features)\n",
    "def pad_to_4000(x: np.ndarray) -> np.ndarray:\n",
    "    \"\"\"\n",
    "    x: np.ndarray of shape (time_steps, n_features)\n",
    "    return: np.ndarray of shape (4000, n_features), 부족한 부분은 뒤에 0으로 채움\n",
    "    \"\"\"\n",
    "    current_len, n_feat = x.shape\n",
    "    if current_len >= 4000:\n",
    "        # 길이가 4000 이상인 경우 앞쪽 4000 프레임만 사용\n",
    "        return x[:4000, :]\n",
    "    # 부족한 길이만큼 뒤쪽에 0으로 패딩\n",
    "    pad_width = 4000 - current_len\n",
    "    padding = np.zeros((pad_width, n_feat), dtype=x.dtype)\n",
    "    return np.concatenate([x, padding], axis=0)\n",
    "\n",
    "# (3) 패딩 적용 전/후 길이를 동시에 확인\n",
    "print(\"\\n패딩 전후 shape 비교:\")\n",
    "for idx, sample in enumerate(X_test[:5]):  # 첫 5개 샘플만 예시로 출력\n",
    "    orig_shape = sample.shape\n",
    "    padded = pad_to_4000(sample)\n",
    "    print(f\"  샘플 {idx+1}: 원본 {orig_shape} → 패딩 후 {padded.shape}\")\n",
    "\n",
    "# (4) 전체 테스트 세트에 패딩 적용\n",
    "X_test_padded = np.array([pad_to_4000(sample) for sample in X_test])\n",
    "#    이제 X_test_padded.shape == (n_samples, 4000, n_features) 이어야 합니다.\n",
    "print(f\"\\n전체 패딩 후 X_test_padded.shape: {X_test_padded.shape}\")\n",
    "# 예시: (2000, 4000, 20)\n",
    "\n",
    "# (5) 모델 예측 (Flatten은 모델 내부에서 자동 처리됨)\n",
    "y_prob = model.predict(X_test_padded)  # shape: (n_samples, 1) 또는 (n_samples,)\n",
    "y_pred = (y_prob > 0.8).astype(int).reshape(-1)\n",
    "\n",
    "# (6) 평가 지표 출력\n",
    "print(\"\\n✅ Classification Report - TEST DATA\")\n",
    "print(classification_report(y_test, y_pred, target_names=['Real','Fake']))\n",
    "print(f\"ROC AUC: {roc_auc_score(y_test, y_prob):.3f}\")\n",
    "\n",
    "# (7) 혼동 행렬 시각화\n",
    "cm = confusion_matrix(y_test, y_pred)\n",
    "plt.figure(figsize=(6,5))\n",
    "sns.heatmap(cm, annot=True, fmt='d', cmap='Blues',\n",
    "            xticklabels=['Real','Fake'], yticklabels=['Real','Fake'])\n",
    "plt.xlabel(\"Predicted\")\n",
    "plt.ylabel(\"Actual\")\n",
    "plt.title(\"Confusion Matrix\")\n",
    "plt.show()\n"
   ]
  },
  {
   "cell_type": "code",
   "execution_count": null,
   "metadata": {},
   "outputs": [],
   "source": [
    "여기서 부터 오류남\n"
   ]
  },
  {
   "cell_type": "markdown",
   "metadata": {
    "id": "u2OsR5E88V8l"
   },
   "source": [
    "## Spectral_Contrast 특징 활용 모델\n",
    "- 오분류된 데이터에 대해서 따로 특징을 추출하여 분류를 시도함. 이를 활용하여 약 1% 성능 향상이 가능하였음."
   ]
  },
  {
   "cell_type": "code",
   "execution_count": 106,
   "metadata": {
    "id": "F4cCuHCo1s0F"
   },
   "outputs": [],
   "source": [
    "import os\n",
    "import numpy as np\n",
    "import pandas as pd\n",
    "import librosa\n",
    "from tqdm import tqdm\n",
    "\n",
    "def pad_to_4000(x: np.ndarray) -> np.ndarray:\n",
    "    \"\"\"\n",
    "    x: np.ndarray of shape (time_steps, n_features)\n",
    "    return: np.ndarray of shape (4000, n_features), 부족한 부분은 뒤에 0으로 채움\n",
    "    \"\"\"\n",
    "    current_len, n_feat = x.shape\n",
    "    if current_len >= 4000:\n",
    "        # 길이가 4000 이상이면 앞쪽 4000프레임만 사용\n",
    "        return x[:4000, :]\n",
    "    pad_width = 4000 - current_len\n",
    "    padding = np.zeros((pad_width, n_feat), dtype=x.dtype)\n",
    "    return np.concatenate([x, padding], axis=0)\n",
    "\n",
    "def predict_with_spectral_contrast(model, X_test, test_label_path, test_audio_path, score: float = 0.32):\n",
    "    \"\"\"\n",
    "    1) X_test: np.ndarray of shape (n_samples, time_steps, n_features) — 패딩 전 상태일 수 있음\n",
    "    2) test_label_path: 'test_label.txt' 파일 경로 (공백으로 구분된 두 번째 컬럼=filename, 다섯 번째 컬럼=label)\n",
    "    3) test_audio_path: 테스트 오디오 파일들이 들어 있는 폴더 경로\n",
    "    4) score: DNN 확률 임계값 (예: 0.32 이하인 샘플만 Spectral Contrast 보정 대상)\n",
    "    \n",
    "    반환:\n",
    "      y_prob: np.ndarray of shape (n_samples,) — 보정된 확률 벡터\n",
    "    \"\"\"\n",
    "    # 🔹 0. X_test 길이가 4000×n_features인지 확인하고, 아니면 패딩 적용\n",
    "    #    (각 샘플이 np.ndarray 형태, shape=(time_steps, n_features))\n",
    "    padded_list = []\n",
    "    for idx, sample in enumerate(X_test):\n",
    "        # 길이를 확인해서 패딩 또는 절단\n",
    "        padded_sample = pad_to_4000(sample)\n",
    "        padded_list.append(padded_sample)\n",
    "    X_test_padded = np.array(padded_list)  # shape = (n_samples, 4000, n_features)\n",
    "\n",
    "    # 🔹 1. DNN 예측; 내부 Flatten 레이어가 (4000, n_features) → (4000*n_features,)로 자동 처리\n",
    "    y_prob = model.predict(X_test_padded).flatten()  # shape = (n_samples,)\n",
    "\n",
    "    # 🔹 2. 보정 대상: 확률이 낮은 샘플 인덱스\n",
    "    uncertain_idx = np.where(y_prob < score)[0]\n",
    "\n",
    "    # 🔹 3. test_label.txt에서 파일 이름과 실제 라벨 가져오기\n",
    "    #    (두 번째 컬럼이 filename, 다섯 번째 컬럼이 label이라고 가정)\n",
    "    df = pd.read_csv(test_label_path, sep='\\s+', header=None, usecols=[1, 4], names=['filename', 'label'])\n",
    "    #    라벨을 0/1로 변환 (Real=0, Fake=1)\n",
    "    df['label'] = df['label'].map({'Real': 0, 'Fake': 1})\n",
    "\n",
    "    test_filenames = df['filename'].tolist()\n",
    "    y_test = df['label'].values.astype(int)\n",
    "\n",
    "    # 🔹 4. Spectral Contrast 기반 보정\n",
    "    for idx in tqdm(uncertain_idx, desc=\"📌 Spectral Contrast 보정 중\"):\n",
    "        filename = test_filenames[idx]\n",
    "        file_path = os.path.join(test_audio_path, filename)\n",
    "\n",
    "        try:\n",
    "            # 오디오 로드 (sr=16000)\n",
    "            y, sr = librosa.load(file_path, sr=16000)\n",
    "            # Spectral Contrast 계산\n",
    "            contrast = librosa.feature.spectral_contrast(y=y, sr=sr)\n",
    "            # 고주파 2개 밴드 평균\n",
    "            high_contrast = np.mean(contrast[-2:, :])\n",
    "            # 특정 범위 이외면 Fake(1)로 보정\n",
    "            if (high_contrast < 21.0) or (high_contrast > 27.0):\n",
    "                y_prob[idx] = 1.0\n",
    "        except Exception as e:\n",
    "            print(f\"⚠️ Error processing {filename}: {e}\")\n",
    "\n",
    "    return y_prob\n"
   ]
  },
  {
   "cell_type": "code",
   "execution_count": 61,
   "metadata": {},
   "outputs": [
    {
     "name": "stdout",
     "output_type": "stream",
     "text": [
      "X_test shape: (2000, 2000, 20)\n"
     ]
    }
   ],
   "source": [
    "print(\"X_test shape:\", X_test.shape)\n"
   ]
  },
  {
   "cell_type": "code",
   "execution_count": 107,
   "metadata": {},
   "outputs": [],
   "source": [
    "import numpy as np\n",
    "\n",
    "# 1) (2000, 20) → (4000, 20)로 길이를 맞춰 주는 함수\n",
    "def pad_to_4000(x: np.ndarray) -> np.ndarray:\n",
    "    \"\"\"\n",
    "    x: shape = (2000, 20) 배열\n",
    "    return: shape = (4000, 20) 배열 (부족한 뒤에 0으로 채움)\n",
    "    \"\"\"\n",
    "    current_len, num_feat = x.shape  # (2000, 20)\n",
    "    if current_len >= 4000:\n",
    "        return x[:4000, :]\n",
    "    else:\n",
    "        pad_width = 4000 - current_len  # 2000\n",
    "        padding = np.zeros((pad_width, num_feat), dtype=x.dtype)\n",
    "        return np.concatenate([x, padding], axis=0)  # 결과: (4000, 20)\n",
    "\n",
    "# 2) 패딩 후 DNN 예측만 수행하는 버전\n",
    "def predict_with_spectral_contrast(model, X_test: np.ndarray, score: float = 0.5):\n",
    "    \"\"\"\n",
    "    - X_test: shape = (n_samples, 2000, 20)\n",
    "    - 내부에서 (2000, 20) → (4000, 20)로 패딩한 뒤 model.predict() 호출\n",
    "    - 이 함수 안에서 model.predict(X_test)를 절대 직접 호출하지 않습니다.\n",
    "    \"\"\"\n",
    "    # 2-1) 전체 테스트 세트 패딩\n",
    "    X_test_padded = np.array([pad_to_4000(sample) for sample in X_test])\n",
    "    # 이제 X_test_padded.shape == (n_samples, 4000, 20)\n",
    "\n",
    "    # 2-2) DNN 예측 (모델 내부에 Flatten 레이어가 있으므로, 그대로 넣으면 됩니다)\n",
    "    y_prob = model.predict(X_test_padded).flatten()  # shape = (n_samples,)\n",
    "\n",
    "    # (Spectral contrast 보정 로직이 필요 없으면 이대로 return)\n",
    "    return y_prob\n"
   ]
  },
  {
   "cell_type": "code",
   "execution_count": 108,
   "metadata": {
    "colab": {
     "base_uri": "https://localhost:8080/",
     "height": 748
    },
    "id": "tPcNNMs119AW",
    "outputId": "22496280-34f3-410b-be58-53416cbc5a2f"
   },
   "outputs": [
    {
     "name": "stdout",
     "output_type": "stream",
     "text": [
      "\u001b[1m63/63\u001b[0m \u001b[32m━━━━━━━━━━━━━━━━━━━━\u001b[0m\u001b[37m\u001b[0m \u001b[1m1s\u001b[0m 10ms/step\n",
      "\n",
      "✅ Classification Report - TEST DATA\n",
      "              precision    recall  f1-score   support\n",
      "\n",
      "        Real       0.85      0.98      0.91      1000\n",
      "        Fake       0.98      0.83      0.90      1000\n",
      "\n",
      "    accuracy                           0.91      2000\n",
      "   macro avg       0.92      0.91      0.91      2000\n",
      "weighted avg       0.92      0.91      0.91      2000\n",
      "\n",
      "ROC AUC: 0.912\n"
     ]
    },
    {
     "data": {
      "image/png": "[encoded data removed]",
      "text/plain": [
       "<Figure size 600x500 with 2 Axes>"
      ]
     },
     "metadata": {},
     "output_type": "display_data"
    }
   ],
   "source": [
    "# 🔹 5. 최종 이진 판정 (확률 기준은 0.5 유지)\n",
    "y_prob = predict_with_spectral_contrast(model,X_test, score=0.5)\n",
    "y_pred = (y_prob >= 0.5).astype(int)\n",
    "print(\"\\n✅ Classification Report - TEST DATA\")\n",
    "print(classification_report(y_test, y_pred, target_names=['Real','Fake']))\n",
    "print(f\"ROC AUC: {roc_auc_score(y_test, y_prob):.3f}\")\n",
    "\n",
    "cm = confusion_matrix(y_test, y_pred)\n",
    "plt.figure(figsize=(6,5))\n",
    "sns.heatmap(cm, annot=True, fmt='d', cmap='Blues',\n",
    "            xticklabels=['Real','Fake'], yticklabels=['Real','Fake'])\n",
    "plt.xlabel(\"Predicted\")\n",
    "plt.ylabel(\"Actual\")\n",
    "plt.title(\"Confusion Matrix\")\n",
    "plt.show()\n"
   ]
  },
  {
   "cell_type": "markdown",
   "metadata": {
    "id": "eJrbcPVlKgMe"
   },
   "source": [
    "## Spectral contrast 최적화 기준 자동화 선별 함수 (실험 코드)"
   ]
  },
  {
   "cell_type": "code",
   "execution_count": 109,
   "metadata": {
    "id": "_XTfmvJZ9ujG"
   },
   "outputs": [],
   "source": [
    "from sklearn.metrics import precision_recall_fscore_support, accuracy_score\n",
    "\n",
    "import os\n",
    "\n",
    "# 1) 실제 오디오 파일들이 들어 있는 디렉토리 경로\n",
    "test_audio_path = \"test\"   # 예시: 테스트 오디오가 들어 있는 폴더명\n",
    "\n",
    "# 2) 해당 폴더에 있는 모든 .wav 파일 이름을 리스트로 가져오기\n",
    "test_filenames = sorted([\n",
    "    f for f in os.listdir(test_audio_path)\n",
    "    if f.lower().endswith('.wav')\n",
    "])\n",
    "\n",
    "\n",
    "\n",
    "def run_experiment(model, X_test, y_test, test_filenames, test_audio_path,\n",
    "                   prob_thresholds=[0.3, 0.4, 0.5, 0.6],\n",
    "                   contrast_bounds=[(22.0, 26.0), (23.0, 26.5), (22.5, 27.0)]):\n",
    "\n",
    "    results = []\n",
    "\n",
    "    for prob_thresh in prob_thresholds:\n",
    "        for contrast_low, contrast_high in contrast_bounds:\n",
    "                    # 1. DNN 확률 예측\n",
    "          y_prob = model.predict(X_test).flatten()\n",
    "\n",
    "          # 2. 보정 대상 (확률 기준 이하)\n",
    "          uncertain_idx = np.where(y_prob < prob_thresh)[0]\n",
    "\n",
    "          # 3. Spectral Contrast 보정\n",
    "          for idx in tqdm(uncertain_idx, desc=f\"🔍 p<{prob_thresh}, c<{contrast_low} or >{contrast_high}\"):\n",
    "              file_path = os.path.join(test_audio_path, test_filenames[idx])\n",
    "              try:\n",
    "                  y, sr = librosa.load(file_path, sr=16000)\n",
    "                  contrast = librosa.feature.spectral_contrast(y=y, sr=sr)\n",
    "                  high_contrast = np.mean(contrast[-2:, :])\n",
    "\n",
    "                  # Fake로 보정 조건\n",
    "                  if high_contrast < contrast_low or high_contrast > contrast_high:\n",
    "                      y_prob[idx] = 1.0  # Fake로 강제 보정\n",
    "              except Exception as e:\n",
    "                  print(f\"⚠️ Error: {file_path} - {e}\")\n",
    "          for a in prob_thresholds:\n",
    "            # 4. 이진 결과\n",
    "            y_pred = (y_prob >= a).astype(int)\n",
    "\n",
    "            # 5. 지표 계산\n",
    "            acc = accuracy_score(y_test, y_pred)\n",
    "            precision, recall, f1, _ = precision_recall_fscore_support(y_test, y_pred, average='macro')\n",
    "\n",
    "            # 6. 기록\n",
    "            results.append({\n",
    "                'a' : a,\n",
    "                'prob_thresh': prob_thresh,\n",
    "                'contrast_low': contrast_low,\n",
    "                'contrast_high': contrast_high,\n",
    "                'accuracy': acc,\n",
    "                'precision': precision,\n",
    "                'recall': recall,\n",
    "                'f1': f1\n",
    "            })\n",
    "\n",
    "    return pd.DataFrame(results)"
   ]
  },
  {
   "cell_type": "code",
   "execution_count": 110,
   "metadata": {},
   "outputs": [],
   "source": [
    "import numpy as np\n",
    "\n",
    "# (이미 pad_to_4000 정의해 두셨다면 재정의할 필요 없습니다)\n",
    "def pad_to_4000(x: np.ndarray) -> np.ndarray:\n",
    "    curr_len, n_feat = x.shape  # 예: (2000,20)\n",
    "    if curr_len >= 4000:\n",
    "        return x[:4000, :]\n",
    "    pad_width = 4000 - curr_len\n",
    "    return np.concatenate([x, np.zeros((pad_width, n_feat), dtype=x.dtype)], axis=0)\n",
    "\n",
    "def run_experiment(model, X_test, y_test, test_filenames, test_audio_path,\n",
    "                   prob_thresholds, contrast_bounds):\n",
    "    results = []\n",
    "    \n",
    "    # 1) 테스트 데이터 전체를 먼저 패딩해 둔다\n",
    "    #    X_test.shape == (n_samples, 2000, 20) → X_test_padded.shape == (n_samples, 4000, 20)\n",
    "    X_test_padded = np.array([pad_to_4000(x) for x in X_test])\n",
    "    \n",
    "    for prob_thresh in prob_thresholds:\n",
    "        for contrast_low, contrast_high in contrast_bounds:\n",
    "            # 2) DNN 예측: 반드시 X_test_padded를 넣는다\n",
    "            y_prob = model.predict(X_test_padded).flatten()  # (n_samples,)\n",
    "            \n",
    "            # 3) DNN 확률 기반 보정 대상 인덱스 구하기\n",
    "            uncertain_idx = np.where(y_prob < prob_thresh)[0]\n",
    "            \n",
    "            # (여기에 Spectral Contrast 보정 로직을 넣되, 역시 X_test_padded 사용)\n",
    "            # 예를 들어:\n",
    "            if len(uncertain_idx) > 0:\n",
    "                sub_X = X_test_padded[uncertain_idx]\n",
    "                # spec_scores = apply_spectral_contrast(sub_X, low=contrast_low, high=contrast_high)\n",
    "                # y_prob[uncertain_idx] = spec_scores\n",
    "            \n",
    "            # 4) 최종 이진 예측\n",
    "            y_pred = (y_prob >= prob_thresh).astype(int)\n",
    "            \n",
    "            # 5) 평가 지표 계산 (예: precision, recall, f1 등)\n",
    "            #    아래는 예시 – 실제로 원하는 metric을 추가하세요.\n",
    "            from sklearn.metrics import precision_score, recall_score, f1_score, roc_auc_score\n",
    "            precision = precision_score(y_test, y_pred)\n",
    "            recall = recall_score(y_test, y_pred)\n",
    "            f1 = f1_score(y_test, y_pred)\n",
    "            auc = roc_auc_score(y_test, y_prob)\n",
    "            \n",
    "            results.append({\n",
    "                'prob_thresh': prob_thresh,\n",
    "                'contrast_low': contrast_low,\n",
    "                'contrast_high': contrast_high,\n",
    "                'precision': precision,\n",
    "                'recall': recall,\n",
    "                'f1': f1,\n",
    "                'auc': auc\n",
    "            })\n",
    "    \n",
    "    import pandas as pd\n",
    "    return pd.DataFrame(results)\n"
   ]
  },
  {
   "cell_type": "code",
   "execution_count": 111,
   "metadata": {
    "colab": {
     "base_uri": "https://localhost:8080/",
     "height": 199
    },
    "id": "u0kbVwyk93KE",
    "outputId": "6d2f8638-fd83-4eed-fc69-e84d87724fbd"
   },
   "outputs": [
    {
     "name": "stdout",
     "output_type": "stream",
     "text": [
      "\u001b[1m63/63\u001b[0m \u001b[32m━━━━━━━━━━━━━━━━━━━━\u001b[0m\u001b[37m\u001b[0m \u001b[1m1s\u001b[0m 9ms/step\n",
      "\u001b[1m63/63\u001b[0m \u001b[32m━━━━━━━━━━━━━━━━━━━━\u001b[0m\u001b[37m\u001b[0m \u001b[1m1s\u001b[0m 10ms/step\n"
     ]
    },
    {
     "data": {
      "text/html": [
       "<div>\n",
       "<style scoped>\n",
       "    .dataframe tbody tr th:only-of-type {\n",
       "        vertical-align: middle;\n",
       "    }\n",
       "\n",
       "    .dataframe tbody tr th {\n",
       "        vertical-align: top;\n",
       "    }\n",
       "\n",
       "    .dataframe thead th {\n",
       "        text-align: right;\n",
       "    }\n",
       "</style>\n",
       "<table border=\"1\" class=\"dataframe\">\n",
       "  <thead>\n",
       "    <tr style=\"text-align: right;\">\n",
       "      <th></th>\n",
       "      <th>prob_thresh</th>\n",
       "      <th>contrast_low</th>\n",
       "      <th>contrast_high</th>\n",
       "      <th>precision</th>\n",
       "      <th>recall</th>\n",
       "      <th>f1</th>\n",
       "      <th>auc</th>\n",
       "    </tr>\n",
       "  </thead>\n",
       "  <tbody>\n",
       "    <tr>\n",
       "      <th>0</th>\n",
       "      <td>0.32</td>\n",
       "      <td>21.0</td>\n",
       "      <td>27.0</td>\n",
       "      <td>0.97219</td>\n",
       "      <td>0.839</td>\n",
       "      <td>0.900698</td>\n",
       "      <td>0.912454</td>\n",
       "    </tr>\n",
       "    <tr>\n",
       "      <th>1</th>\n",
       "      <td>0.32</td>\n",
       "      <td>20.5</td>\n",
       "      <td>27.5</td>\n",
       "      <td>0.97219</td>\n",
       "      <td>0.839</td>\n",
       "      <td>0.900698</td>\n",
       "      <td>0.912454</td>\n",
       "    </tr>\n",
       "  </tbody>\n",
       "</table>\n",
       "</div>"
      ],
      "text/plain": [
       "   prob_thresh  contrast_low  contrast_high  precision  recall        f1  \\\n",
       "0         0.32          21.0           27.0    0.97219   0.839  0.900698   \n",
       "1         0.32          20.5           27.5    0.97219   0.839  0.900698   \n",
       "\n",
       "        auc  \n",
       "0  0.912454  \n",
       "1  0.912454  "
      ]
     },
     "metadata": {},
     "output_type": "display_data"
    }
   ],
   "source": [
    "# 실험 설정 값\n",
    "prob_thresholds = [0.32]\n",
    "contrast_bounds = [(21,27),(20.5, 27.5)]\n",
    "\n",
    "# 실행\n",
    "result_df = run_experiment(model, X_test, y_test, test_filenames, test_audio_path,\n",
    "                           prob_thresholds, contrast_bounds)\n",
    "\n",
    "# 결과 출력 (F1-score 기준 정렬)\n",
    "result_df_sorted = result_df.sort_values(by='f1', ascending=False).reset_index(drop=True)\n",
    "\n",
    "from IPython.display import display\n",
    "display(result_df_sorted)"
   ]
  },
  {
   "cell_type": "markdown",
   "metadata": {
    "id": "bRpBFV7tLQI9"
   },
   "source": [
    "# 예측 결과 파일 작성"
   ]
  },
  {
   "cell_type": "code",
   "execution_count": 112,
   "metadata": {
    "colab": {
     "base_uri": "https://localhost:8080/"
    },
    "id": "lW15vZBXGcBr",
    "outputId": "99b32046-1a08-4dec-e865-406c71c77721"
   },
   "outputs": [
    {
     "name": "stdout",
     "output_type": "stream",
     "text": [
      "\u001b[1m63/63\u001b[0m \u001b[32m━━━━━━━━━━━━━━━━━━━━\u001b[0m\u001b[37m\u001b[0m \u001b[1m1s\u001b[0m 9ms/step\n",
      "✅ test_result.txt 저장 완료 (Perl 평가용)\n"
     ]
    }
   ],
   "source": [
    "from sklearn.preprocessing import LabelEncoder\n",
    "\n",
    "# 1. test 파일명 리스트 로딩\n",
    "def get_test_filenames(label_path):\n",
    "    filenames = []\n",
    "    with open(label_path, 'r') as f:\n",
    "        for line in f:\n",
    "            parts = line.strip().split()\n",
    "            if len(parts) >= 5:\n",
    "                filenames.append(parts[1])\n",
    "    return filenames\n",
    "\n",
    "# 2. LabelEncoder: Fake → 0, Real → 1\n",
    "le = LabelEncoder()\n",
    "le.fit(['Fake', 'Real']) # 반드시 이 순서로 지정해야 0=Fake, 1=Real\n",
    "\n",
    "# 3. 파일 이름 로드\n",
    "test_file_names = get_test_filenames(test_label_path)\n",
    "\n",
    "# 4. 예측 확률 → 클래스 (0 또는 1) => 정규화 방식에 따라 정확도가 차이가 남.\n",
    "y_pred_prob =predict_with_spectral_contrast(model,X_test, score=0.5)\n",
    "# y_pred_classes = np.argmax(y_pred_prob, axis=1)\n",
    "y_pred_classes = (y_pred_prob <= 0.5).astype(int).flatten()  # 확률 → 0 or 1\n",
    "\n",
    "\n",
    "# 5. 예측 결과 파일 작성\n",
    "with open('./test_result.txt', 'w') as f:\n",
    "    for i in range(len(y_pred_classes)):\n",
    "        label_str = le.inverse_transform([y_pred_classes[i]])[0]  # 0 → Fake, 1 → Real\n",
    "        f.write(f\"{test_file_names[i]} {label_str}\\n\")\n",
    "\n",
    "print(\"✅ test_result.txt 저장 완료 (Perl 평가용)\")"
   ]
  },
  {
   "cell_type": "code",
   "execution_count": 113,
   "metadata": {},
   "outputs": [
    {
     "name": "stdout",
     "output_type": "stream",
     "text": [
      "============ Results Analysis ===========\n",
      "Test : test_result.txt\n",
      "True : test_label.txt\n",
      "\n",
      "Accuracy: 90.75%\n",
      "Hit: 1815, Total: 2000\n",
      "=========================================\n",
      "============ Results Analysis ===========\n",
      "Test : test_result.txt\n",
      "True : test_label.txt\n",
      "\n",
      "Accuracy: 90.75%\n",
      "Hit: 1815, Total: 2000\n",
      "=========================================\n"
     ]
    }
   ],
   "source": [
    "import os\n",
    "\n",
    "def evaluate_with_python(pred_path: str, true_path: str):\n",
    "    \"\"\"\n",
    "    Perl eval.pl과 동일하게,\n",
    "    1) pred_path 파일의 각 줄에서 두 번째 토큰(인덱스1)을 꺼내,\n",
    "    2) true_path 파일의 각 줄에서 다섯 번째 토큰(인덱스4)을 꺼내 비교,\n",
    "    3) 전체 대비 맞춘 비율(Accuracy)과 맞춘 개수(hit), 총 개수(total)을 출력합니다.\n",
    "    \"\"\"\n",
    "    # 1) 예측 파일 읽기\n",
    "    with open(pred_path, 'r', encoding='utf-8') as f_pred:\n",
    "        lines_pred = [line.strip() for line in f_pred if line.strip()]\n",
    "    \n",
    "    # 2) 정답 파일 읽기\n",
    "    with open(true_path, 'r', encoding='utf-8') as f_true:\n",
    "        lines_true = [line.strip() for line in f_true if line.strip()]\n",
    "    \n",
    "    # 3) 두 파일의 라인 수가 동일해야 정상\n",
    "    if len(lines_pred) != len(lines_true):\n",
    "        print(\"Error: 예측 파일과 정답 파일의 라인 수가 다릅니다.\")\n",
    "        print(f\"  예측({pred_path}) 라인 수: {len(lines_pred)}\")\n",
    "        print(f\"  정답({true_path}) 라인 수: {len(lines_true)}\")\n",
    "        return\n",
    "    \n",
    "    total = len(lines_pred)\n",
    "    hit = 0\n",
    "    \n",
    "    # 4) 한 줄씩 순회하면서 두 번째 토큰 vs 다섯 번째 토큰 비교\n",
    "    for i, line_pred in enumerate(lines_pred):\n",
    "        # 예: \"somefile.wav Fake\"\n",
    "        parts_pred = line_pred.split()\n",
    "        # 만약 토큰 개수가 2개 이상이어야 두 번째 토큰(parts_pred[1])에 접근 가능\n",
    "        if len(parts_pred) < 2:\n",
    "            print(f\"Warning: 예측 파일 {i+1}번째 줄 토큰 개수 부족 → '{line_pred}'\")\n",
    "            continue\n",
    "        predicted_label = parts_pred[1]\n",
    "        \n",
    "        # 정답 줄: 보통 다섯 번째 토큰이 TrueLabel\n",
    "        # ex) \"0 0 0 0 Real\" 또는 \"xxx yyy zzz www Real\"\n",
    "        line_true = lines_true[i]\n",
    "        parts_true = line_true.split()\n",
    "        if len(parts_true) < 5:\n",
    "            print(f\"Warning: 정답 파일 {i+1}번째 줄 토큰 개수 부족 → '{line_true}'\")\n",
    "            continue\n",
    "        true_label = parts_true[4]\n",
    "        \n",
    "        if predicted_label == true_label:\n",
    "            hit += 1\n",
    "    \n",
    "    # 5) 정확도 계산\n",
    "    accuracy = hit / total * 100.0\n",
    "    \n",
    "    # 6) 결과 출력 (Perl 스크립트와 비슷한 포맷)\n",
    "    print(\"============ Results Analysis ===========\")\n",
    "    print(f\"Test : {os.path.basename(pred_path)}\")\n",
    "    print(f\"True : {os.path.basename(true_path)}\\n\")\n",
    "    print(f\"Accuracy: {accuracy:.2f}%\")\n",
    "    print(f\"Hit: {hit}, Total: {total}\")\n",
    "    print(\"=========================================\")\n",
    "\n",
    "\n",
    "# 사용 예시\n",
    "# 1) 위에 정의한 evaluate_with_python 함수가 이미 셀에 있다고 가정합니다.\n",
    "\n",
    "# 2) 호출 시 경로를 파일명만 사용\n",
    "test_pred_path = \"test_result.txt\"\n",
    "test_true_path = \"test_label.txt\"\n",
    "\n",
    "evaluate_with_python(test_pred_path, test_true_path)\n",
    "\n",
    "\n",
    "evaluate_with_python(test_pred_path, test_true_path)\n"
   ]
  }
 ],
 "metadata": {
  "accelerator": "GPU",
  "colab": {
   "authorship_tag": "ABX9TyPUXLwbBpVkt3+YvXFcNSM8",
   "gpuType": "T4",
   "include_colab_link": true,
   "mount_file_id": "16cS_rHYBBhWPXHc0n2FoTCCRG2Z3DM6U",
   "provenance": [],
   "toc_visible": true
  },
  "kernelspec": {
   "display_name": "Python 3 (ipykernel)",
   "language": "python",
   "name": "python3"
  },
  "language_info": {
   "codemirror_mode": {
    "name": "ipython",
    "version": 3
   },
   "file_extension": ".py",
   "mimetype": "text/x-python",
   "name": "python",
   "nbconvert_exporter": "python",
   "pygments_lexer": "ipython3",
   "version": "3.11.2"
  }
 },
 "nbformat": 4,
 "nbformat_minor": 4
}
