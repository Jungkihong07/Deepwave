{
  "nbformat": 4,
  "nbformat_minor": 0,
  "metadata": {
    "colab": {
      "provenance": [],
      "collapsed_sections": [
        "Rwc5qq-FsJRk"
      ],
      "toc_visible": true,
      "gpuType": "T4",
      "mount_file_id": "1ifYqRYgJUJPeregtJAqmKckAPzcFaIKQ",
      "authorship_tag": "ABX9TyOtFtLWkZFRzHgxquTtr1Xg",
      "include_colab_link": true
    },
    "kernelspec": {
      "name": "python3",
      "display_name": "Python 3"
    },
    "language_info": {
      "name": "python"
    },
    "accelerator": "GPU"
  },
  "cells": [
    {
      "cell_type": "markdown",
      "metadata": {
        "id": "view-in-github",
        "colab_type": "text"
      },
      "source": [
        "<a href=\"https://colab.research.google.com/github/Jungkihong07/Deepwave/blob/main/dnn_baseline_kh_v1.ipynb\" target=\"_parent\"><img src=\"https://colab.research.google.com/assets/colab-badge.svg\" alt=\"Open In Colab\"/></a>"
      ]
    },
    {
      "cell_type": "markdown",
      "source": [
        "# Dataset class 선언"
      ],
      "metadata": {
        "id": "qTzjMw6uCBH4"
      }
    },
    {
      "cell_type": "code",
      "execution_count": null,
      "metadata": {
        "id": "_McBwizFOwhM"
      },
      "outputs": [],
      "source": [
        "import os\n",
        "import librosa\n",
        "import torch\n",
        "from torch.utils.data import Dataset\n",
        "import numpy as np\n",
        "from sklearn.preprocessing import StandardScaler\n",
        "\n",
        "class AutoCachedMFCCDataset(Dataset):\n",
        "    def __init__(self, label_path, audio_dir, cache_path=None, scaler=None, n_mfcc=13):\n",
        "        \"\"\"\n",
        "        label_path: train/test_label.txt\n",
        "        audio_dir: wav 파일이 있는 폴더 경로\n",
        "        cache_path: 캐시 파일 경로 (.npz)\n",
        "        scaler: train용 정규화 스케일러 (test에서는 동일하게 사용)\n",
        "        \"\"\"\n",
        "        self.X = None\n",
        "        self.y = None\n",
        "\n",
        "        if cache_path and os.path.exists(cache_path):\n",
        "            # ✅ 캐시 로딩\n",
        "            data = np.load(cache_path)\n",
        "            self.X = data['X']\n",
        "            self.y = data['y']\n",
        "\n",
        "            if 'mean' in data and 'scale' in data:\n",
        "                self.scaler = StandardScaler()\n",
        "                self.scaler.mean_ = data['mean']\n",
        "                self.scaler.scale_ = data['scale']\n",
        "                self.X = self.scaler.transform(self.X)\n",
        "            elif scaler is not None:\n",
        "                self.scaler = scaler\n",
        "                self.X = self.scaler.transform(self.X)\n",
        "            else:\n",
        "                self.scaler = None\n",
        "        else:\n",
        "            # 🔧 캐시 없을 경우: librosa로 로드 & MFCC 추출\n",
        "            self.samples = []\n",
        "            with open(label_path, 'r') as f:\n",
        "                for line in f:\n",
        "                    parts = line.strip().split()\n",
        "                    if len(parts) >= 5:\n",
        "                        speaker_id = parts[0]\n",
        "                        filename = parts[1]\n",
        "                        label_str = parts[-1]\n",
        "                        label = 1 if label_str.lower() == 'real' else 0\n",
        "                        self.samples.append((filename, label, speaker_id))\n",
        "\n",
        "            mfcc_features = []\n",
        "            for fname, label, _ in self.samples:\n",
        "                path = os.path.join(audio_dir, fname)\n",
        "                try:\n",
        "                    # 1차 시도\n",
        "                    # y, sr = librosa.load(path, sr=16000)\n",
        "                    # mfcc = librosa.feature.mfcc(y=y, sr=sr, n_mfcc=n_mfcc)\n",
        "                    # mfcc_mean = np.mean(mfcc, axis=1)\n",
        "\n",
        "                    # 2차 시도 (개선된 특징 추출)\n",
        "                    # MFCC + delta MFCC 특징 추출 부분 (입력 차원: 26)\n",
        "                    y, sr = librosa.load(path, sr=16000)\n",
        "                    mfcc = librosa.feature.mfcc(y=y, sr=sr, n_mfcc=n_mfcc)                # (13, T)\n",
        "                    delta = librosa.feature.delta(mfcc)                                   # (13, T)\n",
        "                    mfcc_combined = np.concatenate([mfcc, delta], axis=0)                # (26, T)\n",
        "                    mfcc_mean = np.mean(mfcc_combined, axis=1)                           # (26,)\n",
        "                except Exception as e:\n",
        "                    print(f\"[Error] {fname}: {e}\")\n",
        "                    mfcc_mean = np.zeros(n_mfcc)\n",
        "                mfcc_features.append(mfcc_mean)\n",
        "\n",
        "            self.X = np.array(mfcc_features)\n",
        "            self.y = np.array([label for _, label, _ in self.samples])\n",
        "\n",
        "            if scaler is None:\n",
        "                self.scaler = StandardScaler()\n",
        "                self.X = self.scaler.fit_transform(self.X)\n",
        "            else:\n",
        "                self.scaler = scaler\n",
        "                self.X = self.scaler.transform(self.X)\n",
        "\n",
        "            # ✅ 캐시 저장\n",
        "            if cache_path:\n",
        "                np.savez(cache_path, X=self.X, y=self.y,\n",
        "                         mean=self.scaler.mean_, scale=self.scaler.scale_)\n",
        "                print(f\"✔️ 캐시 저장 완료: {cache_path}\")\n",
        "\n",
        "    def __len__(self):\n",
        "        return len(self.X)\n",
        "\n",
        "    def __getitem__(self, idx):\n",
        "        x = torch.tensor(self.X[idx], dtype=torch.float32)\n",
        "        y = torch.tensor(self.y[idx], dtype=torch.long)\n",
        "        return x, y"
      ]
    },
    {
      "cell_type": "markdown",
      "source": [
        "# 2. 학습 및 테스트  셋 따로 로딩."
      ],
      "metadata": {
        "id": "Rwc5qq-FsJRk"
      }
    },
    {
      "cell_type": "code",
      "source": [
        "# 🔹 경로 지정\n",
        "train_label_path = '/content/drive/MyDrive/기계학습(Deepwave)/데이터 셋/2501ml_data/label/train_label.txt'\n",
        "train_audio_dir = '/content/drive/MyDrive/기계학습(Deepwave)/데이터 셋/2501ml_data/train'\n",
        "train_cache = '/content/drive/MyDrive/기계학습(Deepwave)/캐시/train_mfcc.npz'\n",
        "\n",
        "test_label_path = '/content/drive/MyDrive/기계학습(Deepwave)/데이터 셋/2501ml_data/label/test_label.txt'\n",
        "test_audio_dir = '/content/drive/MyDrive/기계학습(Deepwave)/데이터 셋/2501ml_data/test'\n",
        "test_cache = '/content/drive/MyDrive/기계학습(Deepwave)/캐시/test_mfcc.npz'\n",
        "\n",
        "# 학습셋: 캐시 없으면 자동 생성\n",
        "train_dataset = AutoCachedMFCCDataset(\n",
        "    train_label_path, train_audio_dir, cache_path=train_cache\n",
        ")\n",
        "\n",
        "# 테스트셋: train 스케일러 공유\n",
        "test_dataset = AutoCachedMFCCDataset(\n",
        "    test_label_path, test_audio_dir, cache_path=test_cache, scaler=train_dataset.scaler\n",
        ")\n",
        "from torch.utils.data import DataLoader\n",
        "# DataLoader\n",
        "train_loader = DataLoader(train_dataset, batch_size=32, shuffle=True)\n",
        "test_loader = DataLoader(test_dataset, batch_size=32)"
      ],
      "metadata": {
        "id": "XwWE-8cMQzsT"
      },
      "execution_count": null,
      "outputs": []
    },
    {
      "cell_type": "markdown",
      "source": [
        "# 추후 연구를 위한 캐시 저장"
      ],
      "metadata": {
        "id": "6K2SNmk65h-B"
      }
    },
    {
      "cell_type": "code",
      "source": [
        "# 저장 경로 설정\n",
        "save_dir = '/content/drive/MyDrive/기계학습(Deepwave)/캐시'\n",
        "os.makedirs(save_dir, exist_ok=True)\n",
        "\n",
        "# 저장 파일명 설정\n",
        "train_save_path = os.path.join(save_dir, 'train_mfcc.npz')\n",
        "test_save_path = os.path.join(save_dir, 'test_mfcc.npz')\n",
        "\n",
        "# train 데이터 저장\n",
        "np.savez(train_save_path, X=train_dataset.X, y=train_dataset.y,\n",
        "         mean=train_dataset.scaler.mean_, scale=train_dataset.scaler.scale_)\n",
        "\n",
        "# test 데이터 저장\n",
        "np.savez(test_save_path, X=test_dataset.X, y=test_dataset.y)\n",
        "\n",
        "print(f\"✅ 저장 완료!\\n- Train: {train_save_path}\\n- Test:  {test_save_path}\")\n"
      ],
      "metadata": {
        "colab": {
          "base_uri": "https://localhost:8080/"
        },
        "id": "3cpw1ezr0UTc",
        "outputId": "5731078f-8cdf-4dac-afe8-429f73698e4e"
      },
      "execution_count": null,
      "outputs": [
        {
          "output_type": "stream",
          "name": "stdout",
          "text": [
            "✅ 저장 완료!\n",
            "- Train: /content/drive/MyDrive/기계학습(Deepwave)/캐시/train_mfcc.npz\n",
            "- Test:  /content/drive/MyDrive/기계학습(Deepwave)/캐시/test_mfcc.npz\n"
          ]
        }
      ]
    },
    {
      "cell_type": "markdown",
      "source": [
        "# Train set 중에서 train/val 부분 나눔.\n",
        "- 실제 보지 못한 데이터에는 성능이 떨어지는 **과적합(overfitting)**을 방지하기 위해,\n",
        "전체 학습 데이터 중 일부를 **검증용(validation set)**으로 분리하여 학습 도중 성능을 확인 위함.\n",
        "\n",
        "- 이렇게 하면 매 epoch마다 **모델의 일반화 성능을 추적** 가능.\n",
        "   - 학습 조기 종료 (early stopping),\n",
        "   - 최적 모델 선택,\n",
        "   - 하이퍼파라미터 조정"
      ],
      "metadata": {
        "id": "twOfDy-h5qib"
      }
    },
    {
      "cell_type": "code",
      "source": [
        "from torch.utils.data import Subset, DataLoader\n",
        "from sklearn.model_selection import train_test_split\n",
        "import numpy as np\n",
        "\n",
        "# 🔹 train_dataset은 AutoCachedMFCCDataset으로 로딩된 상태여야 함\n",
        "\n",
        "# 🔸 stratify 분할을 위해 y값 추출\n",
        "y_labels = train_dataset.y if isinstance(train_dataset, AutoCachedMFCCDataset) else np.array([train_dataset[i][1].item() for i in range(len(train_dataset))])\n",
        "\n",
        "# 🔸 인덱스 생성 및 분할\n",
        "train_idx, val_idx = train_test_split(\n",
        "    np.arange(len(train_dataset)),\n",
        "    test_size=0.2,\n",
        "    stratify=y_labels,\n",
        "    random_state=42\n",
        ")\n",
        "\n",
        "# 전체 학습 데이터에서 80%는 train, 20%는 validation으로 분할합니다.\n",
        "# → 검증 셋을 통해 학습 중 과적합 여부를 확인하기 위함입니다.\n",
        "\n",
        "# 🔸 PyTorch Subset으로 분리\n",
        "train_subset = Subset(train_dataset, train_idx)\n",
        "val_subset = Subset(train_dataset, val_idx)\n",
        "\n",
        "# 🔸 DataLoader 구성\n",
        "train_loader = DataLoader(train_subset, batch_size=32, shuffle=True)\n",
        "val_loader = DataLoader(val_subset, batch_size=32)\n",
        "\n",
        "print(f\"📦 학습 샘플 수: {len(train_loader.dataset)}\")\n",
        "print(f\"📦 검증 샘플 수: {len(val_loader.dataset)}\")"
      ],
      "metadata": {
        "colab": {
          "base_uri": "https://localhost:8080/"
        },
        "id": "gdEO5ijCsyaJ",
        "outputId": "97969e9a-79cc-4ecf-e8b9-5278b5e4a678"
      },
      "execution_count": null,
      "outputs": [
        {
          "output_type": "stream",
          "name": "stdout",
          "text": [
            "📦 학습 샘플 수: 3200\n",
            "📦 검증 샘플 수: 800\n"
          ]
        }
      ]
    },
    {
      "cell_type": "markdown",
      "source": [
        "# DNN 모델 정의(Pytorch)"
      ],
      "metadata": {
        "id": "vGmlHonp7LDS"
      }
    },
    {
      "cell_type": "markdown",
      "source": [
        "## DNN 모델 ver1.\n"
      ],
      "metadata": {
        "id": "HotpYOWbAKPn"
      }
    },
    {
      "cell_type": "markdown",
      "source": [
        "### 모델 구성\n",
        "#### ✅ 입력 크기\n",
        "- 입력은 13차원의 MFCC 평균 벡터로, 입력층은 `input_dim=13`으로 고정된다.\n",
        "\n",
        "#### ✅ 은닉층 구조\n",
        "- `1번째 은닉층: 64 units`  \n",
        "  → 13차원의 입력을 더 풍부한 표현 공간으로 확장하여, 복잡한 패턴 학습 가능.\n",
        "- `2번째 은닉층: 32 units`  \n",
        "  → 점진적인 차원 축소를 통해 중요한 특징만 추출.\n",
        "- `3번째 은닉층: 16 units`  \n",
        "  → 최종 분류에 앞서 노이즈를 줄이고 정제된 정보만 전달.\n",
        "- 각 층마다 **ReLU 활성화 함수**를 사용하여 비선형성을 부여하고, 학습 효율을 높였다.\n",
        "\n",
        "#### ✅ 출력층\n",
        "- 출력층은 `2개 노드`로 구성되며, CrossEntropyLoss를 사용하기 때문에 **softmax는 따로 적용하지 않음**.\n",
        "- 출력 결과는 `[Fake 확률, Real 확률]` 형태의 로짓 벡터로 나타난다."
      ],
      "metadata": {
        "id": "12uuB5aGAvAg"
      }
    },
    {
      "cell_type": "code",
      "source": [
        "import torch.nn as nn\n",
        "import torch.nn.functional as F\n",
        "\n",
        "class MFCCClassifier(nn.Module):\n",
        "    def __init__(self):\n",
        "        super(MFCCClassifier, self).__init__()\n",
        "\n",
        "        self.fc1 = nn.Linear(13, 64)     # 입력 → 은닉층1\n",
        "        self.fc2 = nn.Linear(64, 32)     # 은닉층1 → 은닉층2\n",
        "        self.fc3 = nn.Linear(32, 16)     # 은닉층2 → 은닉층3\n",
        "        self.fc4 = nn.Linear(16, 2)      # 은닉층3 → 출력층 (Real/Fake)\n",
        "\n",
        "    def forward(self, x):\n",
        "        x = F.relu(self.fc1(x))          # 비선형 활성화 함수: ReLU\n",
        "        x = F.relu(self.fc2(x))\n",
        "        x = F.relu(self.fc3(x))\n",
        "        return self.fc4(x)               # 로짓(logits) 출력 (CrossEntropyLoss용)"
      ],
      "metadata": {
        "id": "GMxc_v4J6IrX"
      },
      "execution_count": null,
      "outputs": []
    },
    {
      "cell_type": "markdown",
      "source": [
        "#### 🧪 실험 결과 요약\n",
        "\n",
        "### ✅ 모델 구조\n",
        "- 입력: 13차원 MFCC 평균 벡터\n",
        "- 은닉층: [64 → 32 → 16], 각 층 ReLU 활성화\n",
        "- 출력층: 2개 노드 (Real / Fake)\n",
        "- 손실 함수: CrossEntropyLoss\n",
        "- 최적화: Adam (lr=0.001)\n",
        "- Epoch 수: 20\n",
        "- Batch size: 32\n",
        "\n",
        "---\n",
        "\n",
        "### ✅ 데이터 구성\n",
        "- 학습 데이터: 4,000개 (Real 2,000 / Fake 2,000)\n",
        "- 테스트 데이터: 2,000개 (Real 1,000 / Fake 1,000)\n",
        "- 학습 데이터의 20%는 검증용으로 분할\n",
        "\n",
        "---\n",
        "\n",
        "### ✅ 성능 결과\n",
        "\n",
        "| 지표 | Fake | Real | 전체 평균 |\n",
        "|------|------|------|------------|\n",
        "| Precision | 0.48 | 0.49 | 0.49 |\n",
        "| Recall    | 0.34 | 0.64 | 0.49 |\n",
        "| F1-score  | 0.40 | 0.55 | 0.48 |\n",
        "| Accuracy  | -    | -    | **0.49** |\n",
        "\n",
        "- Fake 클래스의 **recall이 매우 낮음** → Fake 음성 탐지 실패가 많음\n",
        "- 전체 정확도는 **49%로 랜덤 분류 수준**\n",
        "\n",
        "---\n",
        "\n",
        "### ✅ Confusion Matrix (TEST)\n",
        "\n",
        "| 실제\\예측 | Fake | Real |\n",
        "|-----------|------|------|\n",
        "| Fake      | 342  | 658  |\n",
        "| Real      | 364  | 636  |\n",
        "\n",
        "→ Fake를 Real로 잘못 분류한 경우가 많았음 (658건)\n",
        "\n",
        "---\n",
        "\n",
        "### ✅ 결론 및 개선 필요 사항\n",
        "\n",
        "- 모델이 **Real을 기준으로 분류하는 경향**이 있으며, Fake 탐지가 취약함\n",
        "- 간단한 DNN 구조로는 충분한 분류 성능 확보가 어려움\n",
        "- 다음 실험에서는 다음 전략을 적용할 예정:\n",
        "  - Dropout 및 BatchNorm 추가\n",
        "  - ΔMFCC, Mel Spectrogram 등 특징 확장\n",
        "\n",
        "### ✅ 원인 분석\n",
        "- 특징 표현 부족 (단순 MFCC 평균)\n",
        "- 모델 용량 부족 (얕은 구조)\n",
        "- 과적합 가능성 (train acc 높고 test 낮다면)\n",
        "- 모델 일반화 능력 부족"
      ],
      "metadata": {
        "id": "RdA1MN8EA9wz"
      }
    },
    {
      "cell_type": "markdown",
      "source": [
        "## DNN 모델 ver2.\n"
      ],
      "metadata": {
        "id": "JVx3lFgJB2PR"
      }
    },
    {
      "cell_type": "markdown",
      "source": [
        "### 모델 구성\n"
      ],
      "metadata": {
        "id": "qbZtdVezExO2"
      }
    },
    {
      "cell_type": "markdown",
      "source": [
        "### ✅ 입력 크기\n",
        "- 입력은 MFCC(13차원)와 ΔMFCC(13차원)를 결합한 총 **26차원**의 평균 벡터로, 입력층은 `input_dim=26`로 고정된다.\n",
        "\n",
        "\n",
        "### ✅ 은닉층 구조\n",
        "\n",
        "- **1번째 은닉층: 128 units + BatchNorm + Dropout(0.3)**  \n",
        "  → 고차원의 표현 공간으로 확장하여 더 복잡한 음성 특징을 학습할 수 있도록 한다.  \n",
        "  → Batch Normalization을 통해 학습 안정성과 수렴 속도를 향상시킨다.  \n",
        "  → Dropout은 과적합 방지를 위해 적용한다.\n",
        "\n",
        "- **2번째 은닉층: 64 units + BatchNorm + Dropout(0.3)**  \n",
        "  → 중요 특징만 남기기 위한 차원 축소 역할을 수행하며, 동일한 정규화 및 Dropout 적용.\n",
        "\n",
        "- **3번째 은닉층: 32 units + BatchNorm + Dropout(0.3)**  \n",
        "  → 최종 분류 직전에 정보를 정제하고, 불필요한 특징을 제거한다.\n",
        "\n",
        "---\n",
        "\n",
        "### ✅ 출력층\n",
        "손실 함수로는 `CrossEntropyLoss`를 사용하기 때문에, 별도로 softmax는 적용하지 않는다.  "
      ],
      "metadata": {
        "id": "jkQlXr9OFGl7"
      }
    },
    {
      "cell_type": "code",
      "source": [
        "import torch.nn as nn\n",
        "import torch.nn.functional as F\n",
        "\n",
        "class MFCCClassifier(nn.Module):\n",
        "    def __init__(self):\n",
        "        super(MFCCClassifier, self).__init__()\n",
        "\n",
        "        self.fc1 = nn.Linear(26, 128)  # 입력 차원 변경됨 (13 → 26)\n",
        "        self.bn1 = nn.BatchNorm1d(128)\n",
        "        self.drop1 = nn.Dropout(0.3)\n",
        "\n",
        "        self.fc2 = nn.Linear(128, 64)\n",
        "        self.bn2 = nn.BatchNorm1d(64)\n",
        "        self.drop2 = nn.Dropout(0.3)\n",
        "\n",
        "        self.fc3 = nn.Linear(64, 32)\n",
        "        self.bn3 = nn.BatchNorm1d(32)\n",
        "        self.drop3 = nn.Dropout(0.3)\n",
        "\n",
        "        self.fc4 = nn.Linear(32, 2)  # Real / Fake\n",
        "\n",
        "    def forward(self, x):\n",
        "        x = self.drop1(F.relu(self.bn1(self.fc1(x))))\n",
        "        x = self.drop2(F.relu(self.bn2(self.fc2(x))))\n",
        "        x = self.drop3(F.relu(self.bn3(self.fc3(x))))\n",
        "        return self.fc4(x)"
      ],
      "metadata": {
        "id": "ThUKFKlDDiqD"
      },
      "execution_count": null,
      "outputs": []
    },
    {
      "cell_type": "markdown",
      "source": [
        "# 2. 모델 학습 루프 ( Train + validation)"
      ],
      "metadata": {
        "id": "nauq_ryE7UIR"
      }
    },
    {
      "cell_type": "code",
      "source": [
        "import torch\n",
        "\n",
        "# 디바이스 설정 (GPU 사용 가능하면 GPU 사용)\n",
        "device = torch.device('cuda' if torch.cuda.is_available() else 'cpu')\n",
        "print(f\"🖥️ Using device: {device}\")\n",
        "\n",
        "# 모델, 손실 함수, 옵티마이저 정의\n",
        "model = MFCCClassifier().to(device)\n",
        "criterion = nn.CrossEntropyLoss()\n",
        "optimizer = torch.optim.Adam(model.parameters(), lr=0.001)\n",
        "\n",
        "# 학습 설정\n",
        "num_epochs = 20\n",
        "\n",
        "# 학습 루프 시작\n",
        "for epoch in range(1, num_epochs + 1):\n",
        "    model.train()\n",
        "    train_loss = 0\n",
        "    train_correct = 0\n",
        "\n",
        "    for x, y in train_loader:\n",
        "        x, y = x.to(device), y.to(device)\n",
        "\n",
        "        optimizer.zero_grad()\n",
        "        outputs = model(x)\n",
        "        loss = criterion(outputs, y)\n",
        "        loss.backward()\n",
        "        optimizer.step()\n",
        "\n",
        "        train_loss += loss.item()\n",
        "        preds = outputs.argmax(dim=1)\n",
        "        train_correct += (preds == y).sum().item()\n",
        "\n",
        "    train_acc = train_correct / len(train_loader.dataset)\n",
        "\n",
        "    # 🔹 검증 단계 (val_loader가 있는 경우)\n",
        "    val_acc = 0\n",
        "    if 'val_loader' in globals():\n",
        "        model.eval()\n",
        "        val_correct = 0\n",
        "        with torch.no_grad():\n",
        "            for x, y in val_loader:\n",
        "                x, y = x.to(device), y.to(device)\n",
        "                outputs = model(x)\n",
        "                preds = outputs.argmax(dim=1)\n",
        "                val_correct += (preds == y).sum().item()\n",
        "        val_acc = val_correct / len(val_loader.dataset)\n",
        "        print(f\"[Epoch {epoch:02d}] Loss: {train_loss:.4f} | Train Acc: {train_acc*100:.2f}% | Val Acc: {val_acc*100:.2f}%\")\n",
        "    else:\n",
        "        print(f\"[Epoch {epoch:02d}] Loss: {train_loss:.4f} | Train Acc: {train_acc*100:.2f}%\")"
      ],
      "metadata": {
        "colab": {
          "base_uri": "https://localhost:8080/",
          "height": 391
        },
        "id": "qLce4LlW7R8F",
        "outputId": "0481c91d-e26d-4497-b341-560a6d38b304"
      },
      "execution_count": null,
      "outputs": [
        {
          "output_type": "stream",
          "name": "stdout",
          "text": [
            "🖥️ Using device: cuda\n"
          ]
        },
        {
          "output_type": "error",
          "ename": "RuntimeError",
          "evalue": "mat1 and mat2 shapes cannot be multiplied (32x13 and 26x128)",
          "traceback": [
            "\u001b[0;31m---------------------------------------------------------------------------\u001b[0m",
            "\u001b[0;31mRuntimeError\u001b[0m                              Traceback (most recent call last)",
            "\u001b[0;32m<ipython-input-18-f808f4ad84c7>\u001b[0m in \u001b[0;36m<cell line: 0>\u001b[0;34m()\u001b[0m\n\u001b[1;32m     23\u001b[0m \u001b[0;34m\u001b[0m\u001b[0m\n\u001b[1;32m     24\u001b[0m         \u001b[0moptimizer\u001b[0m\u001b[0;34m.\u001b[0m\u001b[0mzero_grad\u001b[0m\u001b[0;34m(\u001b[0m\u001b[0;34m)\u001b[0m\u001b[0;34m\u001b[0m\u001b[0;34m\u001b[0m\u001b[0m\n\u001b[0;32m---> 25\u001b[0;31m         \u001b[0moutputs\u001b[0m \u001b[0;34m=\u001b[0m \u001b[0mmodel\u001b[0m\u001b[0;34m(\u001b[0m\u001b[0mx\u001b[0m\u001b[0;34m)\u001b[0m\u001b[0;34m\u001b[0m\u001b[0;34m\u001b[0m\u001b[0m\n\u001b[0m\u001b[1;32m     26\u001b[0m         \u001b[0mloss\u001b[0m \u001b[0;34m=\u001b[0m \u001b[0mcriterion\u001b[0m\u001b[0;34m(\u001b[0m\u001b[0moutputs\u001b[0m\u001b[0;34m,\u001b[0m \u001b[0my\u001b[0m\u001b[0;34m)\u001b[0m\u001b[0;34m\u001b[0m\u001b[0;34m\u001b[0m\u001b[0m\n\u001b[1;32m     27\u001b[0m         \u001b[0mloss\u001b[0m\u001b[0;34m.\u001b[0m\u001b[0mbackward\u001b[0m\u001b[0;34m(\u001b[0m\u001b[0;34m)\u001b[0m\u001b[0;34m\u001b[0m\u001b[0;34m\u001b[0m\u001b[0m\n",
            "\u001b[0;32m/usr/local/lib/python3.11/dist-packages/torch/nn/modules/module.py\u001b[0m in \u001b[0;36m_wrapped_call_impl\u001b[0;34m(self, *args, **kwargs)\u001b[0m\n\u001b[1;32m   1737\u001b[0m             \u001b[0;32mreturn\u001b[0m \u001b[0mself\u001b[0m\u001b[0;34m.\u001b[0m\u001b[0m_compiled_call_impl\u001b[0m\u001b[0;34m(\u001b[0m\u001b[0;34m*\u001b[0m\u001b[0margs\u001b[0m\u001b[0;34m,\u001b[0m \u001b[0;34m**\u001b[0m\u001b[0mkwargs\u001b[0m\u001b[0;34m)\u001b[0m  \u001b[0;31m# type: ignore[misc]\u001b[0m\u001b[0;34m\u001b[0m\u001b[0;34m\u001b[0m\u001b[0m\n\u001b[1;32m   1738\u001b[0m         \u001b[0;32melse\u001b[0m\u001b[0;34m:\u001b[0m\u001b[0;34m\u001b[0m\u001b[0;34m\u001b[0m\u001b[0m\n\u001b[0;32m-> 1739\u001b[0;31m             \u001b[0;32mreturn\u001b[0m \u001b[0mself\u001b[0m\u001b[0;34m.\u001b[0m\u001b[0m_call_impl\u001b[0m\u001b[0;34m(\u001b[0m\u001b[0;34m*\u001b[0m\u001b[0margs\u001b[0m\u001b[0;34m,\u001b[0m \u001b[0;34m**\u001b[0m\u001b[0mkwargs\u001b[0m\u001b[0;34m)\u001b[0m\u001b[0;34m\u001b[0m\u001b[0;34m\u001b[0m\u001b[0m\n\u001b[0m\u001b[1;32m   1740\u001b[0m \u001b[0;34m\u001b[0m\u001b[0m\n\u001b[1;32m   1741\u001b[0m     \u001b[0;31m# torchrec tests the code consistency with the following code\u001b[0m\u001b[0;34m\u001b[0m\u001b[0;34m\u001b[0m\u001b[0m\n",
            "\u001b[0;32m/usr/local/lib/python3.11/dist-packages/torch/nn/modules/module.py\u001b[0m in \u001b[0;36m_call_impl\u001b[0;34m(self, *args, **kwargs)\u001b[0m\n\u001b[1;32m   1748\u001b[0m                 \u001b[0;32mor\u001b[0m \u001b[0m_global_backward_pre_hooks\u001b[0m \u001b[0;32mor\u001b[0m \u001b[0m_global_backward_hooks\u001b[0m\u001b[0;34m\u001b[0m\u001b[0;34m\u001b[0m\u001b[0m\n\u001b[1;32m   1749\u001b[0m                 or _global_forward_hooks or _global_forward_pre_hooks):\n\u001b[0;32m-> 1750\u001b[0;31m             \u001b[0;32mreturn\u001b[0m \u001b[0mforward_call\u001b[0m\u001b[0;34m(\u001b[0m\u001b[0;34m*\u001b[0m\u001b[0margs\u001b[0m\u001b[0;34m,\u001b[0m \u001b[0;34m**\u001b[0m\u001b[0mkwargs\u001b[0m\u001b[0;34m)\u001b[0m\u001b[0;34m\u001b[0m\u001b[0;34m\u001b[0m\u001b[0m\n\u001b[0m\u001b[1;32m   1751\u001b[0m \u001b[0;34m\u001b[0m\u001b[0m\n\u001b[1;32m   1752\u001b[0m         \u001b[0mresult\u001b[0m \u001b[0;34m=\u001b[0m \u001b[0;32mNone\u001b[0m\u001b[0;34m\u001b[0m\u001b[0;34m\u001b[0m\u001b[0m\n",
            "\u001b[0;32m<ipython-input-17-cf88e2751053>\u001b[0m in \u001b[0;36mforward\u001b[0;34m(self, x)\u001b[0m\n\u001b[1;32m     21\u001b[0m \u001b[0;34m\u001b[0m\u001b[0m\n\u001b[1;32m     22\u001b[0m     \u001b[0;32mdef\u001b[0m \u001b[0mforward\u001b[0m\u001b[0;34m(\u001b[0m\u001b[0mself\u001b[0m\u001b[0;34m,\u001b[0m \u001b[0mx\u001b[0m\u001b[0;34m)\u001b[0m\u001b[0;34m:\u001b[0m\u001b[0;34m\u001b[0m\u001b[0;34m\u001b[0m\u001b[0m\n\u001b[0;32m---> 23\u001b[0;31m         \u001b[0mx\u001b[0m \u001b[0;34m=\u001b[0m \u001b[0mself\u001b[0m\u001b[0;34m.\u001b[0m\u001b[0mdrop1\u001b[0m\u001b[0;34m(\u001b[0m\u001b[0mF\u001b[0m\u001b[0;34m.\u001b[0m\u001b[0mrelu\u001b[0m\u001b[0;34m(\u001b[0m\u001b[0mself\u001b[0m\u001b[0;34m.\u001b[0m\u001b[0mbn1\u001b[0m\u001b[0;34m(\u001b[0m\u001b[0mself\u001b[0m\u001b[0;34m.\u001b[0m\u001b[0mfc1\u001b[0m\u001b[0;34m(\u001b[0m\u001b[0mx\u001b[0m\u001b[0;34m)\u001b[0m\u001b[0;34m)\u001b[0m\u001b[0;34m)\u001b[0m\u001b[0;34m)\u001b[0m\u001b[0;34m\u001b[0m\u001b[0;34m\u001b[0m\u001b[0m\n\u001b[0m\u001b[1;32m     24\u001b[0m         \u001b[0mx\u001b[0m \u001b[0;34m=\u001b[0m \u001b[0mself\u001b[0m\u001b[0;34m.\u001b[0m\u001b[0mdrop2\u001b[0m\u001b[0;34m(\u001b[0m\u001b[0mF\u001b[0m\u001b[0;34m.\u001b[0m\u001b[0mrelu\u001b[0m\u001b[0;34m(\u001b[0m\u001b[0mself\u001b[0m\u001b[0;34m.\u001b[0m\u001b[0mbn2\u001b[0m\u001b[0;34m(\u001b[0m\u001b[0mself\u001b[0m\u001b[0;34m.\u001b[0m\u001b[0mfc2\u001b[0m\u001b[0;34m(\u001b[0m\u001b[0mx\u001b[0m\u001b[0;34m)\u001b[0m\u001b[0;34m)\u001b[0m\u001b[0;34m)\u001b[0m\u001b[0;34m)\u001b[0m\u001b[0;34m\u001b[0m\u001b[0;34m\u001b[0m\u001b[0m\n\u001b[1;32m     25\u001b[0m         \u001b[0mx\u001b[0m \u001b[0;34m=\u001b[0m \u001b[0mself\u001b[0m\u001b[0;34m.\u001b[0m\u001b[0mdrop3\u001b[0m\u001b[0;34m(\u001b[0m\u001b[0mF\u001b[0m\u001b[0;34m.\u001b[0m\u001b[0mrelu\u001b[0m\u001b[0;34m(\u001b[0m\u001b[0mself\u001b[0m\u001b[0;34m.\u001b[0m\u001b[0mbn3\u001b[0m\u001b[0;34m(\u001b[0m\u001b[0mself\u001b[0m\u001b[0;34m.\u001b[0m\u001b[0mfc3\u001b[0m\u001b[0;34m(\u001b[0m\u001b[0mx\u001b[0m\u001b[0;34m)\u001b[0m\u001b[0;34m)\u001b[0m\u001b[0;34m)\u001b[0m\u001b[0;34m)\u001b[0m\u001b[0;34m\u001b[0m\u001b[0;34m\u001b[0m\u001b[0m\n",
            "\u001b[0;32m/usr/local/lib/python3.11/dist-packages/torch/nn/modules/module.py\u001b[0m in \u001b[0;36m_wrapped_call_impl\u001b[0;34m(self, *args, **kwargs)\u001b[0m\n\u001b[1;32m   1737\u001b[0m             \u001b[0;32mreturn\u001b[0m \u001b[0mself\u001b[0m\u001b[0;34m.\u001b[0m\u001b[0m_compiled_call_impl\u001b[0m\u001b[0;34m(\u001b[0m\u001b[0;34m*\u001b[0m\u001b[0margs\u001b[0m\u001b[0;34m,\u001b[0m \u001b[0;34m**\u001b[0m\u001b[0mkwargs\u001b[0m\u001b[0;34m)\u001b[0m  \u001b[0;31m# type: ignore[misc]\u001b[0m\u001b[0;34m\u001b[0m\u001b[0;34m\u001b[0m\u001b[0m\n\u001b[1;32m   1738\u001b[0m         \u001b[0;32melse\u001b[0m\u001b[0;34m:\u001b[0m\u001b[0;34m\u001b[0m\u001b[0;34m\u001b[0m\u001b[0m\n\u001b[0;32m-> 1739\u001b[0;31m             \u001b[0;32mreturn\u001b[0m \u001b[0mself\u001b[0m\u001b[0;34m.\u001b[0m\u001b[0m_call_impl\u001b[0m\u001b[0;34m(\u001b[0m\u001b[0;34m*\u001b[0m\u001b[0margs\u001b[0m\u001b[0;34m,\u001b[0m \u001b[0;34m**\u001b[0m\u001b[0mkwargs\u001b[0m\u001b[0;34m)\u001b[0m\u001b[0;34m\u001b[0m\u001b[0;34m\u001b[0m\u001b[0m\n\u001b[0m\u001b[1;32m   1740\u001b[0m \u001b[0;34m\u001b[0m\u001b[0m\n\u001b[1;32m   1741\u001b[0m     \u001b[0;31m# torchrec tests the code consistency with the following code\u001b[0m\u001b[0;34m\u001b[0m\u001b[0;34m\u001b[0m\u001b[0m\n",
            "\u001b[0;32m/usr/local/lib/python3.11/dist-packages/torch/nn/modules/module.py\u001b[0m in \u001b[0;36m_call_impl\u001b[0;34m(self, *args, **kwargs)\u001b[0m\n\u001b[1;32m   1748\u001b[0m                 \u001b[0;32mor\u001b[0m \u001b[0m_global_backward_pre_hooks\u001b[0m \u001b[0;32mor\u001b[0m \u001b[0m_global_backward_hooks\u001b[0m\u001b[0;34m\u001b[0m\u001b[0;34m\u001b[0m\u001b[0m\n\u001b[1;32m   1749\u001b[0m                 or _global_forward_hooks or _global_forward_pre_hooks):\n\u001b[0;32m-> 1750\u001b[0;31m             \u001b[0;32mreturn\u001b[0m \u001b[0mforward_call\u001b[0m\u001b[0;34m(\u001b[0m\u001b[0;34m*\u001b[0m\u001b[0margs\u001b[0m\u001b[0;34m,\u001b[0m \u001b[0;34m**\u001b[0m\u001b[0mkwargs\u001b[0m\u001b[0;34m)\u001b[0m\u001b[0;34m\u001b[0m\u001b[0;34m\u001b[0m\u001b[0m\n\u001b[0m\u001b[1;32m   1751\u001b[0m \u001b[0;34m\u001b[0m\u001b[0m\n\u001b[1;32m   1752\u001b[0m         \u001b[0mresult\u001b[0m \u001b[0;34m=\u001b[0m \u001b[0;32mNone\u001b[0m\u001b[0;34m\u001b[0m\u001b[0;34m\u001b[0m\u001b[0m\n",
            "\u001b[0;32m/usr/local/lib/python3.11/dist-packages/torch/nn/modules/linear.py\u001b[0m in \u001b[0;36mforward\u001b[0;34m(self, input)\u001b[0m\n\u001b[1;32m    123\u001b[0m \u001b[0;34m\u001b[0m\u001b[0m\n\u001b[1;32m    124\u001b[0m     \u001b[0;32mdef\u001b[0m \u001b[0mforward\u001b[0m\u001b[0;34m(\u001b[0m\u001b[0mself\u001b[0m\u001b[0;34m,\u001b[0m \u001b[0minput\u001b[0m\u001b[0;34m:\u001b[0m \u001b[0mTensor\u001b[0m\u001b[0;34m)\u001b[0m \u001b[0;34m->\u001b[0m \u001b[0mTensor\u001b[0m\u001b[0;34m:\u001b[0m\u001b[0;34m\u001b[0m\u001b[0;34m\u001b[0m\u001b[0m\n\u001b[0;32m--> 125\u001b[0;31m         \u001b[0;32mreturn\u001b[0m \u001b[0mF\u001b[0m\u001b[0;34m.\u001b[0m\u001b[0mlinear\u001b[0m\u001b[0;34m(\u001b[0m\u001b[0minput\u001b[0m\u001b[0;34m,\u001b[0m \u001b[0mself\u001b[0m\u001b[0;34m.\u001b[0m\u001b[0mweight\u001b[0m\u001b[0;34m,\u001b[0m \u001b[0mself\u001b[0m\u001b[0;34m.\u001b[0m\u001b[0mbias\u001b[0m\u001b[0;34m)\u001b[0m\u001b[0;34m\u001b[0m\u001b[0;34m\u001b[0m\u001b[0m\n\u001b[0m\u001b[1;32m    126\u001b[0m \u001b[0;34m\u001b[0m\u001b[0m\n\u001b[1;32m    127\u001b[0m     \u001b[0;32mdef\u001b[0m \u001b[0mextra_repr\u001b[0m\u001b[0;34m(\u001b[0m\u001b[0mself\u001b[0m\u001b[0;34m)\u001b[0m \u001b[0;34m->\u001b[0m \u001b[0mstr\u001b[0m\u001b[0;34m:\u001b[0m\u001b[0;34m\u001b[0m\u001b[0;34m\u001b[0m\u001b[0m\n",
            "\u001b[0;31mRuntimeError\u001b[0m: mat1 and mat2 shapes cannot be multiplied (32x13 and 26x128)"
          ]
        }
      ]
    },
    {
      "cell_type": "code",
      "source": [
        "model.eval()  # 평가 모드로 전환\n",
        "test_correct = 0\n",
        "predictions = []\n",
        "\n",
        "with torch.no_grad():\n",
        "    for x, y in test_loader:\n",
        "        x, y = x.to(device), y.to(device)\n",
        "        outputs = model(x)\n",
        "        preds = outputs.argmax(dim=1)\n",
        "        test_correct += (preds == y).sum().item()\n",
        "        predictions.extend(preds.cpu().numpy())  # 전체 예측 결과 저장\n",
        "\n",
        "test_acc = test_correct / len(test_loader.dataset)\n",
        "print(f\"🎯 Test Accuracy: {test_acc * 100:.2f}%\")\n"
      ],
      "metadata": {
        "colab": {
          "base_uri": "https://localhost:8080/"
        },
        "id": "ATNFtrEW7e5W",
        "outputId": "1a616fe4-b9d3-45da-db90-3e995c4905fc"
      },
      "execution_count": null,
      "outputs": [
        {
          "output_type": "stream",
          "name": "stdout",
          "text": [
            "🎯 Test Accuracy: 55.95%\n"
          ]
        }
      ]
    },
    {
      "cell_type": "code",
      "source": [
        "from sklearn.metrics import classification_report, confusion_matrix\n",
        "import seaborn as sns\n",
        "import matplotlib.pyplot as plt\n",
        "\n",
        "# 🔹 예측 결과 및 정답 수집\n",
        "model.eval()\n",
        "all_preds = []\n",
        "all_labels = []\n",
        "\n",
        "with torch.no_grad():\n",
        "    for x, y in test_loader:\n",
        "        x = x.to(device)\n",
        "        outputs = model(x)\n",
        "        preds = outputs.argmax(dim=1).cpu().numpy()    # 예측값\n",
        "        labels = y.numpy()                             # 실제값\n",
        "\n",
        "        all_preds.extend(preds)\n",
        "        all_labels.extend(labels)\n",
        "\n",
        "# 🔹 Classification Report\n",
        "print(\"\\n✅ [TEST 평가 결과]\")\n",
        "print(classification_report(all_labels, all_preds, target_names=['Fake', 'Real']))\n",
        "\n",
        "# 🔹 Confusion Matrix\n",
        "cm = confusion_matrix(all_labels, all_preds)\n",
        "sns.heatmap(cm, annot=True, fmt='d', cmap='Blues', xticklabels=['Fake', 'Real'], yticklabels=['Fake', 'Real'])\n",
        "plt.xlabel(\"Predicted\")\n",
        "plt.ylabel(\"Actual\")\n",
        "plt.title(\"Confusion Matrix (TEST DATA)\")\n",
        "plt.show()"
      ],
      "metadata": {
        "colab": {
          "base_uri": "https://localhost:8080/",
          "height": 674
        },
        "id": "3OKVd9b87ufx",
        "outputId": "142f9a0c-4482-48c3-e9a6-38ca0bc6c4d2"
      },
      "execution_count": null,
      "outputs": [
        {
          "output_type": "stream",
          "name": "stdout",
          "text": [
            "\n",
            "✅ [TEST 평가 결과]\n",
            "              precision    recall  f1-score   support\n",
            "\n",
            "        Fake       0.59      0.39      0.47      1000\n",
            "        Real       0.54      0.73      0.62      1000\n",
            "\n",
            "    accuracy                           0.56      2000\n",
            "   macro avg       0.57      0.56      0.55      2000\n",
            "weighted avg       0.57      0.56      0.55      2000\n",
            "\n"
          ]
        },
        {
          "output_type": "display_data",
          "data": {
            "text/plain": [
              "<Figure size 640x480 with 2 Axes>"
            ],
            "image/png": "[encoded data removed]"
          },
          "metadata": {}
        }
      ]
    }
  ]
}