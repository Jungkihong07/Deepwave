{
  "cells": [
    {
      "cell_type": "markdown",
      "metadata": {
        "id": "view-in-github",
        "colab_type": "text"
      },
      "source": [
        "<a href=\"https://colab.research.google.com/github/Jungkihong07/Deepwave/blob/main/hyperparameter_tuning_try.ipynb\" target=\"_parent\"><img src=\"https://colab.research.google.com/assets/colab-badge.svg\" alt=\"Open In Colab\"/></a>"
      ]
    },
    {
      "cell_type": "code",
      "source": [
        "from google.colab import drive\n",
        "drive.mount('/content/drive')"
      ],
      "metadata": {
        "id": "goVkOr1M_2Wx",
        "outputId": "63d5391a-1f3a-4232-8e84-c3f838efed0b",
        "colab": {
          "base_uri": "https://localhost:8080/"
        }
      },
      "execution_count": 9,
      "outputs": [
        {
          "output_type": "stream",
          "name": "stdout",
          "text": [
            "Mounted at /content/drive\n"
          ]
        }
      ]
    },
    {
      "cell_type": "code",
      "execution_count": 1,
      "metadata": {
        "colab": {
          "base_uri": "https://localhost:8080/"
        },
        "id": "X0Fyd_SRTcgN",
        "outputId": "3a0e3709-b261-4804-b946-afff6c306e62"
      },
      "outputs": [
        {
          "output_type": "stream",
          "name": "stdout",
          "text": [
            "unzip:  cannot find or open /content/2501ml_data.zip, /content/2501ml_data.zip.zip or /content/2501ml_data.zip.ZIP.\n"
          ]
        }
      ],
      "source": [
        "!unzip /content/2501ml_data.zip -d /content/"
      ]
    },
    {
      "cell_type": "code",
      "execution_count": null,
      "metadata": {
        "colab": {
          "base_uri": "https://localhost:8080/"
        },
        "id": "_0vnDrk8Ulx4",
        "outputId": "88f6b78a-1fd7-4bed-d468-c17d2cd93216"
      },
      "outputs": [
        {
          "name": "stdout",
          "output_type": "stream",
          "text": [
            "/content/2501ml_data.zip: Zip archive data, at least v2.0 to extract, compression method=deflate\n"
          ]
        }
      ],
      "source": [
        "!file /content/2501ml_data.zip"
      ]
    },
    {
      "cell_type": "markdown",
      "metadata": {
        "id": "AjL9zysWvkmK"
      },
      "source": [
        "## 1. 필요 라이브러러 임포트 및 다운로드"
      ]
    },
    {
      "cell_type": "code",
      "execution_count": 10,
      "metadata": {
        "id": "6C-2s9DAvMIj"
      },
      "outputs": [],
      "source": [
        "# -------------------------------------------\n",
        "# 1. 라이브러리 설치 및 임포트\n",
        "# -------------------------------------------\n",
        "!pip install umap-learn --quiet\n",
        "\n",
        "import os\n",
        "import random\n",
        "import numpy as np\n",
        "import pandas as pd\n",
        "import librosa\n",
        "import matplotlib.pyplot as plt\n",
        "import seaborn as sns\n",
        "from tqdm import tqdm\n",
        "from sklearn.model_selection import train_test_split\n",
        "from sklearn.preprocessing import StandardScaler\n",
        "from sklearn.metrics import classification_report, confusion_matrix, roc_auc_score\n",
        "import tensorflow as tf\n",
        "from tensorflow.keras import layers, models\n",
        "from tensorflow.keras.callbacks import EarlyStopping, ReduceLROnPlateau\n",
        "from tensorflow.keras.losses import BinaryCrossentropy\n",
        "\n",
        "# 재현성 설정\n",
        "random.seed(42)\n",
        "np.random.seed(42)\n",
        "tf.random.set_seed(42)\n"
      ]
    },
    {
      "cell_type": "markdown",
      "metadata": {
        "id": "W3NiFNQjvaBf"
      },
      "source": [
        "## 데이터 로딩 함수 정의"
      ]
    },
    {
      "cell_type": "code",
      "execution_count": 16,
      "metadata": {
        "id": "HHEIEEHnvU9N"
      },
      "outputs": [],
      "source": [
        "# -------------------------------------------\n",
        "# 2. 데이터 로딩 함수 정의\n",
        "# -------------------------------------------\n",
        "def load_mfcc_data(audio_path, label_path, max_len=200):\n",
        "    entries = []\n",
        "    with open(label_path, 'r') as f:\n",
        "        for line in f:\n",
        "            parts = line.strip().split()\n",
        "            if len(parts) >= 5:\n",
        "                entries.append((parts[1], parts[-1]))\n",
        "    df = pd.DataFrame(entries, columns=['filename','label'])\n",
        "\n",
        "    X_list, y_list = [], []\n",
        "    for _, row in tqdm(df.iterrows(), total=len(df), desc=\"Loading MFCC\"):\n",
        "        fp = os.path.join(audio_path, row['filename'])\n",
        "        if not os.path.isfile(fp):\n",
        "            continue\n",
        "        try:\n",
        "            audio, sr = librosa.load(fp, sr=16000)\n",
        "            mfcc = librosa.feature.mfcc(y=audio, sr=sr, n_mfcc=20).T # 기존에는 13이었음.\n",
        "            if mfcc.shape[0] < max_len:\n",
        "                mfcc = np.pad(mfcc, ((0, max_len-mfcc.shape[0]), (0,0)), mode='constant')\n",
        "            else:\n",
        "                mfcc = mfcc[:max_len]\n",
        "            X_list.append(mfcc)\n",
        "            y_list.append(0 if row['label']=='Real' else 1)\n",
        "        except:\n",
        "            continue\n",
        "\n",
        "    return np.array(X_list), np.array(y_list)\n",
        "\n",
        "\n",
        "def standardize(X):\n",
        "    ns, nt, nf = X.shape\n",
        "    scaler = StandardScaler().fit(X.reshape(-1, nf))\n",
        "    X_scaled = scaler.transform(X.reshape(-1, nf)).reshape(ns, nt, nf)\n",
        "    return X_scaled, scaler\n"
      ]
    },
    {
      "cell_type": "markdown",
      "metadata": {
        "id": "Y1ppfLQd9u6a"
      },
      "source": [
        "### 데이터 셋 캐시 저장\n",
        "- 사용 예시\n",
        "save_mfcc_cache(X, y, scaler, cache_prefix=\"train\")\n",
        "- 사용 조건\n",
        "  - 목차의 \"캐시가 없을 때\"를 실행하고 난 후 실행하셔야 합니다."
      ]
    },
    {
      "cell_type": "markdown",
      "metadata": {
        "id": "ivm8u9ibDrn1"
      },
      "source": [
        "#### Train set 캐시 저장 함수\n",
        "- test set을 위한 코드가 아닙니다. train set에만 사용하시기 바랍니다."
      ]
    },
    {
      "cell_type": "code",
      "execution_count": 33,
      "metadata": {
        "colab": {
          "base_uri": "https://localhost:8080/",
          "height": 336
        },
        "id": "fwdKGbzV9yhj",
        "outputId": "efb4b41e-31c4-4376-a653-c4fb97ac5f6d"
      },
      "outputs": [
        {
          "output_type": "error",
          "ename": "FileNotFoundError",
          "evalue": "[Errno 2] No such file or directory: '/content/drive/MyDrive/2501ml_data/cache/train_X.npy'",
          "traceback": [
            "\u001b[0;31m---------------------------------------------------------------------------\u001b[0m",
            "\u001b[0;31mFileNotFoundError\u001b[0m                         Traceback (most recent call last)",
            "\u001b[0;32m<ipython-input-33-82af74655796>\u001b[0m in \u001b[0;36m<cell line: 0>\u001b[0;34m()\u001b[0m\n\u001b[1;32m      9\u001b[0m     \u001b[0mprint\u001b[0m\u001b[0;34m(\u001b[0m\u001b[0;34mf\"✅ 캐시 저장 완료: {X_cache}, {y_cache}, {scaler_cache}\"\u001b[0m\u001b[0;34m)\u001b[0m\u001b[0;34m\u001b[0m\u001b[0;34m\u001b[0m\u001b[0m\n\u001b[1;32m     10\u001b[0m \u001b[0;31m# Train set = > X: 전처리된 입력 특성, y : 정답 레이블, scaler : 표준화 정보\u001b[0m\u001b[0;34m\u001b[0m\u001b[0;34m\u001b[0m\u001b[0m\n\u001b[0;32m---> 11\u001b[0;31m \u001b[0msave_mfcc_cache\u001b[0m\u001b[0;34m(\u001b[0m\u001b[0mX\u001b[0m\u001b[0;34m,\u001b[0m \u001b[0my\u001b[0m\u001b[0;34m,\u001b[0m \u001b[0mscaler\u001b[0m\u001b[0;34m,\u001b[0m \u001b[0mcache_prefix\u001b[0m\u001b[0;34m=\u001b[0m\u001b[0;34m\"/content/drive/MyDrive/2501ml_data/cache/train\"\u001b[0m\u001b[0;34m)\u001b[0m\u001b[0;34m\u001b[0m\u001b[0;34m\u001b[0m\u001b[0m\n\u001b[0m",
            "\u001b[0;32m<ipython-input-33-82af74655796>\u001b[0m in \u001b[0;36msave_mfcc_cache\u001b[0;34m(X, y, scaler, cache_prefix)\u001b[0m\n\u001b[1;32m      4\u001b[0m     \u001b[0mscaler_cache\u001b[0m \u001b[0;34m=\u001b[0m \u001b[0;34mf\"{cache_prefix}_scaler.npy\"\u001b[0m\u001b[0;34m\u001b[0m\u001b[0;34m\u001b[0m\u001b[0m\n\u001b[1;32m      5\u001b[0m \u001b[0;34m\u001b[0m\u001b[0m\n\u001b[0;32m----> 6\u001b[0;31m     \u001b[0mnp\u001b[0m\u001b[0;34m.\u001b[0m\u001b[0msave\u001b[0m\u001b[0;34m(\u001b[0m\u001b[0mX_cache\u001b[0m\u001b[0;34m,\u001b[0m \u001b[0mX\u001b[0m\u001b[0;34m)\u001b[0m\u001b[0;34m\u001b[0m\u001b[0;34m\u001b[0m\u001b[0m\n\u001b[0m\u001b[1;32m      7\u001b[0m     \u001b[0mnp\u001b[0m\u001b[0;34m.\u001b[0m\u001b[0msave\u001b[0m\u001b[0;34m(\u001b[0m\u001b[0my_cache\u001b[0m\u001b[0;34m,\u001b[0m \u001b[0my\u001b[0m\u001b[0;34m)\u001b[0m\u001b[0;34m\u001b[0m\u001b[0;34m\u001b[0m\u001b[0m\n\u001b[1;32m      8\u001b[0m     \u001b[0mnp\u001b[0m\u001b[0;34m.\u001b[0m\u001b[0msave\u001b[0m\u001b[0;34m(\u001b[0m\u001b[0mscaler_cache\u001b[0m\u001b[0;34m,\u001b[0m \u001b[0;34m{\u001b[0m\u001b[0;34m'mean'\u001b[0m\u001b[0;34m:\u001b[0m \u001b[0mscaler\u001b[0m\u001b[0;34m.\u001b[0m\u001b[0mmean_\u001b[0m\u001b[0;34m,\u001b[0m \u001b[0;34m'scale'\u001b[0m\u001b[0;34m:\u001b[0m \u001b[0mscaler\u001b[0m\u001b[0;34m.\u001b[0m\u001b[0mscale_\u001b[0m\u001b[0;34m}\u001b[0m\u001b[0;34m)\u001b[0m\u001b[0;34m\u001b[0m\u001b[0;34m\u001b[0m\u001b[0m\n",
            "\u001b[0;32m/usr/local/lib/python3.11/dist-packages/numpy/lib/_npyio_impl.py\u001b[0m in \u001b[0;36msave\u001b[0;34m(file, arr, allow_pickle, fix_imports)\u001b[0m\n\u001b[1;32m    568\u001b[0m         \u001b[0;32mif\u001b[0m \u001b[0;32mnot\u001b[0m \u001b[0mfile\u001b[0m\u001b[0;34m.\u001b[0m\u001b[0mendswith\u001b[0m\u001b[0;34m(\u001b[0m\u001b[0;34m'.npy'\u001b[0m\u001b[0;34m)\u001b[0m\u001b[0;34m:\u001b[0m\u001b[0;34m\u001b[0m\u001b[0;34m\u001b[0m\u001b[0m\n\u001b[1;32m    569\u001b[0m             \u001b[0mfile\u001b[0m \u001b[0;34m=\u001b[0m \u001b[0mfile\u001b[0m \u001b[0;34m+\u001b[0m \u001b[0;34m'.npy'\u001b[0m\u001b[0;34m\u001b[0m\u001b[0;34m\u001b[0m\u001b[0m\n\u001b[0;32m--> 570\u001b[0;31m         \u001b[0mfile_ctx\u001b[0m \u001b[0;34m=\u001b[0m \u001b[0mopen\u001b[0m\u001b[0;34m(\u001b[0m\u001b[0mfile\u001b[0m\u001b[0;34m,\u001b[0m \u001b[0;34m\"wb\"\u001b[0m\u001b[0;34m)\u001b[0m\u001b[0;34m\u001b[0m\u001b[0;34m\u001b[0m\u001b[0m\n\u001b[0m\u001b[1;32m    571\u001b[0m \u001b[0;34m\u001b[0m\u001b[0m\n\u001b[1;32m    572\u001b[0m     \u001b[0;32mwith\u001b[0m \u001b[0mfile_ctx\u001b[0m \u001b[0;32mas\u001b[0m \u001b[0mfid\u001b[0m\u001b[0;34m:\u001b[0m\u001b[0;34m\u001b[0m\u001b[0;34m\u001b[0m\u001b[0m\n",
            "\u001b[0;31mFileNotFoundError\u001b[0m: [Errno 2] No such file or directory: '/content/drive/MyDrive/2501ml_data/cache/train_X.npy'"
          ]
        }
      ],
      "source": [
        "def save_mfcc_cache(X, y, scaler, cache_prefix=\"train\"):\n",
        "    X_cache = f\"{cache_prefix}_X.npy\"\n",
        "    y_cache = f\"{cache_prefix}_y.npy\"\n",
        "    scaler_cache = f\"{cache_prefix}_scaler.npy\"\n",
        "\n",
        "    np.save(X_cache, X)\n",
        "    np.save(y_cache, y)\n",
        "    np.save(scaler_cache, {'mean': scaler.mean_, 'scale': scaler.scale_})\n",
        "    print(f\"✅ 캐시 저장 완료: {X_cache}, {y_cache}, {scaler_cache}\")\n",
        "# Train set = > X: 전처리된 입력 특성, y : 정답 레이블, scaler : 표준화 정보\n",
        "save_mfcc_cache(X, y, scaler, cache_prefix=\"/content/drive/MyDrive/2501ml_data/cache/train\")"
      ]
    },
    {
      "cell_type": "markdown",
      "metadata": {
        "id": "qVf2SC0rD6-B"
      },
      "source": [
        "#### Test set 캐시 저장\n",
        "-  test set을 위한 코드입니다."
      ]
    },
    {
      "cell_type": "code",
      "execution_count": 34,
      "metadata": {
        "colab": {
          "base_uri": "https://localhost:8080/",
          "height": 349
        },
        "id": "-B9-jNUf-wq2",
        "outputId": "4c4fb68a-645d-4648-9719-4f9bde27f381"
      },
      "outputs": [
        {
          "output_type": "error",
          "ename": "FileNotFoundError",
          "evalue": "[Errno 2] No such file or directory: '/content/drive/MyDrive/2501ml_data/cache/test_X.npy'",
          "traceback": [
            "\u001b[0;31m---------------------------------------------------------------------------\u001b[0m",
            "\u001b[0;31mFileNotFoundError\u001b[0m                         Traceback (most recent call last)",
            "\u001b[0;32m<ipython-input-34-a901356a34d7>\u001b[0m in \u001b[0;36m<cell line: 0>\u001b[0;34m()\u001b[0m\n\u001b[1;32m      3\u001b[0m \u001b[0;34m\u001b[0m\u001b[0m\n\u001b[1;32m      4\u001b[0m \u001b[0;31m# Test set => X_test : 입력 특성, y_test : 정답 레이블, 표준화 정보는 필요없음. scalar를 사용해야 함.\u001b[0m\u001b[0;34m\u001b[0m\u001b[0;34m\u001b[0m\u001b[0m\n\u001b[0;32m----> 5\u001b[0;31m \u001b[0mnp\u001b[0m\u001b[0;34m.\u001b[0m\u001b[0msave\u001b[0m\u001b[0;34m(\u001b[0m\u001b[0mtest_X_path\u001b[0m\u001b[0;34m,\u001b[0m \u001b[0mX_test\u001b[0m\u001b[0;34m)\u001b[0m\u001b[0;34m\u001b[0m\u001b[0;34m\u001b[0m\u001b[0m\n\u001b[0m\u001b[1;32m      6\u001b[0m \u001b[0mnp\u001b[0m\u001b[0;34m.\u001b[0m\u001b[0msave\u001b[0m\u001b[0;34m(\u001b[0m\u001b[0mtest_y_path\u001b[0m\u001b[0;34m,\u001b[0m \u001b[0my_test\u001b[0m\u001b[0;34m)\u001b[0m\u001b[0;34m\u001b[0m\u001b[0;34m\u001b[0m\u001b[0m\n\u001b[1;32m      7\u001b[0m \u001b[0mprint\u001b[0m\u001b[0;34m(\u001b[0m\u001b[0;34m\"✅ 테스트셋 캐시 저장 완료\"\u001b[0m\u001b[0;34m)\u001b[0m\u001b[0;34m\u001b[0m\u001b[0;34m\u001b[0m\u001b[0m\n",
            "\u001b[0;32m/usr/local/lib/python3.11/dist-packages/numpy/lib/_npyio_impl.py\u001b[0m in \u001b[0;36msave\u001b[0;34m(file, arr, allow_pickle, fix_imports)\u001b[0m\n\u001b[1;32m    568\u001b[0m         \u001b[0;32mif\u001b[0m \u001b[0;32mnot\u001b[0m \u001b[0mfile\u001b[0m\u001b[0;34m.\u001b[0m\u001b[0mendswith\u001b[0m\u001b[0;34m(\u001b[0m\u001b[0;34m'.npy'\u001b[0m\u001b[0;34m)\u001b[0m\u001b[0;34m:\u001b[0m\u001b[0;34m\u001b[0m\u001b[0;34m\u001b[0m\u001b[0m\n\u001b[1;32m    569\u001b[0m             \u001b[0mfile\u001b[0m \u001b[0;34m=\u001b[0m \u001b[0mfile\u001b[0m \u001b[0;34m+\u001b[0m \u001b[0;34m'.npy'\u001b[0m\u001b[0;34m\u001b[0m\u001b[0;34m\u001b[0m\u001b[0m\n\u001b[0;32m--> 570\u001b[0;31m         \u001b[0mfile_ctx\u001b[0m \u001b[0;34m=\u001b[0m \u001b[0mopen\u001b[0m\u001b[0;34m(\u001b[0m\u001b[0mfile\u001b[0m\u001b[0;34m,\u001b[0m \u001b[0;34m\"wb\"\u001b[0m\u001b[0;34m)\u001b[0m\u001b[0;34m\u001b[0m\u001b[0;34m\u001b[0m\u001b[0m\n\u001b[0m\u001b[1;32m    571\u001b[0m \u001b[0;34m\u001b[0m\u001b[0m\n\u001b[1;32m    572\u001b[0m     \u001b[0;32mwith\u001b[0m \u001b[0mfile_ctx\u001b[0m \u001b[0;32mas\u001b[0m \u001b[0mfid\u001b[0m\u001b[0;34m:\u001b[0m\u001b[0;34m\u001b[0m\u001b[0;34m\u001b[0m\u001b[0m\n",
            "\u001b[0;31mFileNotFoundError\u001b[0m: [Errno 2] No such file or directory: '/content/drive/MyDrive/2501ml_data/cache/test_X.npy'"
          ]
        }
      ],
      "source": [
        "test_X_path = \"/content/drive/MyDrive/2501ml_data/cache/test_X.npy\"\n",
        "test_y_path = \"/content/drive/MyDrive/2501ml_data/cache/test_y.npy\"\n",
        "\n",
        "# Test set => X_test : 입력 특성, y_test : 정답 레이블, 표준화 정보는 필요없음. scalar를 사용해야 함.\n",
        "np.save(test_X_path, X_test)\n",
        "np.save(test_y_path, y_test)\n",
        "print(\"✅ 테스트셋 캐시 저장 완료\")\n"
      ]
    },
    {
      "cell_type": "markdown",
      "metadata": {
        "id": "ApDVnUfa-Sxv"
      },
      "source": [
        "### 캐시로부터 MFCC 데이터 로드 함수\n",
        "- 사용 예시\n",
        "X, y, scaler = load_mfcc_cache(cache_prefix=\"train\")\n",
        "- 사용 조건\n",
        "  - 이후 캐시를 저장하고 난 후는 계속해서 MFCC 데이터 로드 함수를 활용해 이후, 로드할 필요 없이 사용하시면 됩니다."
      ]
    },
    {
      "cell_type": "markdown",
      "metadata": {
        "id": "hd7-2qCDEJ2w"
      },
      "source": [
        "#### Train set 캐시 로드 함수"
      ]
    },
    {
      "cell_type": "code",
      "execution_count": 35,
      "metadata": {
        "colab": {
          "base_uri": "https://localhost:8080/",
          "height": 312
        },
        "id": "CLWFGJYV-OuG",
        "outputId": "fa1c634b-fb17-4bf6-8c87-d21d6c49843b"
      },
      "outputs": [
        {
          "output_type": "error",
          "ename": "FileNotFoundError",
          "evalue": "❌ 캐시 파일이 존재하지 않습니다: prefix=/content/drive/MyDrive/2501ml_data/cache/train",
          "traceback": [
            "\u001b[0;31m---------------------------------------------------------------------------\u001b[0m",
            "\u001b[0;31mFileNotFoundError\u001b[0m                         Traceback (most recent call last)",
            "\u001b[0;32m<ipython-input-35-40a1577583ed>\u001b[0m in \u001b[0;36m<cell line: 0>\u001b[0;34m()\u001b[0m\n\u001b[1;32m     18\u001b[0m     \u001b[0;32mreturn\u001b[0m \u001b[0mX\u001b[0m\u001b[0;34m,\u001b[0m \u001b[0my\u001b[0m\u001b[0;34m,\u001b[0m \u001b[0mscaler\u001b[0m\u001b[0;34m\u001b[0m\u001b[0;34m\u001b[0m\u001b[0m\n\u001b[1;32m     19\u001b[0m \u001b[0;31m# Train set\u001b[0m\u001b[0;34m\u001b[0m\u001b[0;34m\u001b[0m\u001b[0m\n\u001b[0;32m---> 20\u001b[0;31m \u001b[0mX\u001b[0m\u001b[0;34m,\u001b[0m \u001b[0my\u001b[0m\u001b[0;34m,\u001b[0m \u001b[0mscaler\u001b[0m \u001b[0;34m=\u001b[0m \u001b[0mload_mfcc_cache\u001b[0m\u001b[0;34m(\u001b[0m\u001b[0mcache_prefix\u001b[0m\u001b[0;34m=\u001b[0m\u001b[0;34m\"/content/drive/MyDrive/2501ml_data/cache/train\"\u001b[0m\u001b[0;34m)\u001b[0m\u001b[0;34m\u001b[0m\u001b[0;34m\u001b[0m\u001b[0m\n\u001b[0m",
            "\u001b[0;32m<ipython-input-35-40a1577583ed>\u001b[0m in \u001b[0;36mload_mfcc_cache\u001b[0;34m(cache_prefix)\u001b[0m\n\u001b[1;32m      5\u001b[0m \u001b[0;34m\u001b[0m\u001b[0m\n\u001b[1;32m      6\u001b[0m     \u001b[0;32mif\u001b[0m \u001b[0;32mnot\u001b[0m \u001b[0;34m(\u001b[0m\u001b[0mos\u001b[0m\u001b[0;34m.\u001b[0m\u001b[0mpath\u001b[0m\u001b[0;34m.\u001b[0m\u001b[0mexists\u001b[0m\u001b[0;34m(\u001b[0m\u001b[0mX_cache\u001b[0m\u001b[0;34m)\u001b[0m \u001b[0;32mand\u001b[0m \u001b[0mos\u001b[0m\u001b[0;34m.\u001b[0m\u001b[0mpath\u001b[0m\u001b[0;34m.\u001b[0m\u001b[0mexists\u001b[0m\u001b[0;34m(\u001b[0m\u001b[0my_cache\u001b[0m\u001b[0;34m)\u001b[0m \u001b[0;32mand\u001b[0m \u001b[0mos\u001b[0m\u001b[0;34m.\u001b[0m\u001b[0mpath\u001b[0m\u001b[0;34m.\u001b[0m\u001b[0mexists\u001b[0m\u001b[0;34m(\u001b[0m\u001b[0mscaler_cache\u001b[0m\u001b[0;34m)\u001b[0m\u001b[0;34m)\u001b[0m\u001b[0;34m:\u001b[0m\u001b[0;34m\u001b[0m\u001b[0;34m\u001b[0m\u001b[0m\n\u001b[0;32m----> 7\u001b[0;31m         \u001b[0;32mraise\u001b[0m \u001b[0mFileNotFoundError\u001b[0m\u001b[0;34m(\u001b[0m\u001b[0;34mf\"❌ 캐시 파일이 존재하지 않습니다: prefix={cache_prefix}\"\u001b[0m\u001b[0;34m)\u001b[0m\u001b[0;34m\u001b[0m\u001b[0;34m\u001b[0m\u001b[0m\n\u001b[0m\u001b[1;32m      8\u001b[0m \u001b[0;34m\u001b[0m\u001b[0m\n\u001b[1;32m      9\u001b[0m     \u001b[0mprint\u001b[0m\u001b[0;34m(\u001b[0m\u001b[0;34mf\"📂 캐시 불러오는 중: {X_cache}, {y_cache}\"\u001b[0m\u001b[0;34m)\u001b[0m\u001b[0;34m\u001b[0m\u001b[0;34m\u001b[0m\u001b[0m\n",
            "\u001b[0;31mFileNotFoundError\u001b[0m: ❌ 캐시 파일이 존재하지 않습니다: prefix=/content/drive/MyDrive/2501ml_data/cache/train"
          ]
        }
      ],
      "source": [
        "def load_mfcc_cache(cache_prefix=\"train\"):\n",
        "    X_cache = f\"{cache_prefix}_X.npy\"\n",
        "    y_cache = f\"{cache_prefix}_y.npy\"\n",
        "    scaler_cache = f\"{cache_prefix}_scaler.npy\"\n",
        "\n",
        "    if not (os.path.exists(X_cache) and os.path.exists(y_cache) and os.path.exists(scaler_cache)):\n",
        "        raise FileNotFoundError(f\"❌ 캐시 파일이 존재하지 않습니다: prefix={cache_prefix}\")\n",
        "\n",
        "    print(f\"📂 캐시 불러오는 중: {X_cache}, {y_cache}\")\n",
        "    X = np.load(X_cache)\n",
        "    y = np.load(y_cache)\n",
        "    scaler_params = np.load(scaler_cache, allow_pickle=True).item()\n",
        "\n",
        "    scaler = StandardScaler()\n",
        "    scaler.mean_ = scaler_params['mean']\n",
        "    scaler.scale_ = scaler_params['scale']\n",
        "\n",
        "    return X, y, scaler\n",
        "# Train set\n",
        "X, y, scaler = load_mfcc_cache(cache_prefix=\"/content/drive/MyDrive/2501ml_data/cache/train\")"
      ]
    },
    {
      "cell_type": "markdown",
      "metadata": {
        "id": "ZR7IRs9HENvW"
      },
      "source": [
        "#### test set 캐시 로드"
      ]
    },
    {
      "cell_type": "code",
      "execution_count": 36,
      "metadata": {
        "colab": {
          "base_uri": "https://localhost:8080/",
          "height": 349
        },
        "id": "_9tDNtU9A0OR",
        "outputId": "103c9d0d-bc17-4b6a-cc06-7ca291f6b3cf"
      },
      "outputs": [
        {
          "output_type": "error",
          "ename": "FileNotFoundError",
          "evalue": "[Errno 2] No such file or directory: '/content/drive/MyDrive/2501ml_data/cache/test_X.npy'",
          "traceback": [
            "\u001b[0;31m---------------------------------------------------------------------------\u001b[0m",
            "\u001b[0;31mFileNotFoundError\u001b[0m                         Traceback (most recent call last)",
            "\u001b[0;32m<ipython-input-36-229ceea113e9>\u001b[0m in \u001b[0;36m<cell line: 0>\u001b[0;34m()\u001b[0m\n\u001b[1;32m      2\u001b[0m \u001b[0mtest_y_path\u001b[0m \u001b[0;34m=\u001b[0m \u001b[0;34m\"/content/drive/MyDrive/2501ml_data/cache/test_y.npy\"\u001b[0m\u001b[0;34m\u001b[0m\u001b[0;34m\u001b[0m\u001b[0m\n\u001b[1;32m      3\u001b[0m \u001b[0;31m# Test set\u001b[0m\u001b[0;34m\u001b[0m\u001b[0;34m\u001b[0m\u001b[0m\n\u001b[0;32m----> 4\u001b[0;31m \u001b[0mX_test\u001b[0m \u001b[0;34m=\u001b[0m \u001b[0mnp\u001b[0m\u001b[0;34m.\u001b[0m\u001b[0mload\u001b[0m\u001b[0;34m(\u001b[0m\u001b[0mtest_X_path\u001b[0m\u001b[0;34m)\u001b[0m\u001b[0;34m\u001b[0m\u001b[0;34m\u001b[0m\u001b[0m\n\u001b[0m\u001b[1;32m      5\u001b[0m \u001b[0my_test\u001b[0m \u001b[0;34m=\u001b[0m \u001b[0mnp\u001b[0m\u001b[0;34m.\u001b[0m\u001b[0mload\u001b[0m\u001b[0;34m(\u001b[0m\u001b[0mtest_y_path\u001b[0m\u001b[0;34m)\u001b[0m\u001b[0;34m\u001b[0m\u001b[0;34m\u001b[0m\u001b[0m\n\u001b[1;32m      6\u001b[0m \u001b[0mprint\u001b[0m\u001b[0;34m(\u001b[0m\u001b[0;34m\"✅ 테스트셋 캐시 불러오기 완료\"\u001b[0m\u001b[0;34m)\u001b[0m\u001b[0;34m\u001b[0m\u001b[0;34m\u001b[0m\u001b[0m\n",
            "\u001b[0;32m/usr/local/lib/python3.11/dist-packages/numpy/lib/_npyio_impl.py\u001b[0m in \u001b[0;36mload\u001b[0;34m(file, mmap_mode, allow_pickle, fix_imports, encoding, max_header_size)\u001b[0m\n\u001b[1;32m    453\u001b[0m             \u001b[0mown_fid\u001b[0m \u001b[0;34m=\u001b[0m \u001b[0;32mFalse\u001b[0m\u001b[0;34m\u001b[0m\u001b[0;34m\u001b[0m\u001b[0m\n\u001b[1;32m    454\u001b[0m         \u001b[0;32melse\u001b[0m\u001b[0;34m:\u001b[0m\u001b[0;34m\u001b[0m\u001b[0;34m\u001b[0m\u001b[0m\n\u001b[0;32m--> 455\u001b[0;31m             \u001b[0mfid\u001b[0m \u001b[0;34m=\u001b[0m \u001b[0mstack\u001b[0m\u001b[0;34m.\u001b[0m\u001b[0menter_context\u001b[0m\u001b[0;34m(\u001b[0m\u001b[0mopen\u001b[0m\u001b[0;34m(\u001b[0m\u001b[0mos\u001b[0m\u001b[0;34m.\u001b[0m\u001b[0mfspath\u001b[0m\u001b[0;34m(\u001b[0m\u001b[0mfile\u001b[0m\u001b[0;34m)\u001b[0m\u001b[0;34m,\u001b[0m \u001b[0;34m\"rb\"\u001b[0m\u001b[0;34m)\u001b[0m\u001b[0;34m)\u001b[0m\u001b[0;34m\u001b[0m\u001b[0;34m\u001b[0m\u001b[0m\n\u001b[0m\u001b[1;32m    456\u001b[0m             \u001b[0mown_fid\u001b[0m \u001b[0;34m=\u001b[0m \u001b[0;32mTrue\u001b[0m\u001b[0;34m\u001b[0m\u001b[0;34m\u001b[0m\u001b[0m\n\u001b[1;32m    457\u001b[0m \u001b[0;34m\u001b[0m\u001b[0m\n",
            "\u001b[0;31mFileNotFoundError\u001b[0m: [Errno 2] No such file or directory: '/content/drive/MyDrive/2501ml_data/cache/test_X.npy'"
          ]
        }
      ],
      "source": [
        "test_X_path = \"/content/drive/MyDrive/2501ml_data/cache/test_X.npy\"\n",
        "test_y_path = \"/content/drive/MyDrive/2501ml_data/cache/test_y.npy\"\n",
        "# Test set\n",
        "X_test = np.load(test_X_path)\n",
        "y_test = np.load(test_y_path)\n",
        "print(\"✅ 테스트셋 캐시 불러오기 완료\")"
      ]
    },
    {
      "cell_type": "markdown",
      "metadata": {
        "id": "9T8gTqbmvq4n"
      },
      "source": [
        "## DNN 모델 정의"
      ]
    },
    {
      "cell_type": "code",
      "execution_count": 24,
      "metadata": {
        "id": "civKLfZFvtiY"
      },
      "outputs": [],
      "source": [
        "def build_dnn_model(input_shape):\n",
        "    model = models.Sequential([\n",
        "        layers.Input(shape=input_shape, name=\"input_mfcc\"),\n",
        "        layers.Flatten(name=\"flatten\"),\n",
        "\n",
        "        layers.Dense(64, activation=None),\n",
        "        layers.BatchNormalization(),\n",
        "        layers.Activation('relu'),\n",
        "        layers.Dropout(0.3),\n",
        "\n",
        "        layers.Dense(128, activation=None),\n",
        "        layers.BatchNormalization(),\n",
        "        layers.Activation('relu'),\n",
        "        layers.Dropout(0.4),\n",
        "\n",
        "        layers.Dense(1, activation='sigmoid', name=\"output\")\n",
        "    ])\n",
        "    model.compile(\n",
        "        optimizer='adam',\n",
        "        loss='binary_crossentropy',\n",
        "        metrics=['accuracy']\n",
        "    )\n",
        "    return model\n"
      ]
    },
    {
      "cell_type": "code",
      "source": [
        "def build_dnn_model(input_shape):\n",
        "    model = models.Sequential([\n",
        "        layers.Input(shape=input_shape),\n",
        "        layers.Flatten(),\n",
        "\n",
        "        layers.Dense(128, activation='relu'),\n",
        "        layers.Dropout(0.3),\n",
        "\n",
        "        layers.Dense(64, activation='relu'),\n",
        "        layers.Dropout(0.3),\n",
        "\n",
        "        layers.Dense(1, activation='sigmoid')\n",
        "    ])\n",
        "\n",
        "    model.compile(optimizer='adam', loss='binary_crossentropy', metrics=['accuracy'])\n",
        "    return model"
      ],
      "metadata": {
        "id": "xmkqpng0y2m0"
      },
      "execution_count": 25,
      "outputs": []
    },
    {
      "cell_type": "markdown",
      "metadata": {
        "id": "YKpJWg_rv9ig"
      },
      "source": [
        "## 학습용 데이터 로딩"
      ]
    },
    {
      "cell_type": "code",
      "execution_count": 11,
      "metadata": {
        "id": "ox0lftHIv-SY"
      },
      "outputs": [],
      "source": [
        "train_audio_path = '/content/drive/MyDrive/2501ml_data/train'\n",
        "train_label_path = '/content/drive/MyDrive/2501ml_data/label/train_label.txt'\n"
      ]
    },
    {
      "cell_type": "markdown",
      "metadata": {
        "id": "iSLTh3V2BLND"
      },
      "source": [
        "### 캐시가 없을 때\n",
        "- 캐시가 있다면 목차의 \"캐시로부터 MFCC 데이터 로드 함수\"를 실행하고 난후 다음 단계로 넘어가주시기 바랍니다."
      ]
    },
    {
      "cell_type": "code",
      "execution_count": 12,
      "metadata": {
        "colab": {
          "base_uri": "https://localhost:8080/"
        },
        "id": "1EGQIT-TBIaK",
        "outputId": "e3415df9-2a9d-4722-8222-64e7ceaf2316"
      },
      "outputs": [
        {
          "output_type": "stream",
          "name": "stderr",
          "text": [
            "Loading MFCC: 100%|██████████| 4000/4000 [24:55<00:00,  2.67it/s]\n"
          ]
        }
      ],
      "source": [
        "max_len = 4000\n",
        "X, y = load_mfcc_data(train_audio_path, train_label_path, max_len)\n",
        "X, scaler = standardize(X)"
      ]
    },
    {
      "cell_type": "markdown",
      "metadata": {
        "id": "vEsJcdSyC-c6"
      },
      "source": [
        "# 모델 학습"
      ]
    },
    {
      "cell_type": "code",
      "execution_count": 27,
      "metadata": {
        "colab": {
          "base_uri": "https://localhost:8080/"
        },
        "id": "tBR_cf2cv2cp",
        "outputId": "a5ea337c-5db9-4445-ff8c-382fafdd0f9d"
      },
      "outputs": [
        {
          "output_type": "stream",
          "name": "stdout",
          "text": [
            "Epoch 1/50\n",
            "\u001b[1m200/200\u001b[0m \u001b[32m━━━━━━━━━━━━━━━━━━━━\u001b[0m\u001b[37m\u001b[0m \u001b[1m6s\u001b[0m 11ms/step - accuracy: 0.7941 - loss: 0.8791 - val_accuracy: 0.9725 - val_loss: 0.0850 - learning_rate: 0.0010\n",
            "Epoch 2/50\n",
            "\u001b[1m200/200\u001b[0m \u001b[32m━━━━━━━━━━━━━━━━━━━━\u001b[0m\u001b[37m\u001b[0m \u001b[1m1s\u001b[0m 7ms/step - accuracy: 0.9705 - loss: 0.0835 - val_accuracy: 0.9787 - val_loss: 0.0701 - learning_rate: 0.0010\n",
            "Epoch 3/50\n",
            "\u001b[1m200/200\u001b[0m \u001b[32m━━━━━━━━━━━━━━━━━━━━\u001b[0m\u001b[37m\u001b[0m \u001b[1m1s\u001b[0m 7ms/step - accuracy: 0.9707 - loss: 0.0928 - val_accuracy: 0.9850 - val_loss: 0.0769 - learning_rate: 0.0010\n",
            "Epoch 4/50\n",
            "\u001b[1m200/200\u001b[0m \u001b[32m━━━━━━━━━━━━━━━━━━━━\u001b[0m\u001b[37m\u001b[0m \u001b[1m3s\u001b[0m 7ms/step - accuracy: 0.9729 - loss: 0.0693 - val_accuracy: 0.9912 - val_loss: 0.0595 - learning_rate: 0.0010\n",
            "Epoch 5/50\n",
            "\u001b[1m200/200\u001b[0m \u001b[32m━━━━━━━━━━━━━━━━━━━━\u001b[0m\u001b[37m\u001b[0m \u001b[1m3s\u001b[0m 8ms/step - accuracy: 0.9770 - loss: 0.0614 - val_accuracy: 0.9887 - val_loss: 0.0444 - learning_rate: 0.0010\n",
            "Epoch 6/50\n",
            "\u001b[1m200/200\u001b[0m \u001b[32m━━━━━━━━━━━━━━━━━━━━\u001b[0m\u001b[37m\u001b[0m \u001b[1m3s\u001b[0m 8ms/step - accuracy: 0.9785 - loss: 0.0567 - val_accuracy: 0.9837 - val_loss: 0.0649 - learning_rate: 0.0010\n",
            "Epoch 7/50\n",
            "\u001b[1m200/200\u001b[0m \u001b[32m━━━━━━━━━━━━━━━━━━━━\u001b[0m\u001b[37m\u001b[0m \u001b[1m2s\u001b[0m 8ms/step - accuracy: 0.9810 - loss: 0.0678 - val_accuracy: 0.9800 - val_loss: 0.0887 - learning_rate: 0.0010\n",
            "Epoch 8/50\n",
            "\u001b[1m200/200\u001b[0m \u001b[32m━━━━━━━━━━━━━━━━━━━━\u001b[0m\u001b[37m\u001b[0m \u001b[1m1s\u001b[0m 7ms/step - accuracy: 0.9848 - loss: 0.0692 - val_accuracy: 0.9887 - val_loss: 0.0705 - learning_rate: 0.0010\n",
            "Epoch 9/50\n",
            "\u001b[1m200/200\u001b[0m \u001b[32m━━━━━━━━━━━━━━━━━━━━\u001b[0m\u001b[37m\u001b[0m \u001b[1m1s\u001b[0m 7ms/step - accuracy: 0.9895 - loss: 0.0323 - val_accuracy: 0.9900 - val_loss: 0.0707 - learning_rate: 0.0010\n",
            "Epoch 10/50\n",
            "\u001b[1m200/200\u001b[0m \u001b[32m━━━━━━━━━━━━━━━━━━━━\u001b[0m\u001b[37m\u001b[0m \u001b[1m1s\u001b[0m 7ms/step - accuracy: 0.9848 - loss: 0.0423 - val_accuracy: 0.9875 - val_loss: 0.0766 - learning_rate: 0.0010\n",
            "Epoch 11/50\n",
            "\u001b[1m200/200\u001b[0m \u001b[32m━━━━━━━━━━━━━━━━━━━━\u001b[0m\u001b[37m\u001b[0m \u001b[1m1s\u001b[0m 7ms/step - accuracy: 0.9927 - loss: 0.0249 - val_accuracy: 0.9862 - val_loss: 0.0968 - learning_rate: 5.0000e-04\n",
            "Epoch 12/50\n",
            "\u001b[1m200/200\u001b[0m \u001b[32m━━━━━━━━━━━━━━━━━━━━\u001b[0m\u001b[37m\u001b[0m \u001b[1m3s\u001b[0m 8ms/step - accuracy: 0.9917 - loss: 0.0212 - val_accuracy: 0.9887 - val_loss: 0.0759 - learning_rate: 5.0000e-04\n",
            "Epoch 13/50\n",
            "\u001b[1m200/200\u001b[0m \u001b[32m━━━━━━━━━━━━━━━━━━━━\u001b[0m\u001b[37m\u001b[0m \u001b[1m2s\u001b[0m 8ms/step - accuracy: 0.9957 - loss: 0.0227 - val_accuracy: 0.9900 - val_loss: 0.0933 - learning_rate: 5.0000e-04\n",
            "Epoch 14/50\n",
            "\u001b[1m200/200\u001b[0m \u001b[32m━━━━━━━━━━━━━━━━━━━━\u001b[0m\u001b[37m\u001b[0m \u001b[1m2s\u001b[0m 7ms/step - accuracy: 0.9963 - loss: 0.0084 - val_accuracy: 0.9912 - val_loss: 0.1033 - learning_rate: 5.0000e-04\n",
            "Epoch 15/50\n",
            "\u001b[1m200/200\u001b[0m \u001b[32m━━━━━━━━━━━━━━━━━━━━\u001b[0m\u001b[37m\u001b[0m \u001b[1m1s\u001b[0m 7ms/step - accuracy: 0.9935 - loss: 0.0148 - val_accuracy: 0.9900 - val_loss: 0.0903 - learning_rate: 5.0000e-04\n"
          ]
        }
      ],
      "source": [
        "X_train, X_val, y_train, y_val = train_test_split(\n",
        "    X, y, test_size=0.2, stratify=y, random_state=41\n",
        ")\n",
        "\n",
        "model = build_dnn_model(input_shape=(max_len, X.shape[2]))\n",
        "callbacks = [\n",
        "    EarlyStopping(monitor='val_loss', patience=10, restore_best_weights=True),\n",
        "    ReduceLROnPlateau(monitor='val_loss', factor=0.5, patience=5, min_lr=1e-6)\n",
        "]\n",
        "history = model.fit(\n",
        "    X_train, y_train,\n",
        "    validation_data=(X_val, y_val),\n",
        "    epochs=50,\n",
        "    batch_size=16,\n",
        "    callbacks=callbacks,\n",
        "    verbose=1\n",
        ")\n"
      ]
    },
    {
      "cell_type": "code",
      "source": [
        "from sklearn.utils.class_weight import compute_class_weight\n",
        "\n",
        "X_train, X_val, y_train, y_val = train_test_split(\n",
        "    X, y, test_size=0.2, stratify=y, random_state=41\n",
        ")\n",
        "\n",
        "model = build_dnn_model(input_shape=(max_len, X.shape[2]))\n",
        "class_weights = compute_class_weight(\n",
        "    class_weight='balanced',\n",
        "    classes=np.unique(y_train),\n",
        "    y=y_train\n",
        ")\n",
        "class_weight_dict = dict(enumerate(class_weights))\n",
        "\n",
        "model.fit(\n",
        "    X_train, y_train,\n",
        "    validation_data=(X_val, y_val),\n",
        "    epochs=50,\n",
        "    batch_size=32,\n",
        "    callbacks=callbacks,\n",
        "    verbose=1\n",
        ")"
      ],
      "metadata": {
        "colab": {
          "base_uri": "https://localhost:8080/"
        },
        "id": "uqjUE5R21ct8",
        "outputId": "62e1c4f6-8c28-4996-f00c-c65b1eaa2374"
      },
      "execution_count": 28,
      "outputs": [
        {
          "output_type": "stream",
          "name": "stdout",
          "text": [
            "Epoch 1/50\n",
            "\u001b[1m100/100\u001b[0m \u001b[32m━━━━━━━━━━━━━━━━━━━━\u001b[0m\u001b[37m\u001b[0m \u001b[1m4s\u001b[0m 19ms/step - accuracy: 0.7560 - loss: 0.9663 - val_accuracy: 0.9862 - val_loss: 0.0528 - learning_rate: 0.0010\n",
            "Epoch 2/50\n",
            "\u001b[1m100/100\u001b[0m \u001b[32m━━━━━━━━━━━━━━━━━━━━\u001b[0m\u001b[37m\u001b[0m \u001b[1m3s\u001b[0m 10ms/step - accuracy: 0.9660 - loss: 0.1047 - val_accuracy: 0.9862 - val_loss: 0.0500 - learning_rate: 0.0010\n",
            "Epoch 3/50\n",
            "\u001b[1m100/100\u001b[0m \u001b[32m━━━━━━━━━━━━━━━━━━━━\u001b[0m\u001b[37m\u001b[0m \u001b[1m1s\u001b[0m 12ms/step - accuracy: 0.9890 - loss: 0.0409 - val_accuracy: 0.9850 - val_loss: 0.0471 - learning_rate: 0.0010\n",
            "Epoch 4/50\n",
            "\u001b[1m100/100\u001b[0m \u001b[32m━━━━━━━━━━━━━━━━━━━━\u001b[0m\u001b[37m\u001b[0m \u001b[1m1s\u001b[0m 12ms/step - accuracy: 0.9819 - loss: 0.0469 - val_accuracy: 0.9887 - val_loss: 0.0402 - learning_rate: 0.0010\n",
            "Epoch 5/50\n",
            "\u001b[1m100/100\u001b[0m \u001b[32m━━━━━━━━━━━━━━━━━━━━\u001b[0m\u001b[37m\u001b[0m \u001b[1m1s\u001b[0m 12ms/step - accuracy: 0.9839 - loss: 0.0380 - val_accuracy: 0.9912 - val_loss: 0.0662 - learning_rate: 0.0010\n",
            "Epoch 6/50\n",
            "\u001b[1m100/100\u001b[0m \u001b[32m━━━━━━━━━━━━━━━━━━━━\u001b[0m\u001b[37m\u001b[0m \u001b[1m1s\u001b[0m 11ms/step - accuracy: 0.9802 - loss: 0.0854 - val_accuracy: 0.9862 - val_loss: 0.0515 - learning_rate: 0.0010\n",
            "Epoch 7/50\n",
            "\u001b[1m100/100\u001b[0m \u001b[32m━━━━━━━━━━━━━━━━━━━━\u001b[0m\u001b[37m\u001b[0m \u001b[1m1s\u001b[0m 13ms/step - accuracy: 0.9888 - loss: 0.0330 - val_accuracy: 0.9850 - val_loss: 0.0452 - learning_rate: 0.0010\n",
            "Epoch 8/50\n",
            "\u001b[1m100/100\u001b[0m \u001b[32m━━━━━━━━━━━━━━━━━━━━\u001b[0m\u001b[37m\u001b[0m \u001b[1m1s\u001b[0m 10ms/step - accuracy: 0.9780 - loss: 0.0628 - val_accuracy: 0.9900 - val_loss: 0.0374 - learning_rate: 0.0010\n",
            "Epoch 9/50\n",
            "\u001b[1m100/100\u001b[0m \u001b[32m━━━━━━━━━━━━━━━━━━━━\u001b[0m\u001b[37m\u001b[0m \u001b[1m1s\u001b[0m 11ms/step - accuracy: 0.9908 - loss: 0.0283 - val_accuracy: 0.9925 - val_loss: 0.0396 - learning_rate: 0.0010\n",
            "Epoch 10/50\n",
            "\u001b[1m100/100\u001b[0m \u001b[32m━━━━━━━━━━━━━━━━━━━━\u001b[0m\u001b[37m\u001b[0m \u001b[1m1s\u001b[0m 10ms/step - accuracy: 0.9931 - loss: 0.0228 - val_accuracy: 0.9887 - val_loss: 0.0440 - learning_rate: 0.0010\n",
            "Epoch 11/50\n",
            "\u001b[1m100/100\u001b[0m \u001b[32m━━━━━━━━━━━━━━━━━━━━\u001b[0m\u001b[37m\u001b[0m \u001b[1m1s\u001b[0m 10ms/step - accuracy: 0.9937 - loss: 0.0156 - val_accuracy: 0.9812 - val_loss: 0.0854 - learning_rate: 0.0010\n",
            "Epoch 12/50\n",
            "\u001b[1m100/100\u001b[0m \u001b[32m━━━━━━━━━━━━━━━━━━━━\u001b[0m\u001b[37m\u001b[0m \u001b[1m1s\u001b[0m 10ms/step - accuracy: 0.9958 - loss: 0.0115 - val_accuracy: 0.9787 - val_loss: 0.1289 - learning_rate: 0.0010\n",
            "Epoch 13/50\n",
            "\u001b[1m100/100\u001b[0m \u001b[32m━━━━━━━━━━━━━━━━━━━━\u001b[0m\u001b[37m\u001b[0m \u001b[1m1s\u001b[0m 11ms/step - accuracy: 0.9937 - loss: 0.0212 - val_accuracy: 0.9825 - val_loss: 0.1110 - learning_rate: 0.0010\n",
            "Epoch 14/50\n",
            "\u001b[1m100/100\u001b[0m \u001b[32m━━━━━━━━━━━━━━━━━━━━\u001b[0m\u001b[37m\u001b[0m \u001b[1m1s\u001b[0m 10ms/step - accuracy: 0.9917 - loss: 0.0262 - val_accuracy: 0.9875 - val_loss: 0.0795 - learning_rate: 5.0000e-04\n",
            "Epoch 15/50\n",
            "\u001b[1m100/100\u001b[0m \u001b[32m━━━━━━━━━━━━━━━━━━━━\u001b[0m\u001b[37m\u001b[0m \u001b[1m1s\u001b[0m 11ms/step - accuracy: 0.9975 - loss: 0.0043 - val_accuracy: 0.9825 - val_loss: 0.0627 - learning_rate: 5.0000e-04\n",
            "Epoch 16/50\n",
            "\u001b[1m100/100\u001b[0m \u001b[32m━━━━━━━━━━━━━━━━━━━━\u001b[0m\u001b[37m\u001b[0m \u001b[1m1s\u001b[0m 13ms/step - accuracy: 0.9987 - loss: 0.0045 - val_accuracy: 0.9912 - val_loss: 0.0539 - learning_rate: 5.0000e-04\n",
            "Epoch 17/50\n",
            "\u001b[1m100/100\u001b[0m \u001b[32m━━━━━━━━━━━━━━━━━━━━\u001b[0m\u001b[37m\u001b[0m \u001b[1m2s\u001b[0m 10ms/step - accuracy: 0.9992 - loss: 0.0035 - val_accuracy: 0.9887 - val_loss: 0.0617 - learning_rate: 5.0000e-04\n",
            "Epoch 18/50\n",
            "\u001b[1m100/100\u001b[0m \u001b[32m━━━━━━━━━━━━━━━━━━━━\u001b[0m\u001b[37m\u001b[0m \u001b[1m1s\u001b[0m 11ms/step - accuracy: 0.9991 - loss: 0.0037 - val_accuracy: 0.9887 - val_loss: 0.0570 - learning_rate: 5.0000e-04\n"
          ]
        },
        {
          "output_type": "execute_result",
          "data": {
            "text/plain": [
              "<keras.src.callbacks.history.History at 0x7e209b4091d0>"
            ]
          },
          "metadata": {},
          "execution_count": 28
        }
      ]
    },
    {
      "cell_type": "markdown",
      "metadata": {
        "id": "rGDOM97ixC6f"
      },
      "source": [
        "## 모델 학습 과정 시각화"
      ]
    },
    {
      "cell_type": "code",
      "execution_count": 29,
      "metadata": {
        "colab": {
          "base_uri": "https://localhost:8080/",
          "height": 429
        },
        "id": "RlqxQppAw27i",
        "outputId": "945ea7ec-07cf-4bfa-ab1f-dd8ead673ea8"
      },
      "outputs": [
        {
          "output_type": "display_data",
          "data": {
            "text/plain": [
              "<Figure size 1000x400 with 2 Axes>"
            ],
            "image/png": "[encoded data removed]"
          },
          "metadata": {}
        },
        {
          "output_type": "stream",
          "name": "stderr",
          "text": [
            "WARNING:absl:You are saving your model as an HDF5 file via `model.save()` or `keras.saving.save_model(model)`. This file format is considered legacy. We recommend using instead the native Keras format, e.g. `model.save('my_model.keras')` or `keras.saving.save_model(model, 'my_model.keras')`. \n"
          ]
        }
      ],
      "source": [
        "def plot_history(history):\n",
        "    plt.figure(figsize=(10, 4))\n",
        "    plt.subplot(1, 2, 1)\n",
        "    plt.plot(history.history['loss'], label='train_loss')\n",
        "    plt.plot(history.history['val_loss'], label='val_loss')\n",
        "    plt.title(\"Loss\")\n",
        "    plt.legend()\n",
        "\n",
        "    plt.subplot(1, 2, 2)\n",
        "    plt.plot(history.history['accuracy'], label='train_acc')\n",
        "    plt.plot(history.history['val_accuracy'], label='val_acc')\n",
        "    plt.title(\"Accuracy\")\n",
        "    plt.legend()\n",
        "    plt.show()\n",
        "\n",
        "plot_history(history)\n",
        "model.save(\"dnn_model.h5\")"
      ]
    },
    {
      "cell_type": "markdown",
      "metadata": {
        "id": "CnuE7NqWxT10"
      },
      "source": [
        "# 테스트 데이터 로딩 및 평가"
      ]
    },
    {
      "cell_type": "code",
      "execution_count": 30,
      "metadata": {
        "id": "w1LGQ-tkxJRq"
      },
      "outputs": [],
      "source": [
        "test_audio_path = '/content/drive/MyDrive/2501ml_data/test'\n",
        "test_label_path = '/content/drive/MyDrive/2501ml_data/label/test_label.txt'"
      ]
    },
    {
      "cell_type": "markdown",
      "metadata": {
        "id": "MJhy6QIvDPI-"
      },
      "source": [
        "### 캐시가 없을 때\n",
        "- 캐시가 있다면 목차의 \"캐시로부터 MFCC 데이터 로드 함수\"를 실행하고 난후 다음 단계로 넘어가주시기 바랍니다.\n",
        "- 캐시를 생성하고 싶다면 목차의 \"데이터 셋 캐시 저장\"을 실행하시기 바립니다."
      ]
    },
    {
      "cell_type": "code",
      "execution_count": 31,
      "metadata": {
        "colab": {
          "base_uri": "https://localhost:8080/"
        },
        "id": "EF-GT8ECDLz2",
        "outputId": "ac2f395e-2317-4e9c-98b9-8d50f60053ee"
      },
      "outputs": [
        {
          "output_type": "stream",
          "name": "stderr",
          "text": [
            "Loading MFCC: 100%|██████████| 2000/2000 [13:58<00:00,  2.39it/s]\n"
          ]
        }
      ],
      "source": [
        "X_test, y_test = load_mfcc_data(test_audio_path, test_label_path, max_len)\n",
        "\n",
        "ns_test = X_test.shape[0]\n",
        "X_test, _ = standardize(X_test)"
      ]
    },
    {
      "cell_type": "code",
      "execution_count": 37,
      "metadata": {
        "colab": {
          "base_uri": "https://localhost:8080/",
          "height": 726
        },
        "id": "__4iIRuXxG3l",
        "outputId": "3183f676-6e0d-4198-e8d3-126eed52f5e0"
      },
      "outputs": [
        {
          "output_type": "stream",
          "name": "stdout",
          "text": [
            "\u001b[1m63/63\u001b[0m \u001b[32m━━━━━━━━━━━━━━━━━━━━\u001b[0m\u001b[37m\u001b[0m \u001b[1m1s\u001b[0m 7ms/step\n",
            "\n",
            "✅ Classification Report - TEST DATA\n",
            "              precision    recall  f1-score   support\n",
            "\n",
            "        Real       0.85      1.00      0.92      1000\n",
            "        Fake       1.00      0.83      0.90      1000\n",
            "\n",
            "    accuracy                           0.91      2000\n",
            "   macro avg       0.92      0.91      0.91      2000\n",
            "weighted avg       0.92      0.91      0.91      2000\n",
            "\n",
            "ROC AUC: 0.909\n"
          ]
        },
        {
          "output_type": "display_data",
          "data": {
            "text/plain": [
              "<Figure size 600x500 with 2 Axes>"
            ],
            "image/png": "[encoded data removed]"
          },
          "metadata": {}
        }
      ],
      "source": [
        "# -------------------------------------------\n",
        "# 6. 테스트 데이터 평가\n",
        "# -------------------------------------------\n",
        "\n",
        "y_prob = model.predict(X_test)\n",
        "y_pred = (y_prob > 0.8).astype(int)\n",
        "\n",
        "print(\"\\n✅ Classification Report - TEST DATA\")\n",
        "print(classification_report(y_test, y_pred, target_names=['Real','Fake']))\n",
        "print(f\"ROC AUC: {roc_auc_score(y_test, y_prob):.3f}\")\n",
        "\n",
        "cm = confusion_matrix(y_test, y_pred)\n",
        "plt.figure(figsize=(6,5))\n",
        "sns.heatmap(cm, annot=True, fmt='d', cmap='Blues',\n",
        "            xticklabels=['Real','Fake'], yticklabels=['Real','Fake'])\n",
        "plt.xlabel(\"Predicted\")\n",
        "plt.ylabel(\"Actual\")\n",
        "plt.title(\"Confusion Matrix\")\n",
        "plt.show()\n"
      ]
    },
    {
      "cell_type": "markdown",
      "source": [
        "## Spectral_Contrast 특징 활용 모델\n",
        "- 오분류된 데이터에 대해서 따로 특징을 추출하여 분류를 시도함. 이를 활용하여 약 1% 성능 향상이 가능하였음."
      ],
      "metadata": {
        "id": "u2OsR5E88V8l"
      }
    },
    {
      "cell_type": "code",
      "execution_count": 38,
      "metadata": {
        "id": "F4cCuHCo1s0F"
      },
      "outputs": [],
      "source": [
        "def predict_with_spectral_contrast(model,X_test, score:float = 0.32):\n",
        "    # 🔹 1. DNN 예측\n",
        "    y_prob = model.predict(X_test).flatten()\n",
        "\n",
        "    # 🔹 2. 보정 대상: 확률이 낮은 샘플\n",
        "    uncertain_idx = np.where(y_prob < score)[0]\n",
        "\n",
        "    # 🔹 3. test_label.txt에서 파일 이름 가져오기\n",
        "    df = pd.read_csv(test_label_path, sep='\\s+', header=None, usecols=[1, 4], names=['filename', 'label'])\n",
        "\n",
        "    # 라벨을 숫자로 변환\n",
        "    df['label'] = df['label'].map({'Real': 0, 'Fake': 1})\n",
        "\n",
        "    # 리스트와 배열로 추출\n",
        "    test_filenames = df['filename'].tolist()\n",
        "    y_test = df['label'].values.astype(int)\n",
        "\n",
        "    # # 확인\n",
        "    # print(\"✅ 파일 예시:\", test_filenames[:5])\n",
        "    # print(\"✅ 라벨 분포:\", pd.Series(y_test).value_counts().to_dict())\n",
        "\n",
        "\n",
        "    # 🔹 4. Spectral contrast 기반 보정\n",
        "    for idx in tqdm(uncertain_idx, desc=\"📌 Spectral Contrast 보정 중\"):\n",
        "        filename = test_filenames[idx]\n",
        "        file_path = os.path.join(test_audio_path, filename)\n",
        "\n",
        "        try:\n",
        "            y, sr = librosa.load(file_path, sr=16000)\n",
        "            contrast = librosa.feature.spectral_contrast(y=y, sr=sr)\n",
        "            high_contrast = np.mean(contrast[-2:, :])  # 고주파 2대역 평균\n",
        "\n",
        "            if (high_contrast < 21.0 or high_contrast > 27.0):\n",
        "                y_prob[idx] = 1.0  # Fake로 강제 보정\n",
        "        except Exception as e:\n",
        "            print(f\"⚠️ Error processing {filename}: {e}\")\n",
        "    return y_prob"
      ]
    },
    {
      "cell_type": "code",
      "execution_count": 39,
      "metadata": {
        "colab": {
          "base_uri": "https://localhost:8080/",
          "height": 744
        },
        "id": "tPcNNMs119AW",
        "outputId": "5a12f526-ace4-4cce-e4f7-d4287e7723bd"
      },
      "outputs": [
        {
          "output_type": "stream",
          "name": "stdout",
          "text": [
            "\u001b[1m63/63\u001b[0m \u001b[32m━━━━━━━━━━━━━━━━━━━━\u001b[0m\u001b[37m\u001b[0m \u001b[1m0s\u001b[0m 6ms/step\n"
          ]
        },
        {
          "output_type": "stream",
          "name": "stderr",
          "text": [
            "📌 Spectral Contrast 보정 중: 100%|██████████| 1152/1152 [00:09<00:00, 121.02it/s]\n"
          ]
        },
        {
          "output_type": "stream",
          "name": "stdout",
          "text": [
            "\n",
            "✅ Classification Report - TEST DATA\n",
            "              precision    recall  f1-score   support\n",
            "\n",
            "        Real       0.88      0.99      0.93      1000\n",
            "        Fake       0.99      0.86      0.92      1000\n",
            "\n",
            "    accuracy                           0.93      2000\n",
            "   macro avg       0.93      0.93      0.93      2000\n",
            "weighted avg       0.93      0.93      0.93      2000\n",
            "\n",
            "ROC AUC: 0.921\n"
          ]
        },
        {
          "output_type": "display_data",
          "data": {
            "text/plain": [
              "<Figure size 600x500 with 2 Axes>"
            ],
            "image/png": "[encoded data removed]"
          },
          "metadata": {}
        }
      ],
      "source": [
        "# 🔹 5. 최종 이진 판정 (확률 기준은 0.5 유지)\n",
        "y_prob = predict_with_spectral_contrast(model,X_test, score=0.5)\n",
        "y_pred = (y_prob >= 0.5).astype(int)\n",
        "print(\"\\n✅ Classification Report - TEST DATA\")\n",
        "print(classification_report(y_test, y_pred, target_names=['Real','Fake']))\n",
        "print(f\"ROC AUC: {roc_auc_score(y_test, y_prob):.3f}\")\n",
        "\n",
        "cm = confusion_matrix(y_test, y_pred)\n",
        "plt.figure(figsize=(6,5))\n",
        "sns.heatmap(cm, annot=True, fmt='d', cmap='Blues',\n",
        "            xticklabels=['Real','Fake'], yticklabels=['Real','Fake'])\n",
        "plt.xlabel(\"Predicted\")\n",
        "plt.ylabel(\"Actual\")\n",
        "plt.title(\"Confusion Matrix\")\n",
        "plt.show()\n"
      ]
    },
    {
      "cell_type": "markdown",
      "metadata": {
        "id": "eJrbcPVlKgMe"
      },
      "source": [
        "## Spectral contrast 최적화 기준 자동화 선별 함수 (실험 코드)"
      ]
    },
    {
      "cell_type": "code",
      "execution_count": 42,
      "metadata": {
        "id": "_XTfmvJZ9ujG"
      },
      "outputs": [],
      "source": [
        "from sklearn.metrics import precision_recall_fscore_support, accuracy_score\n",
        "\n",
        "import os\n",
        "\n",
        "# 1) 실제 오디오 파일들이 들어 있는 디렉토리 경로\n",
        "train_audio_path = '/content/drive/MyDrive/2501ml_data/train'\n",
        "\n",
        "# 2) 해당 폴더에 있는 모든 .wav 파일 이름을 리스트로 가져오기\n",
        "test_filenames = sorted([\n",
        "    f for f in os.listdir(test_audio_path)\n",
        "    if f.lower().endswith('.wav')\n",
        "])\n",
        "\n",
        "\n",
        "def run_experiment(model, X_test, y_test, test_filenames, test_audio_path,\n",
        "                   prob_thresholds=[0.3, 0.4, 0.5, 0.6],\n",
        "                   contrast_bounds=[(22.0, 26.0), (23.0, 26.5), (22.5, 27.0)]):\n",
        "\n",
        "    results = []\n",
        "\n",
        "    for prob_thresh in prob_thresholds:\n",
        "        for contrast_low, contrast_high in contrast_bounds:\n",
        "                    # 1. DNN 확률 예측\n",
        "          y_prob = model.predict(X_test).flatten()\n",
        "\n",
        "          # 2. 보정 대상 (확률 기준 이하)\n",
        "          uncertain_idx = np.where(y_prob < prob_thresh)[0]\n",
        "\n",
        "          # 3. Spectral Contrast 보정\n",
        "          for idx in tqdm(uncertain_idx, desc=f\"🔍 p<{prob_thresh}, c<{contrast_low} or >{contrast_high}\"):\n",
        "              file_path = os.path.join(test_audio_path, test_filenames[idx])\n",
        "              try:\n",
        "                  y, sr = librosa.load(file_path, sr=16000)\n",
        "                  contrast = librosa.feature.spectral_contrast(y=y, sr=sr)\n",
        "                  high_contrast = np.mean(contrast[-2:, :])\n",
        "\n",
        "                  # Fake로 보정 조건\n",
        "                  if high_contrast < contrast_low or high_contrast > contrast_high:\n",
        "                      y_prob[idx] = 1.0  # Fake로 강제 보정\n",
        "              except Exception as e:\n",
        "                  print(f\"⚠️ Error: {file_path} - {e}\")\n",
        "          for a in prob_thresholds:\n",
        "            # 4. 이진 결과\n",
        "            y_pred = (y_prob >= a).astype(int)\n",
        "\n",
        "            # 5. 지표 계산\n",
        "            acc = accuracy_score(y_test, y_pred)\n",
        "            precision, recall, f1, _ = precision_recall_fscore_support(y_test, y_pred, average='macro')\n",
        "\n",
        "            # 6. 기록\n",
        "            results.append({\n",
        "                'a' : a,\n",
        "                'prob_thresh': prob_thresh,\n",
        "                'contrast_low': contrast_low,\n",
        "                'contrast_high': contrast_high,\n",
        "                'accuracy': acc,\n",
        "                'precision': precision,\n",
        "                'recall': recall,\n",
        "                'f1': f1\n",
        "            })\n",
        "\n",
        "    return pd.DataFrame(results)"
      ]
    },
    {
      "cell_type": "code",
      "execution_count": 43,
      "metadata": {
        "colab": {
          "base_uri": "https://localhost:8080/",
          "height": 198
        },
        "id": "u0kbVwyk93KE",
        "outputId": "de9b7a5b-eaa5-4054-8a14-69892ee196b7"
      },
      "outputs": [
        {
          "output_type": "stream",
          "name": "stdout",
          "text": [
            "\u001b[1m63/63\u001b[0m \u001b[32m━━━━━━━━━━━━━━━━━━━━\u001b[0m\u001b[37m\u001b[0m \u001b[1m0s\u001b[0m 8ms/step\n"
          ]
        },
        {
          "output_type": "stream",
          "name": "stderr",
          "text": [
            "🔍 p<0.32, c<21 or >27: 100%|██████████| 1150/1150 [00:23<00:00, 48.85it/s] \n"
          ]
        },
        {
          "output_type": "stream",
          "name": "stdout",
          "text": [
            "\u001b[1m63/63\u001b[0m \u001b[32m━━━━━━━━━━━━━━━━━━━━\u001b[0m\u001b[37m\u001b[0m \u001b[1m1s\u001b[0m 8ms/step\n"
          ]
        },
        {
          "output_type": "stream",
          "name": "stderr",
          "text": [
            "🔍 p<0.32, c<20.5 or >27.5: 100%|██████████| 1150/1150 [00:11<00:00, 99.50it/s] \n"
          ]
        },
        {
          "output_type": "display_data",
          "data": {
            "text/plain": [
              "      a  prob_thresh  contrast_low  contrast_high  accuracy  precision  \\\n",
              "0  0.32         0.32          20.5           27.5    0.9135   0.921888   \n",
              "1  0.32         0.32          21.0           27.0    0.9080   0.914582   \n",
              "\n",
              "   recall        f1  \n",
              "0  0.9135  0.913068  \n",
              "1  0.9080  0.907633  "
            ],
            "text/html": [
              "\n",
              "  <div id=\"df-1b448bd9-6e96-4203-991e-9e7f0e92ab52\" class=\"colab-df-container\">\n",
              "    <div>\n",
              "<style scoped>\n",
              "    .dataframe tbody tr th:only-of-type {\n",
              "        vertical-align: middle;\n",
              "    }\n",
              "\n",
              "    .dataframe tbody tr th {\n",
              "        vertical-align: top;\n",
              "    }\n",
              "\n",
              "    .dataframe thead th {\n",
              "        text-align: right;\n",
              "    }\n",
              "</style>\n",
              "<table border=\"1\" class=\"dataframe\">\n",
              "  <thead>\n",
              "    <tr style=\"text-align: right;\">\n",
              "      <th></th>\n",
              "      <th>a</th>\n",
              "      <th>prob_thresh</th>\n",
              "      <th>contrast_low</th>\n",
              "      <th>contrast_high</th>\n",
              "      <th>accuracy</th>\n",
              "      <th>precision</th>\n",
              "      <th>recall</th>\n",
              "      <th>f1</th>\n",
              "    </tr>\n",
              "  </thead>\n",
              "  <tbody>\n",
              "    <tr>\n",
              "      <th>0</th>\n",
              "      <td>0.32</td>\n",
              "      <td>0.32</td>\n",
              "      <td>20.5</td>\n",
              "      <td>27.5</td>\n",
              "      <td>0.9135</td>\n",
              "      <td>0.921888</td>\n",
              "      <td>0.9135</td>\n",
              "      <td>0.913068</td>\n",
              "    </tr>\n",
              "    <tr>\n",
              "      <th>1</th>\n",
              "      <td>0.32</td>\n",
              "      <td>0.32</td>\n",
              "      <td>21.0</td>\n",
              "      <td>27.0</td>\n",
              "      <td>0.9080</td>\n",
              "      <td>0.914582</td>\n",
              "      <td>0.9080</td>\n",
              "      <td>0.907633</td>\n",
              "    </tr>\n",
              "  </tbody>\n",
              "</table>\n",
              "</div>\n",
              "    <div class=\"colab-df-buttons\">\n",
              "\n",
              "  <div class=\"colab-df-container\">\n",
              "    <button class=\"colab-df-convert\" onclick=\"convertToInteractive('df-1b448bd9-6e96-4203-991e-9e7f0e92ab52')\"\n",
              "            title=\"Convert this dataframe to an interactive table.\"\n",
              "            style=\"display:none;\">\n",
              "\n",
              "  <svg xmlns=\"http://www.w3.org/2000/svg\" height=\"24px\" viewBox=\"0 -960 960 960\">\n",
              "    <path d=\"M120-120v-720h720v720H120Zm60-500h600v-160H180v160Zm220 220h160v-160H400v160Zm0 220h160v-160H400v160ZM180-400h160v-160H180v160Zm440 0h160v-160H620v160ZM180-180h160v-160H180v160Zm440 0h160v-160H620v160Z\"/>\n",
              "  </svg>\n",
              "    </button>\n",
              "\n",
              "  <style>\n",
              "    .colab-df-container {\n",
              "      display:flex;\n",
              "      gap: 12px;\n",
              "    }\n",
              "\n",
              "    .colab-df-convert {\n",
              "      background-color: #E8F0FE;\n",
              "      border: none;\n",
              "      border-radius: 50%;\n",
              "      cursor: pointer;\n",
              "      display: none;\n",
              "      fill: #1967D2;\n",
              "      height: 32px;\n",
              "      padding: 0 0 0 0;\n",
              "      width: 32px;\n",
              "    }\n",
              "\n",
              "    .colab-df-convert:hover {\n",
              "      background-color: #E2EBFA;\n",
              "      box-shadow: 0px 1px 2px rgba(60, 64, 67, 0.3), 0px 1px 3px 1px rgba(60, 64, 67, 0.15);\n",
              "      fill: #174EA6;\n",
              "    }\n",
              "\n",
              "    .colab-df-buttons div {\n",
              "      margin-bottom: 4px;\n",
              "    }\n",
              "\n",
              "    [theme=dark] .colab-df-convert {\n",
              "      background-color: #3B4455;\n",
              "      fill: #D2E3FC;\n",
              "    }\n",
              "\n",
              "    [theme=dark] .colab-df-convert:hover {\n",
              "      background-color: #434B5C;\n",
              "      box-shadow: 0px 1px 3px 1px rgba(0, 0, 0, 0.15);\n",
              "      filter: drop-shadow(0px 1px 2px rgba(0, 0, 0, 0.3));\n",
              "      fill: #FFFFFF;\n",
              "    }\n",
              "  </style>\n",
              "\n",
              "    <script>\n",
              "      const buttonEl =\n",
              "        document.querySelector('#df-1b448bd9-6e96-4203-991e-9e7f0e92ab52 button.colab-df-convert');\n",
              "      buttonEl.style.display =\n",
              "        google.colab.kernel.accessAllowed ? 'block' : 'none';\n",
              "\n",
              "      async function convertToInteractive(key) {\n",
              "        const element = document.querySelector('#df-1b448bd9-6e96-4203-991e-9e7f0e92ab52');\n",
              "        const dataTable =\n",
              "          await google.colab.kernel.invokeFunction('convertToInteractive',\n",
              "                                                    [key], {});\n",
              "        if (!dataTable) return;\n",
              "\n",
              "        const docLinkHtml = 'Like what you see? Visit the ' +\n",
              "          '<a target=\"_blank\" href=https://colab.research.google.com/notebooks/data_table.ipynb>data table notebook</a>'\n",
              "          + ' to learn more about interactive tables.';\n",
              "        element.innerHTML = '';\n",
              "        dataTable['output_type'] = 'display_data';\n",
              "        await google.colab.output.renderOutput(dataTable, element);\n",
              "        const docLink = document.createElement('div');\n",
              "        docLink.innerHTML = docLinkHtml;\n",
              "        element.appendChild(docLink);\n",
              "      }\n",
              "    </script>\n",
              "  </div>\n",
              "\n",
              "\n",
              "    <div id=\"df-ce39f4fa-bc08-494e-87ba-5b290329ecb0\">\n",
              "      <button class=\"colab-df-quickchart\" onclick=\"quickchart('df-ce39f4fa-bc08-494e-87ba-5b290329ecb0')\"\n",
              "                title=\"Suggest charts\"\n",
              "                style=\"display:none;\">\n",
              "\n",
              "<svg xmlns=\"http://www.w3.org/2000/svg\" height=\"24px\"viewBox=\"0 0 24 24\"\n",
              "     width=\"24px\">\n",
              "    <g>\n",
              "        <path d=\"M19 3H5c-1.1 0-2 .9-2 2v14c0 1.1.9 2 2 2h14c1.1 0 2-.9 2-2V5c0-1.1-.9-2-2-2zM9 17H7v-7h2v7zm4 0h-2V7h2v10zm4 0h-2v-4h2v4z\"/>\n",
              "    </g>\n",
              "</svg>\n",
              "      </button>\n",
              "\n",
              "<style>\n",
              "  .colab-df-quickchart {\n",
              "      --bg-color: #E8F0FE;\n",
              "      --fill-color: #1967D2;\n",
              "      --hover-bg-color: #E2EBFA;\n",
              "      --hover-fill-color: #174EA6;\n",
              "      --disabled-fill-color: #AAA;\n",
              "      --disabled-bg-color: #DDD;\n",
              "  }\n",
              "\n",
              "  [theme=dark] .colab-df-quickchart {\n",
              "      --bg-color: #3B4455;\n",
              "      --fill-color: #D2E3FC;\n",
              "      --hover-bg-color: #434B5C;\n",
              "      --hover-fill-color: #FFFFFF;\n",
              "      --disabled-bg-color: #3B4455;\n",
              "      --disabled-fill-color: #666;\n",
              "  }\n",
              "\n",
              "  .colab-df-quickchart {\n",
              "    background-color: var(--bg-color);\n",
              "    border: none;\n",
              "    border-radius: 50%;\n",
              "    cursor: pointer;\n",
              "    display: none;\n",
              "    fill: var(--fill-color);\n",
              "    height: 32px;\n",
              "    padding: 0;\n",
              "    width: 32px;\n",
              "  }\n",
              "\n",
              "  .colab-df-quickchart:hover {\n",
              "    background-color: var(--hover-bg-color);\n",
              "    box-shadow: 0 1px 2px rgba(60, 64, 67, 0.3), 0 1px 3px 1px rgba(60, 64, 67, 0.15);\n",
              "    fill: var(--button-hover-fill-color);\n",
              "  }\n",
              "\n",
              "  .colab-df-quickchart-complete:disabled,\n",
              "  .colab-df-quickchart-complete:disabled:hover {\n",
              "    background-color: var(--disabled-bg-color);\n",
              "    fill: var(--disabled-fill-color);\n",
              "    box-shadow: none;\n",
              "  }\n",
              "\n",
              "  .colab-df-spinner {\n",
              "    border: 2px solid var(--fill-color);\n",
              "    border-color: transparent;\n",
              "    border-bottom-color: var(--fill-color);\n",
              "    animation:\n",
              "      spin 1s steps(1) infinite;\n",
              "  }\n",
              "\n",
              "  @keyframes spin {\n",
              "    0% {\n",
              "      border-color: transparent;\n",
              "      border-bottom-color: var(--fill-color);\n",
              "      border-left-color: var(--fill-color);\n",
              "    }\n",
              "    20% {\n",
              "      border-color: transparent;\n",
              "      border-left-color: var(--fill-color);\n",
              "      border-top-color: var(--fill-color);\n",
              "    }\n",
              "    30% {\n",
              "      border-color: transparent;\n",
              "      border-left-color: var(--fill-color);\n",
              "      border-top-color: var(--fill-color);\n",
              "      border-right-color: var(--fill-color);\n",
              "    }\n",
              "    40% {\n",
              "      border-color: transparent;\n",
              "      border-right-color: var(--fill-color);\n",
              "      border-top-color: var(--fill-color);\n",
              "    }\n",
              "    60% {\n",
              "      border-color: transparent;\n",
              "      border-right-color: var(--fill-color);\n",
              "    }\n",
              "    80% {\n",
              "      border-color: transparent;\n",
              "      border-right-color: var(--fill-color);\n",
              "      border-bottom-color: var(--fill-color);\n",
              "    }\n",
              "    90% {\n",
              "      border-color: transparent;\n",
              "      border-bottom-color: var(--fill-color);\n",
              "    }\n",
              "  }\n",
              "</style>\n",
              "\n",
              "      <script>\n",
              "        async function quickchart(key) {\n",
              "          const quickchartButtonEl =\n",
              "            document.querySelector('#' + key + ' button');\n",
              "          quickchartButtonEl.disabled = true;  // To prevent multiple clicks.\n",
              "          quickchartButtonEl.classList.add('colab-df-spinner');\n",
              "          try {\n",
              "            const charts = await google.colab.kernel.invokeFunction(\n",
              "                'suggestCharts', [key], {});\n",
              "          } catch (error) {\n",
              "            console.error('Error during call to suggestCharts:', error);\n",
              "          }\n",
              "          quickchartButtonEl.classList.remove('colab-df-spinner');\n",
              "          quickchartButtonEl.classList.add('colab-df-quickchart-complete');\n",
              "        }\n",
              "        (() => {\n",
              "          let quickchartButtonEl =\n",
              "            document.querySelector('#df-ce39f4fa-bc08-494e-87ba-5b290329ecb0 button');\n",
              "          quickchartButtonEl.style.display =\n",
              "            google.colab.kernel.accessAllowed ? 'block' : 'none';\n",
              "        })();\n",
              "      </script>\n",
              "    </div>\n",
              "\n",
              "  <div id=\"id_177773bd-adda-405c-bdf6-06c4b2f2fe58\">\n",
              "    <style>\n",
              "      .colab-df-generate {\n",
              "        background-color: #E8F0FE;\n",
              "        border: none;\n",
              "        border-radius: 50%;\n",
              "        cursor: pointer;\n",
              "        display: none;\n",
              "        fill: #1967D2;\n",
              "        height: 32px;\n",
              "        padding: 0 0 0 0;\n",
              "        width: 32px;\n",
              "      }\n",
              "\n",
              "      .colab-df-generate:hover {\n",
              "        background-color: #E2EBFA;\n",
              "        box-shadow: 0px 1px 2px rgba(60, 64, 67, 0.3), 0px 1px 3px 1px rgba(60, 64, 67, 0.15);\n",
              "        fill: #174EA6;\n",
              "      }\n",
              "\n",
              "      [theme=dark] .colab-df-generate {\n",
              "        background-color: #3B4455;\n",
              "        fill: #D2E3FC;\n",
              "      }\n",
              "\n",
              "      [theme=dark] .colab-df-generate:hover {\n",
              "        background-color: #434B5C;\n",
              "        box-shadow: 0px 1px 3px 1px rgba(0, 0, 0, 0.15);\n",
              "        filter: drop-shadow(0px 1px 2px rgba(0, 0, 0, 0.3));\n",
              "        fill: #FFFFFF;\n",
              "      }\n",
              "    </style>\n",
              "    <button class=\"colab-df-generate\" onclick=\"generateWithVariable('result_df_sorted')\"\n",
              "            title=\"Generate code using this dataframe.\"\n",
              "            style=\"display:none;\">\n",
              "\n",
              "  <svg xmlns=\"http://www.w3.org/2000/svg\" height=\"24px\"viewBox=\"0 0 24 24\"\n",
              "       width=\"24px\">\n",
              "    <path d=\"M7,19H8.4L18.45,9,17,7.55,7,17.6ZM5,21V16.75L18.45,3.32a2,2,0,0,1,2.83,0l1.4,1.43a1.91,1.91,0,0,1,.58,1.4,1.91,1.91,0,0,1-.58,1.4L9.25,21ZM18.45,9,17,7.55Zm-12,3A5.31,5.31,0,0,0,4.9,8.1,5.31,5.31,0,0,0,1,6.5,5.31,5.31,0,0,0,4.9,4.9,5.31,5.31,0,0,0,6.5,1,5.31,5.31,0,0,0,8.1,4.9,5.31,5.31,0,0,0,12,6.5,5.46,5.46,0,0,0,6.5,12Z\"/>\n",
              "  </svg>\n",
              "    </button>\n",
              "    <script>\n",
              "      (() => {\n",
              "      const buttonEl =\n",
              "        document.querySelector('#id_177773bd-adda-405c-bdf6-06c4b2f2fe58 button.colab-df-generate');\n",
              "      buttonEl.style.display =\n",
              "        google.colab.kernel.accessAllowed ? 'block' : 'none';\n",
              "\n",
              "      buttonEl.onclick = () => {\n",
              "        google.colab.notebook.generateWithVariable('result_df_sorted');\n",
              "      }\n",
              "      })();\n",
              "    </script>\n",
              "  </div>\n",
              "\n",
              "    </div>\n",
              "  </div>\n"
            ],
            "application/vnd.google.colaboratory.intrinsic+json": {
              "type": "dataframe",
              "variable_name": "result_df_sorted",
              "summary": "{\n  \"name\": \"result_df_sorted\",\n  \"rows\": 2,\n  \"fields\": [\n    {\n      \"column\": \"a\",\n      \"properties\": {\n        \"dtype\": \"number\",\n        \"std\": 0.0,\n        \"min\": 0.32,\n        \"max\": 0.32,\n        \"num_unique_values\": 1,\n        \"samples\": [\n          0.32\n        ],\n        \"semantic_type\": \"\",\n        \"description\": \"\"\n      }\n    },\n    {\n      \"column\": \"prob_thresh\",\n      \"properties\": {\n        \"dtype\": \"number\",\n        \"std\": 0.0,\n        \"min\": 0.32,\n        \"max\": 0.32,\n        \"num_unique_values\": 1,\n        \"samples\": [\n          0.32\n        ],\n        \"semantic_type\": \"\",\n        \"description\": \"\"\n      }\n    },\n    {\n      \"column\": \"contrast_low\",\n      \"properties\": {\n        \"dtype\": \"number\",\n        \"std\": 0.3535533905932738,\n        \"min\": 20.5,\n        \"max\": 21.0,\n        \"num_unique_values\": 2,\n        \"samples\": [\n          21.0\n        ],\n        \"semantic_type\": \"\",\n        \"description\": \"\"\n      }\n    },\n    {\n      \"column\": \"contrast_high\",\n      \"properties\": {\n        \"dtype\": \"number\",\n        \"std\": 0.3535533905932738,\n        \"min\": 27.0,\n        \"max\": 27.5,\n        \"num_unique_values\": 2,\n        \"samples\": [\n          27.0\n        ],\n        \"semantic_type\": \"\",\n        \"description\": \"\"\n      }\n    },\n    {\n      \"column\": \"accuracy\",\n      \"properties\": {\n        \"dtype\": \"number\",\n        \"std\": 0.0038890872965259755,\n        \"min\": 0.908,\n        \"max\": 0.9135,\n        \"num_unique_values\": 2,\n        \"samples\": [\n          0.908\n        ],\n        \"semantic_type\": \"\",\n        \"description\": \"\"\n      }\n    },\n    {\n      \"column\": \"precision\",\n      \"properties\": {\n        \"dtype\": \"number\",\n        \"std\": 0.00516587043281236,\n        \"min\": 0.914581902280607,\n        \"max\": 0.9218875463081524,\n        \"num_unique_values\": 2,\n        \"samples\": [\n          0.914581902280607\n        ],\n        \"semantic_type\": \"\",\n        \"description\": \"\"\n      }\n    },\n    {\n      \"column\": \"recall\",\n      \"properties\": {\n        \"dtype\": \"number\",\n        \"std\": 0.003889087296526054,\n        \"min\": 0.9079999999999999,\n        \"max\": 0.9135,\n        \"num_unique_values\": 2,\n        \"samples\": [\n          0.9079999999999999\n        ],\n        \"semantic_type\": \"\",\n        \"description\": \"\"\n      }\n    },\n    {\n      \"column\": \"f1\",\n      \"properties\": {\n        \"dtype\": \"number\",\n        \"std\": 0.0038427922419823892,\n        \"min\": 0.9076333969525046,\n        \"max\": 0.9130679258584982,\n        \"num_unique_values\": 2,\n        \"samples\": [\n          0.9076333969525046\n        ],\n        \"semantic_type\": \"\",\n        \"description\": \"\"\n      }\n    }\n  ]\n}"
            }
          },
          "metadata": {}
        }
      ],
      "source": [
        "# 실험 설정 값\n",
        "prob_thresholds = [0.32]\n",
        "contrast_bounds = [(21,27),(20.5, 27.5)]\n",
        "\n",
        "# 실행\n",
        "result_df = run_experiment(model, X_test, y_test, test_filenames, test_audio_path,\n",
        "                           prob_thresholds, contrast_bounds)\n",
        "\n",
        "# 결과 출력 (F1-score 기준 정렬)\n",
        "result_df_sorted = result_df.sort_values(by='f1', ascending=False).reset_index(drop=True)\n",
        "\n",
        "from IPython.display import display\n",
        "display(result_df_sorted)"
      ]
    },
    {
      "cell_type": "markdown",
      "metadata": {
        "id": "bRpBFV7tLQI9"
      },
      "source": [
        "# 예측 결과 파일 작성"
      ]
    },
    {
      "cell_type": "code",
      "execution_count": 44,
      "metadata": {
        "colab": {
          "base_uri": "https://localhost:8080/"
        },
        "id": "lW15vZBXGcBr",
        "outputId": "e3b34f97-8065-44a0-ff71-1a4c4de1e204"
      },
      "outputs": [
        {
          "output_type": "stream",
          "name": "stdout",
          "text": [
            "\u001b[1m63/63\u001b[0m \u001b[32m━━━━━━━━━━━━━━━━━━━━\u001b[0m\u001b[37m\u001b[0m \u001b[1m0s\u001b[0m 6ms/step\n"
          ]
        },
        {
          "output_type": "stream",
          "name": "stderr",
          "text": [
            "📌 Spectral Contrast 보정 중: 100%|██████████| 1152/1152 [00:09<00:00, 120.47it/s]\n"
          ]
        },
        {
          "output_type": "stream",
          "name": "stdout",
          "text": [
            "✅ team_test_result.txt 저장 완료 (Perl 평가용)\n"
          ]
        }
      ],
      "source": [
        "from sklearn.preprocessing import LabelEncoder\n",
        "\n",
        "# 1. test 파일명 리스트 로딩\n",
        "def get_test_filenames(label_path):\n",
        "    filenames = []\n",
        "    with open(label_path, 'r') as f:\n",
        "        for line in f:\n",
        "            parts = line.strip().split()\n",
        "            if len(parts) >= 5:\n",
        "                filenames.append(parts[1])\n",
        "    return filenames\n",
        "\n",
        "# 2. LabelEncoder: Fake → 0, Real → 1\n",
        "le = LabelEncoder()\n",
        "le.fit(['Fake', 'Real']) # 반드시 이 순서로 지정해야 0=Fake, 1=Real\n",
        "\n",
        "# 3. 파일 이름 로드\n",
        "test_file_names = get_test_filenames(test_label_path)\n",
        "\n",
        "# 4. 예측 확률 → 클래스 (0 또는 1) => 정규화 방식에 따라 정확도가 차이가 남.\n",
        "y_pred_prob =predict_with_spectral_contrast(model,X_test, score=0.5)\n",
        "# y_pred_classes = np.argmax(y_pred_prob, axis=1)\n",
        "y_pred_classes = (y_pred_prob <= 0.5).astype(int).flatten()  # 확률 → 0 or 1\n",
        "\n",
        "\n",
        "# 5. 예측 결과 파일 작성\n",
        "with open('./team_test_result.txt', 'w') as f:\n",
        "    for i in range(len(y_pred_classes)):\n",
        "        label_str = le.inverse_transform([y_pred_classes[i]])[0]  # 0 → Fake, 1 → Real\n",
        "        f.write(f\"{test_file_names[i]} {label_str}\\n\")\n",
        "\n",
        "print(\"✅ team_test_result.txt 저장 완료 (Perl 평가용)\")"
      ]
    },
    {
      "cell_type": "code",
      "execution_count": 45,
      "metadata": {
        "colab": {
          "base_uri": "https://localhost:8080/"
        },
        "id": "OTC5ZeNiIi0w",
        "outputId": "b6659eb9-ee05-43fe-82dc-3a24f4498823"
      },
      "outputs": [
        {
          "output_type": "stream",
          "name": "stdout",
          "text": [
            "============ Results Analysis ===========\n",
            "Test: ./team_test_result.txt\n",
            "True: /content/drive/MyDrive/2501ml_data/label/test_label.txt\n",
            "Accuracy: 92.55%\n",
            "Hit: 1851, Total: 2000\n",
            "=========================================\n"
          ]
        }
      ],
      "source": [
        "!perl /content/drive/MyDrive/2501ml_data/eval.pl ./team_test_result.txt /content/drive/MyDrive/2501ml_data/label/test_label.txt"
      ]
    }
  ],
  "metadata": {
    "accelerator": "GPU",
    "colab": {
      "gpuType": "T4",
      "provenance": [],
      "include_colab_link": true
    },
    "kernelspec": {
      "display_name": "Python 3",
      "name": "python3"
    },
    "language_info": {
      "name": "python"
    }
  },
  "nbformat": 4,
  "nbformat_minor": 0
}